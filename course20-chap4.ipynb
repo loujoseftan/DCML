{
 "cells": [
  {
   "cell_type": "code",
   "execution_count": 1,
   "metadata": {
    "ExecuteTime": {
     "end_time": "2020-09-12T09:54:28.366819Z",
     "start_time": "2020-09-12T09:54:24.231514Z"
    }
   },
   "outputs": [],
   "source": [
    "import numpy as np\n",
    "import pandas as pd\n",
    "import matplotlib.pyplot as plt\n",
    "import seaborn as sns\n",
    "sns.set()"
   ]
  },
  {
   "cell_type": "code",
   "execution_count": 60,
   "metadata": {
    "ExecuteTime": {
     "end_time": "2020-09-12T11:41:03.445424Z",
     "start_time": "2020-09-12T11:41:03.440425Z"
    }
   },
   "outputs": [],
   "source": [
    "from sklearn.linear_model import LogisticRegression\n",
    "from sklearn.model_selection import train_test_split, RandomizedSearchCV, cross_val_score\n",
    "from sklearn.ensemble import RandomForestClassifier, GradientBoostingClassifier\n",
    "from sklearn.metrics import confusion_matrix, accuracy_score, roc_auc_score\n",
    "from sklearn.neighbors import KNeighborsClassifier\n",
    "from itertools import product\n",
    "import random\n",
    "from hyperopt import hp, fmin, tpe\n",
    "from tpot import TPOTClassifier"
   ]
  },
  {
   "cell_type": "code",
   "execution_count": 3,
   "metadata": {
    "ExecuteTime": {
     "end_time": "2020-09-12T09:54:40.619512Z",
     "start_time": "2020-09-12T09:54:40.613513Z"
    }
   },
   "outputs": [],
   "source": [
    "pd.options.display.max_rows = None\n",
    "pd.options.display.max_columns = None"
   ]
  },
  {
   "cell_type": "code",
   "execution_count": 4,
   "metadata": {
    "ExecuteTime": {
     "end_time": "2020-09-12T09:54:46.410858Z",
     "start_time": "2020-09-12T09:54:46.161987Z"
    }
   },
   "outputs": [],
   "source": [
    "credit = pd.read_csv('./uci_credit_card.csv')"
   ]
  },
  {
   "cell_type": "code",
   "execution_count": 5,
   "metadata": {
    "ExecuteTime": {
     "end_time": "2020-09-12T09:54:52.061178Z",
     "start_time": "2020-09-12T09:54:51.971214Z"
    }
   },
   "outputs": [],
   "source": [
    "X = credit.loc[:, 'LIMIT_BAL':'PAY_AMT6']\n",
    "X = pd.get_dummies(X, columns=['SEX', 'EDUCATION', 'MARRIAGE'], drop_first=True)\n",
    "y = credit['default.payment.next.month']\n",
    "\n",
    "X_train, X_test, y_train, y_test = train_test_split(X, y,\n",
    "                                                    test_size=0.3,\n",
    "                                                    stratify=y,\n",
    "                                                    random_state=1111)"
   ]
  },
  {
   "cell_type": "markdown",
   "metadata": {},
   "source": [
    "# Informed Search: Coarse to Fine"
   ]
  },
  {
   "cell_type": "markdown",
   "metadata": {},
   "source": [
    "## Visualizing Coarse to Fine"
   ]
  },
  {
   "cell_type": "markdown",
   "metadata": {},
   "source": [
    "## Coarse to Fine iterations"
   ]
  },
  {
   "cell_type": "markdown",
   "metadata": {},
   "source": [
    "Narrow down initial parameter grid by running Random Search and adjust ranges accordingly by inspecting the accuracies plotted against the individual hyperparameters."
   ]
  },
  {
   "cell_type": "markdown",
   "metadata": {},
   "source": [
    "# Informed Search: Bayesian Statistics"
   ]
  },
  {
   "cell_type": "markdown",
   "metadata": {},
   "source": [
    "## Bayes Rule in Python"
   ]
  },
  {
   "cell_type": "code",
   "execution_count": 46,
   "metadata": {
    "ExecuteTime": {
     "end_time": "2020-09-12T11:15:47.520556Z",
     "start_time": "2020-09-12T11:15:47.509563Z"
    }
   },
   "outputs": [
    {
     "name": "stdout",
     "output_type": "stream",
     "text": [
      "0.16333333333333336\n"
     ]
    }
   ],
   "source": [
    "# Assign probabilities to variables \n",
    "p_unhappy = 0.15\n",
    "p_unhappy_close = 0.35\n",
    "\n",
    "# Probabiliy someone will close\n",
    "p_close = 0.07\n",
    "\n",
    "# Probability unhappy person will close\n",
    "p_close_unhappy = (p_unhappy_close * p_close) / p_unhappy\n",
    "print(p_close_unhappy)"
   ]
  },
  {
   "cell_type": "markdown",
   "metadata": {},
   "source": [
    "## Bayesian hyperparameter tuning with `hyperopt`"
   ]
  },
  {
   "cell_type": "code",
   "execution_count": 58,
   "metadata": {
    "ExecuteTime": {
     "end_time": "2020-09-12T11:28:11.636668Z",
     "start_time": "2020-09-12T11:28:11.626672Z"
    }
   },
   "outputs": [],
   "source": [
    "# set up space dict with specified hyperparams\n",
    "space = {'max_depth': hp.quniform('max_depth', 2, 10, 2),\n",
    "         'learning_rate': hp.uniform('learning_rate', 0.001, 0.9)}\n",
    "\n",
    "# set up objective function\n",
    "def objective(params):\n",
    "    params = {'max_depth': int(params['max_depth']),\n",
    "              'learning_rate': params['learning_rate']}\n",
    "    gbm_clf = GradientBoostingClassifier(n_estimators=100, **params)\n",
    "    best_score = cross_val_score(gbm_clf, X_train, y_train,\n",
    "                                 scoring='accuracy',\n",
    "                                 cv=2,\n",
    "                                 n_jobs=-1).mean()\n",
    "    loss = 1 - best_score\n",
    "    \n",
    "    return loss"
   ]
  },
  {
   "cell_type": "code",
   "execution_count": 59,
   "metadata": {
    "ExecuteTime": {
     "end_time": "2020-09-12T11:32:23.077059Z",
     "start_time": "2020-09-12T11:28:12.054331Z"
    }
   },
   "outputs": [
    {
     "name": "stdout",
     "output_type": "stream",
     "text": [
      "100%|███████████████████████████████████████████████| 20/20 [04:11<00:00, 12.55s/trial, best loss: 0.18399999999999994]\n",
      "{'learning_rate': 0.0128515490384306, 'max_depth': 6.0}\n"
     ]
    }
   ],
   "source": [
    "# run the algorithm\n",
    "best = fmin(fn=objective,\n",
    "            space=space,\n",
    "            max_evals=20,\n",
    "            rstate=np.random.RandomState(42),\n",
    "            algo=tpe.suggest)\n",
    "print(best)"
   ]
  },
  {
   "cell_type": "markdown",
   "metadata": {},
   "source": [
    "# Informed Search: Genetic Algorithms"
   ]
  },
  {
   "cell_type": "markdown",
   "metadata": {},
   "source": [
    "## Genetic hyperparameter tuning with `tpot`"
   ]
  },
  {
   "cell_type": "code",
   "execution_count": 61,
   "metadata": {
    "ExecuteTime": {
     "end_time": "2020-09-12T11:46:16.799893Z",
     "start_time": "2020-09-12T11:45:51.109545Z"
    }
   },
   "outputs": [
    {
     "data": {
      "application/vnd.jupyter.widget-view+json": {
       "model_id": "",
       "version_major": 2,
       "version_minor": 0
      },
      "text/plain": [
       "HBox(children=(FloatProgress(value=0.0, description='Optimization Progress', max=13.0, style=ProgressStyle(des…"
      ]
     },
     "metadata": {},
     "output_type": "display_data"
    },
    {
     "name": "stdout",
     "output_type": "stream",
     "text": [
      "\n",
      "Generation 1 - Current best internal CV score: 0.8190952380952381\n",
      "Generation 2 - Current best internal CV score: 0.8190952380952381\n",
      "Generation 3 - Current best internal CV score: 0.8190952380952381\n",
      "Best pipeline: DecisionTreeClassifier(input_matrix, criterion=gini, max_depth=3, min_samples_leaf=10, min_samples_split=9)\n"
     ]
    },
    {
     "data": {
      "text/plain": [
       "TPOTClassifier(cv=2, generations=3,\n",
       "               log_file=<ipykernel.iostream.OutStream object at 0x000001EB2E6CD4C8>,\n",
       "               offspring_size=3, population_size=4, random_state=2,\n",
       "               scoring='accuracy', verbosity=2)"
      ]
     },
     "execution_count": 61,
     "metadata": {},
     "output_type": "execute_result"
    }
   ],
   "source": [
    "# create a TPOT Classifier\n",
    "tpot_clf = TPOTClassifier(generations=3,\n",
    "                          population_size=4,\n",
    "                          offspring_size=3,\n",
    "                          scoring='accuracy',\n",
    "                          verbosity=2,\n",
    "                          random_state=2,\n",
    "                          cv=2)\n",
    "\n",
    "# fit\n",
    "tpot_clf.fit(X_train, y_train)"
   ]
  },
  {
   "cell_type": "code",
   "execution_count": 64,
   "metadata": {
    "ExecuteTime": {
     "end_time": "2020-09-12T11:48:25.761781Z",
     "start_time": "2020-09-12T11:48:25.734237Z"
    }
   },
   "outputs": [
    {
     "name": "stdout",
     "output_type": "stream",
     "text": [
      "test acc:  82.2%\n"
     ]
    }
   ],
   "source": [
    "# eval\n",
    "print(f'test acc: {tpot_clf.score(X_test, y_test): .1%}')"
   ]
  },
  {
   "cell_type": "markdown",
   "metadata": {},
   "source": [
    "# Analyzing `tpot`'s stability"
   ]
  },
  {
   "cell_type": "code",
   "execution_count": 65,
   "metadata": {
    "ExecuteTime": {
     "end_time": "2020-09-12T11:54:32.389358Z",
     "start_time": "2020-09-12T11:48:48.076110Z"
    }
   },
   "outputs": [
    {
     "data": {
      "application/vnd.jupyter.widget-view+json": {
       "model_id": "",
       "version_major": 2,
       "version_minor": 0
      },
      "text/plain": [
       "HBox(children=(FloatProgress(value=0.0, description='Optimization Progress', max=13.0, style=ProgressStyle(des…"
      ]
     },
     "metadata": {},
     "output_type": "display_data"
    },
    {
     "name": "stdout",
     "output_type": "stream",
     "text": [
      "\n",
      "Generation 1 - Current best internal CV score: 0.8193809523809523\n",
      "Generation 2 - Current best internal CV score: 0.8193809523809523\n",
      "Generation 3 - Current best internal CV score: 0.8197142857142857\n",
      "Best pipeline: XGBClassifier(PolynomialFeatures(input_matrix, degree=2, include_bias=False, interaction_only=False), learning_rate=0.001, max_depth=9, min_child_weight=7, n_estimators=100, nthread=1, subsample=0.45)\n",
      "0.824\n"
     ]
    }
   ],
   "source": [
    "# create a TPOT Classifier\n",
    "tpot_clf = TPOTClassifier(generations=3,\n",
    "                          population_size=4,\n",
    "                          offspring_size=3,\n",
    "                          scoring='accuracy',\n",
    "                          verbosity=2,\n",
    "                          random_state=42, # change random state\n",
    "                          cv=2)\n",
    "\n",
    "# fit\n",
    "tpot_clf.fit(X_train, y_train)\n",
    "\n",
    "# eval\n",
    "print(tpot_clf.score(X_test, y_test))"
   ]
  },
  {
   "cell_type": "code",
   "execution_count": 66,
   "metadata": {
    "ExecuteTime": {
     "end_time": "2020-09-12T11:59:15.800674Z",
     "start_time": "2020-09-12T11:56:35.824354Z"
    }
   },
   "outputs": [
    {
     "data": {
      "application/vnd.jupyter.widget-view+json": {
       "model_id": "",
       "version_major": 2,
       "version_minor": 0
      },
      "text/plain": [
       "HBox(children=(FloatProgress(value=0.0, description='Optimization Progress', max=13.0, style=ProgressStyle(des…"
      ]
     },
     "metadata": {},
     "output_type": "display_data"
    },
    {
     "name": "stdout",
     "output_type": "stream",
     "text": [
      "\n",
      "Generation 1 - Current best internal CV score: 0.7785238095238095\n",
      "Generation 2 - Current best internal CV score: 0.7787619047619048\n",
      "Generation 3 - Current best internal CV score: 0.815\n",
      "Best pipeline: ExtraTreesClassifier(input_matrix, bootstrap=False, criterion=entropy, max_features=0.2, min_samples_leaf=4, min_samples_split=4, n_estimators=100)\n",
      "test acc:  81.7%\n"
     ]
    }
   ],
   "source": [
    "# create a TPOT Classifier\n",
    "tpot_clf = TPOTClassifier(generations=3,\n",
    "                          population_size=4,\n",
    "                          offspring_size=3,\n",
    "                          scoring='accuracy',\n",
    "                          verbosity=2,\n",
    "                          random_state=122, # change random state\n",
    "                          cv=2)\n",
    "\n",
    "# fit\n",
    "tpot_clf.fit(X_train, y_train)\n",
    "\n",
    "# eval\n",
    "print(f'test acc: {tpot_clf.score(X_test, y_test): .1%}')"
   ]
  }
 ],
 "metadata": {
  "kernelspec": {
   "display_name": "tf2-gpu",
   "language": "python",
   "name": "tf2-gpu"
  },
  "language_info": {
   "codemirror_mode": {
    "name": "ipython",
    "version": 3
   },
   "file_extension": ".py",
   "mimetype": "text/x-python",
   "name": "python",
   "nbconvert_exporter": "python",
   "pygments_lexer": "ipython3",
   "version": "3.7.7"
  },
  "toc": {
   "base_numbering": 1,
   "nav_menu": {},
   "number_sections": true,
   "sideBar": true,
   "skip_h1_title": false,
   "title_cell": "Table of Contents",
   "title_sidebar": "Contents",
   "toc_cell": false,
   "toc_position": {},
   "toc_section_display": true,
   "toc_window_display": false
  }
 },
 "nbformat": 4,
 "nbformat_minor": 4
}
