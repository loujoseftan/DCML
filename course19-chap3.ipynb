{
 "cells": [
  {
   "cell_type": "code",
   "execution_count": 1,
   "metadata": {
    "ExecuteTime": {
     "end_time": "2020-09-11T11:40:41.509595Z",
     "start_time": "2020-09-11T11:40:11.645751Z"
    }
   },
   "outputs": [],
   "source": [
    "import numpy as np\n",
    "import pandas as pd\n",
    "import matplotlib.pyplot as plt\n",
    "import seaborn as sns\n",
    "sns.set()"
   ]
  },
  {
   "cell_type": "code",
   "execution_count": 50,
   "metadata": {
    "ExecuteTime": {
     "end_time": "2020-09-11T12:25:49.915797Z",
     "start_time": "2020-09-11T12:25:49.905805Z"
    }
   },
   "outputs": [
    {
     "data": {
      "text/plain": [
       "'2.1.0'"
      ]
     },
     "execution_count": 50,
     "metadata": {},
     "output_type": "execute_result"
    }
   ],
   "source": [
    "import tensorflow as tf\n",
    "from tensorflow.keras.models import Sequential, Model\n",
    "from tensorflow.keras.layers import Conv2D, Dense, Flatten, MaxPool2D\n",
    "from tensorflow.keras.optimizers import Adam\n",
    "from tensorflow.keras.callbacks import EarlyStopping\n",
    "from tensorflow.keras.utils import to_categorical\n",
    "\n",
    "from sklearn.model_selection import train_test_split\n",
    "\n",
    "tf.__version__"
   ]
  },
  {
   "cell_type": "code",
   "execution_count": 5,
   "metadata": {
    "ExecuteTime": {
     "end_time": "2020-09-11T11:54:27.768659Z",
     "start_time": "2020-09-11T11:54:24.424479Z"
    }
   },
   "outputs": [],
   "source": [
    "(_, _), (X, y) = tf.keras.datasets.fashion_mnist.load_data()"
   ]
  },
  {
   "cell_type": "code",
   "execution_count": 6,
   "metadata": {
    "ExecuteTime": {
     "end_time": "2020-09-11T11:55:19.420596Z",
     "start_time": "2020-09-11T11:55:19.047875Z"
    }
   },
   "outputs": [],
   "source": [
    "X = np.expand_dims(X, -1)\n",
    "y = to_categorical(y)\n",
    "\n",
    "X_train, X_test, y_train, y_test = train_test_split(X, y,\n",
    "                                                    test_size=0.1,\n",
    "                                                    stratify=y,\n",
    "                                                    random_state=42)"
   ]
  },
  {
   "cell_type": "markdown",
   "metadata": {},
   "source": [
    "# Going deeper"
   ]
  },
  {
   "cell_type": "markdown",
   "metadata": {},
   "source": [
    "## Creating a deep learning network"
   ]
  },
  {
   "cell_type": "code",
   "execution_count": 45,
   "metadata": {
    "ExecuteTime": {
     "end_time": "2020-09-11T12:11:32.506775Z",
     "start_time": "2020-09-11T12:11:32.435888Z"
    }
   },
   "outputs": [],
   "source": [
    "# define model arch\n",
    "model = Sequential()\n",
    "\n",
    "model.add(Conv2D(50, kernel_size=3, input_shape=(28, 28, 1), padding='same',\n",
    "                 activation='relu'))\n",
    "model.add(Conv2D(50, kernel_size=3, activation='relu'))\n",
    "model.add(Flatten())\n",
    "model.add(Dense(10, activation='softmax'))"
   ]
  },
  {
   "cell_type": "markdown",
   "metadata": {
    "ExecuteTime": {
     "end_time": "2020-09-11T11:57:10.560683Z",
     "start_time": "2020-09-11T11:57:10.549689Z"
    }
   },
   "source": [
    "## Train a deep CNN to classify clothing images"
   ]
  },
  {
   "cell_type": "code",
   "execution_count": 46,
   "metadata": {
    "ExecuteTime": {
     "end_time": "2020-09-11T12:11:33.730088Z",
     "start_time": "2020-09-11T12:11:33.685110Z"
    }
   },
   "outputs": [],
   "source": [
    "model.compile(optimizer=Adam(0.001),\n",
    "              loss='categorical_crossentropy',\n",
    "              metrics=['accuracy'])"
   ]
  },
  {
   "cell_type": "code",
   "execution_count": 47,
   "metadata": {
    "ExecuteTime": {
     "end_time": "2020-09-11T12:12:09.834176Z",
     "start_time": "2020-09-11T12:11:34.210415Z"
    }
   },
   "outputs": [
    {
     "name": "stdout",
     "output_type": "stream",
     "text": [
      "Train on 7200 samples, validate on 1800 samples\n",
      "Epoch 1/100\n",
      "7200/7200 - 5s - loss: 16.8905 - accuracy: 0.5838 - val_loss: 0.6156 - val_accuracy: 0.7856\n",
      "Epoch 2/100\n",
      "7200/7200 - 4s - loss: 0.4717 - accuracy: 0.8315 - val_loss: 0.4631 - val_accuracy: 0.8467\n",
      "Epoch 3/100\n",
      "7200/7200 - 4s - loss: 0.3016 - accuracy: 0.8915 - val_loss: 0.4598 - val_accuracy: 0.8478\n",
      "Epoch 4/100\n",
      "7200/7200 - 4s - loss: 0.2116 - accuracy: 0.9240 - val_loss: 0.4704 - val_accuracy: 0.8567\n",
      "Epoch 5/100\n",
      "7200/7200 - 4s - loss: 0.1422 - accuracy: 0.9518 - val_loss: 0.5042 - val_accuracy: 0.8594\n",
      "Epoch 6/100\n",
      "7200/7200 - 4s - loss: 0.1139 - accuracy: 0.9589 - val_loss: 0.5525 - val_accuracy: 0.8572\n",
      "Epoch 7/100\n",
      "7200/7200 - 4s - loss: 0.0869 - accuracy: 0.9707 - val_loss: 0.6198 - val_accuracy: 0.8450\n",
      "Epoch 8/100\n",
      "7200/7200 - 4s - loss: 0.0737 - accuracy: 0.9747 - val_loss: 0.6450 - val_accuracy: 0.8483\n"
     ]
    },
    {
     "data": {
      "text/plain": [
       "<tensorflow.python.keras.callbacks.History at 0x25515954588>"
      ]
     },
     "execution_count": 47,
     "metadata": {},
     "output_type": "execute_result"
    }
   ],
   "source": [
    "early_stop = EarlyStopping(monitor='val_accuracy',\n",
    "                           patience=3)\n",
    "\n",
    "model.fit(X_train, y_train,\n",
    "          validation_split=0.2,\n",
    "          epochs=100,\n",
    "          batch_size=256,\n",
    "          callbacks=[early_stop],\n",
    "          verbose=2)"
   ]
  },
  {
   "cell_type": "code",
   "execution_count": 48,
   "metadata": {
    "ExecuteTime": {
     "end_time": "2020-09-11T12:12:13.818213Z",
     "start_time": "2020-09-11T12:12:13.314791Z"
    }
   },
   "outputs": [
    {
     "name": "stdout",
     "output_type": "stream",
     "text": [
      "1000/1000 [==============================] - 0s 449us/sample - loss: 0.6356 - accuracy: 0.8500\n",
      "test acc:  85.0%\n"
     ]
    }
   ],
   "source": [
    "print(f'test acc: {model.evaluate(X_test, y_test)[1]: .1%}')"
   ]
  },
  {
   "cell_type": "markdown",
   "metadata": {},
   "source": [
    "# How many parameters?"
   ]
  },
  {
   "cell_type": "markdown",
   "metadata": {},
   "source": [
    "`.summary()` method of a model"
   ]
  },
  {
   "cell_type": "markdown",
   "metadata": {},
   "source": [
    "# Pooling operations"
   ]
  },
  {
   "cell_type": "markdown",
   "metadata": {},
   "source": [
    "## `keras` pooling layers"
   ]
  },
  {
   "cell_type": "code",
   "execution_count": 55,
   "metadata": {
    "ExecuteTime": {
     "end_time": "2020-09-11T12:32:19.278024Z",
     "start_time": "2020-09-11T12:32:19.212195Z"
    }
   },
   "outputs": [],
   "source": [
    "# define model arch\n",
    "model = Sequential()\n",
    "\n",
    "model.add(Conv2D(50, kernel_size=3, input_shape=(28, 28, 1), padding='same',\n",
    "                 activation='relu'))\n",
    "model.add(MaxPool2D(2))\n",
    "model.add(Conv2D(50, kernel_size=3, activation='relu'))\n",
    "model.add(Flatten())\n",
    "model.add(Dense(10, activation='softmax'))"
   ]
  },
  {
   "cell_type": "code",
   "execution_count": 60,
   "metadata": {
    "ExecuteTime": {
     "end_time": "2020-09-11T12:33:25.979558Z",
     "start_time": "2020-09-11T12:33:18.743075Z"
    }
   },
   "outputs": [
    {
     "name": "stdout",
     "output_type": "stream",
     "text": [
      "Train on 7200 samples, validate on 1800 samples\n",
      "Epoch 1/10\n",
      "7200/7200 - 3s - loss: 0.1218 - accuracy: 0.9526 - val_loss: 0.6027 - val_accuracy: 0.8594\n",
      "Epoch 2/10\n",
      "7200/7200 - 2s - loss: 0.1055 - accuracy: 0.9611 - val_loss: 0.6209 - val_accuracy: 0.8594\n",
      "Epoch 3/10\n",
      "7200/7200 - 2s - loss: 0.0665 - accuracy: 0.9765 - val_loss: 0.6687 - val_accuracy: 0.8572\n"
     ]
    },
    {
     "data": {
      "text/plain": [
       "<tensorflow.python.keras.callbacks.History at 0x2551ab4ff88>"
      ]
     },
     "execution_count": 60,
     "metadata": {},
     "output_type": "execute_result"
    }
   ],
   "source": [
    "model.compile(optimizer=Adam(0.001),\n",
    "              loss='categorical_crossentropy',\n",
    "              metrics=['accuracy'])\n",
    "\n",
    "early_stop = EarlyStopping(monitor='val_accuracy',\n",
    "                           patience=2)\n",
    "\n",
    "model.fit(X_train, y_train,\n",
    "          validation_split=0.2,\n",
    "          epochs=10,\n",
    "          batch_size=256,\n",
    "          callbacks=[early_stop],\n",
    "          verbose=2)"
   ]
  },
  {
   "cell_type": "code",
   "execution_count": 61,
   "metadata": {
    "ExecuteTime": {
     "end_time": "2020-09-11T12:33:29.132814Z",
     "start_time": "2020-09-11T12:33:28.840662Z"
    }
   },
   "outputs": [
    {
     "name": "stdout",
     "output_type": "stream",
     "text": [
      "1000/1000 [==============================] - 0s 244us/sample - loss: 0.7475 - accuracy: 0.8580\n",
      "test acc:  85.8%\n"
     ]
    }
   ],
   "source": [
    "print(f'test acc: {model.evaluate(X_test, y_test)[1]: .1%}')"
   ]
  },
  {
   "cell_type": "code",
   "execution_count": null,
   "metadata": {},
   "outputs": [],
   "source": []
  }
 ],
 "metadata": {
  "kernelspec": {
   "display_name": "tf2-gpu",
   "language": "python",
   "name": "tf2-gpu"
  },
  "language_info": {
   "codemirror_mode": {
    "name": "ipython",
    "version": 3
   },
   "file_extension": ".py",
   "mimetype": "text/x-python",
   "name": "python",
   "nbconvert_exporter": "python",
   "pygments_lexer": "ipython3",
   "version": "3.7.7"
  },
  "toc": {
   "base_numbering": 1,
   "nav_menu": {},
   "number_sections": true,
   "sideBar": true,
   "skip_h1_title": false,
   "title_cell": "Table of Contents",
   "title_sidebar": "Contents",
   "toc_cell": false,
   "toc_position": {},
   "toc_section_display": true,
   "toc_window_display": false
  }
 },
 "nbformat": 4,
 "nbformat_minor": 4
}
