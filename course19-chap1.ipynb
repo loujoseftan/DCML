{
 "cells": [
  {
   "cell_type": "code",
   "execution_count": 1,
   "metadata": {
    "ExecuteTime": {
     "end_time": "2020-09-10T14:42:04.614813Z",
     "start_time": "2020-09-10T14:41:46.695744Z"
    }
   },
   "outputs": [],
   "source": [
    "import numpy as np\n",
    "import pandas as pd\n",
    "import matplotlib.pyplot as plt\n",
    "import seaborn as sns\n",
    "sns.set()"
   ]
  },
  {
   "cell_type": "code",
   "execution_count": 27,
   "metadata": {
    "ExecuteTime": {
     "end_time": "2020-09-10T15:17:53.380047Z",
     "start_time": "2020-09-10T15:17:53.368054Z"
    }
   },
   "outputs": [
    {
     "data": {
      "text/plain": [
       "'2.1.0'"
      ]
     },
     "execution_count": 27,
     "metadata": {},
     "output_type": "execute_result"
    }
   ],
   "source": [
    "import tensorflow as tf\n",
    "from tensorflow.keras.models import Sequential, Model\n",
    "from tensorflow.keras.layers import Dense\n",
    "from tensorflow.keras.optimizers import Adam\n",
    "from tensorflow.keras.utils import to_categorical\n",
    "from tensorflow.keras.callbacks import EarlyStopping\n",
    "\n",
    "from sklearn.model_selection import train_test_split\n",
    "\n",
    "tf.__version__"
   ]
  },
  {
   "cell_type": "code",
   "execution_count": null,
   "metadata": {},
   "outputs": [],
   "source": []
  },
  {
   "cell_type": "markdown",
   "metadata": {},
   "source": [
    "# Introducing convolutional neural networks"
   ]
  },
  {
   "cell_type": "markdown",
   "metadata": {},
   "source": [
    "# Classifying images"
   ]
  },
  {
   "cell_type": "markdown",
   "metadata": {},
   "source": [
    "## Using one-hot encoding to represent images"
   ]
  },
  {
   "cell_type": "code",
   "execution_count": 3,
   "metadata": {
    "ExecuteTime": {
     "end_time": "2020-09-10T14:55:01.361508Z",
     "start_time": "2020-09-10T14:55:01.355512Z"
    }
   },
   "outputs": [],
   "source": [
    "# given a set of labels\n",
    "labels = ['shoe', 'shirt', 'shoe', 'shirt', 'dress', 'dress', 'dress']"
   ]
  },
  {
   "cell_type": "code",
   "execution_count": 4,
   "metadata": {
    "ExecuteTime": {
     "end_time": "2020-09-10T14:57:03.435430Z",
     "start_time": "2020-09-10T14:57:03.428437Z"
    }
   },
   "outputs": [],
   "source": [
    "# the number of image categories\n",
    "n_categories = 3\n",
    "\n",
    "# the unique valies of categories in the data\n",
    "categories = np.array(['shirt', 'dress', 'shoe'])\n",
    "\n",
    "# initialize ohe_labels as all zeros\n",
    "\n",
    "ohe_labels = np.zeros((len(labels), n_categories))\n",
    "\n",
    "# loop over the labels and encode\n",
    "for ii in range(len(labels)):\n",
    "    \n",
    "    # find the location of this label in the categories\n",
    "    jj = np.where(labels[ii]==categories)\n",
    "    \n",
    "    # set the corresponding zero to one\n",
    "    ohe_labels[ii, jj] = 1"
   ]
  },
  {
   "cell_type": "markdown",
   "metadata": {},
   "source": [
    "## Evaluating a classifier"
   ]
  },
  {
   "cell_type": "code",
   "execution_count": 5,
   "metadata": {
    "ExecuteTime": {
     "end_time": "2020-09-10T14:58:36.947704Z",
     "start_time": "2020-09-10T14:58:36.941709Z"
    }
   },
   "outputs": [],
   "source": [
    "test_labels = np.array([[0., 0., 1.],\n",
    "                        [0., 1., 0.],\n",
    "                        [0., 0., 1.],\n",
    "                        [0., 1., 0.],\n",
    "                        [0., 0., 1.],\n",
    "                        [0., 0., 1.],\n",
    "                        [0., 0., 1.],\n",
    "                        [0., 1., 0.]])\n",
    "\n",
    "preds = np.array([[0., 0., 1.],\n",
    "                  [0., 1., 0.],\n",
    "                  [0., 0., 1.],\n",
    "                  [1., 0., 0.],\n",
    "                  [0., 0., 1.],\n",
    "                  [1., 0., 0.],\n",
    "                  [0., 0., 1.],\n",
    "                  [0., 1., 0.]])"
   ]
  },
  {
   "cell_type": "code",
   "execution_count": 6,
   "metadata": {
    "ExecuteTime": {
     "end_time": "2020-09-10T15:00:08.545427Z",
     "start_time": "2020-09-10T15:00:08.540427Z"
    }
   },
   "outputs": [
    {
     "name": "stdout",
     "output_type": "stream",
     "text": [
      "6.0\n",
      "0.75\n"
     ]
    }
   ],
   "source": [
    "# calculate the number of correct predictions\n",
    "number_correct = (test_labels*preds).sum()\n",
    "print(number_correct)\n",
    "\n",
    "proportion_correct = number_correct / len(preds)\n",
    "print(proportion_correct)"
   ]
  },
  {
   "cell_type": "markdown",
   "metadata": {},
   "source": [
    "# Classification with `keras`"
   ]
  },
  {
   "cell_type": "markdown",
   "metadata": {},
   "source": [
    "## Build a neural network"
   ]
  },
  {
   "cell_type": "code",
   "execution_count": 24,
   "metadata": {
    "ExecuteTime": {
     "end_time": "2020-09-10T15:16:52.746490Z",
     "start_time": "2020-09-10T15:16:52.196608Z"
    }
   },
   "outputs": [],
   "source": [
    "# let's just use the 10k images from the fashion mnist dataset\n",
    "(_, _), (X, y) = tf.keras.datasets.fashion_mnist.load_data()"
   ]
  },
  {
   "cell_type": "code",
   "execution_count": 25,
   "metadata": {
    "ExecuteTime": {
     "end_time": "2020-09-10T15:17:23.276583Z",
     "start_time": "2020-09-10T15:17:23.027665Z"
    }
   },
   "outputs": [],
   "source": [
    "X = X.reshape(X.shape[0], X.shape[1]*X.shape[2])\n",
    "y = to_categorical(y)\n",
    "\n",
    "X_train, X_test, y_train, y_test = train_test_split(X, y,\n",
    "                                                    test_size=0.1,\n",
    "                                                    stratify=y,\n",
    "                                                    random_state=42)"
   ]
  },
  {
   "cell_type": "code",
   "execution_count": 48,
   "metadata": {
    "ExecuteTime": {
     "end_time": "2020-09-10T15:21:55.016946Z",
     "start_time": "2020-09-10T15:21:54.916007Z"
    }
   },
   "outputs": [],
   "source": [
    "# define model arch\n",
    "model = Sequential()\n",
    "\n",
    "model.add(Dense(50, input_shape=(784,), activation='relu'))\n",
    "model.add(Dense(50, activation='relu'))\n",
    "model.add(Dense(10, activation='softmax'))\n",
    "\n",
    "model.compile(optimizer=Adam(0.001),\n",
    "              loss='categorical_crossentropy',\n",
    "              metrics=['accuracy'])"
   ]
  },
  {
   "cell_type": "code",
   "execution_count": 50,
   "metadata": {
    "ExecuteTime": {
     "end_time": "2020-09-10T15:22:20.381500Z",
     "start_time": "2020-09-10T15:22:17.856552Z"
    }
   },
   "outputs": [
    {
     "name": "stdout",
     "output_type": "stream",
     "text": [
      "Train on 7200 samples, validate on 1800 samples\n",
      "Epoch 1/100\n",
      "7200/7200 - 0s - loss: 0.6335 - accuracy: 0.7526 - val_loss: 0.9797 - val_accuracy: 0.6917\n",
      "Epoch 2/100\n",
      "7200/7200 - 0s - loss: 0.6403 - accuracy: 0.7504 - val_loss: 0.9541 - val_accuracy: 0.7233\n",
      "Epoch 3/100\n",
      "7200/7200 - 0s - loss: 0.6221 - accuracy: 0.7543 - val_loss: 0.9060 - val_accuracy: 0.7467\n",
      "Epoch 4/100\n",
      "7200/7200 - 0s - loss: 0.6082 - accuracy: 0.7608 - val_loss: 0.9117 - val_accuracy: 0.7422\n",
      "Epoch 5/100\n",
      "7200/7200 - 0s - loss: 0.6141 - accuracy: 0.7614 - val_loss: 0.9444 - val_accuracy: 0.7100\n",
      "Epoch 6/100\n",
      "7200/7200 - 0s - loss: 0.6168 - accuracy: 0.7518 - val_loss: 0.9442 - val_accuracy: 0.7150\n",
      "Epoch 7/100\n",
      "7200/7200 - 0s - loss: 0.6014 - accuracy: 0.7604 - val_loss: 0.9472 - val_accuracy: 0.7222\n",
      "Epoch 8/100\n",
      "7200/7200 - 0s - loss: 0.5816 - accuracy: 0.7733 - val_loss: 0.8943 - val_accuracy: 0.7517\n",
      "Epoch 9/100\n",
      "7200/7200 - 0s - loss: 0.5901 - accuracy: 0.7651 - val_loss: 0.9352 - val_accuracy: 0.7300\n",
      "Epoch 10/100\n",
      "7200/7200 - 0s - loss: 0.5772 - accuracy: 0.7661 - val_loss: 0.9029 - val_accuracy: 0.7422\n",
      "Epoch 11/100\n",
      "7200/7200 - 0s - loss: 0.5731 - accuracy: 0.7767 - val_loss: 0.9640 - val_accuracy: 0.6783\n",
      "Epoch 12/100\n",
      "7200/7200 - 0s - loss: 0.5641 - accuracy: 0.7778 - val_loss: 0.9149 - val_accuracy: 0.7033\n",
      "Epoch 13/100\n",
      "7200/7200 - 0s - loss: 0.5743 - accuracy: 0.7693 - val_loss: 0.8952 - val_accuracy: 0.7444\n"
     ]
    },
    {
     "data": {
      "text/plain": [
       "<tensorflow.python.keras.callbacks.History at 0x25879b90dc8>"
      ]
     },
     "execution_count": 50,
     "metadata": {},
     "output_type": "execute_result"
    }
   ],
   "source": [
    "# fit model\n",
    "early_stop = EarlyStopping(monitor='val_accuracy',\n",
    "                           patience=5)\n",
    "\n",
    "model.fit(X_train, y_train,\n",
    "          epochs=100,\n",
    "          batch_size=256,\n",
    "          validation_split=0.2,\n",
    "          callbacks=[early_stop],\n",
    "          verbose=2)"
   ]
  },
  {
   "cell_type": "code",
   "execution_count": 52,
   "metadata": {
    "ExecuteTime": {
     "end_time": "2020-09-10T15:24:01.229916Z",
     "start_time": "2020-09-10T15:24:00.758331Z"
    }
   },
   "outputs": [
    {
     "name": "stdout",
     "output_type": "stream",
     "text": [
      "1000/1000 [==============================] - 0s 421us/sample - loss: 0.8736 - accuracy: 0.7280\n",
      "test acc:  72.8%\n"
     ]
    }
   ],
   "source": [
    "# eval\n",
    "print(f'test acc: {model.evaluate(X_test, y_test)[1]: .1%}')"
   ]
  }
 ],
 "metadata": {
  "kernelspec": {
   "display_name": "tf2-gpu",
   "language": "python",
   "name": "tf2-gpu"
  },
  "language_info": {
   "codemirror_mode": {
    "name": "ipython",
    "version": 3
   },
   "file_extension": ".py",
   "mimetype": "text/x-python",
   "name": "python",
   "nbconvert_exporter": "python",
   "pygments_lexer": "ipython3",
   "version": "3.7.7"
  },
  "toc": {
   "base_numbering": 1,
   "nav_menu": {},
   "number_sections": true,
   "sideBar": true,
   "skip_h1_title": false,
   "title_cell": "Table of Contents",
   "title_sidebar": "Contents",
   "toc_cell": false,
   "toc_position": {},
   "toc_section_display": true,
   "toc_window_display": false
  }
 },
 "nbformat": 4,
 "nbformat_minor": 4
}
