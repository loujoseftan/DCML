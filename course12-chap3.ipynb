{
 "cells": [
  {
   "cell_type": "code",
   "execution_count": 1,
   "metadata": {
    "ExecuteTime": {
     "end_time": "2020-09-03T14:26:12.728626Z",
     "start_time": "2020-09-03T14:25:54.392857Z"
    }
   },
   "outputs": [],
   "source": [
    "import numpy as np\n",
    "import pandas as pd\n",
    "import matplotlib.pyplot as plt\n",
    "import seaborn as sns\n",
    "sns.set()"
   ]
  },
  {
   "cell_type": "code",
   "execution_count": 16,
   "metadata": {
    "ExecuteTime": {
     "end_time": "2020-09-03T14:34:02.864239Z",
     "start_time": "2020-09-03T14:34:02.857244Z"
    }
   },
   "outputs": [],
   "source": [
    "from glob import glob\n",
    "from collections import defaultdict\n",
    "import re\n",
    "import nltk\n",
    "from nltk.tokenize import sent_tokenize, word_tokenize\n",
    "import spacy\n",
    "from polyglot.text import Text"
   ]
  },
  {
   "cell_type": "code",
   "execution_count": 3,
   "metadata": {
    "ExecuteTime": {
     "end_time": "2020-09-03T14:26:28.335839Z",
     "start_time": "2020-09-03T14:26:26.884319Z"
    }
   },
   "outputs": [
    {
     "name": "stderr",
     "output_type": "stream",
     "text": [
      "[nltk_data] Downloading package averaged_perceptron_tagger to\n",
      "[nltk_data]     C:\\Users\\loujo\\AppData\\Roaming\\nltk_data...\n",
      "[nltk_data]   Package averaged_perceptron_tagger is already up-to-\n",
      "[nltk_data]       date!\n",
      "[nltk_data] Downloading package maxent_ne_chunker to\n",
      "[nltk_data]     C:\\Users\\loujo\\AppData\\Roaming\\nltk_data...\n",
      "[nltk_data]   Package maxent_ne_chunker is already up-to-date!\n",
      "[nltk_data] Downloading package words to\n",
      "[nltk_data]     C:\\Users\\loujo\\AppData\\Roaming\\nltk_data...\n",
      "[nltk_data]   Package words is already up-to-date!\n"
     ]
    },
    {
     "data": {
      "text/plain": [
       "True"
      ]
     },
     "execution_count": 3,
     "metadata": {},
     "output_type": "execute_result"
    }
   ],
   "source": [
    "nltk.download('averaged_perceptron_tagger')\n",
    "nltk.download('maxent_ne_chunker')\n",
    "nltk.download('words')"
   ]
  },
  {
   "cell_type": "code",
   "execution_count": 4,
   "metadata": {
    "ExecuteTime": {
     "end_time": "2020-09-03T14:26:28.355597Z",
     "start_time": "2020-09-03T14:26:28.338837Z"
    }
   },
   "outputs": [],
   "source": [
    "# datasets\n",
    "news_files = glob('./news_articles/*.txt')"
   ]
  },
  {
   "cell_type": "markdown",
   "metadata": {},
   "source": [
    "# Named Entity Recognition"
   ]
  },
  {
   "cell_type": "markdown",
   "metadata": {},
   "source": [
    "## NER with `nltk`"
   ]
  },
  {
   "cell_type": "code",
   "execution_count": 5,
   "metadata": {
    "ExecuteTime": {
     "end_time": "2020-09-03T14:26:28.593874Z",
     "start_time": "2020-09-03T14:26:28.357643Z"
    }
   },
   "outputs": [],
   "source": [
    "with open(news_files[4], 'r', encoding='utf-8') as file:\n",
    "    news = file.read()"
   ]
  },
  {
   "cell_type": "code",
   "execution_count": 6,
   "metadata": {
    "ExecuteTime": {
     "end_time": "2020-09-03T14:26:29.888757Z",
     "start_time": "2020-09-03T14:26:28.595888Z"
    }
   },
   "outputs": [
    {
     "name": "stdout",
     "output_type": "stream",
     "text": [
      "(NE Uber/NNP)\n",
      "(NE Beyond/NN)\n",
      "(NE Apple/NNP)\n",
      "(NE Uber/NNP)\n",
      "(NE Uber/NNP)\n",
      "(NE Travis/NNP Kalanick/NNP)\n",
      "(NE Tim/NNP Cook/NNP)\n",
      "(NE Apple/NNP)\n",
      "(NE Silicon/NNP Valley/NNP)\n",
      "(NE CEO/NNP)\n",
      "(NE Yahoo/NNP)\n",
      "(NE Marissa/NNP Mayer/NNP)\n"
     ]
    }
   ],
   "source": [
    "# tokenize the article into sentences\n",
    "sentences = sent_tokenize(news)\n",
    "\n",
    "# tokenize each sentence into words\n",
    "token_sents = [word_tokenize(sent) for sent in sentences]\n",
    "\n",
    "# tag each tokenize sentence into parts of speech:\n",
    "pos_sents = [nltk.pos_tag(sent) for sent in token_sents]\n",
    "\n",
    "# create the named entity chunks\n",
    "chunked_sents = nltk.ne_chunk_sents(pos_sents,\n",
    "                                    binary=True)\n",
    "\n",
    "# test for stems of the tree with 'NE' tags\n",
    "for sent in chunked_sents:\n",
    "    for chunk in sent:\n",
    "        if hasattr(chunk, 'label') and chunk.label() == 'NE':\n",
    "            print(chunk)"
   ]
  },
  {
   "cell_type": "markdown",
   "metadata": {
    "ExecuteTime": {
     "end_time": "2020-09-03T13:19:33.313358Z",
     "start_time": "2020-09-03T13:19:33.221415Z"
    }
   },
   "source": [
    "## Charting practice"
   ]
  },
  {
   "cell_type": "code",
   "execution_count": 7,
   "metadata": {
    "ExecuteTime": {
     "end_time": "2020-09-03T14:26:30.422569Z",
     "start_time": "2020-09-03T14:26:29.892735Z"
    }
   },
   "outputs": [],
   "source": [
    "chunked_sents_nb = nltk.ne_chunk_sents(pos_sents,\n",
    "                                       binary=False)"
   ]
  },
  {
   "cell_type": "code",
   "execution_count": 8,
   "metadata": {
    "ExecuteTime": {
     "end_time": "2020-09-03T14:26:30.584798Z",
     "start_time": "2020-09-03T14:26:30.424779Z"
    }
   },
   "outputs": [],
   "source": [
    "# create defaultdict\n",
    "ner_categories = defaultdict(int)\n",
    "\n",
    "# create the nested for loop\n",
    "for sent in chunked_sents_nb:\n",
    "    for chunk in sent:\n",
    "        if hasattr(chunk, 'label'):\n",
    "            ner_categories[chunk.label()] += 1\n",
    "            \n",
    "# create a list of chart labels from the dictionary\n",
    "labels = list(ner_categories.keys())"
   ]
  },
  {
   "cell_type": "code",
   "execution_count": 9,
   "metadata": {
    "ExecuteTime": {
     "end_time": "2020-09-03T14:26:31.327258Z",
     "start_time": "2020-09-03T14:26:30.586977Z"
    }
   },
   "outputs": [
    {
     "data": {
      "image/png": "[encoded data removed]",
      "text/plain": [
       "<Figure size 432x288 with 1 Axes>"
      ]
     },
     "metadata": {},
     "output_type": "display_data"
    }
   ],
   "source": [
    "# create a list of values\n",
    "values = [ner_categories.get(v) for v in labels]\n",
    "\n",
    "# create the pie chart\n",
    "plt.pie(values, \n",
    "        labels=labels,\n",
    "        autopct='%1.1f%%',\n",
    "        startangle=140)\n",
    "\n",
    "plt.show()"
   ]
  },
  {
   "cell_type": "markdown",
   "metadata": {},
   "source": [
    "# Introduction to `spacy`"
   ]
  },
  {
   "cell_type": "code",
   "execution_count": 10,
   "metadata": {
    "ExecuteTime": {
     "end_time": "2020-09-03T14:26:34.361574Z",
     "start_time": "2020-09-03T14:26:31.330237Z"
    }
   },
   "outputs": [],
   "source": [
    "# instantiate the english model\n",
    "nlp = spacy.load('en_core_web_sm',\n",
    "                 tagger=False,\n",
    "                 parser=False,\n",
    "                 matcher=False)"
   ]
  },
  {
   "cell_type": "code",
   "execution_count": 11,
   "metadata": {
    "ExecuteTime": {
     "end_time": "2020-09-03T14:26:37.644544Z",
     "start_time": "2020-09-03T14:26:34.364530Z"
    }
   },
   "outputs": [
    {
     "name": "stdout",
     "output_type": "stream",
     "text": [
      "ORG unroll.me\n",
      "ORG Apple\n",
      "PERSON Uber\n",
      "FAC Travis Kalanick of Uber\n",
      "PERSON Tim Cook\n",
      "ORG Apple\n",
      "CARDINAL Millions\n",
      "PERSON Uber\n",
      "LOC Silicon Valley\n",
      "ORG Yahoo\n",
      "PERSON Marissa Mayer\n",
      "MONEY 186\n"
     ]
    }
   ],
   "source": [
    "# create new document\n",
    "doc = nlp(news)\n",
    "\n",
    "# print all of the found entities and their labels\n",
    "for ent in doc.ents:\n",
    "    print(ent.label_, ent.text)"
   ]
  },
  {
   "cell_type": "markdown",
   "metadata": {},
   "source": [
    "# Multilingual NER with polyglot"
   ]
  },
  {
   "cell_type": "markdown",
   "metadata": {},
   "source": [
    "As of writing, there is no straightforward installation for `polyglot` in Anaconda. Please follow the steps here in https://stackoverflow.com/questions/37512311/cant-install-python-polyglot-package-on-windows by Prayson W. Daniel. Worked for me."
   ]
  },
  {
   "cell_type": "markdown",
   "metadata": {},
   "source": [
    "For French:"
   ]
  },
  {
   "cell_type": "code",
   "execution_count": 14,
   "metadata": {
    "ExecuteTime": {
     "end_time": "2020-09-03T14:30:59.735248Z",
     "start_time": "2020-09-03T14:30:32.659802Z"
    },
    "scrolled": true
   },
   "outputs": [
    {
     "name": "stdout",
     "output_type": "stream",
     "text": [
      "[polyglot_data] Downloading package ner2.fr to\n",
      "[polyglot_data]     C:\\Users\\loujo\\AppData\\Roaming\\polyglot_data...\n",
      "[polyglot_data] Downloading package embeddings2.fr to\n",
      "[polyglot_data]     C:\\Users\\loujo\\AppData\\Roaming\\polyglot_data...\n"
     ]
    }
   ],
   "source": [
    "# !polyglot download ner2.fr\n",
    "# !polyglot download embeddings2.fr"
   ]
  },
  {
   "cell_type": "markdown",
   "metadata": {},
   "source": [
    "For Spanish:"
   ]
  },
  {
   "cell_type": "code",
   "execution_count": 15,
   "metadata": {
    "ExecuteTime": {
     "end_time": "2020-09-03T14:32:43.156854Z",
     "start_time": "2020-09-03T14:32:07.834652Z"
    }
   },
   "outputs": [
    {
     "name": "stdout",
     "output_type": "stream",
     "text": [
      "[polyglot_data] Downloading package ner2.es to\n",
      "[polyglot_data]     C:\\Users\\loujo\\AppData\\Roaming\\polyglot_data...\n",
      "[polyglot_data] Downloading package embeddings2.es to\n",
      "[polyglot_data]     C:\\Users\\loujo\\AppData\\Roaming\\polyglot_data...\n"
     ]
    }
   ],
   "source": [
    "# !polyglot download ner2.es\n",
    "# !polyglot download embeddings2.es"
   ]
  },
  {
   "cell_type": "markdown",
   "metadata": {},
   "source": [
    "## French NER with `polyglot`"
   ]
  },
  {
   "cell_type": "code",
   "execution_count": 18,
   "metadata": {
    "ExecuteTime": {
     "end_time": "2020-09-03T14:35:04.312696Z",
     "start_time": "2020-09-03T14:35:04.194746Z"
    }
   },
   "outputs": [],
   "source": [
    "with open(news_files[2], 'r', encoding='utf-8') as f:\n",
    "    fr = f.read()"
   ]
  },
  {
   "cell_type": "code",
   "execution_count": 20,
   "metadata": {
    "ExecuteTime": {
     "end_time": "2020-09-03T14:36:24.852290Z",
     "start_time": "2020-09-03T14:36:18.943885Z"
    }
   },
   "outputs": [
    {
     "name": "stdout",
     "output_type": "stream",
     "text": [
      "['Charles', 'Cuvelliez']\n",
      "['Charles', 'Cuvelliez']\n",
      "['Bruxelles']\n",
      "['l’IA']\n",
      "['Julien', 'Maldonato']\n",
      "['Deloitte']\n",
      "['Ethiquement']\n",
      "['l’IA']\n",
      "['.']\n",
      "<class 'polyglot.text.Chunk'>\n"
     ]
    }
   ],
   "source": [
    "# create a new text object using Polyglot's Text class\n",
    "txt = Text(fr)\n",
    "\n",
    "# print each of the entities found\n",
    "for ent in txt.entities:\n",
    "    print(ent)\n",
    "    \n",
    "print(type(ent))"
   ]
  },
  {
   "cell_type": "code",
   "execution_count": 21,
   "metadata": {
    "ExecuteTime": {
     "end_time": "2020-09-03T14:39:19.756779Z",
     "start_time": "2020-09-03T14:39:19.750802Z"
    }
   },
   "outputs": [
    {
     "name": "stdout",
     "output_type": "stream",
     "text": [
      "[('I-PER', 'Charles Cuvelliez'), ('I-PER', 'Charles Cuvelliez'), ('I-ORG', 'Bruxelles'), ('I-PER', 'l’IA'), ('I-PER', 'Julien Maldonato'), ('I-ORG', 'Deloitte'), ('I-PER', 'Ethiquement'), ('I-LOC', 'l’IA'), ('I-PER', '.')]\n"
     ]
    }
   ],
   "source": [
    "# create a list of tuples\n",
    "entities = [(ent.tag, ' '.join(ent)) for ent in txt.entities]\n",
    "print(entities)"
   ]
  },
  {
   "cell_type": "markdown",
   "metadata": {},
   "source": [
    "## Spanish NER with `polyglot`"
   ]
  },
  {
   "cell_type": "code",
   "execution_count": 23,
   "metadata": {
    "ExecuteTime": {
     "end_time": "2020-09-03T14:41:27.130029Z",
     "start_time": "2020-09-03T14:41:27.115039Z"
    }
   },
   "outputs": [],
   "source": [
    "with open(news_files[3], 'r', encoding='utf-8') as f:\n",
    "    es = f.read()"
   ]
  },
  {
   "cell_type": "code",
   "execution_count": 43,
   "metadata": {
    "ExecuteTime": {
     "end_time": "2020-09-03T14:54:01.492699Z",
     "start_time": "2020-09-03T14:54:01.214058Z"
    }
   },
   "outputs": [
    {
     "name": "stdout",
     "output_type": "stream",
     "text": [
      "count:28\n",
      "percentage that refer to Gabo: 0.30\n"
     ]
    }
   ],
   "source": [
    "txt = Text(es)\n",
    "\n",
    "count = 0\n",
    "\n",
    "# count how many \"Gabo\" or \"Márquez\" there are\n",
    "for ent in txt.entities:\n",
    "    if ('Márquez' in ent)|('Gabo' in ent):\n",
    "        count += 1\n",
    "\n",
    "print(f'count:{count}')\n",
    "print(f'percentage that refer to Gabo:{count / len(txt.entities): .2f}')"
   ]
  }
 ],
 "metadata": {
  "kernelspec": {
   "display_name": "tf2-gpu",
   "language": "python",
   "name": "tf2-gpu"
  },
  "language_info": {
   "codemirror_mode": {
    "name": "ipython",
    "version": 3
   },
   "file_extension": ".py",
   "mimetype": "text/x-python",
   "name": "python",
   "nbconvert_exporter": "python",
   "pygments_lexer": "ipython3",
   "version": "3.7.7"
  },
  "toc": {
   "base_numbering": 1,
   "nav_menu": {},
   "number_sections": true,
   "sideBar": true,
   "skip_h1_title": false,
   "title_cell": "Table of Contents",
   "title_sidebar": "Contents",
   "toc_cell": false,
   "toc_position": {},
   "toc_section_display": true,
   "toc_window_display": false
  }
 },
 "nbformat": 4,
 "nbformat_minor": 4
}
