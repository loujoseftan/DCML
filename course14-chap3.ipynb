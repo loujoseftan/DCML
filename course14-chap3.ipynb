{
 "cells": [
  {
   "cell_type": "code",
   "execution_count": 1,
   "metadata": {
    "ExecuteTime": {
     "end_time": "2020-09-05T14:15:35.892665Z",
     "start_time": "2020-09-05T14:15:13.000402Z"
    }
   },
   "outputs": [],
   "source": [
    "import numpy as np\n",
    "import pandas as pd\n",
    "import matplotlib.pyplot as plt\n",
    "import seaborn as sns\n",
    "sns.set()"
   ]
  },
  {
   "cell_type": "code",
   "execution_count": 108,
   "metadata": {
    "ExecuteTime": {
     "end_time": "2020-09-05T15:58:18.480637Z",
     "start_time": "2020-09-05T15:58:18.470644Z"
    }
   },
   "outputs": [
    {
     "data": {
      "text/plain": [
       "'2.1.0'"
      ]
     },
     "execution_count": 108,
     "metadata": {},
     "output_type": "execute_result"
    }
   ],
   "source": [
    "import tensorflow as tf\n",
    "from tensorflow.keras.activations import sigmoid, relu\n",
    "from tensorflow.keras.layers import Dense, Dropout\n",
    "from tensorflow.keras.optimizers import Adam, SGD\n",
    "from sklearn.model_selection import train_test_split\n",
    "from sklearn.preprocessing import MinMaxScaler, StandardScaler, MaxAbsScaler\n",
    "from tensorflow.keras.losses import binary_crossentropy\n",
    "from sklearn.metrics import confusion_matrix\n",
    "\n",
    "tf.__version__"
   ]
  },
  {
   "cell_type": "code",
   "execution_count": 31,
   "metadata": {
    "ExecuteTime": {
     "end_time": "2020-09-05T14:41:35.972236Z",
     "start_time": "2020-09-05T14:41:35.649728Z"
    }
   },
   "outputs": [],
   "source": [
    "df = pd.read_csv('uci_credit_card.csv')\n",
    "bfeatures = np.loadtxt('bfeatures.txt')"
   ]
  },
  {
   "cell_type": "code",
   "execution_count": 4,
   "metadata": {
    "ExecuteTime": {
     "end_time": "2020-09-05T14:16:27.184910Z",
     "start_time": "2020-09-05T14:16:27.180910Z"
    }
   },
   "outputs": [],
   "source": [
    "pd.options.display.max_rows = None\n",
    "pd.options.display.max_columns = None"
   ]
  },
  {
   "cell_type": "markdown",
   "metadata": {},
   "source": [
    "# Dense layers"
   ]
  },
  {
   "cell_type": "markdown",
   "metadata": {},
   "source": [
    "## The linear algebra of dense layers"
   ]
  },
  {
   "cell_type": "code",
   "execution_count": 5,
   "metadata": {
    "ExecuteTime": {
     "end_time": "2020-09-05T14:16:27.356778Z",
     "start_time": "2020-09-05T14:16:27.187906Z"
    }
   },
   "outputs": [],
   "source": [
    "borrower_features = np.array([[2, 2, 43]], dtype=np.float32)"
   ]
  },
  {
   "cell_type": "code",
   "execution_count": 6,
   "metadata": {
    "ExecuteTime": {
     "end_time": "2020-09-05T14:17:05.193444Z",
     "start_time": "2020-09-05T14:16:27.358754Z"
    }
   },
   "outputs": [],
   "source": [
    "# initialize weights and biases\n",
    "bias1 = tf.Variable(1.0, tf.float32)\n",
    "weights1 = tf.Variable(tf.ones((3, 2)), tf.float32)"
   ]
  },
  {
   "cell_type": "code",
   "execution_count": 9,
   "metadata": {
    "ExecuteTime": {
     "end_time": "2020-09-05T14:19:06.095038Z",
     "start_time": "2020-09-05T14:18:59.568641Z"
    }
   },
   "outputs": [
    {
     "name": "stdout",
     "output_type": "stream",
     "text": [
      "dense1 output shape: (1, 2)\n"
     ]
    }
   ],
   "source": [
    "# perform matmul of borrower_features and weights1\n",
    "prod1 = tf.matmul(borrower_features, weights1)\n",
    "\n",
    "# apply sigmoid fxn to prod1\n",
    "dense1 = sigmoid(prod1 + bias1)\n",
    "\n",
    "print(f'dense1 output shape: {dense1.shape}')"
   ]
  },
  {
   "cell_type": "code",
   "execution_count": 10,
   "metadata": {
    "ExecuteTime": {
     "end_time": "2020-09-05T14:22:37.954551Z",
     "start_time": "2020-09-05T14:22:37.762623Z"
    }
   },
   "outputs": [
    {
     "name": "stdout",
     "output_type": "stream",
     "text": [
      "prediction: 0.9525741338729858\n",
      "actual: 1\n"
     ]
    }
   ],
   "source": [
    "# initialize 2nd set of weights and biases\n",
    "bias2 = tf.Variable(1.0)\n",
    "weights2 = tf.Variable(tf.ones((2, 1)))\n",
    "\n",
    "# perform matmul and apply activation (pred)\n",
    "prod2 = tf.matmul(dense1, weights2)\n",
    "\n",
    "pred = sigmoid(prod2 + bias2)\n",
    "print(f'prediction: {pred.numpy()[0,0]}\\nactual: 1')"
   ]
  },
  {
   "cell_type": "markdown",
   "metadata": {
    "ExecuteTime": {
     "end_time": "2020-09-05T14:22:47.208894Z",
     "start_time": "2020-09-05T14:22:47.200899Z"
    }
   },
   "source": [
    "## The low-level approach with multiple examples"
   ]
  },
  {
   "cell_type": "code",
   "execution_count": 12,
   "metadata": {
    "ExecuteTime": {
     "end_time": "2020-09-05T14:27:11.890374Z",
     "start_time": "2020-09-05T14:27:11.831407Z"
    }
   },
   "outputs": [],
   "source": [
    "borrower_features = tf.constant([[3, 3, 23],\n",
    "                                 [2, 1, 24],\n",
    "                                 [1, 1, 49],\n",
    "                                 [1, 1, 49],\n",
    "                                 [2, 1, 29]], dtype=tf.float32)"
   ]
  },
  {
   "cell_type": "code",
   "execution_count": 14,
   "metadata": {
    "ExecuteTime": {
     "end_time": "2020-09-05T14:29:04.844053Z",
     "start_time": "2020-09-05T14:29:04.546227Z"
    }
   },
   "outputs": [],
   "source": [
    "# initialize weights and bias\n",
    "weights1 = tf.Variable([[-0.6, 0.6],\n",
    "                        [0.8, -0.3],\n",
    "                        [-0.09, -0.08]], tf.float32)\n",
    "bias1 = tf.Variable([0.1], tf.float32)"
   ]
  },
  {
   "cell_type": "code",
   "execution_count": 21,
   "metadata": {
    "ExecuteTime": {
     "end_time": "2020-09-05T14:32:32.238582Z",
     "start_time": "2020-09-05T14:32:32.229584Z"
    }
   },
   "outputs": [
    {
     "name": "stdout",
     "output_type": "stream",
     "text": [
      "shape of input: (5, 3)\n",
      "shape of weights1: (3, 2)\n",
      "shape of bias1: (1,)\n",
      "shape of dense1: (5, 2)\n"
     ]
    }
   ],
   "source": [
    "# compute for the first dense layer\n",
    "prod1 = tf.matmul(borrower_features, weights1)\n",
    "dense1 = sigmoid(prod1 + bias1)\n",
    "\n",
    "# print the shapes\n",
    "print(f'shape of input: {borrower_features.shape}')\n",
    "print(f'shape of weights1: {weights1.shape}')\n",
    "print(f'shape of bias1: {bias1.shape}')\n",
    "print(f'shape of dense1: {dense1.shape}')"
   ]
  },
  {
   "cell_type": "markdown",
   "metadata": {},
   "source": [
    "## Using the dense layer operation"
   ]
  },
  {
   "cell_type": "code",
   "execution_count": 23,
   "metadata": {
    "ExecuteTime": {
     "end_time": "2020-09-05T14:35:27.362260Z",
     "start_time": "2020-09-05T14:35:27.083190Z"
    }
   },
   "outputs": [
    {
     "name": "stdout",
     "output_type": "stream",
     "text": [
      "(30000, 25)\n"
     ]
    },
    {
     "data": {
      "text/html": [
       "<div>\n",
       "<style scoped>\n",
       "    .dataframe tbody tr th:only-of-type {\n",
       "        vertical-align: middle;\n",
       "    }\n",
       "\n",
       "    .dataframe tbody tr th {\n",
       "        vertical-align: top;\n",
       "    }\n",
       "\n",
       "    .dataframe thead th {\n",
       "        text-align: right;\n",
       "    }\n",
       "</style>\n",
       "<table border=\"1\" class=\"dataframe\">\n",
       "  <thead>\n",
       "    <tr style=\"text-align: right;\">\n",
       "      <th></th>\n",
       "      <th>ID</th>\n",
       "      <th>LIMIT_BAL</th>\n",
       "      <th>SEX</th>\n",
       "      <th>EDUCATION</th>\n",
       "      <th>MARRIAGE</th>\n",
       "      <th>AGE</th>\n",
       "      <th>PAY_0</th>\n",
       "      <th>PAY_2</th>\n",
       "      <th>PAY_3</th>\n",
       "      <th>PAY_4</th>\n",
       "      <th>PAY_5</th>\n",
       "      <th>PAY_6</th>\n",
       "      <th>BILL_AMT1</th>\n",
       "      <th>BILL_AMT2</th>\n",
       "      <th>BILL_AMT3</th>\n",
       "      <th>BILL_AMT4</th>\n",
       "      <th>BILL_AMT5</th>\n",
       "      <th>BILL_AMT6</th>\n",
       "      <th>PAY_AMT1</th>\n",
       "      <th>PAY_AMT2</th>\n",
       "      <th>PAY_AMT3</th>\n",
       "      <th>PAY_AMT4</th>\n",
       "      <th>PAY_AMT5</th>\n",
       "      <th>PAY_AMT6</th>\n",
       "      <th>default.payment.next.month</th>\n",
       "    </tr>\n",
       "  </thead>\n",
       "  <tbody>\n",
       "    <tr>\n",
       "      <th>0</th>\n",
       "      <td>1</td>\n",
       "      <td>20000.0</td>\n",
       "      <td>2</td>\n",
       "      <td>2</td>\n",
       "      <td>1</td>\n",
       "      <td>24</td>\n",
       "      <td>2</td>\n",
       "      <td>2</td>\n",
       "      <td>-1</td>\n",
       "      <td>-1</td>\n",
       "      <td>-2</td>\n",
       "      <td>-2</td>\n",
       "      <td>3913.0</td>\n",
       "      <td>3102.0</td>\n",
       "      <td>689.0</td>\n",
       "      <td>0.0</td>\n",
       "      <td>0.0</td>\n",
       "      <td>0.0</td>\n",
       "      <td>0.0</td>\n",
       "      <td>689.0</td>\n",
       "      <td>0.0</td>\n",
       "      <td>0.0</td>\n",
       "      <td>0.0</td>\n",
       "      <td>0.0</td>\n",
       "      <td>1</td>\n",
       "    </tr>\n",
       "    <tr>\n",
       "      <th>1</th>\n",
       "      <td>2</td>\n",
       "      <td>120000.0</td>\n",
       "      <td>2</td>\n",
       "      <td>2</td>\n",
       "      <td>2</td>\n",
       "      <td>26</td>\n",
       "      <td>-1</td>\n",
       "      <td>2</td>\n",
       "      <td>0</td>\n",
       "      <td>0</td>\n",
       "      <td>0</td>\n",
       "      <td>2</td>\n",
       "      <td>2682.0</td>\n",
       "      <td>1725.0</td>\n",
       "      <td>2682.0</td>\n",
       "      <td>3272.0</td>\n",
       "      <td>3455.0</td>\n",
       "      <td>3261.0</td>\n",
       "      <td>0.0</td>\n",
       "      <td>1000.0</td>\n",
       "      <td>1000.0</td>\n",
       "      <td>1000.0</td>\n",
       "      <td>0.0</td>\n",
       "      <td>2000.0</td>\n",
       "      <td>1</td>\n",
       "    </tr>\n",
       "    <tr>\n",
       "      <th>2</th>\n",
       "      <td>3</td>\n",
       "      <td>90000.0</td>\n",
       "      <td>2</td>\n",
       "      <td>2</td>\n",
       "      <td>2</td>\n",
       "      <td>34</td>\n",
       "      <td>0</td>\n",
       "      <td>0</td>\n",
       "      <td>0</td>\n",
       "      <td>0</td>\n",
       "      <td>0</td>\n",
       "      <td>0</td>\n",
       "      <td>29239.0</td>\n",
       "      <td>14027.0</td>\n",
       "      <td>13559.0</td>\n",
       "      <td>14331.0</td>\n",
       "      <td>14948.0</td>\n",
       "      <td>15549.0</td>\n",
       "      <td>1518.0</td>\n",
       "      <td>1500.0</td>\n",
       "      <td>1000.0</td>\n",
       "      <td>1000.0</td>\n",
       "      <td>1000.0</td>\n",
       "      <td>5000.0</td>\n",
       "      <td>0</td>\n",
       "    </tr>\n",
       "    <tr>\n",
       "      <th>3</th>\n",
       "      <td>4</td>\n",
       "      <td>50000.0</td>\n",
       "      <td>2</td>\n",
       "      <td>2</td>\n",
       "      <td>1</td>\n",
       "      <td>37</td>\n",
       "      <td>0</td>\n",
       "      <td>0</td>\n",
       "      <td>0</td>\n",
       "      <td>0</td>\n",
       "      <td>0</td>\n",
       "      <td>0</td>\n",
       "      <td>46990.0</td>\n",
       "      <td>48233.0</td>\n",
       "      <td>49291.0</td>\n",
       "      <td>28314.0</td>\n",
       "      <td>28959.0</td>\n",
       "      <td>29547.0</td>\n",
       "      <td>2000.0</td>\n",
       "      <td>2019.0</td>\n",
       "      <td>1200.0</td>\n",
       "      <td>1100.0</td>\n",
       "      <td>1069.0</td>\n",
       "      <td>1000.0</td>\n",
       "      <td>0</td>\n",
       "    </tr>\n",
       "    <tr>\n",
       "      <th>4</th>\n",
       "      <td>5</td>\n",
       "      <td>50000.0</td>\n",
       "      <td>1</td>\n",
       "      <td>2</td>\n",
       "      <td>1</td>\n",
       "      <td>57</td>\n",
       "      <td>-1</td>\n",
       "      <td>0</td>\n",
       "      <td>-1</td>\n",
       "      <td>0</td>\n",
       "      <td>0</td>\n",
       "      <td>0</td>\n",
       "      <td>8617.0</td>\n",
       "      <td>5670.0</td>\n",
       "      <td>35835.0</td>\n",
       "      <td>20940.0</td>\n",
       "      <td>19146.0</td>\n",
       "      <td>19131.0</td>\n",
       "      <td>2000.0</td>\n",
       "      <td>36681.0</td>\n",
       "      <td>10000.0</td>\n",
       "      <td>9000.0</td>\n",
       "      <td>689.0</td>\n",
       "      <td>679.0</td>\n",
       "      <td>0</td>\n",
       "    </tr>\n",
       "  </tbody>\n",
       "</table>\n",
       "</div>"
      ],
      "text/plain": [
       "   ID  LIMIT_BAL  SEX  EDUCATION  MARRIAGE  AGE  PAY_0  PAY_2  PAY_3  PAY_4  \\\n",
       "0   1    20000.0    2          2         1   24      2      2     -1     -1   \n",
       "1   2   120000.0    2          2         2   26     -1      2      0      0   \n",
       "2   3    90000.0    2          2         2   34      0      0      0      0   \n",
       "3   4    50000.0    2          2         1   37      0      0      0      0   \n",
       "4   5    50000.0    1          2         1   57     -1      0     -1      0   \n",
       "\n",
       "   PAY_5  PAY_6  BILL_AMT1  BILL_AMT2  BILL_AMT3  BILL_AMT4  BILL_AMT5  \\\n",
       "0     -2     -2     3913.0     3102.0      689.0        0.0        0.0   \n",
       "1      0      2     2682.0     1725.0     2682.0     3272.0     3455.0   \n",
       "2      0      0    29239.0    14027.0    13559.0    14331.0    14948.0   \n",
       "3      0      0    46990.0    48233.0    49291.0    28314.0    28959.0   \n",
       "4      0      0     8617.0     5670.0    35835.0    20940.0    19146.0   \n",
       "\n",
       "   BILL_AMT6  PAY_AMT1  PAY_AMT2  PAY_AMT3  PAY_AMT4  PAY_AMT5  PAY_AMT6  \\\n",
       "0        0.0       0.0     689.0       0.0       0.0       0.0       0.0   \n",
       "1     3261.0       0.0    1000.0    1000.0    1000.0       0.0    2000.0   \n",
       "2    15549.0    1518.0    1500.0    1000.0    1000.0    1000.0    5000.0   \n",
       "3    29547.0    2000.0    2019.0    1200.0    1100.0    1069.0    1000.0   \n",
       "4    19131.0    2000.0   36681.0   10000.0    9000.0     689.0     679.0   \n",
       "\n",
       "   default.payment.next.month  \n",
       "0                           1  \n",
       "1                           1  \n",
       "2                           0  \n",
       "3                           0  \n",
       "4                           0  "
      ]
     },
     "execution_count": 23,
     "metadata": {},
     "output_type": "execute_result"
    }
   ],
   "source": [
    "print(df.shape)\n",
    "df.head()"
   ]
  },
  {
   "cell_type": "code",
   "execution_count": 37,
   "metadata": {
    "ExecuteTime": {
     "end_time": "2020-09-05T14:43:06.779614Z",
     "start_time": "2020-09-05T14:43:06.775616Z"
    }
   },
   "outputs": [],
   "source": [
    "borrower_features = tf.convert_to_tensor(bfeatures, tf.float32)"
   ]
  },
  {
   "cell_type": "code",
   "execution_count": 40,
   "metadata": {
    "ExecuteTime": {
     "end_time": "2020-09-05T14:45:22.006221Z",
     "start_time": "2020-09-05T14:45:21.976241Z"
    }
   },
   "outputs": [
    {
     "name": "stdout",
     "output_type": "stream",
     "text": [
      "dense1 shape: (100, 7)\n",
      "dense2 shape: (100, 3)\n",
      "pred shape: (100, 1)\n"
     ]
    }
   ],
   "source": [
    "# define dense layers\n",
    "dense1 = Dense(7, activation='sigmoid')(borrower_features)\n",
    "dense2 = Dense(3, activation='sigmoid')(dense1)\n",
    "preds = Dense(1, activation='sigmoid')(dense2)\n",
    "\n",
    "print(f'dense1 shape: {dense1.shape}')\n",
    "print(f'dense2 shape: {dense2.shape}')\n",
    "print(f'pred shape: {preds.shape}')"
   ]
  },
  {
   "cell_type": "markdown",
   "metadata": {
    "ExecuteTime": {
     "end_time": "2020-09-05T14:41:43.779489Z",
     "start_time": "2020-09-05T14:41:43.773476Z"
    }
   },
   "source": [
    "# Activation functions"
   ]
  },
  {
   "cell_type": "markdown",
   "metadata": {},
   "source": [
    "## Binary classification problems"
   ]
  },
  {
   "cell_type": "code",
   "execution_count": 56,
   "metadata": {
    "ExecuteTime": {
     "end_time": "2020-09-05T15:01:30.525648Z",
     "start_time": "2020-09-05T15:01:30.517673Z"
    }
   },
   "outputs": [],
   "source": [
    "bill_amounts = df[['BILL_AMT1', 'BILL_AMT2', 'BILL_AMT3']].to_numpy()\n",
    "default = df[['default.payment.next.month']].to_numpy()"
   ]
  },
  {
   "cell_type": "code",
   "execution_count": 59,
   "metadata": {
    "ExecuteTime": {
     "end_time": "2020-09-05T15:01:43.905580Z",
     "start_time": "2020-09-05T15:01:43.872597Z"
    }
   },
   "outputs": [
    {
     "name": "stdout",
     "output_type": "stream",
     "text": [
      "error:\n",
      "[[1.]\n",
      " [1.]\n",
      " [0.]\n",
      " [0.]\n",
      " [0.]]\n"
     ]
    }
   ],
   "source": [
    "# construct input layer from features\n",
    "inputs = tf.constant(bill_amounts, tf.float32)\n",
    "\n",
    "# define dense layers\n",
    "dense1 = Dense(3, activation='relu')(inputs)\n",
    "dense2 = Dense(2, activation='relu')(dense1)\n",
    "outputs = Dense(1, activation='sigmoid')(dense2)\n",
    "\n",
    "# print error for first five examples\n",
    "error = default[:5] - outputs.numpy()[:5]\n",
    "print(f'error:\\n{error}')"
   ]
  },
  {
   "cell_type": "markdown",
   "metadata": {},
   "source": [
    "## Multiclass classification problems"
   ]
  },
  {
   "cell_type": "code",
   "execution_count": 62,
   "metadata": {
    "ExecuteTime": {
     "end_time": "2020-09-05T15:07:14.176430Z",
     "start_time": "2020-09-05T15:07:14.168432Z"
    }
   },
   "outputs": [],
   "source": [
    "borrower_features = df[['BILL_AMT1', 'BILL_AMT2', 'BILL_AMT3', 'BILL_AMT4', 'BILL_AMT5',\n",
    "                        'PAY_AMT1', 'PAY_AMT2', 'PAY_AMT3', 'PAY_AMT4', 'PAY_AMT5']].to_numpy()"
   ]
  },
  {
   "cell_type": "code",
   "execution_count": 63,
   "metadata": {
    "ExecuteTime": {
     "end_time": "2020-09-05T15:11:22.150853Z",
     "start_time": "2020-09-05T15:11:21.730682Z"
    }
   },
   "outputs": [
    {
     "name": "stdout",
     "output_type": "stream",
     "text": [
      "[[0.18549547 0.07212923 0.2760962  0.13315901 0.11850524 0.21461488]\n",
      " [0.12895556 0.11723492 0.20758584 0.2127885  0.17234328 0.16109186]\n",
      " [0.12840065 0.10450698 0.21721505 0.20250018 0.17251293 0.17486422]\n",
      " [0.17900315 0.10597353 0.2257594  0.151632   0.14196397 0.19566797]\n",
      " [0.13613571 0.0591994  0.3965878  0.12837094 0.06669483 0.21301134]]\n"
     ]
    }
   ],
   "source": [
    "# construct input layer from features\n",
    "inputs = tf.constant(borrower_features, tf.float32)\n",
    "\n",
    "# dense layers\n",
    "dense1 = Dense(10, activation='sigmoid')(inputs)\n",
    "dense2 = Dense(8, activation='relu')(dense1)\n",
    "outputs = Dense(6, activation='softmax')(dense2)\n",
    "\n",
    "# first 5 preds\n",
    "print(outputs.numpy()[:5])"
   ]
  },
  {
   "cell_type": "markdown",
   "metadata": {},
   "source": [
    "# Optimizers"
   ]
  },
  {
   "cell_type": "markdown",
   "metadata": {},
   "source": [
    "## The dangers of local minima"
   ]
  },
  {
   "cell_type": "code",
   "execution_count": 66,
   "metadata": {
    "ExecuteTime": {
     "end_time": "2020-09-05T15:22:20.922925Z",
     "start_time": "2020-09-05T15:22:20.916930Z"
    }
   },
   "outputs": [],
   "source": [
    "# use momentum hehe"
   ]
  },
  {
   "cell_type": "markdown",
   "metadata": {},
   "source": [
    "# Training a network in `tensorflow`"
   ]
  },
  {
   "cell_type": "markdown",
   "metadata": {},
   "source": [
    "## Initialization in `tensorflow`"
   ]
  },
  {
   "cell_type": "code",
   "execution_count": 166,
   "metadata": {
    "ExecuteTime": {
     "end_time": "2020-09-05T16:17:41.662800Z",
     "start_time": "2020-09-05T16:17:41.648808Z"
    }
   },
   "outputs": [],
   "source": [
    "# initialize weights and biases\n",
    "w1 = tf.Variable(np.random.normal(size=(23, 7)), dtype=tf.float32)\n",
    "b1 = tf.Variable(tf.ones([7]))\n",
    "w2 = tf.Variable(np.random.normal(size=(7, 1)), dtype=tf.float32)\n",
    "b2 = tf.Variable(0.0)"
   ]
  },
  {
   "cell_type": "markdown",
   "metadata": {
    "ExecuteTime": {
     "end_time": "2020-09-05T15:29:00.988964Z",
     "start_time": "2020-09-05T15:29:00.979991Z"
    }
   },
   "source": [
    "## Defining the model and loss function"
   ]
  },
  {
   "cell_type": "code",
   "execution_count": 92,
   "metadata": {
    "ExecuteTime": {
     "end_time": "2020-09-05T15:45:13.408671Z",
     "start_time": "2020-09-05T15:45:13.392682Z"
    }
   },
   "outputs": [],
   "source": [
    "X = df.iloc[:4000, 1:24].to_numpy(np.float32)\n",
    "y = df.iloc[:4000, 24].to_numpy(np.float32)\n",
    "\n",
    "b_features, test_features, b_targets, test_targets = train_test_split(X, y,\n",
    "                                                                      test_size=0.25,\n",
    "                                                                      stratify=y,\n",
    "                                                                      random_state=42)"
   ]
  },
  {
   "cell_type": "code",
   "execution_count": 93,
   "metadata": {
    "ExecuteTime": {
     "end_time": "2020-09-05T15:45:13.789910Z",
     "start_time": "2020-09-05T15:45:13.783915Z"
    }
   },
   "outputs": [],
   "source": [
    "# scale data\n",
    "s = MaxAbsScaler()\n",
    "\n",
    "b_features = s.fit_transform(b_features)\n",
    "test_features = s.transform(test_features)"
   ]
  },
  {
   "cell_type": "code",
   "execution_count": 116,
   "metadata": {
    "ExecuteTime": {
     "end_time": "2020-09-05T16:01:38.484817Z",
     "start_time": "2020-09-05T16:01:38.479823Z"
    }
   },
   "outputs": [],
   "source": [
    "b_features = tf.convert_to_tensor(b_features, tf.float32)"
   ]
  },
  {
   "cell_type": "code",
   "execution_count": 107,
   "metadata": {
    "ExecuteTime": {
     "end_time": "2020-09-05T15:52:41.052558Z",
     "start_time": "2020-09-05T15:52:41.047560Z"
    }
   },
   "outputs": [],
   "source": [
    "# define the model\n",
    "def model(w1, b1, w2, b2, features = b_features):\n",
    "    # relu to layer1\n",
    "    layer1 = relu(tf.matmul(features, w1) + b1)\n",
    "    # apply dropout\n",
    "    dropout = Dropout(0.25)(layer1)\n",
    "    \n",
    "    return sigmoid(tf.matmul(dropout, w2) + b2)\n",
    "\n",
    "def loss_fxn(w1, b1, w2, b2, features = b_features, targets = b_targets):\n",
    "    preds = model(w1, b1, w2, b2)\n",
    "    \n",
    "    return binary_crossentropy(targets, preds)"
   ]
  },
  {
   "cell_type": "markdown",
   "metadata": {},
   "source": [
    "## Training neural networks with `tensorflow`"
   ]
  },
  {
   "cell_type": "code",
   "execution_count": 167,
   "metadata": {
    "ExecuteTime": {
     "end_time": "2020-09-05T16:17:51.699995Z",
     "start_time": "2020-09-05T16:17:45.196579Z"
    }
   },
   "outputs": [],
   "source": [
    "opt = Adam(0.001)\n",
    "\n",
    "# train the model\n",
    "for j in range(100):\n",
    "    opt.minimize(lambda: loss_fxn(w1, b1, w2, b2),\n",
    "                 var_list=[w1, b1, w2, b2])\n",
    "\n",
    "# make preds with model\n",
    "model_preds = model(w1, b1, w2, b2, test_features)"
   ]
  },
  {
   "cell_type": "code",
   "execution_count": 168,
   "metadata": {
    "ExecuteTime": {
     "end_time": "2020-09-05T16:17:54.083885Z",
     "start_time": "2020-09-05T16:17:54.073869Z"
    }
   },
   "outputs": [
    {
     "name": "stdout",
     "output_type": "stream",
     "text": [
      "[[769   8]\n",
      " [219   4]]\n"
     ]
    }
   ],
   "source": [
    "print(confusion_matrix(test_targets, model_preds.numpy().round()))"
   ]
  },
  {
   "cell_type": "code",
   "execution_count": null,
   "metadata": {},
   "outputs": [],
   "source": []
  }
 ],
 "metadata": {
  "kernelspec": {
   "display_name": "tf2-gpu",
   "language": "python",
   "name": "tf2-gpu"
  },
  "language_info": {
   "codemirror_mode": {
    "name": "ipython",
    "version": 3
   },
   "file_extension": ".py",
   "mimetype": "text/x-python",
   "name": "python",
   "nbconvert_exporter": "python",
   "pygments_lexer": "ipython3",
   "version": "3.7.7"
  },
  "toc": {
   "base_numbering": 1,
   "nav_menu": {},
   "number_sections": true,
   "sideBar": true,
   "skip_h1_title": false,
   "title_cell": "Table of Contents",
   "title_sidebar": "Contents",
   "toc_cell": false,
   "toc_position": {},
   "toc_section_display": true,
   "toc_window_display": false
  }
 },
 "nbformat": 4,
 "nbformat_minor": 4
}
