{
 "cells": [
  {
   "cell_type": "code",
   "execution_count": 1,
   "metadata": {
    "ExecuteTime": {
     "end_time": "2020-08-20T13:16:03.884551Z",
     "start_time": "2020-08-20T13:15:42.669207Z"
    }
   },
   "outputs": [],
   "source": [
    "import numpy as np\n",
    "import pandas as pd\n",
    "import matplotlib.pyplot as plt\n",
    "import seaborn as sns\n",
    "sns.set()"
   ]
  },
  {
   "cell_type": "markdown",
   "metadata": {},
   "source": [
    "# `sklearn` Boston Housing Price Dataset"
   ]
  },
  {
   "cell_type": "code",
   "execution_count": 2,
   "metadata": {
    "ExecuteTime": {
     "end_time": "2020-08-20T13:17:35.614106Z",
     "start_time": "2020-08-20T13:17:33.630018Z"
    }
   },
   "outputs": [],
   "source": [
    "from sklearn import datasets"
   ]
  },
  {
   "cell_type": "code",
   "execution_count": 3,
   "metadata": {
    "ExecuteTime": {
     "end_time": "2020-08-20T13:17:56.566177Z",
     "start_time": "2020-08-20T13:17:56.329613Z"
    }
   },
   "outputs": [],
   "source": [
    "boston = datasets.load_boston()"
   ]
  },
  {
   "cell_type": "code",
   "execution_count": 4,
   "metadata": {
    "ExecuteTime": {
     "end_time": "2020-08-20T13:18:02.027776Z",
     "start_time": "2020-08-20T13:18:02.020759Z"
    }
   },
   "outputs": [
    {
     "data": {
      "text/plain": [
       "dict_keys(['data', 'target', 'feature_names', 'DESCR', 'filename'])"
      ]
     },
     "execution_count": 4,
     "metadata": {},
     "output_type": "execute_result"
    }
   ],
   "source": [
    "boston.keys()"
   ]
  },
  {
   "cell_type": "code",
   "execution_count": 5,
   "metadata": {
    "ExecuteTime": {
     "end_time": "2020-08-20T13:19:01.340746Z",
     "start_time": "2020-08-20T13:19:01.330756Z"
    }
   },
   "outputs": [
    {
     "name": "stdout",
     "output_type": "stream",
     "text": [
      "Input shape: (506, 13)\n",
      "Output shape: (506,)\n"
     ]
    }
   ],
   "source": [
    "X = boston['data']\n",
    "y = boston['target']\n",
    "print(f'Input shape: {X.shape}')\n",
    "print(f'Output shape: {y.shape}')"
   ]
  },
  {
   "cell_type": "markdown",
   "metadata": {},
   "source": [
    "## Implement LinReg from scratch: minimizing a loss function"
   ]
  },
  {
   "cell_type": "code",
   "execution_count": 12,
   "metadata": {
    "ExecuteTime": {
     "end_time": "2020-08-20T13:26:18.505829Z",
     "start_time": "2020-08-20T13:26:16.791610Z"
    }
   },
   "outputs": [],
   "source": [
    "from scipy.optimize import minimize\n",
    "from sklearn.linear_model import LinearRegression"
   ]
  },
  {
   "cell_type": "code",
   "execution_count": 8,
   "metadata": {
    "ExecuteTime": {
     "end_time": "2020-08-20T13:24:33.548592Z",
     "start_time": "2020-08-20T13:24:33.540596Z"
    }
   },
   "outputs": [],
   "source": [
    "# Least squares error, summed over training samples\n",
    "def loss(w):\n",
    "    s = 0\n",
    "    for i in range(y.size):\n",
    "        y_i_true = y[i]\n",
    "        y_i_pred = np.dot(w, X[i])\n",
    "        s += (y_i_true - y_i_pred)**2\n",
    "    \n",
    "    return s"
   ]
  },
  {
   "cell_type": "code",
   "execution_count": 9,
   "metadata": {
    "ExecuteTime": {
     "end_time": "2020-08-20T13:24:53.072417Z",
     "start_time": "2020-08-20T13:24:48.369375Z"
    }
   },
   "outputs": [
    {
     "name": "stdout",
     "output_type": "stream",
     "text": [
      "[-9.28967216e-02  4.87147166e-02 -4.06378288e-03  2.85400590e+00\n",
      " -2.86837342e+00  5.92813683e+00 -7.26924629e-03 -9.68512149e-01\n",
      "  1.71144310e-01 -9.39578125e-03 -3.92189417e-01  1.49054562e-02\n",
      " -4.16305997e-01]\n"
     ]
    }
   ],
   "source": [
    "# returns w that makes loss(w) smallest\n",
    "w_fit = minimize(loss, X[0]).x\n",
    "print(w_fit)"
   ]
  },
  {
   "cell_type": "code",
   "execution_count": 13,
   "metadata": {
    "ExecuteTime": {
     "end_time": "2020-08-20T13:26:22.146898Z",
     "start_time": "2020-08-20T13:26:20.646634Z"
    }
   },
   "outputs": [
    {
     "name": "stdout",
     "output_type": "stream",
     "text": [
      "[-9.28965170e-02  4.87149552e-02 -4.05997958e-03  2.85399882e+00\n",
      " -2.86843637e+00  5.92814778e+00 -7.26933458e-03 -9.68514157e-01\n",
      "  1.71151128e-01 -9.39621540e-03 -3.92190926e-01  1.49056102e-02\n",
      " -4.16304471e-01]\n"
     ]
    }
   ],
   "source": [
    "# compare with sklearn's LinearRegression coefs\n",
    "lr = LinearRegression(fit_intercept=False).fit(X, y)\n",
    "print(lr.coef_)"
   ]
  },
  {
   "cell_type": "markdown",
   "metadata": {},
   "source": [
    "# Loss functions: Logistic and Hinge loss"
   ]
  },
  {
   "cell_type": "code",
   "execution_count": 15,
   "metadata": {
    "ExecuteTime": {
     "end_time": "2020-08-20T13:51:49.983969Z",
     "start_time": "2020-08-20T13:51:49.978971Z"
    }
   },
   "outputs": [],
   "source": [
    "# math functions for logistic and hinge losses\n",
    "def log_loss(raw_model_output):\n",
    "    return np.log(1+np.exp(-raw_model_output))\n",
    "\n",
    "def hinge_loss(raw_model_output):\n",
    "    return np.maximum(0, 1-raw_model_output)"
   ]
  },
  {
   "cell_type": "code",
   "execution_count": 16,
   "metadata": {
    "ExecuteTime": {
     "end_time": "2020-08-20T13:57:20.748960Z",
     "start_time": "2020-08-20T13:57:20.077192Z"
    }
   },
   "outputs": [
    {
     "data": {
      "image/png": "[encoded data removed]",
      "text/plain": [
       "<Figure size 576x432 with 1 Axes>"
      ]
     },
     "metadata": {},
     "output_type": "display_data"
    }
   ],
   "source": [
    "# plot the loss functions\n",
    "grid = np.linspace(-2, 2, 1000)\n",
    "\n",
    "fig, ax = plt.subplots(figsize=(8, 6))\n",
    "\n",
    "ax.plot(grid, log_loss(grid), label='logistic')\n",
    "ax.plot(grid, hinge_loss(grid), label='hinge')\n",
    "\n",
    "plt.legend()\n",
    "plt.show()"
   ]
  },
  {
   "cell_type": "markdown",
   "metadata": {},
   "source": [
    "# `sklearn` Breast Cancer Prediction Dataset"
   ]
  },
  {
   "cell_type": "code",
   "execution_count": 30,
   "metadata": {
    "ExecuteTime": {
     "end_time": "2020-08-20T14:12:13.224112Z",
     "start_time": "2020-08-20T14:12:13.219135Z"
    }
   },
   "outputs": [],
   "source": [
    "from sklearn.preprocessing import scale\n",
    "from sklearn.linear_model import LogisticRegression"
   ]
  },
  {
   "cell_type": "code",
   "execution_count": 17,
   "metadata": {
    "ExecuteTime": {
     "end_time": "2020-08-20T14:00:47.291731Z",
     "start_time": "2020-08-20T14:00:47.103450Z"
    }
   },
   "outputs": [],
   "source": [
    "breast = datasets.load_breast_cancer()"
   ]
  },
  {
   "cell_type": "code",
   "execution_count": 18,
   "metadata": {
    "ExecuteTime": {
     "end_time": "2020-08-20T14:00:52.237175Z",
     "start_time": "2020-08-20T14:00:52.230181Z"
    }
   },
   "outputs": [
    {
     "data": {
      "text/plain": [
       "dict_keys(['data', 'target', 'frame', 'target_names', 'DESCR', 'feature_names', 'filename'])"
      ]
     },
     "execution_count": 18,
     "metadata": {},
     "output_type": "execute_result"
    }
   ],
   "source": [
    "breast.keys()"
   ]
  },
  {
   "cell_type": "code",
   "execution_count": 21,
   "metadata": {
    "ExecuteTime": {
     "end_time": "2020-08-20T14:02:11.683997Z",
     "start_time": "2020-08-20T14:02:11.668350Z"
    }
   },
   "outputs": [
    {
     "name": "stdout",
     "output_type": "stream",
     "text": [
      "Input shape: (569, 10)\n",
      "Output shape: (569,)\n"
     ]
    }
   ],
   "source": [
    "X = breast['data'][:, 0:10] # first ten features only\n",
    "y = breast['target']\n",
    "print(f'Input shape: {X.shape}')\n",
    "print(f'Output shape: {y.shape}')"
   ]
  },
  {
   "cell_type": "code",
   "execution_count": 24,
   "metadata": {
    "ExecuteTime": {
     "end_time": "2020-08-20T14:05:47.347019Z",
     "start_time": "2020-08-20T14:05:47.125107Z"
    }
   },
   "outputs": [],
   "source": [
    "X = scale(X)\n",
    "y[y == 0] = -1"
   ]
  },
  {
   "cell_type": "code",
   "execution_count": 27,
   "metadata": {
    "ExecuteTime": {
     "end_time": "2020-08-20T14:09:58.929141Z",
     "start_time": "2020-08-20T14:09:58.924140Z"
    }
   },
   "outputs": [],
   "source": [
    "# logloss summed over training examples\n",
    "def sum_log_loss(w):\n",
    "    s = 0\n",
    "    for i in range(X.shape[0]):\n",
    "        raw_model_output = np.dot(w, X[i])\n",
    "        s += log_loss(raw_model_output*y[i])\n",
    "    return s"
   ]
  },
  {
   "cell_type": "code",
   "execution_count": 37,
   "metadata": {
    "ExecuteTime": {
     "end_time": "2020-08-20T14:14:30.273744Z",
     "start_time": "2020-08-20T14:14:27.817118Z"
    }
   },
   "outputs": [
    {
     "name": "stdout",
     "output_type": "stream",
     "text": [
      "[ 1.03614078 -1.6537836   4.08309627 -9.40923928 -1.06786627  0.07893099\n",
      " -0.8511011  -2.44102825 -0.45285579  0.43353545]\n"
     ]
    }
   ],
   "source": [
    "# returns w that makes loss smallest\n",
    "w_fit = minimize(sum_log_loss, X[0]).x\n",
    "print(w_fit)"
   ]
  },
  {
   "cell_type": "code",
   "execution_count": 31,
   "metadata": {
    "ExecuteTime": {
     "end_time": "2020-08-20T14:12:16.861285Z",
     "start_time": "2020-08-20T14:12:16.461429Z"
    }
   },
   "outputs": [
    {
     "name": "stdout",
     "output_type": "stream",
     "text": [
      "[[ 1.03665946 -1.65380077  4.08233062 -9.40904867 -1.06787935  0.07901598\n",
      "  -0.85099843 -2.44107473 -0.45288928  0.43348202]]\n"
     ]
    }
   ],
   "source": [
    "# compare with sklearn's logreg\n",
    "lr = LogisticRegression(fit_intercept=False, C=1000000).fit(X, y)\n",
    "print(lr.coef_)"
   ]
  }
 ],
 "metadata": {
  "kernelspec": {
   "display_name": "tf2-gpu",
   "language": "python",
   "name": "tf2-gpu"
  },
  "language_info": {
   "codemirror_mode": {
    "name": "ipython",
    "version": 3
   },
   "file_extension": ".py",
   "mimetype": "text/x-python",
   "name": "python",
   "nbconvert_exporter": "python",
   "pygments_lexer": "ipython3",
   "version": "3.7.7"
  },
  "toc": {
   "base_numbering": 1,
   "nav_menu": {},
   "number_sections": true,
   "sideBar": true,
   "skip_h1_title": false,
   "title_cell": "Table of Contents",
   "title_sidebar": "Contents",
   "toc_cell": false,
   "toc_position": {},
   "toc_section_display": true,
   "toc_window_display": false
  }
 },
 "nbformat": 4,
 "nbformat_minor": 4
}
