{
 "cells": [
  {
   "cell_type": "code",
   "execution_count": 1,
   "metadata": {
    "ExecuteTime": {
     "end_time": "2020-09-09T15:41:34.935886Z",
     "start_time": "2020-09-09T15:41:14.105418Z"
    }
   },
   "outputs": [],
   "source": [
    "import numpy as np\n",
    "import pandas as pd\n",
    "import matplotlib.pyplot as plt\n",
    "import seaborn as sns\n",
    "sns.set()"
   ]
  },
  {
   "cell_type": "code",
   "execution_count": 6,
   "metadata": {
    "ExecuteTime": {
     "end_time": "2020-09-09T15:44:08.196410Z",
     "start_time": "2020-09-09T15:44:08.188416Z"
    }
   },
   "outputs": [
    {
     "data": {
      "text/plain": [
       "'2.1.0'"
      ]
     },
     "execution_count": 6,
     "metadata": {},
     "output_type": "execute_result"
    }
   ],
   "source": [
    "import tensorflow as tf\n",
    "from tensorflow.keras.models import Model\n",
    "from tensorflow.keras.layers import Dense, Input\n",
    "from tensorflow.keras.optimizers import Adam\n",
    "\n",
    "from sklearn.model_selection import train_test_split\n",
    "\n",
    "tf.__version__"
   ]
  },
  {
   "cell_type": "code",
   "execution_count": 3,
   "metadata": {
    "ExecuteTime": {
     "end_time": "2020-09-09T15:42:20.313584Z",
     "start_time": "2020-09-09T15:42:19.783916Z"
    }
   },
   "outputs": [],
   "source": [
    "gs = pd.read_csv('./games_season.csv')\n",
    "gt = pd.read_csv('./games_tourney.csv')\n",
    "gtp = pd.read_csv('./gt_with_preds.csv', index_col=0)"
   ]
  },
  {
   "cell_type": "markdown",
   "metadata": {},
   "source": [
    "# Two-output models"
   ]
  },
  {
   "cell_type": "markdown",
   "metadata": {},
   "source": [
    "## Simple two-output modelel"
   ]
  },
  {
   "cell_type": "code",
   "execution_count": 18,
   "metadata": {
    "ExecuteTime": {
     "end_time": "2020-09-09T15:47:11.044751Z",
     "start_time": "2020-09-09T15:47:11.004773Z"
    }
   },
   "outputs": [],
   "source": [
    "# Define the input\n",
    "input_tensor = Input(shape=(2,))\n",
    "\n",
    "# Define the output\n",
    "output_tensor = Dense(2)(input_tensor)\n",
    "\n",
    "# Create a model\n",
    "model = Model(input_tensor, output_tensor)\n",
    "\n",
    "# Compile the model\n",
    "model.compile(optimizer=Adam(0.1), \n",
    "              loss='mean_absolute_error')"
   ]
  },
  {
   "cell_type": "code",
   "execution_count": 19,
   "metadata": {
    "ExecuteTime": {
     "end_time": "2020-09-09T15:47:11.684130Z",
     "start_time": "2020-09-09T15:47:11.674136Z"
    }
   },
   "outputs": [],
   "source": [
    "gtp_train, gtp_test = train_test_split(gtp,\n",
    "                                       test_size=804,\n",
    "                                       random_state=42)"
   ]
  },
  {
   "cell_type": "markdown",
   "metadata": {},
   "source": [
    "## Fit a model with two outputs"
   ]
  },
  {
   "cell_type": "code",
   "execution_count": 20,
   "metadata": {
    "ExecuteTime": {
     "end_time": "2020-09-09T15:47:23.332576Z",
     "start_time": "2020-09-09T15:47:12.555871Z"
    }
   },
   "outputs": [
    {
     "name": "stdout",
     "output_type": "stream",
     "text": [
      "Train on 3087 samples, validate on 343 samples\n",
      "Epoch 1/200\n",
      "3087/3087 - 0s - loss: 70.9715 - val_loss: 70.6871\n",
      "Epoch 2/200\n",
      "3087/3087 - 0s - loss: 70.0178 - val_loss: 69.8862\n",
      "Epoch 3/200\n",
      "3087/3087 - 0s - loss: 69.1323 - val_loss: 69.1338\n",
      "Epoch 4/200\n",
      "3087/3087 - 0s - loss: 68.2054 - val_loss: 68.4003\n",
      "Epoch 5/200\n",
      "3087/3087 - 0s - loss: 67.3060 - val_loss: 67.5951\n",
      "Epoch 6/200\n",
      "3087/3087 - 0s - loss: 66.4285 - val_loss: 66.7906\n",
      "Epoch 7/200\n",
      "3087/3087 - 0s - loss: 65.4801 - val_loss: 66.0071\n",
      "Epoch 8/200\n",
      "3087/3087 - 0s - loss: 64.5970 - val_loss: 65.2517\n",
      "Epoch 9/200\n",
      "3087/3087 - 0s - loss: 63.8327 - val_loss: 64.5392\n",
      "Epoch 10/200\n",
      "3087/3087 - 0s - loss: 63.0583 - val_loss: 63.6623\n",
      "Epoch 11/200\n",
      "3087/3087 - 0s - loss: 62.3177 - val_loss: 62.7646\n",
      "Epoch 12/200\n",
      "3087/3087 - 0s - loss: 61.5095 - val_loss: 61.9314\n",
      "Epoch 13/200\n",
      "3087/3087 - 0s - loss: 60.7401 - val_loss: 61.0531\n",
      "Epoch 14/200\n",
      "3087/3087 - 0s - loss: 59.9703 - val_loss: 60.2072\n",
      "Epoch 15/200\n",
      "3087/3087 - 0s - loss: 59.2086 - val_loss: 59.3527\n",
      "Epoch 16/200\n",
      "3087/3087 - 0s - loss: 58.4536 - val_loss: 58.5111\n",
      "Epoch 17/200\n",
      "3087/3087 - 0s - loss: 57.6789 - val_loss: 57.6462\n",
      "Epoch 18/200\n",
      "3087/3087 - 0s - loss: 56.8971 - val_loss: 56.7875\n",
      "Epoch 19/200\n",
      "3087/3087 - 0s - loss: 56.0912 - val_loss: 56.0088\n",
      "Epoch 20/200\n",
      "3087/3087 - 0s - loss: 55.3485 - val_loss: 55.3772\n",
      "Epoch 21/200\n",
      "3087/3087 - 0s - loss: 54.6920 - val_loss: 54.6411\n",
      "Epoch 22/200\n",
      "3087/3087 - 0s - loss: 53.9576 - val_loss: 53.7886\n",
      "Epoch 23/200\n",
      "3087/3087 - 0s - loss: 53.1993 - val_loss: 52.9714\n",
      "Epoch 24/200\n",
      "3087/3087 - 0s - loss: 52.5402 - val_loss: 52.3855\n",
      "Epoch 25/200\n",
      "3087/3087 - 0s - loss: 51.8458 - val_loss: 51.6029\n",
      "Epoch 26/200\n",
      "3087/3087 - 0s - loss: 51.1073 - val_loss: 50.8279\n",
      "Epoch 27/200\n",
      "3087/3087 - 0s - loss: 50.4239 - val_loss: 50.1134\n",
      "Epoch 28/200\n",
      "3087/3087 - 0s - loss: 49.7363 - val_loss: 49.4028\n",
      "Epoch 29/200\n",
      "3087/3087 - 0s - loss: 49.0721 - val_loss: 48.7330\n",
      "Epoch 30/200\n",
      "3087/3087 - 0s - loss: 48.4667 - val_loss: 48.1677\n",
      "Epoch 31/200\n",
      "3087/3087 - 0s - loss: 47.8520 - val_loss: 47.4667\n",
      "Epoch 32/200\n",
      "3087/3087 - 0s - loss: 47.1360 - val_loss: 46.6430\n",
      "Epoch 33/200\n",
      "3087/3087 - 0s - loss: 46.5429 - val_loss: 46.0102\n",
      "Epoch 34/200\n",
      "3087/3087 - 0s - loss: 45.9081 - val_loss: 45.4075\n",
      "Epoch 35/200\n",
      "3087/3087 - 0s - loss: 45.2574 - val_loss: 44.8089\n",
      "Epoch 36/200\n",
      "3087/3087 - 0s - loss: 44.6183 - val_loss: 44.2178\n",
      "Epoch 37/200\n",
      "3087/3087 - 0s - loss: 43.9845 - val_loss: 43.5723\n",
      "Epoch 38/200\n",
      "3087/3087 - 0s - loss: 43.3881 - val_loss: 42.9528\n",
      "Epoch 39/200\n",
      "3087/3087 - 0s - loss: 42.7712 - val_loss: 42.3328\n",
      "Epoch 40/200\n",
      "3087/3087 - 0s - loss: 42.1633 - val_loss: 41.7308\n",
      "Epoch 41/200\n",
      "3087/3087 - 0s - loss: 41.5138 - val_loss: 41.1297\n",
      "Epoch 42/200\n",
      "3087/3087 - 0s - loss: 40.8765 - val_loss: 40.5395\n",
      "Epoch 43/200\n",
      "3087/3087 - 0s - loss: 40.2848 - val_loss: 39.9796\n",
      "Epoch 44/200\n",
      "3087/3087 - 0s - loss: 39.6439 - val_loss: 39.3115\n",
      "Epoch 45/200\n",
      "3087/3087 - 0s - loss: 38.9710 - val_loss: 38.6530\n",
      "Epoch 46/200\n",
      "3087/3087 - 0s - loss: 38.3864 - val_loss: 38.0402\n",
      "Epoch 47/200\n",
      "3087/3087 - 0s - loss: 37.7812 - val_loss: 37.4244\n",
      "Epoch 48/200\n",
      "3087/3087 - 0s - loss: 37.1026 - val_loss: 36.8520\n",
      "Epoch 49/200\n",
      "3087/3087 - 0s - loss: 36.5156 - val_loss: 36.2569\n",
      "Epoch 50/200\n",
      "3087/3087 - 0s - loss: 35.8991 - val_loss: 35.6265\n",
      "Epoch 51/200\n",
      "3087/3087 - 0s - loss: 35.2801 - val_loss: 35.0829\n",
      "Epoch 52/200\n",
      "3087/3087 - 0s - loss: 34.6200 - val_loss: 34.3954\n",
      "Epoch 53/200\n",
      "3087/3087 - 0s - loss: 34.0818 - val_loss: 33.7878\n",
      "Epoch 54/200\n",
      "3087/3087 - 0s - loss: 33.4000 - val_loss: 33.2076\n",
      "Epoch 55/200\n",
      "3087/3087 - 0s - loss: 32.7759 - val_loss: 32.6453\n",
      "Epoch 56/200\n",
      "3087/3087 - 0s - loss: 32.1072 - val_loss: 31.9658\n",
      "Epoch 57/200\n",
      "3087/3087 - 0s - loss: 31.5551 - val_loss: 31.3684\n",
      "Epoch 58/200\n",
      "3087/3087 - 0s - loss: 30.9632 - val_loss: 30.7668\n",
      "Epoch 59/200\n",
      "3087/3087 - 0s - loss: 30.2955 - val_loss: 30.2296\n",
      "Epoch 60/200\n",
      "3087/3087 - 0s - loss: 29.6766 - val_loss: 29.6868\n",
      "Epoch 61/200\n",
      "3087/3087 - 0s - loss: 29.0875 - val_loss: 29.0516\n",
      "Epoch 62/200\n",
      "3087/3087 - 0s - loss: 28.4223 - val_loss: 28.3783\n",
      "Epoch 63/200\n",
      "3087/3087 - 0s - loss: 27.7513 - val_loss: 27.7365\n",
      "Epoch 64/200\n",
      "3087/3087 - 0s - loss: 27.1512 - val_loss: 27.1273\n",
      "Epoch 65/200\n",
      "3087/3087 - 0s - loss: 26.5289 - val_loss: 26.4983\n",
      "Epoch 66/200\n",
      "3087/3087 - 0s - loss: 25.9123 - val_loss: 25.8971\n",
      "Epoch 67/200\n",
      "3087/3087 - 0s - loss: 25.3244 - val_loss: 25.2999\n",
      "Epoch 68/200\n",
      "3087/3087 - 0s - loss: 24.7974 - val_loss: 24.6998\n",
      "Epoch 69/200\n",
      "3087/3087 - 0s - loss: 24.1480 - val_loss: 24.1380\n",
      "Epoch 70/200\n",
      "3087/3087 - 0s - loss: 23.5412 - val_loss: 23.7033\n",
      "Epoch 71/200\n",
      "3087/3087 - 0s - loss: 23.0092 - val_loss: 23.0454\n",
      "Epoch 72/200\n",
      "3087/3087 - 0s - loss: 22.3453 - val_loss: 22.3382\n",
      "Epoch 73/200\n",
      "3087/3087 - 0s - loss: 21.7505 - val_loss: 21.7299\n",
      "Epoch 74/200\n",
      "3087/3087 - 0s - loss: 21.1806 - val_loss: 21.1378\n",
      "Epoch 75/200\n",
      "3087/3087 - 0s - loss: 20.5421 - val_loss: 20.5637\n",
      "Epoch 76/200\n",
      "3087/3087 - 0s - loss: 19.9743 - val_loss: 19.9943\n",
      "Epoch 77/200\n",
      "3087/3087 - 0s - loss: 19.4440 - val_loss: 19.4255\n",
      "Epoch 78/200\n",
      "3087/3087 - 0s - loss: 18.8828 - val_loss: 18.8650\n",
      "Epoch 79/200\n",
      "3087/3087 - 0s - loss: 18.2830 - val_loss: 18.3749\n",
      "Epoch 80/200\n",
      "3087/3087 - 0s - loss: 17.7508 - val_loss: 17.8244\n",
      "Epoch 81/200\n",
      "3087/3087 - 0s - loss: 17.2335 - val_loss: 17.2994\n",
      "Epoch 82/200\n",
      "3087/3087 - 0s - loss: 16.6960 - val_loss: 16.7999\n",
      "Epoch 83/200\n",
      "3087/3087 - 0s - loss: 16.2505 - val_loss: 16.2987\n",
      "Epoch 84/200\n",
      "3087/3087 - 0s - loss: 15.7379 - val_loss: 15.7886\n",
      "Epoch 85/200\n",
      "3087/3087 - 0s - loss: 15.2672 - val_loss: 15.3486\n",
      "Epoch 86/200\n",
      "3087/3087 - 0s - loss: 14.8231 - val_loss: 14.9437\n",
      "Epoch 87/200\n",
      "3087/3087 - 0s - loss: 14.4115 - val_loss: 14.5370\n",
      "Epoch 88/200\n",
      "3087/3087 - 0s - loss: 14.0104 - val_loss: 14.0789\n",
      "Epoch 89/200\n",
      "3087/3087 - 0s - loss: 13.6245 - val_loss: 13.7066\n",
      "Epoch 90/200\n",
      "3087/3087 - 0s - loss: 13.2808 - val_loss: 13.4190\n",
      "Epoch 91/200\n",
      "3087/3087 - 0s - loss: 12.9460 - val_loss: 13.1800\n",
      "Epoch 92/200\n",
      "3087/3087 - 0s - loss: 12.7440 - val_loss: 12.7293\n",
      "Epoch 93/200\n",
      "3087/3087 - 0s - loss: 12.3131 - val_loss: 12.4926\n",
      "Epoch 94/200\n",
      "3087/3087 - 0s - loss: 12.0700 - val_loss: 12.1993\n",
      "Epoch 95/200\n",
      "3087/3087 - 0s - loss: 11.8429 - val_loss: 11.9362\n",
      "Epoch 96/200\n",
      "3087/3087 - 0s - loss: 11.5853 - val_loss: 11.7088\n",
      "Epoch 97/200\n",
      "3087/3087 - 0s - loss: 11.3834 - val_loss: 11.5145\n",
      "Epoch 98/200\n",
      "3087/3087 - 0s - loss: 11.1674 - val_loss: 11.3091\n",
      "Epoch 99/200\n",
      "3087/3087 - 0s - loss: 11.0018 - val_loss: 11.1639\n",
      "Epoch 100/200\n",
      "3087/3087 - 0s - loss: 10.8428 - val_loss: 10.9991\n",
      "Epoch 101/200\n",
      "3087/3087 - 0s - loss: 10.7824 - val_loss: 10.7869\n",
      "Epoch 102/200\n",
      "3087/3087 - 0s - loss: 10.6193 - val_loss: 10.8711\n",
      "Epoch 103/200\n",
      "3087/3087 - 0s - loss: 10.5110 - val_loss: 10.6170\n",
      "Epoch 104/200\n",
      "3087/3087 - 0s - loss: 10.4428 - val_loss: 10.3935\n",
      "Epoch 105/200\n",
      "3087/3087 - 0s - loss: 10.2878 - val_loss: 10.4730\n",
      "Epoch 106/200\n",
      "3087/3087 - 0s - loss: 10.1527 - val_loss: 10.2313\n",
      "Epoch 107/200\n",
      "3087/3087 - 0s - loss: 10.0709 - val_loss: 10.2615\n",
      "Epoch 108/200\n",
      "3087/3087 - 0s - loss: 10.0544 - val_loss: 10.2067\n",
      "Epoch 109/200\n",
      "3087/3087 - 0s - loss: 9.9517 - val_loss: 10.1034\n",
      "Epoch 110/200\n",
      "3087/3087 - 0s - loss: 9.8829 - val_loss: 9.9479\n",
      "Epoch 111/200\n",
      "3087/3087 - 0s - loss: 9.8874 - val_loss: 9.9011\n",
      "Epoch 112/200\n",
      "3087/3087 - 0s - loss: 9.7994 - val_loss: 9.9551\n",
      "Epoch 113/200\n",
      "3087/3087 - 0s - loss: 9.7556 - val_loss: 9.7782\n",
      "Epoch 114/200\n",
      "3087/3087 - 0s - loss: 9.7027 - val_loss: 9.9175\n",
      "Epoch 115/200\n",
      "3087/3087 - 0s - loss: 9.6843 - val_loss: 9.7088\n",
      "Epoch 116/200\n",
      "3087/3087 - 0s - loss: 9.6731 - val_loss: 9.7180\n",
      "Epoch 117/200\n",
      "3087/3087 - 0s - loss: 9.6566 - val_loss: 9.8210\n",
      "Epoch 118/200\n",
      "3087/3087 - 0s - loss: 9.6257 - val_loss: 9.7294\n",
      "Epoch 119/200\n",
      "3087/3087 - 0s - loss: 9.6411 - val_loss: 9.7182\n",
      "Epoch 120/200\n",
      "3087/3087 - 0s - loss: 9.5898 - val_loss: 9.5545\n",
      "Epoch 121/200\n",
      "3087/3087 - 0s - loss: 9.5715 - val_loss: 9.7344\n",
      "Epoch 122/200\n",
      "3087/3087 - 0s - loss: 9.5938 - val_loss: 9.6054\n",
      "Epoch 123/200\n",
      "3087/3087 - 0s - loss: 9.5413 - val_loss: 9.6109\n",
      "Epoch 124/200\n",
      "3087/3087 - 0s - loss: 9.5880 - val_loss: 9.6269\n",
      "Epoch 125/200\n",
      "3087/3087 - 0s - loss: 9.6235 - val_loss: 9.4969\n",
      "Epoch 126/200\n",
      "3087/3087 - 0s - loss: 9.5400 - val_loss: 9.7072\n",
      "Epoch 127/200\n",
      "3087/3087 - 0s - loss: 9.5312 - val_loss: 9.5163\n",
      "Epoch 128/200\n",
      "3087/3087 - 0s - loss: 9.4970 - val_loss: 9.5054\n"
     ]
    },
    {
     "name": "stdout",
     "output_type": "stream",
     "text": [
      "Epoch 129/200\n",
      "3087/3087 - 0s - loss: 9.5527 - val_loss: 9.6096\n",
      "Epoch 130/200\n",
      "3087/3087 - 0s - loss: 9.5096 - val_loss: 9.4766\n",
      "Epoch 131/200\n",
      "3087/3087 - 0s - loss: 9.5585 - val_loss: 9.6409\n",
      "Epoch 132/200\n",
      "3087/3087 - 0s - loss: 9.4964 - val_loss: 9.4798\n",
      "Epoch 133/200\n",
      "3087/3087 - 0s - loss: 9.5000 - val_loss: 9.4806\n",
      "Epoch 134/200\n",
      "3087/3087 - 0s - loss: 9.4730 - val_loss: 9.5372\n",
      "Epoch 135/200\n",
      "3087/3087 - 0s - loss: 9.4677 - val_loss: 9.4703\n",
      "Epoch 136/200\n",
      "3087/3087 - 0s - loss: 9.4714 - val_loss: 9.4789\n",
      "Epoch 137/200\n",
      "3087/3087 - 0s - loss: 9.4693 - val_loss: 9.5490\n",
      "Epoch 138/200\n",
      "3087/3087 - 0s - loss: 9.4641 - val_loss: 9.4523\n",
      "Epoch 139/200\n",
      "3087/3087 - 0s - loss: 9.4865 - val_loss: 9.7107\n",
      "Epoch 140/200\n",
      "3087/3087 - 0s - loss: 9.5488 - val_loss: 9.4596\n",
      "Epoch 141/200\n",
      "3087/3087 - 0s - loss: 9.4709 - val_loss: 9.4056\n",
      "Epoch 142/200\n",
      "3087/3087 - 0s - loss: 9.4723 - val_loss: 9.5621\n",
      "Epoch 143/200\n",
      "3087/3087 - 0s - loss: 9.4877 - val_loss: 9.4763\n",
      "Epoch 144/200\n",
      "3087/3087 - 0s - loss: 9.5121 - val_loss: 9.4115\n",
      "Epoch 145/200\n",
      "3087/3087 - 0s - loss: 9.4811 - val_loss: 9.5643\n",
      "Epoch 146/200\n",
      "3087/3087 - 0s - loss: 9.4980 - val_loss: 9.3866\n",
      "Epoch 147/200\n",
      "3087/3087 - 0s - loss: 9.5530 - val_loss: 9.3703\n",
      "Epoch 148/200\n",
      "3087/3087 - 0s - loss: 9.4656 - val_loss: 9.6708\n",
      "Epoch 149/200\n",
      "3087/3087 - 0s - loss: 9.5398 - val_loss: 9.4917\n",
      "Epoch 150/200\n",
      "3087/3087 - 0s - loss: 9.4870 - val_loss: 9.4167\n",
      "Epoch 151/200\n",
      "3087/3087 - 0s - loss: 9.4602 - val_loss: 9.4350\n",
      "Epoch 152/200\n",
      "3087/3087 - 0s - loss: 9.4550 - val_loss: 9.5649\n",
      "Epoch 153/200\n",
      "3087/3087 - 0s - loss: 9.5177 - val_loss: 9.5163\n",
      "Epoch 154/200\n",
      "3087/3087 - 0s - loss: 9.4573 - val_loss: 9.3927\n",
      "Epoch 155/200\n",
      "3087/3087 - 0s - loss: 9.4616 - val_loss: 9.5724\n",
      "Epoch 156/200\n",
      "3087/3087 - 0s - loss: 9.4618 - val_loss: 9.4641\n",
      "Epoch 157/200\n",
      "3087/3087 - 0s - loss: 9.4619 - val_loss: 9.4873\n",
      "Epoch 158/200\n",
      "3087/3087 - 0s - loss: 9.4993 - val_loss: 9.4210\n",
      "Epoch 159/200\n",
      "3087/3087 - 0s - loss: 9.4741 - val_loss: 9.4378\n",
      "Epoch 160/200\n",
      "3087/3087 - 0s - loss: 9.4881 - val_loss: 9.4503\n",
      "Epoch 161/200\n",
      "3087/3087 - 0s - loss: 9.4720 - val_loss: 9.4534\n",
      "Epoch 162/200\n",
      "3087/3087 - 0s - loss: 9.4619 - val_loss: 9.3834\n",
      "Epoch 163/200\n",
      "3087/3087 - 0s - loss: 9.4972 - val_loss: 9.3635\n",
      "Epoch 164/200\n",
      "3087/3087 - 0s - loss: 9.4626 - val_loss: 9.4491\n",
      "Epoch 165/200\n",
      "3087/3087 - 0s - loss: 9.4658 - val_loss: 9.4193\n",
      "Epoch 166/200\n",
      "3087/3087 - 0s - loss: 9.5017 - val_loss: 9.3666\n",
      "Epoch 167/200\n",
      "3087/3087 - 0s - loss: 9.4658 - val_loss: 9.5432\n",
      "Epoch 168/200\n",
      "3087/3087 - 0s - loss: 9.6290 - val_loss: 9.5164\n",
      "Epoch 169/200\n",
      "3087/3087 - 0s - loss: 9.5072 - val_loss: 9.3822\n",
      "Epoch 170/200\n",
      "3087/3087 - 0s - loss: 9.5201 - val_loss: 9.4928\n",
      "Epoch 171/200\n",
      "3087/3087 - 0s - loss: 9.4733 - val_loss: 9.5520\n",
      "Epoch 172/200\n",
      "3087/3087 - 0s - loss: 9.5061 - val_loss: 9.5639\n",
      "Epoch 173/200\n",
      "3087/3087 - 0s - loss: 9.5308 - val_loss: 9.4283\n",
      "Epoch 174/200\n",
      "3087/3087 - 0s - loss: 9.5721 - val_loss: 9.3627\n",
      "Epoch 175/200\n",
      "3087/3087 - 0s - loss: 9.4872 - val_loss: 9.5767\n",
      "Epoch 176/200\n",
      "3087/3087 - 0s - loss: 9.5103 - val_loss: 9.4006\n",
      "Epoch 177/200\n",
      "3087/3087 - 0s - loss: 9.4986 - val_loss: 9.3521\n",
      "Epoch 178/200\n",
      "3087/3087 - 0s - loss: 9.4930 - val_loss: 9.4148\n",
      "Epoch 179/200\n",
      "3087/3087 - 0s - loss: 9.4686 - val_loss: 9.4097\n",
      "Epoch 180/200\n",
      "3087/3087 - 0s - loss: 9.4708 - val_loss: 9.4912\n",
      "Epoch 181/200\n",
      "3087/3087 - 0s - loss: 9.4592 - val_loss: 9.4119\n",
      "Epoch 182/200\n",
      "3087/3087 - 0s - loss: 9.4864 - val_loss: 9.3995\n",
      "Epoch 183/200\n",
      "3087/3087 - 0s - loss: 9.4769 - val_loss: 9.5362\n",
      "Epoch 184/200\n",
      "3087/3087 - 0s - loss: 9.4966 - val_loss: 9.4673\n",
      "Epoch 185/200\n",
      "3087/3087 - 0s - loss: 9.4566 - val_loss: 9.4024\n",
      "Epoch 186/200\n",
      "3087/3087 - 0s - loss: 9.4518 - val_loss: 9.4460\n",
      "Epoch 187/200\n",
      "3087/3087 - 0s - loss: 9.4533 - val_loss: 9.4186\n",
      "Epoch 188/200\n",
      "3087/3087 - 0s - loss: 9.4534 - val_loss: 9.3867\n",
      "Epoch 189/200\n",
      "3087/3087 - 0s - loss: 9.4558 - val_loss: 9.4525\n",
      "Epoch 190/200\n",
      "3087/3087 - 0s - loss: 9.5035 - val_loss: 9.3545\n",
      "Epoch 191/200\n",
      "3087/3087 - 0s - loss: 9.5121 - val_loss: 9.4824\n",
      "Epoch 192/200\n",
      "3087/3087 - 0s - loss: 9.5194 - val_loss: 9.5371\n",
      "Epoch 193/200\n",
      "3087/3087 - 0s - loss: 9.4914 - val_loss: 9.3522\n",
      "Epoch 194/200\n",
      "3087/3087 - 0s - loss: 9.5044 - val_loss: 9.4600\n",
      "Epoch 195/200\n",
      "3087/3087 - 0s - loss: 9.5007 - val_loss: 9.5849\n",
      "Epoch 196/200\n",
      "3087/3087 - 0s - loss: 9.4656 - val_loss: 9.3710\n",
      "Epoch 197/200\n",
      "3087/3087 - 0s - loss: 9.4522 - val_loss: 9.5643\n",
      "Epoch 198/200\n",
      "3087/3087 - 0s - loss: 9.6838 - val_loss: 9.5834\n",
      "Epoch 199/200\n",
      "3087/3087 - 0s - loss: 9.5078 - val_loss: 9.3890\n",
      "Epoch 200/200\n",
      "3087/3087 - 0s - loss: 9.5405 - val_loss: 9.6822\n"
     ]
    },
    {
     "data": {
      "text/plain": [
       "<tensorflow.python.keras.callbacks.History at 0x23672a18a08>"
      ]
     },
     "execution_count": 20,
     "metadata": {},
     "output_type": "execute_result"
    }
   ],
   "source": [
    "# Fit the model\n",
    "model.fit(gtp_train[['seed_diff', 'pred']],\n",
    "          gtp_train[['score_1', 'score_2']],\n",
    "          verbose=2,\n",
    "          epochs=200,\n",
    "          validation_split=0.1,\n",
    "          batch_size=512)"
   ]
  },
  {
   "cell_type": "markdown",
   "metadata": {},
   "source": [
    "## Inspect the model (I)"
   ]
  },
  {
   "cell_type": "code",
   "execution_count": 21,
   "metadata": {
    "ExecuteTime": {
     "end_time": "2020-09-09T15:47:26.666947Z",
     "start_time": "2020-09-09T15:47:26.654936Z"
    }
   },
   "outputs": [
    {
     "name": "stdout",
     "output_type": "stream",
     "text": [
      "[array([[ 0.3982789 , -0.26336065],\n",
      "       [ 0.45886707, -0.2672135 ]], dtype=float32), array([70.363205, 70.00916 ], dtype=float32)]\n",
      "season        2001.399125\n",
      "team_1        5594.013994\n",
      "team_2        5616.369971\n",
      "home             0.000000\n",
      "seed_diff        0.055977\n",
      "score_diff      -0.060058\n",
      "score_1         70.949563\n",
      "score_2         71.009621\n",
      "won              0.500583\n",
      "pred            -0.520903\n",
      "dtype: float64\n"
     ]
    }
   ],
   "source": [
    "# Print the model's weights\n",
    "print(model.get_weights())\n",
    "\n",
    "# Print the column means of the training data\n",
    "print(gtp_train.mean())"
   ]
  },
  {
   "cell_type": "markdown",
   "metadata": {},
   "source": [
    "Did you notice that both output weights are about ~70? This is because, on average, a team will score about 71 points in the tournament."
   ]
  },
  {
   "cell_type": "markdown",
   "metadata": {},
   "source": [
    "## Evaluate the model"
   ]
  },
  {
   "cell_type": "code",
   "execution_count": 22,
   "metadata": {
    "ExecuteTime": {
     "end_time": "2020-09-09T15:49:34.932180Z",
     "start_time": "2020-09-09T15:49:34.432313Z"
    }
   },
   "outputs": [
    {
     "name": "stdout",
     "output_type": "stream",
     "text": [
      "9.580990988223707\n"
     ]
    }
   ],
   "source": [
    "# Evaluate the model on the tournament test data\n",
    "print(model.evaluate(gtp_test[['seed_diff', 'pred']], gtp_test[['score_1', 'score_2']], verbose=0))"
   ]
  },
  {
   "cell_type": "markdown",
   "metadata": {},
   "source": [
    "# Single model for classification and regression"
   ]
  },
  {
   "cell_type": "markdown",
   "metadata": {},
   "source": [
    "## Classification and regression in one model"
   ]
  },
  {
   "cell_type": "code",
   "execution_count": 23,
   "metadata": {
    "ExecuteTime": {
     "end_time": "2020-09-09T15:54:52.252652Z",
     "start_time": "2020-09-09T15:54:51.941581Z"
    }
   },
   "outputs": [],
   "source": [
    "# Create an input layer with 2 columns\n",
    "input_tensor = Input(shape=(2,))\n",
    "\n",
    "# Create the first output\n",
    "output_tensor_1 = Dense(1, activation='linear', use_bias=False)(input_tensor)\n",
    "\n",
    "# Create the second output (use the first output as input here)\n",
    "output_tensor_2 = Dense(1, activation='sigmoid', use_bias=False)(output_tensor_1)\n",
    "\n",
    "# Create a model with 2 outputs\n",
    "model = Model(input_tensor, [output_tensor_1, output_tensor_2])"
   ]
  },
  {
   "cell_type": "markdown",
   "metadata": {},
   "source": [
    "## Compile and fit model"
   ]
  },
  {
   "cell_type": "code",
   "execution_count": 25,
   "metadata": {
    "ExecuteTime": {
     "end_time": "2020-09-09T15:57:38.731876Z",
     "start_time": "2020-09-09T15:57:36.978429Z"
    }
   },
   "outputs": [
    {
     "name": "stdout",
     "output_type": "stream",
     "text": [
      "Train on 3430 samples\n",
      "Epoch 1/10\n",
      "3430/3430 [==============================] - 1s 182us/sample - loss: 12.2002 - dense_4_loss: 11.5155 - dense_5_loss: 0.6879\n",
      "Epoch 2/10\n",
      "3430/3430 [==============================] - 0s 17us/sample - loss: 11.6407 - dense_4_loss: 10.9321 - dense_5_loss: 0.6628\n",
      "Epoch 3/10\n",
      "3430/3430 [==============================] - 0s 14us/sample - loss: 11.1067 - dense_4_loss: 10.4690 - dense_5_loss: 0.6203\n",
      "Epoch 4/10\n",
      "3430/3430 [==============================] - 0s 15us/sample - loss: 10.6634 - dense_4_loss: 10.0656 - dense_5_loss: 0.5916\n",
      "Epoch 5/10\n",
      "3430/3430 [==============================] - 0s 15us/sample - loss: 10.3275 - dense_4_loss: 9.7190 - dense_5_loss: 0.5797\n",
      "Epoch 6/10\n",
      "3430/3430 [==============================] - 0s 13us/sample - loss: 10.0795 - dense_4_loss: 9.4993 - dense_5_loss: 0.5719\n",
      "Epoch 7/10\n",
      "3430/3430 [==============================] - 0s 16us/sample - loss: 9.9014 - dense_4_loss: 9.3303 - dense_5_loss: 0.5611\n",
      "Epoch 8/10\n",
      "3430/3430 [==============================] - 0s 15us/sample - loss: 9.7940 - dense_4_loss: 9.2372 - dense_5_loss: 0.5568\n",
      "Epoch 9/10\n",
      "3430/3430 [==============================] - 0s 15us/sample - loss: 9.7339 - dense_4_loss: 9.1841 - dense_5_loss: 0.5552\n",
      "Epoch 10/10\n",
      "3430/3430 [==============================] - 0s 15us/sample - loss: 9.6924 - dense_4_loss: 9.1220 - dense_5_loss: 0.5525\n"
     ]
    },
    {
     "data": {
      "text/plain": [
       "<tensorflow.python.keras.callbacks.History at 0x23672ea95c8>"
      ]
     },
     "execution_count": 25,
     "metadata": {},
     "output_type": "execute_result"
    }
   ],
   "source": [
    "# Compile the model with 2 losses and the Adam optimzer with a higher learning rate\n",
    "model.compile(loss=['mae', 'binary_crossentropy'], \n",
    "              optimizer=Adam(0.01))\n",
    "\n",
    "# Fit the model to the tournament training data, with 2 inputs and 2 outputs\n",
    "model.fit(gtp_train[['seed_diff', 'pred']],\n",
    "          [gtp_train[['score_diff']], gtp_train[['won']]],\n",
    "          epochs=10,\n",
    "          verbose=True,\n",
    "          batch_size=512)"
   ]
  },
  {
   "cell_type": "markdown",
   "metadata": {},
   "source": [
    "# Inspect the model (II)"
   ]
  },
  {
   "cell_type": "code",
   "execution_count": 27,
   "metadata": {
    "ExecuteTime": {
     "end_time": "2020-09-09T15:58:31.536409Z",
     "start_time": "2020-09-09T15:58:31.525420Z"
    }
   },
   "outputs": [
    {
     "name": "stdout",
     "output_type": "stream",
     "text": [
      "[array([[ 1.2319022 ],\n",
      "       [-0.03137206]], dtype=float32), array([[0.13757046]], dtype=float32)]\n",
      "season        2001.399125\n",
      "team_1        5594.013994\n",
      "team_2        5616.369971\n",
      "home             0.000000\n",
      "seed_diff        0.055977\n",
      "score_diff      -0.060058\n",
      "score_1         70.949563\n",
      "score_2         71.009621\n",
      "won              0.500583\n",
      "pred            -0.520903\n",
      "dtype: float64\n"
     ]
    }
   ],
   "source": [
    "# Print the model weights\n",
    "print(model.get_weights())\n",
    "\n",
    "# Print the training data means\n",
    "print(gtp_train.mean())"
   ]
  },
  {
   "cell_type": "code",
   "execution_count": 28,
   "metadata": {
    "ExecuteTime": {
     "end_time": "2020-09-09T15:59:37.854063Z",
     "start_time": "2020-09-09T15:59:37.762116Z"
    }
   },
   "outputs": [
    {
     "name": "stdout",
     "output_type": "stream",
     "text": [
      "0.5343384756301519\n",
      "0.7983002541345398\n"
     ]
    }
   ],
   "source": [
    "# Import the sigmoid function from scipy\n",
    "from scipy.special import expit as sigmoid\n",
    "\n",
    "# Weight from the model\n",
    "weight = 0.13757046\n",
    "\n",
    "# Print the approximate win probability predicted close game\n",
    "print(sigmoid(1 * weight))\n",
    "\n",
    "# Print the approximate win probability predicted blowout game\n",
    "print(sigmoid(10 * weight))"
   ]
  },
  {
   "cell_type": "markdown",
   "metadata": {},
   "source": [
    "## Evaluate on new data with two metrics"
   ]
  },
  {
   "cell_type": "code",
   "execution_count": 29,
   "metadata": {
    "ExecuteTime": {
     "end_time": "2020-09-09T16:03:01.009665Z",
     "start_time": "2020-09-09T16:03:00.506789Z"
    }
   },
   "outputs": [
    {
     "name": "stdout",
     "output_type": "stream",
     "text": [
      "[9.948081135156736, 9.355737, 0.5649692]\n"
     ]
    }
   ],
   "source": [
    "# Evaluate the model on new data\n",
    "print(model.evaluate(gtp_test[['seed_diff', 'pred']],\n",
    "               [gtp_test[['score_diff']], gtp_test[['won']]], verbose=False))"
   ]
  }
 ],
 "metadata": {
  "kernelspec": {
   "display_name": "tf2-gpu",
   "language": "python",
   "name": "tf2-gpu"
  },
  "language_info": {
   "codemirror_mode": {
    "name": "ipython",
    "version": 3
   },
   "file_extension": ".py",
   "mimetype": "text/x-python",
   "name": "python",
   "nbconvert_exporter": "python",
   "pygments_lexer": "ipython3",
   "version": "3.7.7"
  },
  "toc": {
   "base_numbering": 1,
   "nav_menu": {},
   "number_sections": true,
   "sideBar": true,
   "skip_h1_title": false,
   "title_cell": "Table of Contents",
   "title_sidebar": "Contents",
   "toc_cell": false,
   "toc_position": {},
   "toc_section_display": true,
   "toc_window_display": false
  }
 },
 "nbformat": 4,
 "nbformat_minor": 4
}
