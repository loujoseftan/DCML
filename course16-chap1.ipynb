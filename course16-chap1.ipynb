{
 "cells": [
  {
   "cell_type": "code",
   "execution_count": 1,
   "metadata": {
    "ExecuteTime": {
     "end_time": "2020-09-07T08:41:24.286468Z",
     "start_time": "2020-09-07T08:41:02.321180Z"
    }
   },
   "outputs": [],
   "source": [
    "import numpy as np\n",
    "import pandas as pd \n",
    "import matplotlib.pyplot as plt\n",
    "import seaborn as sns\n",
    "sns.set()"
   ]
  },
  {
   "cell_type": "code",
   "execution_count": 4,
   "metadata": {
    "ExecuteTime": {
     "end_time": "2020-09-07T09:02:46.391840Z",
     "start_time": "2020-09-07T09:02:46.322883Z"
    }
   },
   "outputs": [
    {
     "data": {
      "text/plain": [
       "'2.1.0'"
      ]
     },
     "execution_count": 4,
     "metadata": {},
     "output_type": "execute_result"
    }
   ],
   "source": [
    "import tensorflow as tf\n",
    "from tensorflow.keras.models import Sequential\n",
    "from tensorflow.keras.layers import Dense\n",
    "\n",
    "tf.__version__"
   ]
  },
  {
   "cell_type": "code",
   "execution_count": 3,
   "metadata": {
    "ExecuteTime": {
     "end_time": "2020-09-07T08:42:13.015374Z",
     "start_time": "2020-09-07T08:42:12.645735Z"
    }
   },
   "outputs": [],
   "source": [
    "# datasets\n",
    "orbit = pd.read_csv('./orbit.csv')"
   ]
  },
  {
   "cell_type": "markdown",
   "metadata": {},
   "source": [
    "# Introducing `keras`"
   ]
  },
  {
   "cell_type": "markdown",
   "metadata": {},
   "source": [
    "# Your first neural network"
   ]
  },
  {
   "cell_type": "markdown",
   "metadata": {},
   "source": [
    "## Hello nets!"
   ]
  },
  {
   "cell_type": "code",
   "execution_count": 5,
   "metadata": {
    "ExecuteTime": {
     "end_time": "2020-09-07T09:03:41.247001Z",
     "start_time": "2020-09-07T09:02:57.983640Z"
    }
   },
   "outputs": [
    {
     "name": "stdout",
     "output_type": "stream",
     "text": [
      "Model: \"sequential\"\n",
      "_________________________________________________________________\n",
      "Layer (type)                 Output Shape              Param #   \n",
      "=================================================================\n",
      "dense (Dense)                (None, 10)                30        \n",
      "_________________________________________________________________\n",
      "dense_1 (Dense)              (None, 1)                 11        \n",
      "=================================================================\n",
      "Total params: 41\n",
      "Trainable params: 41\n",
      "Non-trainable params: 0\n",
      "_________________________________________________________________\n"
     ]
    }
   ],
   "source": [
    "# Create a Sequential model\n",
    "model = Sequential()\n",
    "\n",
    "# Add an input layer and a hidden layer with 10 neurons\n",
    "model.add(Dense(10, input_shape=(2,), activation=\"relu\"))\n",
    "\n",
    "# Add a 1-neuron output layer\n",
    "model.add(Dense(1))\n",
    "\n",
    "# Summarise your model\n",
    "model.summary()"
   ]
  },
  {
   "cell_type": "markdown",
   "metadata": {},
   "source": [
    "## Counting parameters"
   ]
  },
  {
   "cell_type": "code",
   "execution_count": 8,
   "metadata": {
    "ExecuteTime": {
     "end_time": "2020-09-07T09:08:20.687379Z",
     "start_time": "2020-09-07T09:08:20.375846Z"
    }
   },
   "outputs": [
    {
     "name": "stdout",
     "output_type": "stream",
     "text": [
      "Model: \"sequential_3\"\n",
      "_________________________________________________________________\n",
      "Layer (type)                 Output Shape              Param #   \n",
      "=================================================================\n",
      "dense_6 (Dense)              (None, 5)                 20        \n",
      "_________________________________________________________________\n",
      "dense_7 (Dense)              (None, 1)                 6         \n",
      "=================================================================\n",
      "Total params: 26\n",
      "Trainable params: 26\n",
      "Non-trainable params: 0\n",
      "_________________________________________________________________\n"
     ]
    }
   ],
   "source": [
    "# Instantiate a new Sequential model\n",
    "model = Sequential()\n",
    "\n",
    "# Add a Dense layer with five neurons and three inputs\n",
    "model.add(Dense(5, input_shape=(3,), activation=\"relu\"))\n",
    "\n",
    "# Add a final Dense layer with one neuron and no activation\n",
    "model.add(Dense(1))\n",
    "\n",
    "# Summarize your model\n",
    "model.summary()"
   ]
  },
  {
   "cell_type": "markdown",
   "metadata": {},
   "source": [
    "## Build as shown"
   ]
  },
  {
   "cell_type": "code",
   "execution_count": 10,
   "metadata": {
    "ExecuteTime": {
     "end_time": "2020-09-07T09:08:28.164440Z",
     "start_time": "2020-09-07T09:08:28.120452Z"
    }
   },
   "outputs": [
    {
     "name": "stdout",
     "output_type": "stream",
     "text": [
      "Model: \"sequential_5\"\n",
      "_________________________________________________________________\n",
      "Layer (type)                 Output Shape              Param #   \n",
      "=================================================================\n",
      "dense_10 (Dense)             (None, 3)                 9         \n",
      "_________________________________________________________________\n",
      "dense_11 (Dense)             (None, 1)                 4         \n",
      "=================================================================\n",
      "Total params: 13\n",
      "Trainable params: 13\n",
      "Non-trainable params: 0\n",
      "_________________________________________________________________\n"
     ]
    }
   ],
   "source": [
    "# Instantiate a Sequential model\n",
    "model = Sequential()\n",
    "\n",
    "# Build the input and hidden layer\n",
    "model.add(Dense(3, input_shape=(2,)))\n",
    "\n",
    "# Add the ouput layer\n",
    "model.add(Dense(1))\n",
    "\n",
    "model.summary()"
   ]
  },
  {
   "cell_type": "markdown",
   "metadata": {},
   "source": [
    "# Surviving a meteor strike"
   ]
  },
  {
   "cell_type": "code",
   "execution_count": 12,
   "metadata": {
    "ExecuteTime": {
     "end_time": "2020-09-07T09:49:43.343491Z",
     "start_time": "2020-09-07T09:49:43.332496Z"
    }
   },
   "outputs": [
    {
     "name": "stdout",
     "output_type": "stream",
     "text": [
      "(2000, 2)\n"
     ]
    },
    {
     "data": {
      "text/html": [
       "<div>\n",
       "<style scoped>\n",
       "    .dataframe tbody tr th:only-of-type {\n",
       "        vertical-align: middle;\n",
       "    }\n",
       "\n",
       "    .dataframe tbody tr th {\n",
       "        vertical-align: top;\n",
       "    }\n",
       "\n",
       "    .dataframe thead th {\n",
       "        text-align: right;\n",
       "    }\n",
       "</style>\n",
       "<table border=\"1\" class=\"dataframe\">\n",
       "  <thead>\n",
       "    <tr style=\"text-align: right;\">\n",
       "      <th></th>\n",
       "      <th>time_steps</th>\n",
       "      <th>y</th>\n",
       "    </tr>\n",
       "  </thead>\n",
       "  <tbody>\n",
       "    <tr>\n",
       "      <th>0</th>\n",
       "      <td>-10.000000</td>\n",
       "      <td>100.000000</td>\n",
       "    </tr>\n",
       "    <tr>\n",
       "      <th>1</th>\n",
       "      <td>-9.989995</td>\n",
       "      <td>99.800000</td>\n",
       "    </tr>\n",
       "    <tr>\n",
       "      <th>2</th>\n",
       "      <td>-9.979990</td>\n",
       "      <td>99.600200</td>\n",
       "    </tr>\n",
       "    <tr>\n",
       "      <th>3</th>\n",
       "      <td>-9.969985</td>\n",
       "      <td>99.400601</td>\n",
       "    </tr>\n",
       "    <tr>\n",
       "      <th>4</th>\n",
       "      <td>-9.959980</td>\n",
       "      <td>99.201201</td>\n",
       "    </tr>\n",
       "  </tbody>\n",
       "</table>\n",
       "</div>"
      ],
      "text/plain": [
       "   time_steps           y\n",
       "0  -10.000000  100.000000\n",
       "1   -9.989995   99.800000\n",
       "2   -9.979990   99.600200\n",
       "3   -9.969985   99.400601\n",
       "4   -9.959980   99.201201"
      ]
     },
     "execution_count": 12,
     "metadata": {},
     "output_type": "execute_result"
    }
   ],
   "source": [
    "print(orbit.shape)\n",
    "orbit.head()"
   ]
  },
  {
   "cell_type": "code",
   "execution_count": 13,
   "metadata": {
    "ExecuteTime": {
     "end_time": "2020-09-07T09:50:55.024155Z",
     "start_time": "2020-09-07T09:50:55.008145Z"
    }
   },
   "outputs": [],
   "source": [
    "time_steps = orbit['time_steps'].to_numpy(np.float32)\n",
    "y = orbit['y'].to_numpy(np.float32)"
   ]
  },
  {
   "cell_type": "markdown",
   "metadata": {},
   "source": [
    "## Specifying a model"
   ]
  },
  {
   "cell_type": "code",
   "execution_count": 16,
   "metadata": {
    "ExecuteTime": {
     "end_time": "2020-09-07T09:52:33.356887Z",
     "start_time": "2020-09-07T09:52:31.138176Z"
    }
   },
   "outputs": [],
   "source": [
    "# Instantiate a Sequential model\n",
    "model = Sequential()\n",
    "\n",
    "# Add a Dense layer with 50 neurons and an input of 1 neuron\n",
    "model.add(Dense(50, input_shape=(1,), activation='relu'))\n",
    "\n",
    "# Add two Dense layers with 50 neurons and relu activation\n",
    "model.add(Dense(50, activation='relu'))\n",
    "model.add(Dense(50, activation='relu'))\n",
    "\n",
    "# End your model with a Dense layer and no activation\n",
    "model.add(Dense(1))"
   ]
  },
  {
   "cell_type": "markdown",
   "metadata": {},
   "source": [
    "## Training"
   ]
  },
  {
   "cell_type": "code",
   "execution_count": 18,
   "metadata": {
    "ExecuteTime": {
     "end_time": "2020-09-07T09:55:08.991141Z",
     "start_time": "2020-09-07T09:54:50.054091Z"
    }
   },
   "outputs": [
    {
     "name": "stdout",
     "output_type": "stream",
     "text": [
      "Training started..., this can take a while:\n",
      "Train on 2000 samples\n",
      "Epoch 1/30\n",
      "2000/2000 [==============================] - 7s 4ms/sample - loss: 1529.6180\n",
      "Epoch 2/30\n",
      "2000/2000 [==============================] - 0s 171us/sample - loss: 252.4443\n",
      "Epoch 3/30\n",
      "2000/2000 [==============================] - 0s 177us/sample - loss: 140.1336\n",
      "Epoch 4/30\n",
      "2000/2000 [==============================] - 0s 175us/sample - loss: 122.1196\n",
      "Epoch 5/30\n",
      "2000/2000 [==============================] - 0s 170us/sample - loss: 99.6430\n",
      "Epoch 6/30\n",
      "2000/2000 [==============================] - 0s 179us/sample - loss: 75.3338\n",
      "Epoch 7/30\n",
      "2000/2000 [==============================] - 0s 181us/sample - loss: 52.7742\n",
      "Epoch 8/30\n",
      "2000/2000 [==============================] - 0s 170us/sample - loss: 33.5034\n",
      "Epoch 9/30\n",
      "2000/2000 [==============================] - 0s 173us/sample - loss: 20.3797\n",
      "Epoch 10/30\n",
      "2000/2000 [==============================] - 0s 180us/sample - loss: 13.1418\n",
      "Epoch 11/30\n",
      "2000/2000 [==============================] - 0s 181us/sample - loss: 8.0459\n",
      "Epoch 12/30\n",
      "2000/2000 [==============================] - 0s 182us/sample - loss: 5.7136\n",
      "Epoch 13/30\n",
      "2000/2000 [==============================] - 0s 185us/sample - loss: 3.6333\n",
      "Epoch 14/30\n",
      "2000/2000 [==============================] - 0s 173us/sample - loss: 2.8007\n",
      "Epoch 15/30\n",
      "2000/2000 [==============================] - 0s 201us/sample - loss: 2.1230\n",
      "Epoch 16/30\n",
      "2000/2000 [==============================] - 0s 198us/sample - loss: 1.6817\n",
      "Epoch 17/30\n",
      "2000/2000 [==============================] - 0s 192us/sample - loss: 1.3847\n",
      "Epoch 18/30\n",
      "2000/2000 [==============================] - 0s 171us/sample - loss: 0.9404\n",
      "Epoch 19/30\n",
      "2000/2000 [==============================] - 0s 183us/sample - loss: 0.7723\n",
      "Epoch 20/30\n",
      "2000/2000 [==============================] - 0s 169us/sample - loss: 0.6832\n",
      "Epoch 21/30\n",
      "2000/2000 [==============================] - 0s 181us/sample - loss: 0.5279\n",
      "Epoch 22/30\n",
      "2000/2000 [==============================] - 0s 181us/sample - loss: 0.4225\n",
      "Epoch 23/30\n",
      "2000/2000 [==============================] - 0s 169us/sample - loss: 0.3800\n",
      "Epoch 24/30\n",
      "2000/2000 [==============================] - 0s 178us/sample - loss: 0.3401\n",
      "Epoch 25/30\n",
      "2000/2000 [==============================] - 0s 179us/sample - loss: 0.3163\n",
      "Epoch 26/30\n",
      "2000/2000 [==============================] - 0s 185us/sample - loss: 0.2758\n",
      "Epoch 27/30\n",
      "2000/2000 [==============================] - 0s 173us/sample - loss: 0.2867\n",
      "Epoch 28/30\n",
      "2000/2000 [==============================] - 0s 175us/sample - loss: 0.2727\n",
      "Epoch 29/30\n",
      "2000/2000 [==============================] - 0s 172us/sample - loss: 0.2107\n",
      "Epoch 30/30\n",
      "2000/2000 [==============================] - 0s 184us/sample - loss: 0.1415\n",
      "2000/2000 [==============================] - 0s 131us/sample - loss: 0.1606\n",
      "Final loss value: 0.16056422875728457\n"
     ]
    }
   ],
   "source": [
    "# Compile your model\n",
    "model.compile(optimizer = 'adam', loss = 'mse')\n",
    "\n",
    "print(\"Training started..., this can take a while:\")\n",
    "\n",
    "# Fit your model on your data for 30 epochs\n",
    "model.fit(time_steps,y, epochs = 30)\n",
    "\n",
    "# Evaluate your model \n",
    "print(\"Final loss value:\",model.evaluate(time_steps, y))"
   ]
  },
  {
   "cell_type": "markdown",
   "metadata": {},
   "source": [
    "## Predicting the orbit!"
   ]
  },
  {
   "cell_type": "code",
   "execution_count": 19,
   "metadata": {
    "ExecuteTime": {
     "end_time": "2020-09-07T09:57:34.944909Z",
     "start_time": "2020-09-07T09:57:34.898736Z"
    }
   },
   "outputs": [],
   "source": [
    "def plot_orbit(model_preds):\n",
    "    axeslim = int(len(model_preds)/2)\n",
    "    plt.plot(np.arange(-axeslim, axeslim + 1),np.arange(-axeslim, axeslim + 1)**2,color=\"mediumslateblue\")\n",
    "    plt.plot(np.arange(-axeslim, axeslim + 1),model_preds,color=\"orange\")\n",
    "    plt.axis([-40, 41, -5, 550])\n",
    "    plt.legend([\"Scientist's Orbit\", 'Your orbit'],loc=\"lower left\")\n",
    "    plt.title(\"Predicted orbit vs Scientist's Orbit\")\n",
    "    plt.show()"
   ]
  },
  {
   "cell_type": "code",
   "execution_count": 20,
   "metadata": {
    "ExecuteTime": {
     "end_time": "2020-09-07T09:58:38.230916Z",
     "start_time": "2020-09-07T09:58:34.432661Z"
    }
   },
   "outputs": [
    {
     "data": {
      "image/png": "[encoded data removed]",
      "text/plain": [
       "<Figure size 432x288 with 1 Axes>"
      ]
     },
     "metadata": {},
     "output_type": "display_data"
    }
   ],
   "source": [
    "twenty_min_orbit = model.predict(np.arange(-10, 11))\n",
    "plot_orbit(twenty_min_orbit)"
   ]
  },
  {
   "cell_type": "code",
   "execution_count": 21,
   "metadata": {
    "ExecuteTime": {
     "end_time": "2020-09-07T09:59:45.157085Z",
     "start_time": "2020-09-07T09:59:44.461770Z"
    }
   },
   "outputs": [
    {
     "data": {
      "image/png": "[encoded data removed]",
      "text/plain": [
       "<Figure size 432x288 with 1 Axes>"
      ]
     },
     "metadata": {},
     "output_type": "display_data"
    }
   ],
   "source": [
    "# Predict the eighty minute orbit\n",
    "eighty_min_orbit = model.predict(np.arange(-40, 41))\n",
    "\n",
    "# Plot the eighty minute orbit \n",
    "plot_orbit(eighty_min_orbit)"
   ]
  },
  {
   "cell_type": "markdown",
   "metadata": {},
   "source": [
    "Your model fits perfectly to the scientists trajectory for time values between -10 to +10, the region where the meteor crosses the impact region, so we won't be hit! However, it starts to diverge when predicting for new values we haven't trained for. This shows neural networks learn according to the data they are fed with. Data quality and diversity are very important. You've barely scratched the surface of what neural networks can do."
   ]
  },
  {
   "cell_type": "code",
   "execution_count": null,
   "metadata": {},
   "outputs": [],
   "source": []
  }
 ],
 "metadata": {
  "kernelspec": {
   "display_name": "tf2-gpu",
   "language": "python",
   "name": "tf2-gpu"
  },
  "language_info": {
   "codemirror_mode": {
    "name": "ipython",
    "version": 3
   },
   "file_extension": ".py",
   "mimetype": "text/x-python",
   "name": "python",
   "nbconvert_exporter": "python",
   "pygments_lexer": "ipython3",
   "version": "3.7.7"
  },
  "toc": {
   "base_numbering": 1,
   "nav_menu": {},
   "number_sections": true,
   "sideBar": true,
   "skip_h1_title": false,
   "title_cell": "Table of Contents",
   "title_sidebar": "Contents",
   "toc_cell": false,
   "toc_position": {},
   "toc_section_display": true,
   "toc_window_display": false
  }
 },
 "nbformat": 4,
 "nbformat_minor": 4
}
