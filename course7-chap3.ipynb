{
 "cells": [
  {
   "cell_type": "code",
   "execution_count": 1,
   "metadata": {
    "ExecuteTime": {
     "end_time": "2020-08-27T07:54:36.617898Z",
     "start_time": "2020-08-27T07:54:14.955274Z"
    }
   },
   "outputs": [],
   "source": [
    "import numpy as np\n",
    "import pandas as pd\n",
    "import matplotlib.pyplot as plt\n",
    "import seaborn as sns\n",
    "sns.set()"
   ]
  },
  {
   "cell_type": "code",
   "execution_count": 90,
   "metadata": {
    "ExecuteTime": {
     "end_time": "2020-08-27T10:13:27.182290Z",
     "start_time": "2020-08-27T10:13:27.174316Z"
    }
   },
   "outputs": [],
   "source": [
    "from sklearn.preprocessing import StandardScaler, scale\n",
    "from sklearn.feature_selection import RFE\n",
    "from sklearn.linear_model import LogisticRegression, Lasso, LassoCV, LinearRegression\n",
    "from sklearn.model_selection import train_test_split, GridSearchCV\n",
    "from sklearn.metrics import accuracy_score\n",
    "from sklearn.ensemble import RandomForestClassifier, GradientBoostingRegressor, RandomForestRegressor"
   ]
  },
  {
   "cell_type": "markdown",
   "metadata": {},
   "source": [
    "# PIMA Indians Dataset"
   ]
  },
  {
   "cell_type": "code",
   "execution_count": 3,
   "metadata": {
    "ExecuteTime": {
     "end_time": "2020-08-27T07:54:40.439629Z",
     "start_time": "2020-08-27T07:54:40.197762Z"
    }
   },
   "outputs": [
    {
     "name": "stdout",
     "output_type": "stream",
     "text": [
      "(392, 9)\n"
     ]
    },
    {
     "data": {
      "text/html": [
       "<div>\n",
       "<style scoped>\n",
       "    .dataframe tbody tr th:only-of-type {\n",
       "        vertical-align: middle;\n",
       "    }\n",
       "\n",
       "    .dataframe tbody tr th {\n",
       "        vertical-align: top;\n",
       "    }\n",
       "\n",
       "    .dataframe thead th {\n",
       "        text-align: right;\n",
       "    }\n",
       "</style>\n",
       "<table border=\"1\" class=\"dataframe\">\n",
       "  <thead>\n",
       "    <tr style=\"text-align: right;\">\n",
       "      <th></th>\n",
       "      <th>pregnant</th>\n",
       "      <th>glucose</th>\n",
       "      <th>diastolic</th>\n",
       "      <th>triceps</th>\n",
       "      <th>insulin</th>\n",
       "      <th>bmi</th>\n",
       "      <th>family</th>\n",
       "      <th>age</th>\n",
       "      <th>test</th>\n",
       "    </tr>\n",
       "  </thead>\n",
       "  <tbody>\n",
       "    <tr>\n",
       "      <th>0</th>\n",
       "      <td>1</td>\n",
       "      <td>89</td>\n",
       "      <td>66</td>\n",
       "      <td>23</td>\n",
       "      <td>94</td>\n",
       "      <td>28.1</td>\n",
       "      <td>0.167</td>\n",
       "      <td>21</td>\n",
       "      <td>negative</td>\n",
       "    </tr>\n",
       "    <tr>\n",
       "      <th>1</th>\n",
       "      <td>0</td>\n",
       "      <td>137</td>\n",
       "      <td>40</td>\n",
       "      <td>35</td>\n",
       "      <td>168</td>\n",
       "      <td>43.1</td>\n",
       "      <td>2.288</td>\n",
       "      <td>33</td>\n",
       "      <td>positive</td>\n",
       "    </tr>\n",
       "    <tr>\n",
       "      <th>2</th>\n",
       "      <td>3</td>\n",
       "      <td>78</td>\n",
       "      <td>50</td>\n",
       "      <td>32</td>\n",
       "      <td>88</td>\n",
       "      <td>31.0</td>\n",
       "      <td>0.248</td>\n",
       "      <td>26</td>\n",
       "      <td>positive</td>\n",
       "    </tr>\n",
       "    <tr>\n",
       "      <th>3</th>\n",
       "      <td>2</td>\n",
       "      <td>197</td>\n",
       "      <td>70</td>\n",
       "      <td>45</td>\n",
       "      <td>543</td>\n",
       "      <td>30.5</td>\n",
       "      <td>0.158</td>\n",
       "      <td>53</td>\n",
       "      <td>positive</td>\n",
       "    </tr>\n",
       "    <tr>\n",
       "      <th>4</th>\n",
       "      <td>1</td>\n",
       "      <td>189</td>\n",
       "      <td>60</td>\n",
       "      <td>23</td>\n",
       "      <td>846</td>\n",
       "      <td>30.1</td>\n",
       "      <td>0.398</td>\n",
       "      <td>59</td>\n",
       "      <td>positive</td>\n",
       "    </tr>\n",
       "  </tbody>\n",
       "</table>\n",
       "</div>"
      ],
      "text/plain": [
       "   pregnant  glucose  diastolic  triceps  insulin   bmi  family  age      test\n",
       "0         1       89         66       23       94  28.1   0.167   21  negative\n",
       "1         0      137         40       35      168  43.1   2.288   33  positive\n",
       "2         3       78         50       32       88  31.0   0.248   26  positive\n",
       "3         2      197         70       45      543  30.5   0.158   53  positive\n",
       "4         1      189         60       23      846  30.1   0.398   59  positive"
      ]
     },
     "execution_count": 3,
     "metadata": {},
     "output_type": "execute_result"
    }
   ],
   "source": [
    "pima = pd.read_csv('./pima.csv')\n",
    "print(pima.shape)\n",
    "pima.head()"
   ]
  },
  {
   "cell_type": "code",
   "execution_count": 4,
   "metadata": {
    "ExecuteTime": {
     "end_time": "2020-08-27T07:54:40.466046Z",
     "start_time": "2020-08-27T07:54:40.442627Z"
    }
   },
   "outputs": [
    {
     "name": "stdout",
     "output_type": "stream",
     "text": [
      "<class 'pandas.core.frame.DataFrame'>\n",
      "RangeIndex: 392 entries, 0 to 391\n",
      "Data columns (total 9 columns):\n",
      " #   Column     Non-Null Count  Dtype  \n",
      "---  ------     --------------  -----  \n",
      " 0   pregnant   392 non-null    int64  \n",
      " 1   glucose    392 non-null    int64  \n",
      " 2   diastolic  392 non-null    int64  \n",
      " 3   triceps    392 non-null    int64  \n",
      " 4   insulin    392 non-null    int64  \n",
      " 5   bmi        392 non-null    float64\n",
      " 6   family     392 non-null    float64\n",
      " 7   age        392 non-null    int64  \n",
      " 8   test       392 non-null    object \n",
      "dtypes: float64(2), int64(6), object(1)\n",
      "memory usage: 27.7+ KB\n"
     ]
    }
   ],
   "source": [
    "pima.info()"
   ]
  },
  {
   "cell_type": "code",
   "execution_count": 16,
   "metadata": {
    "ExecuteTime": {
     "end_time": "2020-08-27T07:57:33.302582Z",
     "start_time": "2020-08-27T07:57:33.295587Z"
    }
   },
   "outputs": [],
   "source": [
    "X = pima.drop('test', axis=1)\n",
    "y = pima['test']"
   ]
  },
  {
   "cell_type": "markdown",
   "metadata": {},
   "source": [
    "## Logistic Regression"
   ]
  },
  {
   "cell_type": "code",
   "execution_count": 17,
   "metadata": {
    "ExecuteTime": {
     "end_time": "2020-08-27T07:57:34.272905Z",
     "start_time": "2020-08-27T07:57:34.262912Z"
    }
   },
   "outputs": [],
   "source": [
    "X_train, X_test, y_train, y_test = train_test_split(X, y,\n",
    "                                                    test_size=0.25,\n",
    "                                                    stratify=y,\n",
    "                                                    random_state=42)"
   ]
  },
  {
   "cell_type": "code",
   "execution_count": 18,
   "metadata": {
    "ExecuteTime": {
     "end_time": "2020-08-27T07:57:38.768286Z",
     "start_time": "2020-08-27T07:57:38.758311Z"
    }
   },
   "outputs": [
    {
     "data": {
      "text/plain": [
       "StandardScaler()"
      ]
     },
     "execution_count": 18,
     "metadata": {},
     "output_type": "execute_result"
    }
   ],
   "source": [
    "# initialize scaler and fit\n",
    "scaler = StandardScaler()\n",
    "scaler.fit(X_train)"
   ]
  },
  {
   "cell_type": "code",
   "execution_count": 19,
   "metadata": {
    "ExecuteTime": {
     "end_time": "2020-08-27T07:57:40.839822Z",
     "start_time": "2020-08-27T07:57:40.824229Z"
    }
   },
   "outputs": [],
   "source": [
    "# scale data\n",
    "X_train_std = scaler.transform(X_train)\n",
    "X_test_std = scaler.transform(X_test)"
   ]
  },
  {
   "cell_type": "code",
   "execution_count": 9,
   "metadata": {
    "ExecuteTime": {
     "end_time": "2020-08-27T07:54:41.667255Z",
     "start_time": "2020-08-27T07:54:40.991799Z"
    }
   },
   "outputs": [],
   "source": [
    "# initialize logreg and fit\n",
    "lr = LogisticRegression()\n",
    "lr.fit(X_train_std, y_train)\n",
    "\n",
    "# predict\n",
    "y_pred = lr.predict(X_test_std)"
   ]
  },
  {
   "cell_type": "code",
   "execution_count": 10,
   "metadata": {
    "ExecuteTime": {
     "end_time": "2020-08-27T07:54:41.679171Z",
     "start_time": "2020-08-27T07:54:41.667255Z"
    }
   },
   "outputs": [
    {
     "name": "stdout",
     "output_type": "stream",
     "text": [
      " 80.6% test acc\n",
      "{'pregnant': 0.18, 'glucose': 1.19, 'diastolic': 0.05, 'triceps': 0.15, 'insulin': 0.17, 'bmi': 0.45, 'family': 0.29, 'age': 0.44}\n"
     ]
    }
   ],
   "source": [
    "# eval\n",
    "print(f'{accuracy_score(y_test, y_pred): .1%} test acc')\n",
    "print(dict(zip(X.columns, abs(lr.coef_[0]).round(2))))"
   ]
  },
  {
   "cell_type": "markdown",
   "metadata": {
    "ExecuteTime": {
     "end_time": "2020-08-26T15:26:06.734079Z",
     "start_time": "2020-08-26T15:26:06.727083Z"
    }
   },
   "source": [
    "## Manual Recursive Feature Elimination"
   ]
  },
  {
   "cell_type": "markdown",
   "metadata": {},
   "source": [
    "Here, we train the model and remove the coefficients with lowest values repeatedly and see if we do so without hurting the model accuracy too much."
   ]
  },
  {
   "cell_type": "code",
   "execution_count": 11,
   "metadata": {
    "ExecuteTime": {
     "end_time": "2020-08-27T07:54:41.821669Z",
     "start_time": "2020-08-27T07:54:41.682170Z"
    }
   },
   "outputs": [
    {
     "name": "stdout",
     "output_type": "stream",
     "text": [
      " 80.6% test acc\n",
      "{'pregnant': 0.18, 'glucose': 1.18, 'triceps': 0.15, 'insulin': 0.17, 'bmi': 0.43, 'family': 0.29, 'age': 0.42}\n"
     ]
    }
   ],
   "source": [
    "# In the previous training, 'diastolic' had the lowest value so we remove that\n",
    "X = pima.drop(['test', 'diastolic'], axis=1)\n",
    "y = pima['test']\n",
    "\n",
    "X_train, X_test, y_train, y_test = train_test_split(X, y,\n",
    "                                                    test_size=0.25,\n",
    "                                                    stratify=y,\n",
    "                                                    random_state=42)\n",
    "\n",
    "# initialize scaler and fit\n",
    "scaler = StandardScaler()\n",
    "scaler.fit(X_train)\n",
    "\n",
    "# scale data\n",
    "X_train_std = scaler.transform(X_train)\n",
    "X_test_std = scaler.transform(X_test)\n",
    "\n",
    "# initialize logreg and fit\n",
    "lr = LogisticRegression()\n",
    "lr.fit(X_train_std, y_train)\n",
    "\n",
    "# predict\n",
    "y_pred = lr.predict(X_test_std)\n",
    "\n",
    "# eval\n",
    "print(f'{accuracy_score(y_test, y_pred): .1%} test acc')\n",
    "print(dict(zip(X.columns, abs(lr.coef_[0]).round(2))))"
   ]
  },
  {
   "cell_type": "code",
   "execution_count": 12,
   "metadata": {
    "ExecuteTime": {
     "end_time": "2020-08-27T07:54:41.941600Z",
     "start_time": "2020-08-27T07:54:41.823667Z"
    }
   },
   "outputs": [
    {
     "name": "stdout",
     "output_type": "stream",
     "text": [
      " 81.6% test acc\n",
      "{'pregnant': 0.18, 'glucose': 1.09, 'bmi': 0.5, 'family': 0.3, 'age': 0.43}\n"
     ]
    }
   ],
   "source": [
    "# Then we take away the next 2 lowest: 'insulin' and 'triceps'\n",
    "X = pima.drop(['test', 'diastolic', 'insulin', 'triceps'], axis=1)\n",
    "y = pima['test']\n",
    "\n",
    "X_train, X_test, y_train, y_test = train_test_split(X, y,\n",
    "                                                    test_size=0.25,\n",
    "                                                    stratify=y,\n",
    "                                                    random_state=42)\n",
    "\n",
    "# initialize scaler and fit\n",
    "scaler = StandardScaler()\n",
    "scaler.fit(X_train)\n",
    "\n",
    "# scale data\n",
    "X_train_std = scaler.transform(X_train)\n",
    "X_test_std = scaler.transform(X_test)\n",
    "\n",
    "# initialize logreg and fit\n",
    "lr = LogisticRegression()\n",
    "lr.fit(X_train_std, y_train)\n",
    "\n",
    "# predict\n",
    "y_pred = lr.predict(X_test_std)\n",
    "\n",
    "# eval\n",
    "print(f'{accuracy_score(y_test, y_pred): .1%} test acc')\n",
    "print(dict(zip(X.columns, abs(lr.coef_[0]).round(2))))"
   ]
  },
  {
   "cell_type": "code",
   "execution_count": 13,
   "metadata": {
    "ExecuteTime": {
     "end_time": "2020-08-27T07:54:42.056414Z",
     "start_time": "2020-08-27T07:54:41.944598Z"
    }
   },
   "outputs": [
    {
     "name": "stdout",
     "output_type": "stream",
     "text": [
      " 76.5% test acc\n",
      "{'glucose': 1.28}\n"
     ]
    }
   ],
   "source": [
    "# Lastly, we only keep the highest scoring feature\n",
    "X = pima['glucose'].to_numpy().reshape(-1, 1)\n",
    "y = pima['test']\n",
    "\n",
    "X_train, X_test, y_train, y_test = train_test_split(X, y,\n",
    "                                                    test_size=0.25,\n",
    "                                                    stratify=y,\n",
    "                                                    random_state=42)\n",
    "\n",
    "# initialize scaler and fit\n",
    "scaler = StandardScaler()\n",
    "scaler.fit(X_train)\n",
    "\n",
    "# scale data\n",
    "X_train_std = scaler.transform(X_train)\n",
    "X_test_std = scaler.transform(X_test)\n",
    "\n",
    "# initialize logreg and fit\n",
    "lr = LogisticRegression()\n",
    "lr.fit(X_train_std, y_train)\n",
    "\n",
    "# predict\n",
    "y_pred = lr.predict(X_test_std)\n",
    "\n",
    "# eval\n",
    "print(f'{accuracy_score(y_test, y_pred): .1%} test acc')\n",
    "print(dict(zip(['glucose'], abs(lr.coef_[0]).round(2))))"
   ]
  },
  {
   "cell_type": "markdown",
   "metadata": {},
   "source": [
    "## Automatic Recursive Feature Elimination using `RFE` from `sklearn`"
   ]
  },
  {
   "cell_type": "code",
   "execution_count": null,
   "metadata": {},
   "outputs": [],
   "source": [
    "X = pima.drop('test', axis=1)\n",
    "y = pima['test']\n",
    "\n",
    "X_train, X_test, y_train, y_test = train_test_split(X, y,\n",
    "                                                    test_size=0.25,\n",
    "                                                    stratify=y,\n",
    "                                                    random_state=42)\n",
    "\n",
    "# initialize scaler and fit\n",
    "scaler = StandardScaler()\n",
    "scaler.fit(X_train)\n",
    "\n",
    "# scale data\n",
    "X_train_std = scaler.transform(X_train)\n",
    "X_test_std = scaler.transform(X_test)"
   ]
  },
  {
   "cell_type": "code",
   "execution_count": 20,
   "metadata": {
    "ExecuteTime": {
     "end_time": "2020-08-27T07:57:49.750685Z",
     "start_time": "2020-08-27T07:57:49.746688Z"
    }
   },
   "outputs": [],
   "source": [
    "# initialize rfe\n",
    "rfe = RFE(estimator=LogisticRegression(),\n",
    "          n_features_to_select=3,\n",
    "          verbose=1)"
   ]
  },
  {
   "cell_type": "code",
   "execution_count": 21,
   "metadata": {
    "ExecuteTime": {
     "end_time": "2020-08-27T07:57:50.381626Z",
     "start_time": "2020-08-27T07:57:50.314665Z"
    }
   },
   "outputs": [
    {
     "name": "stdout",
     "output_type": "stream",
     "text": [
      "Fitting estimator with 8 features.\n",
      "Fitting estimator with 7 features.\n",
      "Fitting estimator with 6 features.\n",
      "Fitting estimator with 5 features.\n",
      "Fitting estimator with 4 features.\n"
     ]
    },
    {
     "data": {
      "text/plain": [
       "RFE(estimator=LogisticRegression(), n_features_to_select=3, verbose=1)"
      ]
     },
     "execution_count": 21,
     "metadata": {},
     "output_type": "execute_result"
    }
   ],
   "source": [
    "rfe.fit(X_train_std, y_train)"
   ]
  },
  {
   "cell_type": "code",
   "execution_count": 22,
   "metadata": {
    "ExecuteTime": {
     "end_time": "2020-08-27T07:57:51.454029Z",
     "start_time": "2020-08-27T07:57:51.449018Z"
    }
   },
   "outputs": [
    {
     "name": "stdout",
     "output_type": "stream",
     "text": [
      "{'pregnant': 4, 'glucose': 1, 'diastolic': 6, 'triceps': 5, 'insulin': 3, 'bmi': 1, 'family': 2, 'age': 1}\n"
     ]
    }
   ],
   "source": [
    "# print features and their ranking (high=dropped early on)\n",
    "print(dict(zip(X.columns, rfe.ranking_)))"
   ]
  },
  {
   "cell_type": "code",
   "execution_count": 23,
   "metadata": {
    "ExecuteTime": {
     "end_time": "2020-08-27T07:57:51.874570Z",
     "start_time": "2020-08-27T07:57:51.868574Z"
    }
   },
   "outputs": [
    {
     "name": "stdout",
     "output_type": "stream",
     "text": [
      "Index(['glucose', 'bmi', 'age'], dtype='object')\n"
     ]
    }
   ],
   "source": [
    "# print features that are not eliminated\n",
    "print(X.columns[rfe.support_])"
   ]
  },
  {
   "cell_type": "code",
   "execution_count": 24,
   "metadata": {
    "ExecuteTime": {
     "end_time": "2020-08-27T07:57:52.967261Z",
     "start_time": "2020-08-27T07:57:52.951583Z"
    }
   },
   "outputs": [
    {
     "name": "stdout",
     "output_type": "stream",
     "text": [
      "test acc:  79.6%\n"
     ]
    }
   ],
   "source": [
    "# eval\n",
    "acc = accuracy_score(y_test, rfe.predict(X_test_std))\n",
    "print(f'test acc: {acc: .1%}')"
   ]
  },
  {
   "cell_type": "markdown",
   "metadata": {},
   "source": [
    "## Random Forest Classifier"
   ]
  },
  {
   "cell_type": "code",
   "execution_count": 25,
   "metadata": {
    "ExecuteTime": {
     "end_time": "2020-08-27T07:58:06.697724Z",
     "start_time": "2020-08-27T07:58:06.363324Z"
    }
   },
   "outputs": [
    {
     "data": {
      "text/plain": [
       "RandomForestClassifier(random_state=0)"
      ]
     },
     "execution_count": 25,
     "metadata": {},
     "output_type": "execute_result"
    }
   ],
   "source": [
    "# initialize rf and fit\n",
    "rf = RandomForestClassifier(random_state=0)\n",
    "rf.fit(X_train, y_train)"
   ]
  },
  {
   "cell_type": "code",
   "execution_count": 26,
   "metadata": {
    "ExecuteTime": {
     "end_time": "2020-08-27T07:58:07.363611Z",
     "start_time": "2020-08-27T07:58:07.220187Z"
    }
   },
   "outputs": [
    {
     "name": "stdout",
     "output_type": "stream",
     "text": [
      "test acc:  80.6%\n",
      "{'pregnant': 0.08, 'glucose': 0.22, 'diastolic': 0.07, 'triceps': 0.09, 'insulin': 0.15, 'bmi': 0.12, 'family': 0.11, 'age': 0.16}\n"
     ]
    }
   ],
   "source": [
    "# eval\n",
    "acc = accuracy_score(y_test, rf.predict(X_test))\n",
    "print(f'test acc: {acc: .1%}')\n",
    "\n",
    "# feature importances\n",
    "print(dict(zip(X.columns, rf.feature_importances_.round(2))))"
   ]
  },
  {
   "cell_type": "markdown",
   "metadata": {},
   "source": [
    "## Random forest for feature selection"
   ]
  },
  {
   "cell_type": "code",
   "execution_count": 27,
   "metadata": {
    "ExecuteTime": {
     "end_time": "2020-08-27T07:58:14.371790Z",
     "start_time": "2020-08-27T07:58:14.353782Z"
    }
   },
   "outputs": [],
   "source": [
    "# create mask for feature importances above threshold\n",
    "mask = rf.feature_importances_ > 0.15"
   ]
  },
  {
   "cell_type": "code",
   "execution_count": 28,
   "metadata": {
    "ExecuteTime": {
     "end_time": "2020-08-27T07:58:16.555561Z",
     "start_time": "2020-08-27T07:58:16.540391Z"
    }
   },
   "outputs": [
    {
     "data": {
      "text/plain": [
       "Index(['glucose', 'age'], dtype='object')"
      ]
     },
     "execution_count": 28,
     "metadata": {},
     "output_type": "execute_result"
    }
   ],
   "source": [
    "# apply mask to X\n",
    "X_reduced = X.iloc[:, mask]\n",
    "X_reduced.columns"
   ]
  },
  {
   "cell_type": "markdown",
   "metadata": {},
   "source": [
    "## `RFE` with random forests"
   ]
  },
  {
   "cell_type": "code",
   "execution_count": 29,
   "metadata": {
    "ExecuteTime": {
     "end_time": "2020-08-27T07:58:22.016841Z",
     "start_time": "2020-08-27T07:58:20.390048Z"
    }
   },
   "outputs": [
    {
     "name": "stdout",
     "output_type": "stream",
     "text": [
      "Fitting estimator with 8 features.\n",
      "Fitting estimator with 7 features.\n",
      "Fitting estimator with 6 features.\n",
      "Fitting estimator with 5 features.\n",
      "Fitting estimator with 4 features.\n",
      "Fitting estimator with 3 features.\n",
      "Index(['glucose', 'insulin'], dtype='object')\n"
     ]
    }
   ],
   "source": [
    "# initialize RFE with rf with step=1\n",
    "rfe = RFE(estimator=RandomForestClassifier(random_state=0),\n",
    "          n_features_to_select=2,\n",
    "          verbose=1)\n",
    "\n",
    "rfe.fit(X_train, y_train)\n",
    "\n",
    "mask = rfe.support_\n",
    "\n",
    "X_reduced = X.loc[:, mask]\n",
    "print(X_reduced.columns)"
   ]
  },
  {
   "cell_type": "code",
   "execution_count": 30,
   "metadata": {
    "ExecuteTime": {
     "end_time": "2020-08-27T07:58:26.273244Z",
     "start_time": "2020-08-27T07:58:25.374905Z"
    }
   },
   "outputs": [
    {
     "name": "stdout",
     "output_type": "stream",
     "text": [
      "Fitting estimator with 8 features.\n",
      "Fitting estimator with 6 features.\n",
      "Fitting estimator with 4 features.\n",
      "Index(['glucose', 'age'], dtype='object')\n"
     ]
    }
   ],
   "source": [
    "# initialize RFE with rf with step=2\n",
    "rfe = RFE(estimator=RandomForestClassifier(random_state=0),\n",
    "          n_features_to_select=2,\n",
    "          step=2,\n",
    "          verbose=1)\n",
    "\n",
    "rfe.fit(X_train, y_train)\n",
    "\n",
    "mask = rfe.support_\n",
    "\n",
    "X_reduced = X.loc[:, mask]\n",
    "print(X_reduced.columns)"
   ]
  },
  {
   "cell_type": "markdown",
   "metadata": {},
   "source": [
    "# Male ANSUR Measurements Dataset"
   ]
  },
  {
   "cell_type": "code",
   "execution_count": 32,
   "metadata": {
    "ExecuteTime": {
     "end_time": "2020-08-27T08:23:27.628374Z",
     "start_time": "2020-08-27T08:23:27.625380Z"
    }
   },
   "outputs": [],
   "source": [
    "pd.options.display.max_rows = None\n",
    "pd.options.display.max_columns = None"
   ]
  },
  {
   "cell_type": "code",
   "execution_count": 33,
   "metadata": {
    "ExecuteTime": {
     "end_time": "2020-08-27T08:23:28.650929Z",
     "start_time": "2020-08-27T08:23:28.478502Z"
    }
   },
   "outputs": [
    {
     "name": "stdout",
     "output_type": "stream",
     "text": [
      "(4082, 99)\n"
     ]
    },
    {
     "data": {
      "text/html": [
       "<div>\n",
       "<style scoped>\n",
       "    .dataframe tbody tr th:only-of-type {\n",
       "        vertical-align: middle;\n",
       "    }\n",
       "\n",
       "    .dataframe tbody tr th {\n",
       "        vertical-align: top;\n",
       "    }\n",
       "\n",
       "    .dataframe thead th {\n",
       "        text-align: right;\n",
       "    }\n",
       "</style>\n",
       "<table border=\"1\" class=\"dataframe\">\n",
       "  <thead>\n",
       "    <tr style=\"text-align: right;\">\n",
       "      <th></th>\n",
       "      <th>Branch</th>\n",
       "      <th>Component</th>\n",
       "      <th>Gender</th>\n",
       "      <th>abdominalextensiondepthsitting</th>\n",
       "      <th>acromialheight</th>\n",
       "      <th>acromionradialelength</th>\n",
       "      <th>anklecircumference</th>\n",
       "      <th>axillaheight</th>\n",
       "      <th>balloffootcircumference</th>\n",
       "      <th>balloffootlength</th>\n",
       "      <th>biacromialbreadth</th>\n",
       "      <th>bicepscircumferenceflexed</th>\n",
       "      <th>bicristalbreadth</th>\n",
       "      <th>bideltoidbreadth</th>\n",
       "      <th>bimalleolarbreadth</th>\n",
       "      <th>bitragionchinarc</th>\n",
       "      <th>bitragionsubmandibulararc</th>\n",
       "      <th>bizygomaticbreadth</th>\n",
       "      <th>buttockcircumference</th>\n",
       "      <th>buttockdepth</th>\n",
       "      <th>buttockheight</th>\n",
       "      <th>buttockkneelength</th>\n",
       "      <th>buttockpopliteallength</th>\n",
       "      <th>calfcircumference</th>\n",
       "      <th>cervicaleheight</th>\n",
       "      <th>chestbreadth</th>\n",
       "      <th>chestcircumference</th>\n",
       "      <th>chestdepth</th>\n",
       "      <th>chestheight</th>\n",
       "      <th>crotchheight</th>\n",
       "      <th>crotchlengthomphalion</th>\n",
       "      <th>crotchlengthposterioromphalion</th>\n",
       "      <th>earbreadth</th>\n",
       "      <th>earlength</th>\n",
       "      <th>earprotrusion</th>\n",
       "      <th>elbowrestheight</th>\n",
       "      <th>eyeheightsitting</th>\n",
       "      <th>footbreadthhorizontal</th>\n",
       "      <th>footlength</th>\n",
       "      <th>forearmcenterofgriplength</th>\n",
       "      <th>forearmcircumferenceflexed</th>\n",
       "      <th>forearmforearmbreadth</th>\n",
       "      <th>forearmhandlength</th>\n",
       "      <th>functionalleglength</th>\n",
       "      <th>handbreadth</th>\n",
       "      <th>handcircumference</th>\n",
       "      <th>handlength</th>\n",
       "      <th>headbreadth</th>\n",
       "      <th>headcircumference</th>\n",
       "      <th>headlength</th>\n",
       "      <th>heelanklecircumference</th>\n",
       "      <th>heelbreadth</th>\n",
       "      <th>hipbreadth</th>\n",
       "      <th>hipbreadthsitting</th>\n",
       "      <th>iliocristaleheight</th>\n",
       "      <th>interpupillarybreadth</th>\n",
       "      <th>interscyei</th>\n",
       "      <th>interscyeii</th>\n",
       "      <th>kneeheightmidpatella</th>\n",
       "      <th>kneeheightsitting</th>\n",
       "      <th>lateralfemoralepicondyleheight</th>\n",
       "      <th>lateralmalleolusheight</th>\n",
       "      <th>lowerthighcircumference</th>\n",
       "      <th>mentonsellionlength</th>\n",
       "      <th>neckcircumference</th>\n",
       "      <th>neckcircumferencebase</th>\n",
       "      <th>overheadfingertipreachsitting</th>\n",
       "      <th>palmlength</th>\n",
       "      <th>poplitealheight</th>\n",
       "      <th>radialestylionlength</th>\n",
       "      <th>shouldercircumference</th>\n",
       "      <th>shoulderelbowlength</th>\n",
       "      <th>shoulderlength</th>\n",
       "      <th>sittingheight</th>\n",
       "      <th>sleevelengthspinewrist</th>\n",
       "      <th>sleeveoutseam</th>\n",
       "      <th>span</th>\n",
       "      <th>suprasternaleheight</th>\n",
       "      <th>tenthribheight</th>\n",
       "      <th>thighcircumference</th>\n",
       "      <th>thighclearance</th>\n",
       "      <th>thumbtipreach</th>\n",
       "      <th>tibialheight</th>\n",
       "      <th>tragiontopofhead</th>\n",
       "      <th>trochanterionheight</th>\n",
       "      <th>verticaltrunkcircumferenceusa</th>\n",
       "      <th>waistbacklength</th>\n",
       "      <th>waistbreadth</th>\n",
       "      <th>waistcircumference</th>\n",
       "      <th>waistdepth</th>\n",
       "      <th>waistfrontlengthsitting</th>\n",
       "      <th>waistheightomphalion</th>\n",
       "      <th>wristcircumference</th>\n",
       "      <th>wristheight</th>\n",
       "      <th>weight_kg</th>\n",
       "      <th>stature_m</th>\n",
       "      <th>BMI</th>\n",
       "      <th>BMI_class</th>\n",
       "      <th>Height_class</th>\n",
       "    </tr>\n",
       "  </thead>\n",
       "  <tbody>\n",
       "    <tr>\n",
       "      <th>0</th>\n",
       "      <td>Combat Arms</td>\n",
       "      <td>Regular Army</td>\n",
       "      <td>Male</td>\n",
       "      <td>266</td>\n",
       "      <td>1467</td>\n",
       "      <td>337</td>\n",
       "      <td>222</td>\n",
       "      <td>1347</td>\n",
       "      <td>253</td>\n",
       "      <td>202</td>\n",
       "      <td>401</td>\n",
       "      <td>369</td>\n",
       "      <td>274</td>\n",
       "      <td>493</td>\n",
       "      <td>71</td>\n",
       "      <td>319</td>\n",
       "      <td>291</td>\n",
       "      <td>142</td>\n",
       "      <td>979</td>\n",
       "      <td>240</td>\n",
       "      <td>882</td>\n",
       "      <td>619</td>\n",
       "      <td>509</td>\n",
       "      <td>373</td>\n",
       "      <td>1535</td>\n",
       "      <td>291</td>\n",
       "      <td>1074</td>\n",
       "      <td>259</td>\n",
       "      <td>1292</td>\n",
       "      <td>877</td>\n",
       "      <td>607</td>\n",
       "      <td>351</td>\n",
       "      <td>36</td>\n",
       "      <td>71</td>\n",
       "      <td>19</td>\n",
       "      <td>247</td>\n",
       "      <td>802</td>\n",
       "      <td>101</td>\n",
       "      <td>273</td>\n",
       "      <td>349</td>\n",
       "      <td>299</td>\n",
       "      <td>575</td>\n",
       "      <td>477</td>\n",
       "      <td>1136</td>\n",
       "      <td>90</td>\n",
       "      <td>214</td>\n",
       "      <td>193</td>\n",
       "      <td>150</td>\n",
       "      <td>583</td>\n",
       "      <td>206</td>\n",
       "      <td>326</td>\n",
       "      <td>70</td>\n",
       "      <td>332</td>\n",
       "      <td>366</td>\n",
       "      <td>1071</td>\n",
       "      <td>685</td>\n",
       "      <td>422</td>\n",
       "      <td>441</td>\n",
       "      <td>502</td>\n",
       "      <td>560</td>\n",
       "      <td>500</td>\n",
       "      <td>77</td>\n",
       "      <td>391</td>\n",
       "      <td>118</td>\n",
       "      <td>400</td>\n",
       "      <td>436</td>\n",
       "      <td>1447</td>\n",
       "      <td>113</td>\n",
       "      <td>437</td>\n",
       "      <td>273</td>\n",
       "      <td>1151</td>\n",
       "      <td>368</td>\n",
       "      <td>145</td>\n",
       "      <td>928</td>\n",
       "      <td>883</td>\n",
       "      <td>600</td>\n",
       "      <td>1782</td>\n",
       "      <td>1449</td>\n",
       "      <td>1092</td>\n",
       "      <td>610</td>\n",
       "      <td>164</td>\n",
       "      <td>786</td>\n",
       "      <td>491</td>\n",
       "      <td>140</td>\n",
       "      <td>919</td>\n",
       "      <td>1700</td>\n",
       "      <td>501</td>\n",
       "      <td>329</td>\n",
       "      <td>933</td>\n",
       "      <td>240</td>\n",
       "      <td>440</td>\n",
       "      <td>1054</td>\n",
       "      <td>175</td>\n",
       "      <td>853</td>\n",
       "      <td>81.5</td>\n",
       "      <td>1.776</td>\n",
       "      <td>25.838761</td>\n",
       "      <td>Overweight</td>\n",
       "      <td>Tall</td>\n",
       "    </tr>\n",
       "    <tr>\n",
       "      <th>1</th>\n",
       "      <td>Combat Support</td>\n",
       "      <td>Regular Army</td>\n",
       "      <td>Male</td>\n",
       "      <td>233</td>\n",
       "      <td>1395</td>\n",
       "      <td>326</td>\n",
       "      <td>220</td>\n",
       "      <td>1293</td>\n",
       "      <td>245</td>\n",
       "      <td>193</td>\n",
       "      <td>394</td>\n",
       "      <td>338</td>\n",
       "      <td>257</td>\n",
       "      <td>479</td>\n",
       "      <td>67</td>\n",
       "      <td>344</td>\n",
       "      <td>320</td>\n",
       "      <td>135</td>\n",
       "      <td>944</td>\n",
       "      <td>232</td>\n",
       "      <td>870</td>\n",
       "      <td>584</td>\n",
       "      <td>468</td>\n",
       "      <td>357</td>\n",
       "      <td>1471</td>\n",
       "      <td>269</td>\n",
       "      <td>1021</td>\n",
       "      <td>253</td>\n",
       "      <td>1244</td>\n",
       "      <td>851</td>\n",
       "      <td>615</td>\n",
       "      <td>376</td>\n",
       "      <td>33</td>\n",
       "      <td>62</td>\n",
       "      <td>18</td>\n",
       "      <td>232</td>\n",
       "      <td>781</td>\n",
       "      <td>98</td>\n",
       "      <td>263</td>\n",
       "      <td>348</td>\n",
       "      <td>289</td>\n",
       "      <td>523</td>\n",
       "      <td>476</td>\n",
       "      <td>1096</td>\n",
       "      <td>86</td>\n",
       "      <td>203</td>\n",
       "      <td>195</td>\n",
       "      <td>146</td>\n",
       "      <td>568</td>\n",
       "      <td>201</td>\n",
       "      <td>334</td>\n",
       "      <td>72</td>\n",
       "      <td>312</td>\n",
       "      <td>356</td>\n",
       "      <td>1046</td>\n",
       "      <td>620</td>\n",
       "      <td>441</td>\n",
       "      <td>447</td>\n",
       "      <td>490</td>\n",
       "      <td>540</td>\n",
       "      <td>488</td>\n",
       "      <td>73</td>\n",
       "      <td>371</td>\n",
       "      <td>131</td>\n",
       "      <td>380</td>\n",
       "      <td>420</td>\n",
       "      <td>1380</td>\n",
       "      <td>118</td>\n",
       "      <td>417</td>\n",
       "      <td>254</td>\n",
       "      <td>1119</td>\n",
       "      <td>353</td>\n",
       "      <td>141</td>\n",
       "      <td>884</td>\n",
       "      <td>868</td>\n",
       "      <td>564</td>\n",
       "      <td>1745</td>\n",
       "      <td>1387</td>\n",
       "      <td>1076</td>\n",
       "      <td>572</td>\n",
       "      <td>169</td>\n",
       "      <td>822</td>\n",
       "      <td>476</td>\n",
       "      <td>120</td>\n",
       "      <td>918</td>\n",
       "      <td>1627</td>\n",
       "      <td>432</td>\n",
       "      <td>316</td>\n",
       "      <td>870</td>\n",
       "      <td>225</td>\n",
       "      <td>371</td>\n",
       "      <td>1054</td>\n",
       "      <td>167</td>\n",
       "      <td>815</td>\n",
       "      <td>72.6</td>\n",
       "      <td>1.702</td>\n",
       "      <td>25.062103</td>\n",
       "      <td>Overweight</td>\n",
       "      <td>Normal</td>\n",
       "    </tr>\n",
       "    <tr>\n",
       "      <th>2</th>\n",
       "      <td>Combat Support</td>\n",
       "      <td>Regular Army</td>\n",
       "      <td>Male</td>\n",
       "      <td>287</td>\n",
       "      <td>1430</td>\n",
       "      <td>341</td>\n",
       "      <td>230</td>\n",
       "      <td>1327</td>\n",
       "      <td>256</td>\n",
       "      <td>196</td>\n",
       "      <td>427</td>\n",
       "      <td>408</td>\n",
       "      <td>261</td>\n",
       "      <td>544</td>\n",
       "      <td>75</td>\n",
       "      <td>345</td>\n",
       "      <td>330</td>\n",
       "      <td>135</td>\n",
       "      <td>1054</td>\n",
       "      <td>258</td>\n",
       "      <td>901</td>\n",
       "      <td>623</td>\n",
       "      <td>506</td>\n",
       "      <td>412</td>\n",
       "      <td>1501</td>\n",
       "      <td>288</td>\n",
       "      <td>1120</td>\n",
       "      <td>267</td>\n",
       "      <td>1288</td>\n",
       "      <td>854</td>\n",
       "      <td>636</td>\n",
       "      <td>359</td>\n",
       "      <td>40</td>\n",
       "      <td>61</td>\n",
       "      <td>23</td>\n",
       "      <td>237</td>\n",
       "      <td>810</td>\n",
       "      <td>103</td>\n",
       "      <td>270</td>\n",
       "      <td>355</td>\n",
       "      <td>357</td>\n",
       "      <td>575</td>\n",
       "      <td>491</td>\n",
       "      <td>1115</td>\n",
       "      <td>93</td>\n",
       "      <td>220</td>\n",
       "      <td>203</td>\n",
       "      <td>148</td>\n",
       "      <td>573</td>\n",
       "      <td>202</td>\n",
       "      <td>356</td>\n",
       "      <td>70</td>\n",
       "      <td>349</td>\n",
       "      <td>393</td>\n",
       "      <td>1053</td>\n",
       "      <td>665</td>\n",
       "      <td>462</td>\n",
       "      <td>475</td>\n",
       "      <td>496</td>\n",
       "      <td>556</td>\n",
       "      <td>482</td>\n",
       "      <td>72</td>\n",
       "      <td>409</td>\n",
       "      <td>123</td>\n",
       "      <td>403</td>\n",
       "      <td>434</td>\n",
       "      <td>1447</td>\n",
       "      <td>121</td>\n",
       "      <td>431</td>\n",
       "      <td>268</td>\n",
       "      <td>1276</td>\n",
       "      <td>367</td>\n",
       "      <td>167</td>\n",
       "      <td>917</td>\n",
       "      <td>910</td>\n",
       "      <td>604</td>\n",
       "      <td>1867</td>\n",
       "      <td>1438</td>\n",
       "      <td>1105</td>\n",
       "      <td>685</td>\n",
       "      <td>198</td>\n",
       "      <td>807</td>\n",
       "      <td>477</td>\n",
       "      <td>125</td>\n",
       "      <td>918</td>\n",
       "      <td>1678</td>\n",
       "      <td>472</td>\n",
       "      <td>329</td>\n",
       "      <td>964</td>\n",
       "      <td>255</td>\n",
       "      <td>411</td>\n",
       "      <td>1041</td>\n",
       "      <td>180</td>\n",
       "      <td>831</td>\n",
       "      <td>92.9</td>\n",
       "      <td>1.735</td>\n",
       "      <td>30.861480</td>\n",
       "      <td>Overweight</td>\n",
       "      <td>Normal</td>\n",
       "    </tr>\n",
       "  </tbody>\n",
       "</table>\n",
       "</div>"
      ],
      "text/plain": [
       "           Branch     Component Gender  abdominalextensiondepthsitting  \\\n",
       "0     Combat Arms  Regular Army   Male                             266   \n",
       "1  Combat Support  Regular Army   Male                             233   \n",
       "2  Combat Support  Regular Army   Male                             287   \n",
       "\n",
       "   acromialheight  acromionradialelength  anklecircumference  axillaheight  \\\n",
       "0            1467                    337                 222          1347   \n",
       "1            1395                    326                 220          1293   \n",
       "2            1430                    341                 230          1327   \n",
       "\n",
       "   balloffootcircumference  balloffootlength  biacromialbreadth  \\\n",
       "0                      253               202                401   \n",
       "1                      245               193                394   \n",
       "2                      256               196                427   \n",
       "\n",
       "   bicepscircumferenceflexed  bicristalbreadth  bideltoidbreadth  \\\n",
       "0                        369               274               493   \n",
       "1                        338               257               479   \n",
       "2                        408               261               544   \n",
       "\n",
       "   bimalleolarbreadth  bitragionchinarc  bitragionsubmandibulararc  \\\n",
       "0                  71               319                        291   \n",
       "1                  67               344                        320   \n",
       "2                  75               345                        330   \n",
       "\n",
       "   bizygomaticbreadth  buttockcircumference  buttockdepth  buttockheight  \\\n",
       "0                 142                   979           240            882   \n",
       "1                 135                   944           232            870   \n",
       "2                 135                  1054           258            901   \n",
       "\n",
       "   buttockkneelength  buttockpopliteallength  calfcircumference  \\\n",
       "0                619                     509                373   \n",
       "1                584                     468                357   \n",
       "2                623                     506                412   \n",
       "\n",
       "   cervicaleheight  chestbreadth  chestcircumference  chestdepth  chestheight  \\\n",
       "0             1535           291                1074         259         1292   \n",
       "1             1471           269                1021         253         1244   \n",
       "2             1501           288                1120         267         1288   \n",
       "\n",
       "   crotchheight  crotchlengthomphalion  crotchlengthposterioromphalion  \\\n",
       "0           877                    607                             351   \n",
       "1           851                    615                             376   \n",
       "2           854                    636                             359   \n",
       "\n",
       "   earbreadth  earlength  earprotrusion  elbowrestheight  eyeheightsitting  \\\n",
       "0          36         71             19              247               802   \n",
       "1          33         62             18              232               781   \n",
       "2          40         61             23              237               810   \n",
       "\n",
       "   footbreadthhorizontal  footlength  forearmcenterofgriplength  \\\n",
       "0                    101         273                        349   \n",
       "1                     98         263                        348   \n",
       "2                    103         270                        355   \n",
       "\n",
       "   forearmcircumferenceflexed  forearmforearmbreadth  forearmhandlength  \\\n",
       "0                         299                    575                477   \n",
       "1                         289                    523                476   \n",
       "2                         357                    575                491   \n",
       "\n",
       "   functionalleglength  handbreadth  handcircumference  handlength  \\\n",
       "0                 1136           90                214         193   \n",
       "1                 1096           86                203         195   \n",
       "2                 1115           93                220         203   \n",
       "\n",
       "   headbreadth  headcircumference  headlength  heelanklecircumference  \\\n",
       "0          150                583         206                     326   \n",
       "1          146                568         201                     334   \n",
       "2          148                573         202                     356   \n",
       "\n",
       "   heelbreadth  hipbreadth  hipbreadthsitting  iliocristaleheight  \\\n",
       "0           70         332                366                1071   \n",
       "1           72         312                356                1046   \n",
       "2           70         349                393                1053   \n",
       "\n",
       "   interpupillarybreadth  interscyei  interscyeii  kneeheightmidpatella  \\\n",
       "0                    685         422          441                   502   \n",
       "1                    620         441          447                   490   \n",
       "2                    665         462          475                   496   \n",
       "\n",
       "   kneeheightsitting  lateralfemoralepicondyleheight  lateralmalleolusheight  \\\n",
       "0                560                             500                      77   \n",
       "1                540                             488                      73   \n",
       "2                556                             482                      72   \n",
       "\n",
       "   lowerthighcircumference  mentonsellionlength  neckcircumference  \\\n",
       "0                      391                  118                400   \n",
       "1                      371                  131                380   \n",
       "2                      409                  123                403   \n",
       "\n",
       "   neckcircumferencebase  overheadfingertipreachsitting  palmlength  \\\n",
       "0                    436                           1447         113   \n",
       "1                    420                           1380         118   \n",
       "2                    434                           1447         121   \n",
       "\n",
       "   poplitealheight  radialestylionlength  shouldercircumference  \\\n",
       "0              437                   273                   1151   \n",
       "1              417                   254                   1119   \n",
       "2              431                   268                   1276   \n",
       "\n",
       "   shoulderelbowlength  shoulderlength  sittingheight  sleevelengthspinewrist  \\\n",
       "0                  368             145            928                     883   \n",
       "1                  353             141            884                     868   \n",
       "2                  367             167            917                     910   \n",
       "\n",
       "   sleeveoutseam  span  suprasternaleheight  tenthribheight  \\\n",
       "0            600  1782                 1449            1092   \n",
       "1            564  1745                 1387            1076   \n",
       "2            604  1867                 1438            1105   \n",
       "\n",
       "   thighcircumference  thighclearance  thumbtipreach  tibialheight  \\\n",
       "0                 610             164            786           491   \n",
       "1                 572             169            822           476   \n",
       "2                 685             198            807           477   \n",
       "\n",
       "   tragiontopofhead  trochanterionheight  verticaltrunkcircumferenceusa  \\\n",
       "0               140                  919                           1700   \n",
       "1               120                  918                           1627   \n",
       "2               125                  918                           1678   \n",
       "\n",
       "   waistbacklength  waistbreadth  waistcircumference  waistdepth  \\\n",
       "0              501           329                 933         240   \n",
       "1              432           316                 870         225   \n",
       "2              472           329                 964         255   \n",
       "\n",
       "   waistfrontlengthsitting  waistheightomphalion  wristcircumference  \\\n",
       "0                      440                  1054                 175   \n",
       "1                      371                  1054                 167   \n",
       "2                      411                  1041                 180   \n",
       "\n",
       "   wristheight  weight_kg  stature_m        BMI   BMI_class Height_class  \n",
       "0          853       81.5      1.776  25.838761  Overweight         Tall  \n",
       "1          815       72.6      1.702  25.062103  Overweight       Normal  \n",
       "2          831       92.9      1.735  30.861480  Overweight       Normal  "
      ]
     },
     "execution_count": 33,
     "metadata": {},
     "output_type": "execute_result"
    }
   ],
   "source": [
    "ansur_m = pd.read_csv('./ANSUR_II_MALE.csv')\n",
    "print(ansur_m.shape)\n",
    "ansur_m.head(3)"
   ]
  },
  {
   "cell_type": "markdown",
   "metadata": {},
   "source": [
    "## LASSO Regressor"
   ]
  },
  {
   "cell_type": "code",
   "execution_count": 37,
   "metadata": {
    "ExecuteTime": {
     "end_time": "2020-08-27T08:27:39.048019Z",
     "start_time": "2020-08-27T08:27:39.041022Z"
    }
   },
   "outputs": [],
   "source": [
    "X = ansur_m.iloc[:, 3:94] # here, we work only on the numerical measurements\n",
    "y = ansur_m['BMI'] # we try to predict the BMI"
   ]
  },
  {
   "cell_type": "code",
   "execution_count": 38,
   "metadata": {
    "ExecuteTime": {
     "end_time": "2020-08-27T08:31:48.253853Z",
     "start_time": "2020-08-27T08:31:48.239846Z"
    }
   },
   "outputs": [],
   "source": [
    "X_train, X_test, y_train, y_test = train_test_split(X, y,\n",
    "                                                    test_size=0.3,\n",
    "                                                    random_state=0)"
   ]
  },
  {
   "cell_type": "code",
   "execution_count": 51,
   "metadata": {
    "ExecuteTime": {
     "end_time": "2020-08-27T08:38:57.020456Z",
     "start_time": "2020-08-27T08:38:56.991453Z"
    }
   },
   "outputs": [],
   "source": [
    "scaler = StandardScaler()\n",
    "X_train_std = scaler.fit_transform(X_train)\n",
    "X_test_std = scaler.transform(X_test)"
   ]
  },
  {
   "cell_type": "code",
   "execution_count": 54,
   "metadata": {
    "ExecuteTime": {
     "end_time": "2020-08-27T08:48:14.850099Z",
     "start_time": "2020-08-27T08:48:14.812124Z"
    }
   },
   "outputs": [
    {
     "name": "stdout",
     "output_type": "stream",
     "text": [
      "The model can predict  84.7% of the variance in the test seet.\n"
     ]
    }
   ],
   "source": [
    "# initialize Lasso regressor\n",
    "la = Lasso()\n",
    "# fit\n",
    "la.fit(X_train_std, y_train)\n",
    "# eval\n",
    "print(f'The model can predict {la.score(X_test_std, y_test): .1%} of the variance in the test seet.')"
   ]
  },
  {
   "cell_type": "code",
   "execution_count": 55,
   "metadata": {
    "ExecuteTime": {
     "end_time": "2020-08-27T08:51:37.235000Z",
     "start_time": "2020-08-27T08:51:37.228006Z"
    }
   },
   "outputs": [
    {
     "name": "stdout",
     "output_type": "stream",
     "text": [
      "The model has ignored 82 out of 91 features.\n"
     ]
    }
   ],
   "source": [
    "# create a list that has True values when coefs are 0\n",
    "zero_coef = la.coef_ == 0\n",
    "# calculate how many features have a zero coefficient\n",
    "print(f'The model has ignored {sum(zero_coef)} out of {len(la.coef_)} features.')"
   ]
  },
  {
   "cell_type": "markdown",
   "metadata": {},
   "source": [
    "## Adjusting the regularization strength"
   ]
  },
  {
   "cell_type": "markdown",
   "metadata": {},
   "source": [
    "When a model applies overly powerful regularization, it can suffer from high bias, so we try to improve by tweaking `alpha` and find which can predict above 98\\% while ignoring more features."
   ]
  },
  {
   "cell_type": "code",
   "execution_count": 57,
   "metadata": {
    "ExecuteTime": {
     "end_time": "2020-08-27T09:05:53.630245Z",
     "start_time": "2020-08-27T09:05:51.961334Z"
    }
   },
   "outputs": [
    {
     "data": {
      "text/plain": [
       "GridSearchCV(cv=5, estimator=Lasso(random_state=0),\n",
       "             param_grid={'alpha': [0.01, 0.1, 0.5, 1]})"
      ]
     },
     "execution_count": 57,
     "metadata": {},
     "output_type": "execute_result"
    }
   ],
   "source": [
    "param_grid = {'alpha': [0.01, 0.1, 0.5, 1]}\n",
    "\n",
    "la = Lasso(random_state=0)\n",
    "\n",
    "la_grid = GridSearchCV(estimator=la,\n",
    "                       param_grid=param_grid,\n",
    "                       cv=5)\n",
    "\n",
    "la_grid.fit(X_train_std, y_train)"
   ]
  },
  {
   "cell_type": "code",
   "execution_count": 61,
   "metadata": {
    "ExecuteTime": {
     "end_time": "2020-08-27T09:10:21.738140Z",
     "start_time": "2020-08-27T09:10:21.728145Z"
    }
   },
   "outputs": [
    {
     "name": "stdout",
     "output_type": "stream",
     "text": [
      "{'alpha': 0.01}\n",
      "The model can predict  98.8% of the variance in the test set.\n",
      "37 out of 91 features were ignored\n"
     ]
    }
   ],
   "source": [
    "print(la_grid.best_params_)\n",
    "\n",
    "la_best = la_grid.best_estimator_\n",
    "print(f'The model can predict {la_best.score(X_test_std, y_test): .1%} of the variance in the test set.')\n",
    "\n",
    "print(f'{sum(la_best.coef_ == 0)} out of {len(la_best.coef_)} features were ignored')"
   ]
  },
  {
   "cell_type": "markdown",
   "metadata": {},
   "source": [
    "However, only 37 features were ignored. Let's check the results if there are others that achieved above 98\\%. Seems `alpha=0.1` may work too."
   ]
  },
  {
   "cell_type": "code",
   "execution_count": 65,
   "metadata": {
    "ExecuteTime": {
     "end_time": "2020-08-27T09:16:05.708662Z",
     "start_time": "2020-08-27T09:16:05.680682Z"
    }
   },
   "outputs": [
    {
     "data": {
      "text/html": [
       "<div>\n",
       "<style scoped>\n",
       "    .dataframe tbody tr th:only-of-type {\n",
       "        vertical-align: middle;\n",
       "    }\n",
       "\n",
       "    .dataframe tbody tr th {\n",
       "        vertical-align: top;\n",
       "    }\n",
       "\n",
       "    .dataframe thead th {\n",
       "        text-align: right;\n",
       "    }\n",
       "</style>\n",
       "<table border=\"1\" class=\"dataframe\">\n",
       "  <thead>\n",
       "    <tr style=\"text-align: right;\">\n",
       "      <th></th>\n",
       "      <th>mean_fit_time</th>\n",
       "      <th>std_fit_time</th>\n",
       "      <th>mean_score_time</th>\n",
       "      <th>std_score_time</th>\n",
       "      <th>param_alpha</th>\n",
       "      <th>params</th>\n",
       "      <th>split0_test_score</th>\n",
       "      <th>split1_test_score</th>\n",
       "      <th>split2_test_score</th>\n",
       "      <th>split3_test_score</th>\n",
       "      <th>split4_test_score</th>\n",
       "      <th>mean_test_score</th>\n",
       "      <th>std_test_score</th>\n",
       "      <th>rank_test_score</th>\n",
       "    </tr>\n",
       "  </thead>\n",
       "  <tbody>\n",
       "    <tr>\n",
       "      <th>0</th>\n",
       "      <td>0.168481</td>\n",
       "      <td>0.014205</td>\n",
       "      <td>0.000400</td>\n",
       "      <td>0.000490</td>\n",
       "      <td>0.01</td>\n",
       "      <td>{'alpha': 0.01}</td>\n",
       "      <td>0.987437</td>\n",
       "      <td>0.987411</td>\n",
       "      <td>0.987564</td>\n",
       "      <td>0.988660</td>\n",
       "      <td>0.985895</td>\n",
       "      <td>0.987393</td>\n",
       "      <td>0.000881</td>\n",
       "      <td>1</td>\n",
       "    </tr>\n",
       "    <tr>\n",
       "      <th>1</th>\n",
       "      <td>0.056252</td>\n",
       "      <td>0.007660</td>\n",
       "      <td>0.003122</td>\n",
       "      <td>0.006243</td>\n",
       "      <td>0.1</td>\n",
       "      <td>{'alpha': 0.1}</td>\n",
       "      <td>0.982062</td>\n",
       "      <td>0.981131</td>\n",
       "      <td>0.982023</td>\n",
       "      <td>0.982882</td>\n",
       "      <td>0.980311</td>\n",
       "      <td>0.981682</td>\n",
       "      <td>0.000881</td>\n",
       "      <td>2</td>\n",
       "    </tr>\n",
       "    <tr>\n",
       "      <th>2</th>\n",
       "      <td>0.027299</td>\n",
       "      <td>0.012683</td>\n",
       "      <td>0.000600</td>\n",
       "      <td>0.000800</td>\n",
       "      <td>0.5</td>\n",
       "      <td>{'alpha': 0.5}</td>\n",
       "      <td>0.935583</td>\n",
       "      <td>0.932203</td>\n",
       "      <td>0.930501</td>\n",
       "      <td>0.930899</td>\n",
       "      <td>0.934035</td>\n",
       "      <td>0.932644</td>\n",
       "      <td>0.001919</td>\n",
       "      <td>3</td>\n",
       "    </tr>\n",
       "    <tr>\n",
       "      <th>3</th>\n",
       "      <td>0.028005</td>\n",
       "      <td>0.006193</td>\n",
       "      <td>0.000400</td>\n",
       "      <td>0.000799</td>\n",
       "      <td>1</td>\n",
       "      <td>{'alpha': 1}</td>\n",
       "      <td>0.843456</td>\n",
       "      <td>0.836537</td>\n",
       "      <td>0.833907</td>\n",
       "      <td>0.836136</td>\n",
       "      <td>0.840540</td>\n",
       "      <td>0.838115</td>\n",
       "      <td>0.003421</td>\n",
       "      <td>4</td>\n",
       "    </tr>\n",
       "  </tbody>\n",
       "</table>\n",
       "</div>"
      ],
      "text/plain": [
       "   mean_fit_time  std_fit_time  mean_score_time  std_score_time param_alpha  \\\n",
       "0       0.168481      0.014205         0.000400        0.000490        0.01   \n",
       "1       0.056252      0.007660         0.003122        0.006243         0.1   \n",
       "2       0.027299      0.012683         0.000600        0.000800         0.5   \n",
       "3       0.028005      0.006193         0.000400        0.000799           1   \n",
       "\n",
       "            params  split0_test_score  split1_test_score  split2_test_score  \\\n",
       "0  {'alpha': 0.01}           0.987437           0.987411           0.987564   \n",
       "1   {'alpha': 0.1}           0.982062           0.981131           0.982023   \n",
       "2   {'alpha': 0.5}           0.935583           0.932203           0.930501   \n",
       "3     {'alpha': 1}           0.843456           0.836537           0.833907   \n",
       "\n",
       "   split3_test_score  split4_test_score  mean_test_score  std_test_score  \\\n",
       "0           0.988660           0.985895         0.987393        0.000881   \n",
       "1           0.982882           0.980311         0.981682        0.000881   \n",
       "2           0.930899           0.934035         0.932644        0.001919   \n",
       "3           0.836136           0.840540         0.838115        0.003421   \n",
       "\n",
       "   rank_test_score  \n",
       "0                1  \n",
       "1                2  \n",
       "2                3  \n",
       "3                4  "
      ]
     },
     "execution_count": 65,
     "metadata": {},
     "output_type": "execute_result"
    }
   ],
   "source": [
    "pd.DataFrame(la_grid.cv_results_)"
   ]
  },
  {
   "cell_type": "code",
   "execution_count": 66,
   "metadata": {
    "ExecuteTime": {
     "end_time": "2020-08-27T09:18:24.929955Z",
     "start_time": "2020-08-27T09:18:24.841005Z"
    }
   },
   "outputs": [
    {
     "name": "stdout",
     "output_type": "stream",
     "text": [
      "The model can predict  98.3% of the variance in the test set.\n",
      "64 out of 91 features were ignored\n"
     ]
    }
   ],
   "source": [
    "la = Lasso(alpha=0.1, random_state=0)\n",
    "\n",
    "la.fit(X_train_std, y_train)\n",
    "\n",
    "print(f'The model can predict {la.score(X_test_std, y_test): .1%} of the variance in the test set.')\n",
    "print(f'{sum(la.coef_ == 0)} out of {len(la.coef_)} features were ignored')"
   ]
  },
  {
   "cell_type": "markdown",
   "metadata": {},
   "source": [
    "## Combining feature selectors: `LassoCV` Regressor"
   ]
  },
  {
   "cell_type": "markdown",
   "metadata": {},
   "source": [
    "Here, we'll be working with a subsample of the Male ANSUR and try to predict biceps circumference."
   ]
  },
  {
   "cell_type": "code",
   "execution_count": 67,
   "metadata": {
    "ExecuteTime": {
     "end_time": "2020-08-27T09:41:44.327320Z",
     "start_time": "2020-08-27T09:41:44.318325Z"
    }
   },
   "outputs": [],
   "source": [
    "subsample = ['acromialheight', 'axillaheight', 'bideltoidbreadth', 'buttockcircumference', 'buttockkneelength', 'buttockpopliteallength', 'cervicaleheight', 'chestcircumference', 'chestheight',\n",
    "             'earprotrusion', 'footbreadthhorizontal', 'forearmcircumferenceflexed', 'handlength', 'headbreadth', 'heelbreadth', 'hipbreadth', 'iliocristaleheight', 'interscyeii',\n",
    "             'lateralfemoralepicondyleheight', 'lateralmalleolusheight', 'neckcircumferencebase', 'radialestylionlength', 'shouldercircumference', 'shoulderelbowlength', 'sleeveoutseam',\n",
    "             'thighcircumference', 'thighclearance', 'verticaltrunkcircumferenceusa', 'waistcircumference', 'waistdepth', 'wristheight', 'BMI']"
   ]
  },
  {
   "cell_type": "code",
   "execution_count": 71,
   "metadata": {
    "ExecuteTime": {
     "end_time": "2020-08-27T09:46:48.272533Z",
     "start_time": "2020-08-27T09:46:48.241549Z"
    }
   },
   "outputs": [],
   "source": [
    "X = ansur_m[subsample]\n",
    "y = ansur_m['bicepscircumferenceflexed']\n",
    "\n",
    "X_train, X_test, y_train, y_test = train_test_split(X, y,\n",
    "                                                    test_size=0.3,\n",
    "                                                    random_state=0)\n",
    "\n",
    "scaler = StandardScaler()\n",
    "X_train_std = scaler.fit_transform(X_train)\n",
    "X_test_std = scaler.transform(X_test)"
   ]
  },
  {
   "cell_type": "code",
   "execution_count": 74,
   "metadata": {
    "ExecuteTime": {
     "end_time": "2020-08-27T09:51:06.295237Z",
     "start_time": "2020-08-27T09:51:05.949435Z"
    }
   },
   "outputs": [
    {
     "name": "stdout",
     "output_type": "stream",
     "text": [
      "Optimal alpha  0.035\n",
      "The model explains  85.6% of the test set variance\n",
      "24 features out of 32 selected.\n"
     ]
    }
   ],
   "source": [
    "# initialize LassoCV and fit\n",
    "lcv = LassoCV()\n",
    "lcv.fit(X_train_std, y_train)\n",
    "print(f'Optimal alpha {lcv.alpha_: .3f}')\n",
    "\n",
    "print(f'The model explains {lcv.score(X_test_std, y_test): .1%} of the test set variance')\n",
    "\n",
    "#create mask for coefs not equal to zero\n",
    "lcv_mask = lcv.coef_ != 0\n",
    "print(f'{sum(lcv_mask)} features out of {len(lcv_mask)} selected.')"
   ]
  },
  {
   "cell_type": "markdown",
   "metadata": {},
   "source": [
    "## Combining feature selectors: Ensemble models for extra votes"
   ]
  },
  {
   "cell_type": "code",
   "execution_count": 79,
   "metadata": {
    "ExecuteTime": {
     "end_time": "2020-08-27T10:01:22.991113Z",
     "start_time": "2020-08-27T10:01:13.384078Z"
    }
   },
   "outputs": [
    {
     "name": "stdout",
     "output_type": "stream",
     "text": [
      "Fitting estimator with 32 features.\n",
      "Fitting estimator with 29 features.\n",
      "Fitting estimator with 26 features.\n",
      "Fitting estimator with 23 features.\n",
      "Fitting estimator with 20 features.\n",
      "Fitting estimator with 17 features.\n",
      "Fitting estimator with 14 features.\n",
      "Fitting estimator with 11 features.\n",
      "The model can explain  83.3% of the variance in the test set\n"
     ]
    }
   ],
   "source": [
    "# Select 10 features with RFE on Gradient Boosting Regressor\n",
    "# drop 3 on each step\n",
    "rfe_gb = RFE(estimator=GradientBoostingRegressor(),\n",
    "             n_features_to_select=10,\n",
    "             step=3,\n",
    "             verbose=1)\n",
    "rfe_gb.fit(X_train_std, y_train)\n",
    "\n",
    "print(f'The model can explain {rfe_gb.score(X_test_std, y_test): .1%} of the variance in the test set')\n",
    "\n",
    "# assign the support array to gb_mask\n",
    "gb_mask = rfe_gb.support_"
   ]
  },
  {
   "cell_type": "code",
   "execution_count": 81,
   "metadata": {
    "ExecuteTime": {
     "end_time": "2020-08-27T10:03:34.581868Z",
     "start_time": "2020-08-27T10:03:02.142044Z"
    }
   },
   "outputs": [
    {
     "name": "stdout",
     "output_type": "stream",
     "text": [
      "Fitting estimator with 32 features.\n",
      "Fitting estimator with 29 features.\n",
      "Fitting estimator with 26 features.\n",
      "Fitting estimator with 23 features.\n",
      "Fitting estimator with 20 features.\n",
      "Fitting estimator with 17 features.\n",
      "Fitting estimator with 14 features.\n",
      "Fitting estimator with 11 features.\n",
      "The model can explain  82.4% of the variance in the test set\n"
     ]
    }
   ],
   "source": [
    "# Do the same for a Random Forest Regressor\n",
    "rfe_rf = RFE(estimator=RandomForestRegressor(),\n",
    "             n_features_to_select=10,\n",
    "             step=3,\n",
    "             verbose=1)\n",
    "rfe_rf.fit(X_train_std, y_train)\n",
    "\n",
    "print(f'The model can explain {rfe_rf.score(X_test_std, y_test): .1%} of the variance in the test set')\n",
    "\n",
    "# assign the support array to gb_mask\n",
    "rf_mask = rfe_rf.support_"
   ]
  },
  {
   "cell_type": "markdown",
   "metadata": {
    "ExecuteTime": {
     "end_time": "2020-08-27T10:04:47.020390Z",
     "start_time": "2020-08-27T10:04:47.013395Z"
    }
   },
   "source": [
    "## Combining the 3 feature selectors"
   ]
  },
  {
   "cell_type": "code",
   "execution_count": 89,
   "metadata": {
    "ExecuteTime": {
     "end_time": "2020-08-27T10:11:39.248643Z",
     "start_time": "2020-08-27T10:11:39.236648Z"
    }
   },
   "outputs": [
    {
     "data": {
      "text/plain": [
       "Index(['bideltoidbreadth', 'buttockcircumference', 'chestcircumference',\n",
       "       'forearmcircumferenceflexed', 'shouldercircumference',\n",
       "       'shoulderelbowlength', 'thighcircumference', 'BMI'],\n",
       "      dtype='object')"
      ]
     },
     "execution_count": 89,
     "metadata": {},
     "output_type": "execute_result"
    }
   ],
   "source": [
    "# sum votes of 3 models\n",
    "votes = np.sum([lcv_mask, rf_mask, gb_mask], axis=0)\n",
    "\n",
    "# create mask for features selected by all 3 models\n",
    "meta_mask = votes >= 3\n",
    "\n",
    "# apply the dim reduction on X\n",
    "X_reduced = X.loc[:, meta_mask]\n",
    "X_reduced.columns"
   ]
  },
  {
   "cell_type": "code",
   "execution_count": 91,
   "metadata": {
    "ExecuteTime": {
     "end_time": "2020-08-27T10:18:21.130081Z",
     "start_time": "2020-08-27T10:18:20.388243Z"
    }
   },
   "outputs": [
    {
     "name": "stdout",
     "output_type": "stream",
     "text": [
      "The model can explain  84.0% of the variance in the test set using 8 features.\n"
     ]
    }
   ],
   "source": [
    "# Plug the reduced dataset into a linear regression\n",
    "X_train, X_test, y_train, y_test = train_test_split(X_reduced, y,\n",
    "                                                    test_size=0.3,\n",
    "                                                    random_state=0)\n",
    "scaler = StandardScaler()\n",
    "lm = LinearRegression()\n",
    "\n",
    "lm.fit(scaler.fit_transform(X_train), y_train)\n",
    "\n",
    "r_2 = lm.score(scaler.transform(X_test), y_test)\n",
    "print(f'The model can explain {r_2: .1%} of the variance in the test set using {len(lm.coef_)} features.')"
   ]
  },
  {
   "cell_type": "markdown",
   "metadata": {},
   "source": [
    "Using the votes from 3 models, just 7 features were selected to allow a simple linear model to get a high accuracy."
   ]
  },
  {
   "cell_type": "code",
   "execution_count": null,
   "metadata": {},
   "outputs": [],
   "source": []
  }
 ],
 "metadata": {
  "kernelspec": {
   "display_name": "tf2-gpu",
   "language": "python",
   "name": "tf2-gpu"
  },
  "language_info": {
   "codemirror_mode": {
    "name": "ipython",
    "version": 3
   },
   "file_extension": ".py",
   "mimetype": "text/x-python",
   "name": "python",
   "nbconvert_exporter": "python",
   "pygments_lexer": "ipython3",
   "version": "3.7.7"
  },
  "toc": {
   "base_numbering": 1,
   "nav_menu": {},
   "number_sections": true,
   "sideBar": true,
   "skip_h1_title": false,
   "title_cell": "Table of Contents",
   "title_sidebar": "Contents",
   "toc_cell": false,
   "toc_position": {},
   "toc_section_display": true,
   "toc_window_display": false
  }
 },
 "nbformat": 4,
 "nbformat_minor": 4
}
