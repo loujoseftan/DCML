{
 "cells": [
  {
   "cell_type": "code",
   "execution_count": 1,
   "metadata": {
    "ExecuteTime": {
     "end_time": "2020-09-09T12:35:33.826354Z",
     "start_time": "2020-09-09T12:35:22.250690Z"
    }
   },
   "outputs": [],
   "source": [
    "import numpy as np\n",
    "import pandas as pd\n",
    "import matplotlib.pyplot as plt\n",
    "import seaborn as sns\n",
    "sns.set()"
   ]
  },
  {
   "cell_type": "code",
   "execution_count": 18,
   "metadata": {
    "ExecuteTime": {
     "end_time": "2020-09-09T13:21:49.476393Z",
     "start_time": "2020-09-09T13:21:49.469397Z"
    }
   },
   "outputs": [
    {
     "data": {
      "text/plain": [
       "'2.1.0'"
      ]
     },
     "execution_count": 18,
     "metadata": {},
     "output_type": "execute_result"
    }
   ],
   "source": [
    "import tensorflow as tf\n",
    "from tensorflow.keras.models import Model\n",
    "from tensorflow.keras.layers import Dense, Input, Embedding, Flatten, Subtract\n",
    "from tensorflow.keras.optimizers import Adam\n",
    "\n",
    "tf.__version__"
   ]
  },
  {
   "cell_type": "code",
   "execution_count": 4,
   "metadata": {
    "ExecuteTime": {
     "end_time": "2020-09-09T13:01:10.655309Z",
     "start_time": "2020-09-09T13:01:10.417446Z"
    }
   },
   "outputs": [],
   "source": [
    "games_season = pd.read_csv('./games_season.csv')"
   ]
  },
  {
   "cell_type": "markdown",
   "metadata": {},
   "source": [
    "# Category embeddings"
   ]
  },
  {
   "cell_type": "code",
   "execution_count": 8,
   "metadata": {
    "ExecuteTime": {
     "end_time": "2020-09-09T13:02:23.168073Z",
     "start_time": "2020-09-09T13:02:23.151103Z"
    }
   },
   "outputs": [
    {
     "name": "stdout",
     "output_type": "stream",
     "text": [
      "(312178, 8)\n"
     ]
    },
    {
     "data": {
      "text/html": [
       "<div>\n",
       "<style scoped>\n",
       "    .dataframe tbody tr th:only-of-type {\n",
       "        vertical-align: middle;\n",
       "    }\n",
       "\n",
       "    .dataframe tbody tr th {\n",
       "        vertical-align: top;\n",
       "    }\n",
       "\n",
       "    .dataframe thead th {\n",
       "        text-align: right;\n",
       "    }\n",
       "</style>\n",
       "<table border=\"1\" class=\"dataframe\">\n",
       "  <thead>\n",
       "    <tr style=\"text-align: right;\">\n",
       "      <th></th>\n",
       "      <th>season</th>\n",
       "      <th>team_1</th>\n",
       "      <th>team_2</th>\n",
       "      <th>home</th>\n",
       "      <th>score_diff</th>\n",
       "      <th>score_1</th>\n",
       "      <th>score_2</th>\n",
       "      <th>won</th>\n",
       "    </tr>\n",
       "  </thead>\n",
       "  <tbody>\n",
       "    <tr>\n",
       "      <th>0</th>\n",
       "      <td>1985</td>\n",
       "      <td>3745</td>\n",
       "      <td>6664</td>\n",
       "      <td>0</td>\n",
       "      <td>17</td>\n",
       "      <td>81</td>\n",
       "      <td>64</td>\n",
       "      <td>1</td>\n",
       "    </tr>\n",
       "    <tr>\n",
       "      <th>1</th>\n",
       "      <td>1985</td>\n",
       "      <td>126</td>\n",
       "      <td>7493</td>\n",
       "      <td>1</td>\n",
       "      <td>7</td>\n",
       "      <td>77</td>\n",
       "      <td>70</td>\n",
       "      <td>1</td>\n",
       "    </tr>\n",
       "    <tr>\n",
       "      <th>2</th>\n",
       "      <td>1985</td>\n",
       "      <td>288</td>\n",
       "      <td>3593</td>\n",
       "      <td>1</td>\n",
       "      <td>7</td>\n",
       "      <td>63</td>\n",
       "      <td>56</td>\n",
       "      <td>1</td>\n",
       "    </tr>\n",
       "    <tr>\n",
       "      <th>3</th>\n",
       "      <td>1985</td>\n",
       "      <td>1846</td>\n",
       "      <td>9881</td>\n",
       "      <td>1</td>\n",
       "      <td>16</td>\n",
       "      <td>70</td>\n",
       "      <td>54</td>\n",
       "      <td>1</td>\n",
       "    </tr>\n",
       "    <tr>\n",
       "      <th>4</th>\n",
       "      <td>1985</td>\n",
       "      <td>2675</td>\n",
       "      <td>10298</td>\n",
       "      <td>1</td>\n",
       "      <td>12</td>\n",
       "      <td>86</td>\n",
       "      <td>74</td>\n",
       "      <td>1</td>\n",
       "    </tr>\n",
       "  </tbody>\n",
       "</table>\n",
       "</div>"
      ],
      "text/plain": [
       "   season  team_1  team_2  home  score_diff  score_1  score_2  won\n",
       "0    1985    3745    6664     0          17       81       64    1\n",
       "1    1985     126    7493     1           7       77       70    1\n",
       "2    1985     288    3593     1           7       63       56    1\n",
       "3    1985    1846    9881     1          16       70       54    1\n",
       "4    1985    2675   10298     1          12       86       74    1"
      ]
     },
     "execution_count": 8,
     "metadata": {},
     "output_type": "execute_result"
    }
   ],
   "source": [
    "print(games_season.shape)\n",
    "games_season.head()"
   ]
  },
  {
   "cell_type": "markdown",
   "metadata": {
    "ExecuteTime": {
     "end_time": "2020-09-09T13:02:45.039847Z",
     "start_time": "2020-09-09T13:02:45.016859Z"
    }
   },
   "source": [
    "## Define team lookup"
   ]
  },
  {
   "cell_type": "markdown",
   "metadata": {
    "ExecuteTime": {
     "end_time": "2020-09-09T13:04:04.717007Z",
     "start_time": "2020-09-09T13:04:04.704014Z"
    }
   },
   "source": [
    "Shared layers allow a model to use the same weight matrix for multiple steps. In this exercise, you will build a \"team strength\" layer that represents each team by a single number. You will use this number for both teams in the model. The model will learn a number for each team that works well both when the team is team_1 and when the team is team_2 in the input data."
   ]
  },
  {
   "cell_type": "code",
   "execution_count": 12,
   "metadata": {
    "ExecuteTime": {
     "end_time": "2020-09-09T13:07:06.977073Z",
     "start_time": "2020-09-09T13:07:06.962082Z"
    }
   },
   "outputs": [],
   "source": [
    "# count number of unique teams from df\n",
    "n_teams = len(games_season['team_1'].unique())\n",
    "\n",
    "# create an embedding layer\n",
    "team_lookup = Embedding(input_dim=n_teams,\n",
    "                        output_dim=1,\n",
    "                        input_length=1,\n",
    "                        name='Team_Strength')"
   ]
  },
  {
   "cell_type": "markdown",
   "metadata": {},
   "source": [
    "## Define team model"
   ]
  },
  {
   "cell_type": "code",
   "execution_count": 14,
   "metadata": {
    "ExecuteTime": {
     "end_time": "2020-09-09T13:10:57.169454Z",
     "start_time": "2020-09-09T13:10:35.581293Z"
    }
   },
   "outputs": [],
   "source": [
    "# define model\n",
    "\n",
    "# create input layer for team ID column\n",
    "teamid_in = Input(shape=(1,))\n",
    "\n",
    "# lookup the input in the embedding layer\n",
    "strength_lookup = team_lookup(teamid_in)\n",
    "\n",
    "# flatten the output\n",
    "strength_lookup_flat = Flatten()(strength_lookup)\n",
    "\n",
    "# build model\n",
    "team_strength_model = Model(inputs=teamid_in,\n",
    "                            outputs=strength_lookup_flat,\n",
    "                            name='Team_Strength_Model')"
   ]
  },
  {
   "cell_type": "markdown",
   "metadata": {},
   "source": [
    "# Shared layers"
   ]
  },
  {
   "cell_type": "code",
   "execution_count": 15,
   "metadata": {
    "ExecuteTime": {
     "end_time": "2020-09-09T13:15:46.109357Z",
     "start_time": "2020-09-09T13:15:46.101363Z"
    }
   },
   "outputs": [
    {
     "name": "stdout",
     "output_type": "stream",
     "text": [
      "Model: \"Team_Strength_Model\"\n",
      "_________________________________________________________________\n",
      "Layer (type)                 Output Shape              Param #   \n",
      "=================================================================\n",
      "input_1 (InputLayer)         [(None, 1)]               0         \n",
      "_________________________________________________________________\n",
      "Team_Strength (Embedding)    (None, 1, 1)              10888     \n",
      "_________________________________________________________________\n",
      "flatten (Flatten)            (None, 1)                 0         \n",
      "=================================================================\n",
      "Total params: 10,888\n",
      "Trainable params: 10,888\n",
      "Non-trainable params: 0\n",
      "_________________________________________________________________\n"
     ]
    }
   ],
   "source": [
    "team_strength_model.summary()"
   ]
  },
  {
   "cell_type": "markdown",
   "metadata": {},
   "source": [
    "## Defining two inputs"
   ]
  },
  {
   "cell_type": "code",
   "execution_count": 16,
   "metadata": {
    "ExecuteTime": {
     "end_time": "2020-09-09T13:17:29.983274Z",
     "start_time": "2020-09-09T13:17:29.973280Z"
    }
   },
   "outputs": [],
   "source": [
    "# Input layer for team 1 and team 2\n",
    "team_in_1 = Input(shape=(1,), name='Team_1_In')\n",
    "team_in_2 = Input(shape=(1,), name='Team_2_In')"
   ]
  },
  {
   "cell_type": "markdown",
   "metadata": {},
   "source": [
    "## Lookup both inputs in the same model"
   ]
  },
  {
   "cell_type": "code",
   "execution_count": 17,
   "metadata": {
    "ExecuteTime": {
     "end_time": "2020-09-09T13:18:57.087656Z",
     "start_time": "2020-09-09T13:18:57.055122Z"
    }
   },
   "outputs": [],
   "source": [
    "# lookup teams 1 and 2 in the same team strength model\n",
    "team_1_strength = team_strength_model(team_in_1)\n",
    "team_2_strength = team_strength_model(team_in_2)"
   ]
  },
  {
   "cell_type": "markdown",
   "metadata": {},
   "source": [
    "# Merge layers"
   ]
  },
  {
   "cell_type": "markdown",
   "metadata": {},
   "source": [
    "## Output layer using shared layer"
   ]
  },
  {
   "cell_type": "code",
   "execution_count": 19,
   "metadata": {
    "ExecuteTime": {
     "end_time": "2020-09-09T13:23:02.068959Z",
     "start_time": "2020-09-09T13:23:02.023984Z"
    }
   },
   "outputs": [],
   "source": [
    "# create a Subtract layer using the inputs from the prev cell\n",
    "score_diff = Subtract()([team_1_strength, team_2_strength])"
   ]
  },
  {
   "cell_type": "markdown",
   "metadata": {},
   "source": [
    "## Model using two inputs and one output"
   ]
  },
  {
   "cell_type": "code",
   "execution_count": 24,
   "metadata": {
    "ExecuteTime": {
     "end_time": "2020-09-09T13:40:27.301127Z",
     "start_time": "2020-09-09T13:40:27.269878Z"
    }
   },
   "outputs": [],
   "source": [
    "# create the model\n",
    "model = Model(inputs=[team_in_1, team_in_2], \n",
    "              outputs=score_diff)\n",
    "\n",
    "# compile\n",
    "model.compile(optimizer=Adam(0.1),\n",
    "              loss='mae')"
   ]
  },
  {
   "cell_type": "markdown",
   "metadata": {},
   "source": [
    "# Predict from your model"
   ]
  },
  {
   "cell_type": "markdown",
   "metadata": {},
   "source": [
    "## Fit the model to the regular season training data"
   ]
  },
  {
   "cell_type": "code",
   "execution_count": 28,
   "metadata": {
    "ExecuteTime": {
     "end_time": "2020-09-09T13:41:10.434973Z",
     "start_time": "2020-09-09T13:41:04.674732Z"
    }
   },
   "outputs": [
    {
     "name": "stdout",
     "output_type": "stream",
     "text": [
      "Train on 280960 samples, validate on 31218 samples\n",
      "Epoch 1/5\n",
      "280960/280960 [==============================] - 1s 4us/sample - loss: 8.3206 - val_loss: 8.0830\n",
      "Epoch 2/5\n",
      "280960/280960 [==============================] - 1s 4us/sample - loss: 8.3178 - val_loss: 8.0805\n",
      "Epoch 3/5\n",
      "280960/280960 [==============================] - 1s 4us/sample - loss: 8.3152 - val_loss: 8.0766\n",
      "Epoch 4/5\n",
      "280960/280960 [==============================] - 1s 4us/sample - loss: 8.3135 - val_loss: 8.0756\n",
      "Epoch 5/5\n",
      "280960/280960 [==============================] - 1s 4us/sample - loss: 8.3123 - val_loss: 8.0725\n"
     ]
    },
    {
     "data": {
      "text/plain": [
       "<tensorflow.python.keras.callbacks.History at 0x208ea1e0908>"
      ]
     },
     "execution_count": 28,
     "metadata": {},
     "output_type": "execute_result"
    }
   ],
   "source": [
    "# get inputs from dataframe\n",
    "input_1 = games_season['team_1'].to_numpy('float32')\n",
    "input_2 = games_season['team_2'].to_numpy('float32')\n",
    "target = games_season['score_diff'].to_numpy('float32')\n",
    "\n",
    "# fit the model\n",
    "model.fit([input_1, input_2], target,\n",
    "          epochs=5,\n",
    "          batch_size=2048,\n",
    "          validation_split=0.1,\n",
    "          verbose=1)"
   ]
  },
  {
   "cell_type": "code",
   "execution_count": 30,
   "metadata": {
    "ExecuteTime": {
     "end_time": "2020-09-09T13:44:29.195550Z",
     "start_time": "2020-09-09T13:44:03.436879Z"
    }
   },
   "outputs": [
    {
     "name": "stdout",
     "output_type": "stream",
     "text": [
      "8.186932185037598\n"
     ]
    }
   ],
   "source": [
    "print(model.evaluate([input_1, input_2], target, verbose=0))"
   ]
  },
  {
   "cell_type": "code",
   "execution_count": null,
   "metadata": {},
   "outputs": [],
   "source": []
  }
 ],
 "metadata": {
  "kernelspec": {
   "display_name": "tf2-gpu",
   "language": "python",
   "name": "tf2-gpu"
  },
  "language_info": {
   "codemirror_mode": {
    "name": "ipython",
    "version": 3
   },
   "file_extension": ".py",
   "mimetype": "text/x-python",
   "name": "python",
   "nbconvert_exporter": "python",
   "pygments_lexer": "ipython3",
   "version": "3.7.7"
  },
  "toc": {
   "base_numbering": 1,
   "nav_menu": {},
   "number_sections": true,
   "sideBar": true,
   "skip_h1_title": false,
   "title_cell": "Table of Contents",
   "title_sidebar": "Contents",
   "toc_cell": false,
   "toc_position": {},
   "toc_section_display": true,
   "toc_window_display": false
  }
 },
 "nbformat": 4,
 "nbformat_minor": 4
}
