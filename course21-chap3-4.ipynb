{
 "cells": [
  {
   "cell_type": "code",
   "execution_count": 1,
   "metadata": {
    "ExecuteTime": {
     "end_time": "2020-09-21T14:28:48.207486Z",
     "start_time": "2020-09-21T14:28:44.781625Z"
    }
   },
   "outputs": [],
   "source": [
    "import findspark\n",
    "findspark.init()\n",
    "\n",
    "findspark.find()\n",
    "import pyspark"
   ]
  },
  {
   "cell_type": "code",
   "execution_count": 42,
   "metadata": {
    "ExecuteTime": {
     "end_time": "2020-09-21T15:56:12.983208Z",
     "start_time": "2020-09-21T15:56:12.977195Z"
    }
   },
   "outputs": [],
   "source": [
    "from pyspark import SparkContext\n",
    "from pyspark.sql import SparkSession\n",
    "from pyspark.ml.feature import StringIndexer, OneHotEncoder, VectorAssembler\n",
    "from pyspark.ml import Pipeline\n",
    "from pyspark.ml.classification import LogisticRegression\n",
    "from pyspark.ml.evaluation import BinaryClassificationEvaluator\n",
    "from pyspark.ml.tuning import ParamGridBuilder, CrossValidator"
   ]
  },
  {
   "cell_type": "code",
   "execution_count": 3,
   "metadata": {
    "ExecuteTime": {
     "end_time": "2020-09-21T14:29:17.344968Z",
     "start_time": "2020-09-21T14:29:11.497439Z"
    }
   },
   "outputs": [],
   "source": [
    "import numpy as np\n",
    "import pandas as pd"
   ]
  },
  {
   "cell_type": "code",
   "execution_count": 4,
   "metadata": {
    "ExecuteTime": {
     "end_time": "2020-09-21T14:43:31.918014Z",
     "start_time": "2020-09-21T14:42:41.524852Z"
    }
   },
   "outputs": [
    {
     "name": "stdout",
     "output_type": "stream",
     "text": [
      "<pyspark.sql.session.SparkSession object at 0x0000029F6F8E0648>\n"
     ]
    }
   ],
   "source": [
    "spark = SparkSession.builder.getOrCreate()\n",
    "print(spark)"
   ]
  },
  {
   "cell_type": "code",
   "execution_count": 7,
   "metadata": {
    "ExecuteTime": {
     "end_time": "2020-09-21T15:13:06.992361Z",
     "start_time": "2020-09-21T15:12:59.111144Z"
    }
   },
   "outputs": [],
   "source": [
    "flights = spark.read.csv('flights_small.csv', header=True)\n",
    "planes = spark.read.csv('planes.csv', header=True)"
   ]
  },
  {
   "cell_type": "markdown",
   "metadata": {},
   "source": [
    "# Join the DataFrames"
   ]
  },
  {
   "cell_type": "code",
   "execution_count": 10,
   "metadata": {
    "ExecuteTime": {
     "end_time": "2020-09-21T15:13:55.850034Z",
     "start_time": "2020-09-21T15:13:55.439590Z"
    }
   },
   "outputs": [],
   "source": [
    "# rename year column\n",
    "planes = planes.withColumnRenamed('year', 'plane_year')\n",
    "\n",
    "# join the dataframes\n",
    "model_data = flights.join(planes, on='tailnum', how='leftouter')"
   ]
  },
  {
   "cell_type": "markdown",
   "metadata": {
    "ExecuteTime": {
     "end_time": "2020-09-21T15:14:19.024376Z",
     "start_time": "2020-09-21T15:14:17.752796Z"
    }
   },
   "source": [
    "# String to integer"
   ]
  },
  {
   "cell_type": "code",
   "execution_count": 14,
   "metadata": {
    "ExecuteTime": {
     "end_time": "2020-09-21T15:20:24.156373Z",
     "start_time": "2020-09-21T15:20:24.148359Z"
    }
   },
   "outputs": [
    {
     "data": {
      "text/plain": [
       "[('tailnum', 'string'),\n",
       " ('year', 'string'),\n",
       " ('month', 'string'),\n",
       " ('day', 'string'),\n",
       " ('dep_time', 'string'),\n",
       " ('dep_delay', 'string'),\n",
       " ('arr_time', 'string'),\n",
       " ('arr_delay', 'string'),\n",
       " ('carrier', 'string'),\n",
       " ('flight', 'string'),\n",
       " ('origin', 'string'),\n",
       " ('dest', 'string'),\n",
       " ('air_time', 'string'),\n",
       " ('distance', 'string'),\n",
       " ('hour', 'string'),\n",
       " ('minute', 'string'),\n",
       " ('plane_year', 'string'),\n",
       " ('type', 'string'),\n",
       " ('manufacturer', 'string'),\n",
       " ('model', 'string'),\n",
       " ('engines', 'string'),\n",
       " ('seats', 'string'),\n",
       " ('speed', 'string'),\n",
       " ('engine', 'string')]"
      ]
     },
     "execution_count": 14,
     "metadata": {},
     "output_type": "execute_result"
    }
   ],
   "source": [
    "model_data.dtypes"
   ]
  },
  {
   "cell_type": "code",
   "execution_count": 15,
   "metadata": {
    "ExecuteTime": {
     "end_time": "2020-09-21T15:20:43.237885Z",
     "start_time": "2020-09-21T15:20:42.263400Z"
    }
   },
   "outputs": [],
   "source": [
    "# cast the columns to integers\n",
    "model_data = model_data.withColumn(\"arr_delay\", model_data.arr_delay.cast('integer'))\n",
    "model_data = model_data.withColumn(\"air_time\", model_data.air_time.cast('integer'))\n",
    "model_data = model_data.withColumn(\"month\", model_data.month.cast('integer'))\n",
    "model_data = model_data.withColumn(\"plane_year\", model_data.plane_year.cast('integer'))"
   ]
  },
  {
   "cell_type": "markdown",
   "metadata": {},
   "source": [
    "# Create a new column"
   ]
  },
  {
   "cell_type": "code",
   "execution_count": 16,
   "metadata": {
    "ExecuteTime": {
     "end_time": "2020-09-21T15:22:41.520899Z",
     "start_time": "2020-09-21T15:22:41.224825Z"
    }
   },
   "outputs": [],
   "source": [
    "# create column plane_age\n",
    "model_data = model_data.withColumn('plane_age', model_data.year - model_data.plane_year)"
   ]
  },
  {
   "cell_type": "markdown",
   "metadata": {},
   "source": [
    "# Making a Boolean"
   ]
  },
  {
   "cell_type": "code",
   "execution_count": 18,
   "metadata": {
    "ExecuteTime": {
     "end_time": "2020-09-21T15:26:44.555615Z",
     "start_time": "2020-09-21T15:26:44.346392Z"
    }
   },
   "outputs": [],
   "source": [
    "# create is_late\n",
    "model_data = model_data.withColumn('is_late', model_data.arr_delay > 0)\n",
    "\n",
    "# convert to integer\n",
    "model_data = model_data.withColumn('label', model_data.is_late.cast('integer'))\n",
    "\n",
    "# remove missing values\n",
    "model_data = model_data.filter('arr_delay is not NULL and dep_delay is not NULL and air_time is not NULL and plane_year is not NULL')"
   ]
  },
  {
   "cell_type": "code",
   "execution_count": 19,
   "metadata": {
    "ExecuteTime": {
     "end_time": "2020-09-21T15:26:53.013020Z",
     "start_time": "2020-09-21T15:26:51.670644Z"
    }
   },
   "outputs": [
    {
     "data": {
      "text/plain": [
       "6216"
      ]
     },
     "execution_count": 19,
     "metadata": {},
     "output_type": "execute_result"
    }
   ],
   "source": [
    "model_data.count()"
   ]
  },
  {
   "cell_type": "markdown",
   "metadata": {},
   "source": [
    "# Carrier"
   ]
  },
  {
   "cell_type": "code",
   "execution_count": 21,
   "metadata": {
    "ExecuteTime": {
     "end_time": "2020-09-21T15:33:27.572567Z",
     "start_time": "2020-09-21T15:33:27.120861Z"
    }
   },
   "outputs": [],
   "source": [
    "# create StringIndexer\n",
    "carr_indexer = StringIndexer(inputCol='carrier',\n",
    "                             outputCol='carrier_index')\n",
    "\n",
    "# create OneHotEncoder\n",
    "carr_encoder = OneHotEncoder(inputCol='carrier_index',\n",
    "                             outputCol='carrier_fact')"
   ]
  },
  {
   "cell_type": "markdown",
   "metadata": {},
   "source": [
    "# Destination"
   ]
  },
  {
   "cell_type": "code",
   "execution_count": 22,
   "metadata": {
    "ExecuteTime": {
     "end_time": "2020-09-21T15:34:58.773405Z",
     "start_time": "2020-09-21T15:34:58.751418Z"
    }
   },
   "outputs": [],
   "source": [
    "# create a StringIndexer\n",
    "dest_indexer = StringIndexer(inputCol='dest',\n",
    "                             outputCol='dest_index')\n",
    "\n",
    "# create a OneHotEncoder\n",
    "dest_encoder = OneHotEncoder(inputCol='dest_index', \n",
    "                             outputCol='dest_fact')"
   ]
  },
  {
   "cell_type": "markdown",
   "metadata": {},
   "source": [
    "# Assemble a vector"
   ]
  },
  {
   "cell_type": "code",
   "execution_count": 24,
   "metadata": {
    "ExecuteTime": {
     "end_time": "2020-09-21T15:38:03.622905Z",
     "start_time": "2020-09-21T15:38:03.439375Z"
    }
   },
   "outputs": [],
   "source": [
    "# Make a VectorAssembler\n",
    "input_cols = ['month', 'air_time', 'carrier_fact', 'dest_fact', 'plane_age']\n",
    "vec_assembler = VectorAssembler(inputCols=input_cols,\n",
    "                                outputCol='features')"
   ]
  },
  {
   "cell_type": "markdown",
   "metadata": {},
   "source": [
    "# Create the pipeline"
   ]
  },
  {
   "cell_type": "code",
   "execution_count": 26,
   "metadata": {
    "ExecuteTime": {
     "end_time": "2020-09-21T15:40:20.883347Z",
     "start_time": "2020-09-21T15:40:20.878352Z"
    }
   },
   "outputs": [],
   "source": [
    "flights_pipe = Pipeline(stages=[dest_indexer,\n",
    "                                dest_encoder,\n",
    "                                carr_indexer,\n",
    "                                carr_encoder,\n",
    "                                vec_assembler])"
   ]
  },
  {
   "cell_type": "markdown",
   "metadata": {},
   "source": [
    "# Transform the data"
   ]
  },
  {
   "cell_type": "code",
   "execution_count": 27,
   "metadata": {
    "ExecuteTime": {
     "end_time": "2020-09-21T15:42:55.326672Z",
     "start_time": "2020-09-21T15:42:50.321955Z"
    }
   },
   "outputs": [],
   "source": [
    "# fit and transform the data\n",
    "piped_data = flights_pipe.fit(model_data).transform(model_data)"
   ]
  },
  {
   "cell_type": "markdown",
   "metadata": {},
   "source": [
    "# Split the data"
   ]
  },
  {
   "cell_type": "code",
   "execution_count": 32,
   "metadata": {
    "ExecuteTime": {
     "end_time": "2020-09-21T15:44:30.020535Z",
     "start_time": "2020-09-21T15:44:29.996553Z"
    }
   },
   "outputs": [],
   "source": [
    "train, test = piped_data.randomSplit([.8, .2])"
   ]
  },
  {
   "cell_type": "markdown",
   "metadata": {},
   "source": [
    "# Create the modeler"
   ]
  },
  {
   "cell_type": "code",
   "execution_count": 37,
   "metadata": {
    "ExecuteTime": {
     "end_time": "2020-09-21T15:47:49.292987Z",
     "start_time": "2020-09-21T15:47:48.677897Z"
    }
   },
   "outputs": [],
   "source": [
    "lr = LogisticRegression()"
   ]
  },
  {
   "cell_type": "markdown",
   "metadata": {},
   "source": [
    "# Create the evaluator"
   ]
  },
  {
   "cell_type": "code",
   "execution_count": 39,
   "metadata": {
    "ExecuteTime": {
     "end_time": "2020-09-21T15:50:08.862941Z",
     "start_time": "2020-09-21T15:50:08.741836Z"
    }
   },
   "outputs": [],
   "source": [
    "evaluator = BinaryClassificationEvaluator(metricName='areaUnderROC')"
   ]
  },
  {
   "cell_type": "markdown",
   "metadata": {},
   "source": [
    "# Make a grid for fine-tuning"
   ]
  },
  {
   "cell_type": "code",
   "execution_count": 41,
   "metadata": {
    "ExecuteTime": {
     "end_time": "2020-09-21T15:55:36.971782Z",
     "start_time": "2020-09-21T15:55:36.881833Z"
    }
   },
   "outputs": [],
   "source": [
    "# create parameter grid\n",
    "grid = ParamGridBuilder()\n",
    "\n",
    "grid = grid.addGrid(lr.regParam, np.arange(0, 0.1, 0.01))\n",
    "grid = grid.addGrid(lr.elasticNetParam, [0, 1])\n",
    "\n",
    "# build grid\n",
    "grid = grid.build()"
   ]
  },
  {
   "cell_type": "markdown",
   "metadata": {},
   "source": [
    "# Make the validator"
   ]
  },
  {
   "cell_type": "code",
   "execution_count": 43,
   "metadata": {
    "ExecuteTime": {
     "end_time": "2020-09-21T15:57:02.704607Z",
     "start_time": "2020-09-21T15:57:02.699613Z"
    }
   },
   "outputs": [],
   "source": [
    "cv = CrossValidator(estimator=lr,\n",
    "                    estimatorParamMaps=grid,\n",
    "                    evaluator=evaluator)"
   ]
  },
  {
   "cell_type": "markdown",
   "metadata": {},
   "source": [
    "# Fit the model"
   ]
  },
  {
   "cell_type": "code",
   "execution_count": 44,
   "metadata": {
    "ExecuteTime": {
     "end_time": "2020-09-21T16:00:24.570013Z",
     "start_time": "2020-09-21T15:58:24.078216Z"
    }
   },
   "outputs": [],
   "source": [
    "models = cv.fit(train)"
   ]
  },
  {
   "cell_type": "code",
   "execution_count": 45,
   "metadata": {
    "ExecuteTime": {
     "end_time": "2020-09-21T16:00:49.357557Z",
     "start_time": "2020-09-21T16:00:49.353562Z"
    }
   },
   "outputs": [],
   "source": [
    "# get best fit\n",
    "best_lr = models.bestModel"
   ]
  },
  {
   "cell_type": "markdown",
   "metadata": {},
   "source": [
    "# Evaluate the model"
   ]
  },
  {
   "cell_type": "code",
   "execution_count": 46,
   "metadata": {
    "ExecuteTime": {
     "end_time": "2020-09-21T16:03:01.004571Z",
     "start_time": "2020-09-21T16:03:00.084888Z"
    }
   },
   "outputs": [
    {
     "name": "stdout",
     "output_type": "stream",
     "text": [
      "test acc:  71.0%\n"
     ]
    }
   ],
   "source": [
    "# use the model to predict the test set\n",
    "test_results = best_lr.transform(test)\n",
    "\n",
    "# eval\n",
    "print(f'test acc: {evaluator.evaluate(test_results): .1%}')"
   ]
  },
  {
   "cell_type": "code",
   "execution_count": null,
   "metadata": {},
   "outputs": [],
   "source": []
  }
 ],
 "metadata": {
  "kernelspec": {
   "display_name": "tf2-gpu",
   "language": "python",
   "name": "tf2-gpu"
  },
  "language_info": {
   "codemirror_mode": {
    "name": "ipython",
    "version": 3
   },
   "file_extension": ".py",
   "mimetype": "text/x-python",
   "name": "python",
   "nbconvert_exporter": "python",
   "pygments_lexer": "ipython3",
   "version": "3.7.7"
  },
  "toc": {
   "base_numbering": 1,
   "nav_menu": {},
   "number_sections": true,
   "sideBar": true,
   "skip_h1_title": false,
   "title_cell": "Table of Contents",
   "title_sidebar": "Contents",
   "toc_cell": false,
   "toc_position": {},
   "toc_section_display": true,
   "toc_window_display": false
  }
 },
 "nbformat": 4,
 "nbformat_minor": 4
}
