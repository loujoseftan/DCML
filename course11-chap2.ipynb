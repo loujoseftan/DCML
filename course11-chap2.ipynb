{
 "cells": [
  {
   "cell_type": "code",
   "execution_count": 1,
   "metadata": {
    "ExecuteTime": {
     "end_time": "2020-09-02T11:54:37.799172Z",
     "start_time": "2020-09-02T11:54:17.283520Z"
    }
   },
   "outputs": [],
   "source": [
    "import numpy as np\n",
    "import pandas as pd\n",
    "import matplotlib.pyplot as plt\n",
    "import seaborn as sns\n",
    "sns.set()"
   ]
  },
  {
   "cell_type": "code",
   "execution_count": 47,
   "metadata": {
    "ExecuteTime": {
     "end_time": "2020-09-02T13:19:46.397031Z",
     "start_time": "2020-09-02T13:19:46.392033Z"
    }
   },
   "outputs": [],
   "source": [
    "from sklearn.model_selection import train_test_split\n",
    "from sklearn.metrics import mean_absolute_error as mae, mean_squared_error as mse, confusion_matrix, precision_score, recall_score, accuracy_score\n",
    "from sklearn.ensemble import RandomForestClassifier, RandomForestRegressor"
   ]
  },
  {
   "cell_type": "code",
   "execution_count": 36,
   "metadata": {
    "ExecuteTime": {
     "end_time": "2020-09-02T13:12:10.973385Z",
     "start_time": "2020-09-02T13:12:10.876387Z"
    }
   },
   "outputs": [],
   "source": [
    "# datasets used\n",
    "ttt = pd.read_csv('./tic-tac-toe.csv')\n",
    "candy = pd.read_csv('./candy-data.csv')"
   ]
  },
  {
   "cell_type": "markdown",
   "metadata": {},
   "source": [
    "# Creating train, test, and validation datasets"
   ]
  },
  {
   "cell_type": "markdown",
   "metadata": {},
   "source": [
    "## Create one holdout set"
   ]
  },
  {
   "cell_type": "code",
   "execution_count": 4,
   "metadata": {
    "ExecuteTime": {
     "end_time": "2020-09-02T12:05:10.131058Z",
     "start_time": "2020-09-02T12:05:09.839188Z"
    }
   },
   "outputs": [],
   "source": [
    "# create dummy variables\n",
    "X = pd.get_dummies(ttt.iloc[:, :9])\n",
    "y = ttt.iloc[:, 9]\n",
    "\n",
    "# split 10% test\n",
    "X_train, X_test, y_train, y_test = train_test_split(X, y,\n",
    "                                                    test_size=0.1,\n",
    "                                                    random_state=1111)"
   ]
  },
  {
   "cell_type": "markdown",
   "metadata": {},
   "source": [
    "## Create two holdout sets"
   ]
  },
  {
   "cell_type": "code",
   "execution_count": 5,
   "metadata": {
    "ExecuteTime": {
     "end_time": "2020-09-02T12:07:33.967093Z",
     "start_time": "2020-09-02T12:07:33.935821Z"
    }
   },
   "outputs": [],
   "source": [
    "# Create temporary training and final testing datasets\n",
    "X_temp, X_test, y_temp, y_test = train_test_split(X, y, \n",
    "                                                  test_size=0.2, \n",
    "                                                  random_state=1111)\n",
    "\n",
    "# Create the final training and validation datasets\n",
    "X_train, X_val, y_train, y_val = train_test_split(X_temp, y_temp, \n",
    "                                                  test_size=0.25, \n",
    "                                                  random_state=1111)"
   ]
  },
  {
   "cell_type": "markdown",
   "metadata": {
    "ExecuteTime": {
     "end_time": "2020-09-02T12:08:06.604272Z",
     "start_time": "2020-09-02T12:08:06.597275Z"
    }
   },
   "source": [
    "# Accuracy metrics: regression models"
   ]
  },
  {
   "cell_type": "markdown",
   "metadata": {},
   "source": [
    "## Mean absolute error"
   ]
  },
  {
   "cell_type": "code",
   "execution_count": 11,
   "metadata": {
    "ExecuteTime": {
     "end_time": "2020-09-02T12:28:57.920615Z",
     "start_time": "2020-09-02T12:28:57.910642Z"
    }
   },
   "outputs": [],
   "source": [
    "# provided with two arrays, y_test -> true no. of wins for NBA teams in 2017\n",
    "#                           predictions -> preds for each team\n",
    "y_test = np.array([53, 51, 51, 49, 43, 42, 42, 41, 41, 37, 36, 31, 29, 28, 20, 67, 61,\n",
    "          55, 51, 51, 47, 43, 41, 40, 34, 33, 32, 31, 26, 24])\n",
    "predictions = np.array([60, 62, 42, 42, 30, 50, 52, 42, 44, 35, 30, 30, 35, 40, 15, 72, 58,\n",
    "               60, 40, 42, 45, 46, 40, 35, 25, 40, 20, 34, 25, 24])"
   ]
  },
  {
   "cell_type": "code",
   "execution_count": 12,
   "metadata": {
    "ExecuteTime": {
     "end_time": "2020-09-02T12:28:59.465410Z",
     "start_time": "2020-09-02T12:28:59.407352Z"
    }
   },
   "outputs": [
    {
     "name": "stdout",
     "output_type": "stream",
     "text": [
      "Manual MAE:  5.90\n",
      "Sklearn MAE:  5.90\n"
     ]
    }
   ],
   "source": [
    "# manually calculate MAE\n",
    "n = len(predictions)\n",
    "mae_one = np.sum(np.abs(y_test - predictions)) / n\n",
    "print(f'Manual MAE: {mae_one: .2f}')\n",
    "\n",
    "# use scikit-learn MAE\n",
    "mae_two = mae(y_test, predictions)\n",
    "print(f'Sklearn MAE: {mae_two: .2f}')"
   ]
  },
  {
   "cell_type": "markdown",
   "metadata": {},
   "source": [
    "## Mean squared error"
   ]
  },
  {
   "cell_type": "code",
   "execution_count": 13,
   "metadata": {
    "ExecuteTime": {
     "end_time": "2020-09-02T12:31:12.956511Z",
     "start_time": "2020-09-02T12:31:12.885554Z"
    }
   },
   "outputs": [
    {
     "name": "stdout",
     "output_type": "stream",
     "text": [
      "Manual MSE:  49.10\n",
      "Sklearn MSE:  49.10\n"
     ]
    }
   ],
   "source": [
    "# manual MSE\n",
    "mse_one = np.sum((y_test - predictions)**2 / n)\n",
    "print(f'Manual MSE: {mse_one: .2f}')\n",
    "\n",
    "# use sklearn MSE\n",
    "mse_two = mse(y_test, predictions)\n",
    "print(f'Sklearn MSE: {mse_two: .2f}')"
   ]
  },
  {
   "cell_type": "markdown",
   "metadata": {},
   "source": [
    "## Performance on data subsets"
   ]
  },
  {
   "cell_type": "code",
   "execution_count": 14,
   "metadata": {
    "ExecuteTime": {
     "end_time": "2020-09-02T12:32:38.303272Z",
     "start_time": "2020-09-02T12:32:38.298276Z"
    }
   },
   "outputs": [],
   "source": [
    "labels = np.array(['E', 'E', 'E', 'E', 'E', 'E', 'E', 'E', 'E', 'E', 'E', 'E', 'E',\n",
    "       'E', 'E', 'W', 'W', 'W', 'W', 'W', 'W', 'W', 'W', 'W', 'W', 'W',\n",
    "       'W', 'W', 'W', 'W'], dtype='<U1')"
   ]
  },
  {
   "cell_type": "code",
   "execution_count": 18,
   "metadata": {
    "ExecuteTime": {
     "end_time": "2020-09-02T12:38:13.695208Z",
     "start_time": "2020-09-02T12:38:13.687213Z"
    }
   },
   "outputs": [
    {
     "name": "stdout",
     "output_type": "stream",
     "text": [
      "MAE for Eastern conference:  6.73\n",
      "MAE for Western conference:  5.07\n"
     ]
    }
   ],
   "source": [
    "# find the conference teams\n",
    "east_teams = labels == 'E'\n",
    "west_teams = labels == 'W'\n",
    "\n",
    "# create arrays for the true and pred values\n",
    "true_east = y_test[east_teams]\n",
    "preds_east = predictions[east_teams]\n",
    "true_west = y_test[west_teams]\n",
    "preds_west = predictions[west_teams]\n",
    "\n",
    "# print the accuracy metrics\n",
    "print(f'MAE for Eastern conference: {mae(true_east, preds_east): .2f}')\n",
    "print(f'MAE for Western conference: {mae(true_west, preds_west): .2f}')"
   ]
  },
  {
   "cell_type": "markdown",
   "metadata": {},
   "source": [
    "# Classification metrics"
   ]
  },
  {
   "cell_type": "markdown",
   "metadata": {},
   "source": [
    "## Confusion matrices"
   ]
  },
  {
   "cell_type": "code",
   "execution_count": 19,
   "metadata": {
    "ExecuteTime": {
     "end_time": "2020-09-02T12:50:14.335465Z",
     "start_time": "2020-09-02T12:50:14.328471Z"
    }
   },
   "outputs": [
    {
     "name": "stdout",
     "output_type": "stream",
     "text": [
      "The overall accuracy is  0.86\n",
      "The precision is  0.97\n",
      "The recall is  0.80\n"
     ]
    }
   ],
   "source": [
    "# given a conf matrix as follows:\n",
    "#            Pred: 0   Pred: 1\n",
    "# Actual: 0  324(TN)   15(FP)\n",
    "# Actual: 1  123(FN)   491(TP)\n",
    "\n",
    "# calculate and print the accuracy\n",
    "accuracy = (324 + 491) / (953)\n",
    "print(f\"The overall accuracy is {accuracy: 0.2f}\")\n",
    "\n",
    "# Calculate and print the precision\n",
    "precision = (491) / (491 + 15)\n",
    "print(f\"The precision is {precision: 0.2f}\")\n",
    "\n",
    "# Calculate and print the recall\n",
    "recall = (491) / (491 + 123)\n",
    "print(f\"The recall is {recall: 0.2f}\")"
   ]
  },
  {
   "cell_type": "markdown",
   "metadata": {},
   "source": [
    "## Confusion matrices, again"
   ]
  },
  {
   "cell_type": "code",
   "execution_count": 31,
   "metadata": {
    "ExecuteTime": {
     "end_time": "2020-09-02T13:06:04.861178Z",
     "start_time": "2020-09-02T13:06:03.908211Z"
    }
   },
   "outputs": [
    {
     "data": {
      "text/plain": [
       "RandomForestClassifier(n_estimators=500, random_state=1111)"
      ]
     },
     "execution_count": 31,
     "metadata": {},
     "output_type": "execute_result"
    }
   ],
   "source": [
    "X = pd.get_dummies(ttt.iloc[:, 0:9])\n",
    "y = ttt.iloc[:, 9].map({'positive': 1, \n",
    "                        'negative': 0})\n",
    "\n",
    "X_train, X_test, y_train, y_test = train_test_split(X, y, \n",
    "                                                    test_size=0.9,\n",
    "                                                    random_state=1111)\n",
    "\n",
    "rfc = RandomForestClassifier(n_estimators=500,\n",
    "                             random_state=1111)\n",
    "\n",
    "rfc.fit(X_train, y_train)"
   ]
  },
  {
   "cell_type": "code",
   "execution_count": 32,
   "metadata": {
    "ExecuteTime": {
     "end_time": "2020-09-02T13:06:05.024372Z",
     "start_time": "2020-09-02T13:06:04.865175Z"
    }
   },
   "outputs": [
    {
     "name": "stdout",
     "output_type": "stream",
     "text": [
      "Confusion matrix:\n",
      "[[177 123]\n",
      " [ 92 471]]\n",
      "The number of true positives is 471\n"
     ]
    }
   ],
   "source": [
    "# create preds\n",
    "y_pred = rfc.predict(X_test)\n",
    "\n",
    "# create and print conf matrix\n",
    "cm = confusion_matrix(y_test, y_pred)\n",
    "print(f'Confusion matrix:\\n{cm}')\n",
    "print(f'The number of true positives is {cm[1, 1]}')"
   ]
  },
  {
   "cell_type": "markdown",
   "metadata": {},
   "source": [
    "## Precision vs. recall"
   ]
  },
  {
   "cell_type": "markdown",
   "metadata": {},
   "source": [
    "For instance, we have sore-losers that can't stand losing when they are certain they will win. Thus, our model needs to be as *precise* as possible."
   ]
  },
  {
   "cell_type": "code",
   "execution_count": 35,
   "metadata": {
    "ExecuteTime": {
     "end_time": "2020-09-02T13:06:35.956810Z",
     "start_time": "2020-09-02T13:06:35.937923Z"
    }
   },
   "outputs": [
    {
     "name": "stdout",
     "output_type": "stream",
     "text": [
      "The precision value is  79.3%\n"
     ]
    }
   ],
   "source": [
    "score = precision_score(y_test, y_pred)\n",
    "print(f'The precision value is {score: .1%}')"
   ]
  },
  {
   "cell_type": "markdown",
   "metadata": {},
   "source": [
    "# The bias-variance tradeoff"
   ]
  },
  {
   "cell_type": "code",
   "execution_count": 37,
   "metadata": {
    "ExecuteTime": {
     "end_time": "2020-09-02T13:12:24.287139Z",
     "start_time": "2020-09-02T13:12:24.133227Z"
    }
   },
   "outputs": [
    {
     "data": {
      "text/html": [
       "<div>\n",
       "<style scoped>\n",
       "    .dataframe tbody tr th:only-of-type {\n",
       "        vertical-align: middle;\n",
       "    }\n",
       "\n",
       "    .dataframe tbody tr th {\n",
       "        vertical-align: top;\n",
       "    }\n",
       "\n",
       "    .dataframe thead th {\n",
       "        text-align: right;\n",
       "    }\n",
       "</style>\n",
       "<table border=\"1\" class=\"dataframe\">\n",
       "  <thead>\n",
       "    <tr style=\"text-align: right;\">\n",
       "      <th></th>\n",
       "      <th>competitorname</th>\n",
       "      <th>chocolate</th>\n",
       "      <th>fruity</th>\n",
       "      <th>caramel</th>\n",
       "      <th>peanutyalmondy</th>\n",
       "      <th>nougat</th>\n",
       "      <th>crispedricewafer</th>\n",
       "      <th>hard</th>\n",
       "      <th>bar</th>\n",
       "      <th>pluribus</th>\n",
       "      <th>sugarpercent</th>\n",
       "      <th>pricepercent</th>\n",
       "      <th>winpercent</th>\n",
       "    </tr>\n",
       "  </thead>\n",
       "  <tbody>\n",
       "    <tr>\n",
       "      <th>0</th>\n",
       "      <td>100 Grand</td>\n",
       "      <td>1</td>\n",
       "      <td>0</td>\n",
       "      <td>1</td>\n",
       "      <td>0</td>\n",
       "      <td>0</td>\n",
       "      <td>1</td>\n",
       "      <td>0</td>\n",
       "      <td>1</td>\n",
       "      <td>0</td>\n",
       "      <td>0.732</td>\n",
       "      <td>0.860</td>\n",
       "      <td>66.971725</td>\n",
       "    </tr>\n",
       "    <tr>\n",
       "      <th>1</th>\n",
       "      <td>3 Musketeers</td>\n",
       "      <td>1</td>\n",
       "      <td>0</td>\n",
       "      <td>0</td>\n",
       "      <td>0</td>\n",
       "      <td>1</td>\n",
       "      <td>0</td>\n",
       "      <td>0</td>\n",
       "      <td>1</td>\n",
       "      <td>0</td>\n",
       "      <td>0.604</td>\n",
       "      <td>0.511</td>\n",
       "      <td>67.602936</td>\n",
       "    </tr>\n",
       "    <tr>\n",
       "      <th>2</th>\n",
       "      <td>One dime</td>\n",
       "      <td>0</td>\n",
       "      <td>0</td>\n",
       "      <td>0</td>\n",
       "      <td>0</td>\n",
       "      <td>0</td>\n",
       "      <td>0</td>\n",
       "      <td>0</td>\n",
       "      <td>0</td>\n",
       "      <td>0</td>\n",
       "      <td>0.011</td>\n",
       "      <td>0.116</td>\n",
       "      <td>32.261086</td>\n",
       "    </tr>\n",
       "    <tr>\n",
       "      <th>3</th>\n",
       "      <td>One quarter</td>\n",
       "      <td>0</td>\n",
       "      <td>0</td>\n",
       "      <td>0</td>\n",
       "      <td>0</td>\n",
       "      <td>0</td>\n",
       "      <td>0</td>\n",
       "      <td>0</td>\n",
       "      <td>0</td>\n",
       "      <td>0</td>\n",
       "      <td>0.011</td>\n",
       "      <td>0.511</td>\n",
       "      <td>46.116505</td>\n",
       "    </tr>\n",
       "    <tr>\n",
       "      <th>4</th>\n",
       "      <td>Air Heads</td>\n",
       "      <td>0</td>\n",
       "      <td>1</td>\n",
       "      <td>0</td>\n",
       "      <td>0</td>\n",
       "      <td>0</td>\n",
       "      <td>0</td>\n",
       "      <td>0</td>\n",
       "      <td>0</td>\n",
       "      <td>0</td>\n",
       "      <td>0.906</td>\n",
       "      <td>0.511</td>\n",
       "      <td>52.341465</td>\n",
       "    </tr>\n",
       "  </tbody>\n",
       "</table>\n",
       "</div>"
      ],
      "text/plain": [
       "  competitorname  chocolate  fruity  caramel  peanutyalmondy  nougat  \\\n",
       "0      100 Grand          1       0        1               0       0   \n",
       "1   3 Musketeers          1       0        0               0       1   \n",
       "2       One dime          0       0        0               0       0   \n",
       "3    One quarter          0       0        0               0       0   \n",
       "4      Air Heads          0       1        0               0       0   \n",
       "\n",
       "   crispedricewafer  hard  bar  pluribus  sugarpercent  pricepercent  \\\n",
       "0                 1     0    1         0         0.732         0.860   \n",
       "1                 0     0    1         0         0.604         0.511   \n",
       "2                 0     0    0         0         0.011         0.116   \n",
       "3                 0     0    0         0         0.011         0.511   \n",
       "4                 0     0    0         0         0.906         0.511   \n",
       "\n",
       "   winpercent  \n",
       "0   66.971725  \n",
       "1   67.602936  \n",
       "2   32.261086  \n",
       "3   46.116505  \n",
       "4   52.341465  "
      ]
     },
     "execution_count": 37,
     "metadata": {},
     "output_type": "execute_result"
    }
   ],
   "source": [
    "candy.head()"
   ]
  },
  {
   "cell_type": "markdown",
   "metadata": {},
   "source": [
    "## Error due to under/over-fitting"
   ]
  },
  {
   "cell_type": "code",
   "execution_count": 41,
   "metadata": {
    "ExecuteTime": {
     "end_time": "2020-09-02T13:15:36.694692Z",
     "start_time": "2020-09-02T13:15:36.684698Z"
    }
   },
   "outputs": [],
   "source": [
    "X = candy.drop(['competitorname', 'winpercent'], axis=1)\n",
    "y = candy['winpercent']\n",
    "\n",
    "X_train, X_test, y_train, y_test = train_test_split(X, y,\n",
    "                                                    test_size=0.2,\n",
    "                                                    random_state=1111)"
   ]
  },
  {
   "cell_type": "code",
   "execution_count": 44,
   "metadata": {
    "ExecuteTime": {
     "end_time": "2020-09-02T13:17:03.298704Z",
     "start_time": "2020-09-02T13:17:03.216752Z"
    }
   },
   "outputs": [
    {
     "name": "stdout",
     "output_type": "stream",
     "text": [
      "Train MAE:  3.88\n",
      "Test MAE:  9.15\n"
     ]
    }
   ],
   "source": [
    "# instantiate a random forest regressor\n",
    "rfr = RandomForestRegressor(n_estimators=25,\n",
    "                            max_features=2,\n",
    "                            random_state=1111)\n",
    "\n",
    "rfr.fit(X_train, y_train)\n",
    "\n",
    "# scores\n",
    "print(f'Train MAE: {mae(y_train, rfr.predict(X_train)): .2f}')\n",
    "print(f'Test MAE: {mae(y_test, rfr.predict(X_test)): .2f}')"
   ]
  },
  {
   "cell_type": "code",
   "execution_count": 45,
   "metadata": {
    "ExecuteTime": {
     "end_time": "2020-09-02T13:18:11.345115Z",
     "start_time": "2020-09-02T13:18:11.261165Z"
    }
   },
   "outputs": [
    {
     "name": "stdout",
     "output_type": "stream",
     "text": [
      "Train MAE:  3.57\n",
      "Test MAE:  10.05\n"
     ]
    }
   ],
   "source": [
    "# update the rfr model (11 max features)\n",
    "rfr = RandomForestRegressor(n_estimators=25,\n",
    "                            max_features=11,\n",
    "                            random_state=1111)\n",
    "\n",
    "rfr.fit(X_train, y_train)\n",
    "\n",
    "# scores\n",
    "print(f'Train MAE: {mae(y_train, rfr.predict(X_train)): .2f}')\n",
    "print(f'Test MAE: {mae(y_test, rfr.predict(X_test)): .2f}')"
   ]
  },
  {
   "cell_type": "code",
   "execution_count": 46,
   "metadata": {
    "ExecuteTime": {
     "end_time": "2020-09-02T13:18:31.865000Z",
     "start_time": "2020-09-02T13:18:31.783027Z"
    }
   },
   "outputs": [
    {
     "name": "stdout",
     "output_type": "stream",
     "text": [
      "Train MAE:  3.60\n",
      "Test MAE:  8.79\n"
     ]
    }
   ],
   "source": [
    "# update the rfr model (11 max features)\n",
    "rfr = RandomForestRegressor(n_estimators=25,\n",
    "                            max_features=4,\n",
    "                            random_state=1111)\n",
    "\n",
    "rfr.fit(X_train, y_train)\n",
    "\n",
    "# scores\n",
    "print(f'Train MAE: {mae(y_train, rfr.predict(X_train)): .2f}')\n",
    "print(f'Test MAE: {mae(y_test, rfr.predict(X_test)): .2f}')"
   ]
  },
  {
   "cell_type": "markdown",
   "metadata": {},
   "source": [
    "## Am I underfitting?"
   ]
  },
  {
   "cell_type": "code",
   "execution_count": 49,
   "metadata": {
    "ExecuteTime": {
     "end_time": "2020-09-02T13:22:38.180015Z",
     "start_time": "2020-09-02T13:22:38.150012Z"
    }
   },
   "outputs": [],
   "source": [
    "# use ttt\n",
    "X = pd.get_dummies(ttt.iloc[:, 0:9])\n",
    "y = ttt.iloc[:, 9]\n",
    "\n",
    "X_train, X_test, y_train, y_test = train_test_split(X, y,\n",
    "                                                    test_size=0.2,\n",
    "                                                    random_state=1111)"
   ]
  },
  {
   "cell_type": "code",
   "execution_count": 52,
   "metadata": {
    "ExecuteTime": {
     "end_time": "2020-09-02T13:26:05.082702Z",
     "start_time": "2020-09-02T13:26:04.591769Z"
    }
   },
   "outputs": [
    {
     "name": "stdout",
     "output_type": "stream",
     "text": [
      "Train scores:\n",
      "[0.94, 0.93, 0.98, 0.97, 0.99, 1.0, 1.0, 1.0]\n",
      "\n",
      "Test scores:\n",
      "[0.83, 0.79, 0.89, 0.91, 0.91, 0.93, 0.97, 0.98]\n",
      "\n"
     ]
    }
   ],
   "source": [
    "test_scores, train_scores = [], []\n",
    "for i in [1, 2, 3, 4, 5, 10, 20, 50]:\n",
    "    rfc = RandomForestClassifier(n_estimators=i,\n",
    "                                 random_state=1111)\n",
    "    rfc.fit(X_train, y_train)\n",
    "    # preds\n",
    "    train_pred = rfc.predict(X_train)\n",
    "    test_pred = rfc.predict(X_test)\n",
    "    # append\n",
    "    train_scores.append(round(accuracy_score(y_train, train_pred), 2))\n",
    "    test_scores.append(round(accuracy_score(y_test, test_pred), 2))\n",
    "    \n",
    "print(f'Train scores:\\n{train_scores}\\n')\n",
    "print(f'Test scores:\\n{test_scores}\\n')"
   ]
  }
 ],
 "metadata": {
  "kernelspec": {
   "display_name": "tf2-gpu",
   "language": "python",
   "name": "tf2-gpu"
  },
  "language_info": {
   "codemirror_mode": {
    "name": "ipython",
    "version": 3
   },
   "file_extension": ".py",
   "mimetype": "text/x-python",
   "name": "python",
   "nbconvert_exporter": "python",
   "pygments_lexer": "ipython3",
   "version": "3.7.7"
  },
  "toc": {
   "base_numbering": 1,
   "nav_menu": {},
   "number_sections": true,
   "sideBar": true,
   "skip_h1_title": false,
   "title_cell": "Table of Contents",
   "title_sidebar": "Contents",
   "toc_cell": false,
   "toc_position": {},
   "toc_section_display": true,
   "toc_window_display": false
  }
 },
 "nbformat": 4,
 "nbformat_minor": 4
}
