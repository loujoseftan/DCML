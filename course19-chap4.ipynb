{
 "cells": [
  {
   "cell_type": "code",
   "execution_count": 1,
   "metadata": {
    "ExecuteTime": {
     "end_time": "2020-09-11T13:09:36.794529Z",
     "start_time": "2020-09-11T13:09:11.744896Z"
    }
   },
   "outputs": [],
   "source": [
    "import numpy as np\n",
    "import pandas as pd\n",
    "import matplotlib.pyplot as plt\n",
    "import seaborn as sns\n",
    "sns.set()"
   ]
  },
  {
   "cell_type": "code",
   "execution_count": 22,
   "metadata": {
    "ExecuteTime": {
     "end_time": "2020-09-11T13:21:17.354798Z",
     "start_time": "2020-09-11T13:21:17.344803Z"
    }
   },
   "outputs": [
    {
     "data": {
      "text/plain": [
       "'2.1.0'"
      ]
     },
     "execution_count": 22,
     "metadata": {},
     "output_type": "execute_result"
    }
   ],
   "source": [
    "import tensorflow as tf\n",
    "from tensorflow.keras.models import Sequential, Model\n",
    "from tensorflow.keras.layers import Conv2D, Dense, Flatten, MaxPool2D, Dropout, BatchNormalization\n",
    "from tensorflow.keras.optimizers import Adam\n",
    "from tensorflow.keras.callbacks import EarlyStopping, ModelCheckpoint\n",
    "from tensorflow.keras.utils import to_categorical\n",
    "\n",
    "from sklearn.model_selection import train_test_split\n",
    "\n",
    "tf.__version__"
   ]
  },
  {
   "cell_type": "code",
   "execution_count": 3,
   "metadata": {
    "ExecuteTime": {
     "end_time": "2020-09-11T13:10:31.967955Z",
     "start_time": "2020-09-11T13:10:28.634988Z"
    }
   },
   "outputs": [],
   "source": [
    "(_, _), (X, y) = tf.keras.datasets.fashion_mnist.load_data()"
   ]
  },
  {
   "cell_type": "code",
   "execution_count": 4,
   "metadata": {
    "ExecuteTime": {
     "end_time": "2020-09-11T13:10:32.451268Z",
     "start_time": "2020-09-11T13:10:31.967955Z"
    }
   },
   "outputs": [],
   "source": [
    "X = np.expand_dims(X, -1)\n",
    "y = to_categorical(y)\n",
    "\n",
    "X_train, X_test, y_train, y_test = train_test_split(X, y,\n",
    "                                                    test_size=0.1,\n",
    "                                                    stratify=y,\n",
    "                                                    random_state=42)"
   ]
  },
  {
   "cell_type": "markdown",
   "metadata": {},
   "source": [
    "# Tracking learning"
   ]
  },
  {
   "cell_type": "markdown",
   "metadata": {},
   "source": [
    "## Plot the learning curves"
   ]
  },
  {
   "cell_type": "code",
   "execution_count": 15,
   "metadata": {
    "ExecuteTime": {
     "end_time": "2020-09-11T13:16:36.203382Z",
     "start_time": "2020-09-11T13:16:35.872508Z"
    }
   },
   "outputs": [],
   "source": [
    "# define model arch\n",
    "model = Sequential()\n",
    "\n",
    "model.add(Conv2D(50, kernel_size=3, input_shape=(28, 28, 1), padding='same',\n",
    "                 activation='relu'))\n",
    "model.add(MaxPool2D(2))\n",
    "model.add(Conv2D(50, kernel_size=3, activation='relu'))\n",
    "model.add(Flatten())\n",
    "model.add(Dense(10, activation='softmax'))"
   ]
  },
  {
   "cell_type": "code",
   "execution_count": 16,
   "metadata": {
    "ExecuteTime": {
     "end_time": "2020-09-11T13:16:59.218315Z",
     "start_time": "2020-09-11T13:16:36.352053Z"
    }
   },
   "outputs": [
    {
     "name": "stdout",
     "output_type": "stream",
     "text": [
      "Train on 7200 samples, validate on 1800 samples\n",
      "Epoch 1/10\n",
      "7200/7200 - 3s - loss: 13.4370 - accuracy: 0.5244 - val_loss: 0.7855 - val_accuracy: 0.7206\n",
      "Epoch 2/10\n",
      "7200/7200 - 2s - loss: 0.6528 - accuracy: 0.7667 - val_loss: 0.6245 - val_accuracy: 0.7822\n",
      "Epoch 3/10\n",
      "7200/7200 - 2s - loss: 0.4979 - accuracy: 0.8199 - val_loss: 0.5404 - val_accuracy: 0.8228\n",
      "Epoch 4/10\n",
      "7200/7200 - 2s - loss: 0.4066 - accuracy: 0.8526 - val_loss: 0.5313 - val_accuracy: 0.8244\n",
      "Epoch 5/10\n",
      "7200/7200 - 2s - loss: 0.3535 - accuracy: 0.8690 - val_loss: 0.4690 - val_accuracy: 0.8444\n",
      "Epoch 6/10\n",
      "7200/7200 - 2s - loss: 0.3274 - accuracy: 0.8778 - val_loss: 0.4996 - val_accuracy: 0.8356\n",
      "Epoch 7/10\n",
      "7200/7200 - 2s - loss: 0.2908 - accuracy: 0.8897 - val_loss: 0.4793 - val_accuracy: 0.8456\n",
      "Epoch 8/10\n",
      "7200/7200 - 2s - loss: 0.2508 - accuracy: 0.9069 - val_loss: 0.5200 - val_accuracy: 0.8372\n",
      "Epoch 9/10\n",
      "7200/7200 - 2s - loss: 0.2177 - accuracy: 0.9207 - val_loss: 0.5041 - val_accuracy: 0.8489\n",
      "Epoch 10/10\n",
      "7200/7200 - 2s - loss: 0.2040 - accuracy: 0.9240 - val_loss: 0.4807 - val_accuracy: 0.8611\n"
     ]
    }
   ],
   "source": [
    "model.compile(optimizer=Adam(0.001),\n",
    "              loss='categorical_crossentropy',\n",
    "              metrics=['accuracy'])\n",
    "\n",
    "early_stop = EarlyStopping(monitor='val_accuracy',\n",
    "                           patience=2)\n",
    "\n",
    "history = model.fit(X_train, y_train,\n",
    "          validation_split=0.2,\n",
    "          epochs=10,\n",
    "          batch_size=256,\n",
    "          callbacks=[early_stop],\n",
    "          verbose=2)"
   ]
  },
  {
   "cell_type": "code",
   "execution_count": 17,
   "metadata": {
    "ExecuteTime": {
     "end_time": "2020-09-11T13:17:02.059338Z",
     "start_time": "2020-09-11T13:17:01.754638Z"
    }
   },
   "outputs": [
    {
     "name": "stdout",
     "output_type": "stream",
     "text": [
      "1000/1000 [==============================] - 0s 260us/sample - loss: 0.5086 - accuracy: 0.8310\n",
      "test acc:  83.1%\n"
     ]
    }
   ],
   "source": [
    "print(f'test acc: {model.evaluate(X_test, y_test)[1]: .1%}')"
   ]
  },
  {
   "cell_type": "code",
   "execution_count": 20,
   "metadata": {
    "ExecuteTime": {
     "end_time": "2020-09-11T13:18:17.955330Z",
     "start_time": "2020-09-11T13:18:17.602176Z"
    }
   },
   "outputs": [
    {
     "data": {
      "image/png": "[encoded data removed]",
      "text/plain": [
       "<Figure size 1080x504 with 1 Axes>"
      ]
     },
     "metadata": {},
     "output_type": "display_data"
    }
   ],
   "source": [
    "fig, ax = plt.subplots(figsize=(15, 7))\n",
    "\n",
    "ax.plot(history.history['loss'], label='train loss')\n",
    "ax.plot(history.history['val_loss'], label='val loss')\n",
    "ax.set(xlabel='Epochs')\n",
    "\n",
    "plt.legend()\n",
    "plt.show()"
   ]
  },
  {
   "cell_type": "markdown",
   "metadata": {},
   "source": [
    "# Regularization"
   ]
  },
  {
   "cell_type": "markdown",
   "metadata": {},
   "source": [
    "## Add dropout to your network"
   ]
  },
  {
   "cell_type": "code",
   "execution_count": 23,
   "metadata": {
    "ExecuteTime": {
     "end_time": "2020-09-11T13:26:52.374828Z",
     "start_time": "2020-09-11T13:25:58.858192Z"
    }
   },
   "outputs": [
    {
     "name": "stdout",
     "output_type": "stream",
     "text": [
      "Train on 7200 samples, validate on 1800 samples\n",
      "Epoch 1/10\n",
      "7200/7200 - 8s - loss: 9.1721 - accuracy: 0.5539 - val_loss: 0.7227 - val_accuracy: 0.7483\n",
      "Epoch 2/10\n",
      "7200/7200 - 6s - loss: 0.5868 - accuracy: 0.7900 - val_loss: 0.5434 - val_accuracy: 0.8211\n",
      "Epoch 3/10\n",
      "7200/7200 - 6s - loss: 0.4207 - accuracy: 0.8508 - val_loss: 0.4596 - val_accuracy: 0.8372\n",
      "Epoch 4/10\n",
      "7200/7200 - 6s - loss: 0.3294 - accuracy: 0.8771 - val_loss: 0.4393 - val_accuracy: 0.8472\n",
      "Epoch 5/10\n",
      "7200/7200 - 6s - loss: 0.2647 - accuracy: 0.9022 - val_loss: 0.4555 - val_accuracy: 0.8444\n",
      "Epoch 6/10\n",
      "7200/7200 - 6s - loss: 0.2146 - accuracy: 0.9186 - val_loss: 0.4584 - val_accuracy: 0.8494\n",
      "Epoch 7/10\n",
      "7200/7200 - 6s - loss: 0.1835 - accuracy: 0.9318 - val_loss: 0.4926 - val_accuracy: 0.8517\n",
      "Epoch 8/10\n",
      "7200/7200 - 6s - loss: 0.1700 - accuracy: 0.9385 - val_loss: 0.5101 - val_accuracy: 0.8356\n",
      "Epoch 9/10\n",
      "7200/7200 - 6s - loss: 0.1360 - accuracy: 0.9504 - val_loss: 0.5839 - val_accuracy: 0.8406\n"
     ]
    }
   ],
   "source": [
    "# define model arch \n",
    "model = Sequential()\n",
    "\n",
    "model.add(Conv2D(50, kernel_size=3, input_shape=(28, 28, 1), padding='same',\n",
    "                 activation='relu'))\n",
    "model.add(Dropout(0.2))\n",
    "model.add(Conv2D(50, kernel_size=3, activation='relu'))\n",
    "model.add(Flatten())\n",
    "model.add(Dense(10, activation='softmax'))\n",
    "\n",
    "model.compile(optimizer=Adam(0.001),\n",
    "              loss='categorical_crossentropy',\n",
    "              metrics=['accuracy'])\n",
    "\n",
    "# callbacks\n",
    "early_stop = EarlyStopping(monitor='val_accuracy',\n",
    "                           patience=2)\n",
    "save_model = ModelCheckpoint('best_model_19-4.hdf5',\n",
    "                             monitor='val_accuracy')\n",
    "\n",
    "# fit\n",
    "history = model.fit(X_train, y_train,\n",
    "          validation_split=0.2,\n",
    "          epochs=10,\n",
    "          batch_size=256,\n",
    "          callbacks=[early_stop],\n",
    "          verbose=2)"
   ]
  },
  {
   "cell_type": "code",
   "execution_count": 24,
   "metadata": {
    "ExecuteTime": {
     "end_time": "2020-09-11T13:27:06.143093Z",
     "start_time": "2020-09-11T13:27:05.675363Z"
    }
   },
   "outputs": [
    {
     "name": "stdout",
     "output_type": "stream",
     "text": [
      "1000/1000 [==============================] - 0s 418us/sample - loss: 0.5899 - accuracy: 0.8340\n",
      "test acc:  83.4%\n"
     ]
    }
   ],
   "source": [
    "print(f'test acc: {model.evaluate(X_test, y_test)[1]: .1%}')"
   ]
  },
  {
   "cell_type": "markdown",
   "metadata": {},
   "source": [
    "## Add batch normalization to your network"
   ]
  },
  {
   "cell_type": "code",
   "execution_count": 25,
   "metadata": {
    "ExecuteTime": {
     "end_time": "2020-09-11T13:29:01.205947Z",
     "start_time": "2020-09-11T13:28:34.233771Z"
    }
   },
   "outputs": [
    {
     "name": "stdout",
     "output_type": "stream",
     "text": [
      "Train on 7200 samples, validate on 1800 samples\n",
      "Epoch 1/10\n",
      "7200/7200 - 6s - loss: 1.7213 - accuracy: 0.6750 - val_loss: 1.0035 - val_accuracy: 0.7694\n",
      "Epoch 2/10\n",
      "7200/7200 - 5s - loss: 0.3998 - accuracy: 0.8619 - val_loss: 0.4938 - val_accuracy: 0.8461\n",
      "Epoch 3/10\n",
      "7200/7200 - 5s - loss: 0.2413 - accuracy: 0.9171 - val_loss: 0.4360 - val_accuracy: 0.8656\n",
      "Epoch 4/10\n",
      "7200/7200 - 5s - loss: 0.1651 - accuracy: 0.9431 - val_loss: 0.4297 - val_accuracy: 0.8617\n",
      "Epoch 5/10\n",
      "7200/7200 - 5s - loss: 0.1462 - accuracy: 0.9506 - val_loss: 0.4757 - val_accuracy: 0.8517\n"
     ]
    }
   ],
   "source": [
    "# define model arch \n",
    "model = Sequential()\n",
    "\n",
    "model.add(Conv2D(50, kernel_size=3, input_shape=(28, 28, 1), padding='same',\n",
    "                 activation='relu'))\n",
    "model.add(BatchNormalization())\n",
    "model.add(Conv2D(50, kernel_size=3, activation='relu'))\n",
    "model.add(Flatten())\n",
    "model.add(Dense(10, activation='softmax'))\n",
    "\n",
    "model.compile(optimizer=Adam(0.001),\n",
    "              loss='categorical_crossentropy',\n",
    "              metrics=['accuracy'])\n",
    "\n",
    "# callbacks\n",
    "early_stop = EarlyStopping(monitor='val_accuracy',\n",
    "                           patience=2)\n",
    "save_model = ModelCheckpoint('best_model_19-4.hdf5',\n",
    "                             monitor='val_accuracy')\n",
    "\n",
    "# fit\n",
    "history = model.fit(X_train, y_train,\n",
    "          validation_split=0.2,\n",
    "          epochs=10,\n",
    "          batch_size=256,\n",
    "          callbacks=[early_stop],\n",
    "          verbose=2)"
   ]
  },
  {
   "cell_type": "code",
   "execution_count": 26,
   "metadata": {
    "ExecuteTime": {
     "end_time": "2020-09-11T13:29:09.478535Z",
     "start_time": "2020-09-11T13:29:08.989739Z"
    }
   },
   "outputs": [
    {
     "name": "stdout",
     "output_type": "stream",
     "text": [
      "1000/1000 [==============================] - 0s 448us/sample - loss: 0.5520 - accuracy: 0.8300\n",
      "test acc:  83.0%\n"
     ]
    }
   ],
   "source": [
    "print(f'test acc: {model.evaluate(X_test, y_test)[1]: .1%}')"
   ]
  },
  {
   "cell_type": "markdown",
   "metadata": {},
   "source": [
    "# Interpreting the model"
   ]
  },
  {
   "cell_type": "markdown",
   "metadata": {},
   "source": [
    "## Extracting a kernel from a trained network"
   ]
  },
  {
   "cell_type": "code",
   "execution_count": 48,
   "metadata": {
    "ExecuteTime": {
     "end_time": "2020-09-11T14:05:32.239259Z",
     "start_time": "2020-09-11T14:05:32.036404Z"
    }
   },
   "outputs": [
    {
     "name": "stdout",
     "output_type": "stream",
     "text": [
      "[[ 0.1082665  -0.02863615 -0.04195122]\n",
      " [-0.08248423  0.02094198  0.01193562]\n",
      " [-0.02038379 -0.02849565  0.08172981]]\n"
     ]
    }
   ],
   "source": [
    "# get the first conv layer from the model\n",
    "c1 = model.layers[0]\n",
    "\n",
    "# get the weights of the first conv layer\n",
    "weights1 = c1.get_weights()\n",
    "\n",
    "# pull out the first channel of the second kernel in the first layer\n",
    "kernel = weights1[0][:, :, 0, 1]\n",
    "print(kernel)"
   ]
  },
  {
   "cell_type": "markdown",
   "metadata": {},
   "source": [
    "## Visualizing kernel responses"
   ]
  },
  {
   "cell_type": "code",
   "execution_count": 54,
   "metadata": {
    "ExecuteTime": {
     "end_time": "2020-09-11T14:06:46.898961Z",
     "start_time": "2020-09-11T14:06:46.405008Z"
    }
   },
   "outputs": [
    {
     "data": {
      "image/png": "[encoded data removed]",
      "text/plain": [
       "<Figure size 1152x576 with 2 Axes>"
      ]
     },
     "metadata": {},
     "output_type": "display_data"
    }
   ],
   "source": [
    "# convolve the extracted kernel with the sixth image in the test data\n",
    "im = X_test[6, :, :, 0]\n",
    "out = np.zeros(im.shape)\n",
    "\n",
    "# convolve\n",
    "for ii in range(out.shape[0] - 3):\n",
    "    for jj in range(out.shape[1] - 3):\n",
    "        out[ii, jj] = (kernel * im[ii:ii+3, jj:jj+3]).sum()\n",
    "        \n",
    "fig, (ax1, ax2) = plt.subplots(1, 2, figsize=(16, 8))\n",
    "\n",
    "ax1.imshow(im)\n",
    "ax2.imshow(out)\n",
    "ax1.set(title='Test image')\n",
    "ax2.set(title='Convolution')\n",
    "ax1.axis('off')\n",
    "ax2.axis('off')\n",
    "\n",
    "plt.show()"
   ]
  },
  {
   "cell_type": "code",
   "execution_count": null,
   "metadata": {},
   "outputs": [],
   "source": []
  }
 ],
 "metadata": {
  "kernelspec": {
   "display_name": "tf2-gpu",
   "language": "python",
   "name": "tf2-gpu"
  },
  "language_info": {
   "codemirror_mode": {
    "name": "ipython",
    "version": 3
   },
   "file_extension": ".py",
   "mimetype": "text/x-python",
   "name": "python",
   "nbconvert_exporter": "python",
   "pygments_lexer": "ipython3",
   "version": "3.7.7"
  },
  "toc": {
   "base_numbering": 1,
   "nav_menu": {},
   "number_sections": true,
   "sideBar": true,
   "skip_h1_title": false,
   "title_cell": "Table of Contents",
   "title_sidebar": "Contents",
   "toc_cell": false,
   "toc_position": {},
   "toc_section_display": true,
   "toc_window_display": false
  }
 },
 "nbformat": 4,
 "nbformat_minor": 4
}
