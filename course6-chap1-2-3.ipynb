{
 "cells": [
  {
   "cell_type": "code",
   "execution_count": 1,
   "metadata": {
    "ExecuteTime": {
     "end_time": "2020-08-25T13:32:26.107856Z",
     "start_time": "2020-08-25T13:32:05.072444Z"
    }
   },
   "outputs": [],
   "source": [
    "import numpy as np\n",
    "import pandas as pd\n",
    "import matplotlib.pyplot as plt\n",
    "import seaborn as sns\n",
    "sns.set()"
   ]
  },
  {
   "cell_type": "code",
   "execution_count": 45,
   "metadata": {
    "ExecuteTime": {
     "end_time": "2020-08-25T13:46:56.543828Z",
     "start_time": "2020-08-25T13:46:56.537831Z"
    }
   },
   "outputs": [],
   "source": [
    "from scipy.cluster.vq import whiten, vq, kmeans\n",
    "from scipy.cluster.hierarchy import linkage, fcluster, dendrogram\n",
    "from sklearn.preprocessing import normalize, scale"
   ]
  },
  {
   "cell_type": "markdown",
   "metadata": {},
   "source": [
    "# FIFA '18 Dataset"
   ]
  },
  {
   "cell_type": "code",
   "execution_count": 3,
   "metadata": {
    "ExecuteTime": {
     "end_time": "2020-08-25T13:32:26.841447Z",
     "start_time": "2020-08-25T13:32:26.836447Z"
    }
   },
   "outputs": [],
   "source": [
    "pd.options.display.max_rows = None\n",
    "pd.options.display.max_columns = None"
   ]
  },
  {
   "cell_type": "code",
   "execution_count": 4,
   "metadata": {
    "ExecuteTime": {
     "end_time": "2020-08-25T13:32:27.347910Z",
     "start_time": "2020-08-25T13:32:26.844443Z"
    }
   },
   "outputs": [
    {
     "name": "stdout",
     "output_type": "stream",
     "text": [
      "(1000, 185)\n"
     ]
    },
    {
     "data": {
      "text/html": [
       "<div>\n",
       "<style scoped>\n",
       "    .dataframe tbody tr th:only-of-type {\n",
       "        vertical-align: middle;\n",
       "    }\n",
       "\n",
       "    .dataframe tbody tr th {\n",
       "        vertical-align: top;\n",
       "    }\n",
       "\n",
       "    .dataframe thead th {\n",
       "        text-align: right;\n",
       "    }\n",
       "</style>\n",
       "<table border=\"1\" class=\"dataframe\">\n",
       "  <thead>\n",
       "    <tr style=\"text-align: right;\">\n",
       "      <th></th>\n",
       "      <th>ID</th>\n",
       "      <th>name</th>\n",
       "      <th>full_name</th>\n",
       "      <th>club</th>\n",
       "      <th>club_logo</th>\n",
       "      <th>special</th>\n",
       "      <th>age</th>\n",
       "      <th>league</th>\n",
       "      <th>birth_date</th>\n",
       "      <th>height_cm</th>\n",
       "      <th>weight_kg</th>\n",
       "      <th>body_type</th>\n",
       "      <th>real_face</th>\n",
       "      <th>flag</th>\n",
       "      <th>nationality</th>\n",
       "      <th>photo</th>\n",
       "      <th>eur_value</th>\n",
       "      <th>eur_wage</th>\n",
       "      <th>eur_release_clause</th>\n",
       "      <th>overall</th>\n",
       "      <th>potential</th>\n",
       "      <th>pac</th>\n",
       "      <th>sho</th>\n",
       "      <th>pas</th>\n",
       "      <th>dri</th>\n",
       "      <th>def</th>\n",
       "      <th>phy</th>\n",
       "      <th>international_reputation</th>\n",
       "      <th>skill_moves</th>\n",
       "      <th>weak_foot</th>\n",
       "      <th>work_rate_att</th>\n",
       "      <th>work_rate_def</th>\n",
       "      <th>preferred_foot</th>\n",
       "      <th>crossing</th>\n",
       "      <th>finishing</th>\n",
       "      <th>heading_accuracy</th>\n",
       "      <th>short_passing</th>\n",
       "      <th>volleys</th>\n",
       "      <th>dribbling</th>\n",
       "      <th>curve</th>\n",
       "      <th>free_kick_accuracy</th>\n",
       "      <th>long_passing</th>\n",
       "      <th>ball_control</th>\n",
       "      <th>acceleration</th>\n",
       "      <th>sprint_speed</th>\n",
       "      <th>agility</th>\n",
       "      <th>reactions</th>\n",
       "      <th>balance</th>\n",
       "      <th>shot_power</th>\n",
       "      <th>jumping</th>\n",
       "      <th>stamina</th>\n",
       "      <th>strength</th>\n",
       "      <th>long_shots</th>\n",
       "      <th>aggression</th>\n",
       "      <th>interceptions</th>\n",
       "      <th>positioning</th>\n",
       "      <th>vision</th>\n",
       "      <th>penalties</th>\n",
       "      <th>composure</th>\n",
       "      <th>marking</th>\n",
       "      <th>standing_tackle</th>\n",
       "      <th>sliding_tackle</th>\n",
       "      <th>gk_diving</th>\n",
       "      <th>gk_handling</th>\n",
       "      <th>gk_kicking</th>\n",
       "      <th>gk_positioning</th>\n",
       "      <th>gk_reflexes</th>\n",
       "      <th>rs</th>\n",
       "      <th>rw</th>\n",
       "      <th>rf</th>\n",
       "      <th>ram</th>\n",
       "      <th>rcm</th>\n",
       "      <th>rm</th>\n",
       "      <th>rdm</th>\n",
       "      <th>rcb</th>\n",
       "      <th>rb</th>\n",
       "      <th>rwb</th>\n",
       "      <th>st</th>\n",
       "      <th>lw</th>\n",
       "      <th>cf</th>\n",
       "      <th>cam</th>\n",
       "      <th>cm</th>\n",
       "      <th>lm</th>\n",
       "      <th>cdm</th>\n",
       "      <th>cb</th>\n",
       "      <th>lb</th>\n",
       "      <th>lwb</th>\n",
       "      <th>ls</th>\n",
       "      <th>lf</th>\n",
       "      <th>lam</th>\n",
       "      <th>lcm</th>\n",
       "      <th>ldm</th>\n",
       "      <th>lcb</th>\n",
       "      <th>gk</th>\n",
       "      <th>1_on_1_rush_trait</th>\n",
       "      <th>acrobatic_clearance_trait</th>\n",
       "      <th>argues_with_officials_trait</th>\n",
       "      <th>avoids_using_weaker_foot_trait</th>\n",
       "      <th>backs_into_player_trait</th>\n",
       "      <th>bicycle_kicks_trait</th>\n",
       "      <th>cautious_with_crosses_trait</th>\n",
       "      <th>chip_shot_trait</th>\n",
       "      <th>chipped_penalty_trait</th>\n",
       "      <th>comes_for_crosses_trait</th>\n",
       "      <th>corner_specialist_trait</th>\n",
       "      <th>diver_trait</th>\n",
       "      <th>dives_into_tackles_trait</th>\n",
       "      <th>diving_header_trait</th>\n",
       "      <th>driven_pass_trait</th>\n",
       "      <th>early_crosser_trait</th>\n",
       "      <th>fan's_favourite_trait</th>\n",
       "      <th>fancy_flicks_trait</th>\n",
       "      <th>finesse_shot_trait</th>\n",
       "      <th>flair_trait</th>\n",
       "      <th>flair_passes_trait</th>\n",
       "      <th>gk_flat_kick_trait</th>\n",
       "      <th>gk_long_throw_trait</th>\n",
       "      <th>gk_up_for_corners_trait</th>\n",
       "      <th>giant_throw_in_trait</th>\n",
       "      <th>inflexible_trait</th>\n",
       "      <th>injury_free_trait</th>\n",
       "      <th>injury_prone_trait</th>\n",
       "      <th>leadership_trait</th>\n",
       "      <th>long_passer_trait</th>\n",
       "      <th>long_shot_taker_trait</th>\n",
       "      <th>long_throw_in_trait</th>\n",
       "      <th>one_club_player_trait</th>\n",
       "      <th>outside_foot_shot_trait</th>\n",
       "      <th>playmaker_trait</th>\n",
       "      <th>power_free_kick_trait</th>\n",
       "      <th>power_header_trait</th>\n",
       "      <th>puncher_trait</th>\n",
       "      <th>rushes_out_of_goal_trait</th>\n",
       "      <th>saves_with_feet_trait</th>\n",
       "      <th>second_wind_trait</th>\n",
       "      <th>selfish_trait</th>\n",
       "      <th>skilled_dribbling_trait</th>\n",
       "      <th>stutter_penalty_trait</th>\n",
       "      <th>swerve_pass_trait</th>\n",
       "      <th>takes_finesse_free_kicks_trait</th>\n",
       "      <th>target_forward_trait</th>\n",
       "      <th>team_player_trait</th>\n",
       "      <th>technical_dribbler_trait</th>\n",
       "      <th>tries_to_beat_defensive_line_trait</th>\n",
       "      <th>poacher_speciality</th>\n",
       "      <th>speedster_speciality</th>\n",
       "      <th>aerial_threat_speciality</th>\n",
       "      <th>dribbler_speciality</th>\n",
       "      <th>playmaker_speciality</th>\n",
       "      <th>engine_speciality</th>\n",
       "      <th>distance_shooter_speciality</th>\n",
       "      <th>crosser_speciality</th>\n",
       "      <th>free_kick_specialist_speciality</th>\n",
       "      <th>tackling_speciality</th>\n",
       "      <th>tactician_speciality</th>\n",
       "      <th>acrobat_speciality</th>\n",
       "      <th>strength_speciality</th>\n",
       "      <th>clinical_finisher_speciality</th>\n",
       "      <th>prefers_rs</th>\n",
       "      <th>prefers_rw</th>\n",
       "      <th>prefers_rf</th>\n",
       "      <th>prefers_ram</th>\n",
       "      <th>prefers_rcm</th>\n",
       "      <th>prefers_rm</th>\n",
       "      <th>prefers_rdm</th>\n",
       "      <th>prefers_rcb</th>\n",
       "      <th>prefers_rb</th>\n",
       "      <th>prefers_rwb</th>\n",
       "      <th>prefers_st</th>\n",
       "      <th>prefers_lw</th>\n",
       "      <th>prefers_cf</th>\n",
       "      <th>prefers_cam</th>\n",
       "      <th>prefers_cm</th>\n",
       "      <th>prefers_lm</th>\n",
       "      <th>prefers_cdm</th>\n",
       "      <th>prefers_cb</th>\n",
       "      <th>prefers_lb</th>\n",
       "      <th>prefers_lwb</th>\n",
       "      <th>prefers_ls</th>\n",
       "      <th>prefers_lf</th>\n",
       "      <th>prefers_lam</th>\n",
       "      <th>prefers_lcm</th>\n",
       "      <th>prefers_ldm</th>\n",
       "      <th>prefers_lcb</th>\n",
       "      <th>prefers_gk</th>\n",
       "    </tr>\n",
       "  </thead>\n",
       "  <tbody>\n",
       "    <tr>\n",
       "      <th>0</th>\n",
       "      <td>20801</td>\n",
       "      <td>Cristiano Ronaldo</td>\n",
       "      <td>C. Ronaldo dos Santos Aveiro</td>\n",
       "      <td>Real Madrid CF</td>\n",
       "      <td>https://cdn.sofifa.org/18/teams/243.png</td>\n",
       "      <td>2228</td>\n",
       "      <td>32</td>\n",
       "      <td>Spanish Primera División</td>\n",
       "      <td>1985-02-05</td>\n",
       "      <td>185.0</td>\n",
       "      <td>80.0</td>\n",
       "      <td>C. Ronaldo</td>\n",
       "      <td>True</td>\n",
       "      <td>https://cdn.sofifa.org/flags/38@3x.png</td>\n",
       "      <td>Portugal</td>\n",
       "      <td>https://cdn.sofifa.org/18/players/20801.png</td>\n",
       "      <td>95500000.0</td>\n",
       "      <td>565000.0</td>\n",
       "      <td>195800000.0</td>\n",
       "      <td>94</td>\n",
       "      <td>94</td>\n",
       "      <td>90</td>\n",
       "      <td>93</td>\n",
       "      <td>82</td>\n",
       "      <td>90</td>\n",
       "      <td>33</td>\n",
       "      <td>80</td>\n",
       "      <td>5</td>\n",
       "      <td>5</td>\n",
       "      <td>4</td>\n",
       "      <td>High</td>\n",
       "      <td>Low</td>\n",
       "      <td>Right</td>\n",
       "      <td>85</td>\n",
       "      <td>94</td>\n",
       "      <td>88</td>\n",
       "      <td>83</td>\n",
       "      <td>88</td>\n",
       "      <td>91</td>\n",
       "      <td>81</td>\n",
       "      <td>76</td>\n",
       "      <td>77</td>\n",
       "      <td>93</td>\n",
       "      <td>89</td>\n",
       "      <td>91</td>\n",
       "      <td>89</td>\n",
       "      <td>96</td>\n",
       "      <td>63</td>\n",
       "      <td>94</td>\n",
       "      <td>95</td>\n",
       "      <td>92</td>\n",
       "      <td>80</td>\n",
       "      <td>92</td>\n",
       "      <td>63</td>\n",
       "      <td>29</td>\n",
       "      <td>95</td>\n",
       "      <td>85</td>\n",
       "      <td>85</td>\n",
       "      <td>95</td>\n",
       "      <td>22</td>\n",
       "      <td>31</td>\n",
       "      <td>23</td>\n",
       "      <td>7</td>\n",
       "      <td>11</td>\n",
       "      <td>15</td>\n",
       "      <td>14</td>\n",
       "      <td>11</td>\n",
       "      <td>92.0</td>\n",
       "      <td>91.0</td>\n",
       "      <td>91.0</td>\n",
       "      <td>89.0</td>\n",
       "      <td>82.0</td>\n",
       "      <td>89.0</td>\n",
       "      <td>62.0</td>\n",
       "      <td>53.0</td>\n",
       "      <td>61.0</td>\n",
       "      <td>66.0</td>\n",
       "      <td>92.0</td>\n",
       "      <td>91.0</td>\n",
       "      <td>91.0</td>\n",
       "      <td>89.0</td>\n",
       "      <td>82.0</td>\n",
       "      <td>89.0</td>\n",
       "      <td>62.0</td>\n",
       "      <td>53.0</td>\n",
       "      <td>61.0</td>\n",
       "      <td>66.0</td>\n",
       "      <td>92.0</td>\n",
       "      <td>91.0</td>\n",
       "      <td>89.0</td>\n",
       "      <td>82.0</td>\n",
       "      <td>62.0</td>\n",
       "      <td>53.0</td>\n",
       "      <td>NaN</td>\n",
       "      <td>False</td>\n",
       "      <td>False</td>\n",
       "      <td>False</td>\n",
       "      <td>False</td>\n",
       "      <td>False</td>\n",
       "      <td>False</td>\n",
       "      <td>False</td>\n",
       "      <td>False</td>\n",
       "      <td>False</td>\n",
       "      <td>False</td>\n",
       "      <td>False</td>\n",
       "      <td>False</td>\n",
       "      <td>False</td>\n",
       "      <td>False</td>\n",
       "      <td>False</td>\n",
       "      <td>False</td>\n",
       "      <td>False</td>\n",
       "      <td>False</td>\n",
       "      <td>False</td>\n",
       "      <td>True</td>\n",
       "      <td>False</td>\n",
       "      <td>False</td>\n",
       "      <td>False</td>\n",
       "      <td>False</td>\n",
       "      <td>False</td>\n",
       "      <td>False</td>\n",
       "      <td>False</td>\n",
       "      <td>False</td>\n",
       "      <td>False</td>\n",
       "      <td>False</td>\n",
       "      <td>True</td>\n",
       "      <td>False</td>\n",
       "      <td>False</td>\n",
       "      <td>False</td>\n",
       "      <td>False</td>\n",
       "      <td>True</td>\n",
       "      <td>False</td>\n",
       "      <td>False</td>\n",
       "      <td>False</td>\n",
       "      <td>False</td>\n",
       "      <td>False</td>\n",
       "      <td>False</td>\n",
       "      <td>True</td>\n",
       "      <td>False</td>\n",
       "      <td>False</td>\n",
       "      <td>False</td>\n",
       "      <td>False</td>\n",
       "      <td>False</td>\n",
       "      <td>False</td>\n",
       "      <td>False</td>\n",
       "      <td>False</td>\n",
       "      <td>True</td>\n",
       "      <td>False</td>\n",
       "      <td>True</td>\n",
       "      <td>False</td>\n",
       "      <td>False</td>\n",
       "      <td>True</td>\n",
       "      <td>False</td>\n",
       "      <td>False</td>\n",
       "      <td>False</td>\n",
       "      <td>False</td>\n",
       "      <td>True</td>\n",
       "      <td>False</td>\n",
       "      <td>True</td>\n",
       "      <td>False</td>\n",
       "      <td>False</td>\n",
       "      <td>False</td>\n",
       "      <td>False</td>\n",
       "      <td>False</td>\n",
       "      <td>False</td>\n",
       "      <td>False</td>\n",
       "      <td>False</td>\n",
       "      <td>False</td>\n",
       "      <td>False</td>\n",
       "      <td>True</td>\n",
       "      <td>True</td>\n",
       "      <td>False</td>\n",
       "      <td>False</td>\n",
       "      <td>False</td>\n",
       "      <td>False</td>\n",
       "      <td>False</td>\n",
       "      <td>False</td>\n",
       "      <td>False</td>\n",
       "      <td>False</td>\n",
       "      <td>False</td>\n",
       "      <td>False</td>\n",
       "      <td>False</td>\n",
       "      <td>False</td>\n",
       "      <td>False</td>\n",
       "      <td>False</td>\n",
       "      <td>False</td>\n",
       "    </tr>\n",
       "    <tr>\n",
       "      <th>1</th>\n",
       "      <td>158023</td>\n",
       "      <td>L. Messi</td>\n",
       "      <td>Lionel Messi</td>\n",
       "      <td>FC Barcelona</td>\n",
       "      <td>https://cdn.sofifa.org/18/teams/241.png</td>\n",
       "      <td>2158</td>\n",
       "      <td>30</td>\n",
       "      <td>Spanish Primera División</td>\n",
       "      <td>1987-06-24</td>\n",
       "      <td>170.0</td>\n",
       "      <td>72.0</td>\n",
       "      <td>Messi</td>\n",
       "      <td>True</td>\n",
       "      <td>https://cdn.sofifa.org/flags/52@3x.png</td>\n",
       "      <td>Argentina</td>\n",
       "      <td>https://cdn.sofifa.org/18/players/158023.png</td>\n",
       "      <td>105000000.0</td>\n",
       "      <td>565000.0</td>\n",
       "      <td>215300000.0</td>\n",
       "      <td>93</td>\n",
       "      <td>93</td>\n",
       "      <td>89</td>\n",
       "      <td>90</td>\n",
       "      <td>86</td>\n",
       "      <td>96</td>\n",
       "      <td>26</td>\n",
       "      <td>61</td>\n",
       "      <td>5</td>\n",
       "      <td>4</td>\n",
       "      <td>4</td>\n",
       "      <td>Medium</td>\n",
       "      <td>Medium</td>\n",
       "      <td>Left</td>\n",
       "      <td>77</td>\n",
       "      <td>95</td>\n",
       "      <td>71</td>\n",
       "      <td>88</td>\n",
       "      <td>85</td>\n",
       "      <td>97</td>\n",
       "      <td>89</td>\n",
       "      <td>90</td>\n",
       "      <td>87</td>\n",
       "      <td>95</td>\n",
       "      <td>92</td>\n",
       "      <td>87</td>\n",
       "      <td>90</td>\n",
       "      <td>95</td>\n",
       "      <td>95</td>\n",
       "      <td>85</td>\n",
       "      <td>68</td>\n",
       "      <td>73</td>\n",
       "      <td>59</td>\n",
       "      <td>88</td>\n",
       "      <td>48</td>\n",
       "      <td>22</td>\n",
       "      <td>93</td>\n",
       "      <td>90</td>\n",
       "      <td>78</td>\n",
       "      <td>96</td>\n",
       "      <td>13</td>\n",
       "      <td>28</td>\n",
       "      <td>26</td>\n",
       "      <td>6</td>\n",
       "      <td>11</td>\n",
       "      <td>15</td>\n",
       "      <td>14</td>\n",
       "      <td>8</td>\n",
       "      <td>88.0</td>\n",
       "      <td>91.0</td>\n",
       "      <td>92.0</td>\n",
       "      <td>92.0</td>\n",
       "      <td>84.0</td>\n",
       "      <td>90.0</td>\n",
       "      <td>59.0</td>\n",
       "      <td>45.0</td>\n",
       "      <td>57.0</td>\n",
       "      <td>62.0</td>\n",
       "      <td>88.0</td>\n",
       "      <td>91.0</td>\n",
       "      <td>92.0</td>\n",
       "      <td>92.0</td>\n",
       "      <td>84.0</td>\n",
       "      <td>90.0</td>\n",
       "      <td>59.0</td>\n",
       "      <td>45.0</td>\n",
       "      <td>57.0</td>\n",
       "      <td>62.0</td>\n",
       "      <td>88.0</td>\n",
       "      <td>92.0</td>\n",
       "      <td>92.0</td>\n",
       "      <td>84.0</td>\n",
       "      <td>59.0</td>\n",
       "      <td>45.0</td>\n",
       "      <td>NaN</td>\n",
       "      <td>False</td>\n",
       "      <td>False</td>\n",
       "      <td>False</td>\n",
       "      <td>False</td>\n",
       "      <td>False</td>\n",
       "      <td>False</td>\n",
       "      <td>False</td>\n",
       "      <td>True</td>\n",
       "      <td>False</td>\n",
       "      <td>False</td>\n",
       "      <td>False</td>\n",
       "      <td>False</td>\n",
       "      <td>False</td>\n",
       "      <td>False</td>\n",
       "      <td>False</td>\n",
       "      <td>False</td>\n",
       "      <td>False</td>\n",
       "      <td>False</td>\n",
       "      <td>True</td>\n",
       "      <td>False</td>\n",
       "      <td>False</td>\n",
       "      <td>False</td>\n",
       "      <td>False</td>\n",
       "      <td>False</td>\n",
       "      <td>False</td>\n",
       "      <td>False</td>\n",
       "      <td>False</td>\n",
       "      <td>False</td>\n",
       "      <td>False</td>\n",
       "      <td>False</td>\n",
       "      <td>True</td>\n",
       "      <td>False</td>\n",
       "      <td>True</td>\n",
       "      <td>False</td>\n",
       "      <td>True</td>\n",
       "      <td>False</td>\n",
       "      <td>False</td>\n",
       "      <td>False</td>\n",
       "      <td>False</td>\n",
       "      <td>False</td>\n",
       "      <td>False</td>\n",
       "      <td>False</td>\n",
       "      <td>True</td>\n",
       "      <td>False</td>\n",
       "      <td>False</td>\n",
       "      <td>False</td>\n",
       "      <td>False</td>\n",
       "      <td>False</td>\n",
       "      <td>False</td>\n",
       "      <td>False</td>\n",
       "      <td>False</td>\n",
       "      <td>False</td>\n",
       "      <td>False</td>\n",
       "      <td>True</td>\n",
       "      <td>False</td>\n",
       "      <td>False</td>\n",
       "      <td>False</td>\n",
       "      <td>False</td>\n",
       "      <td>True</td>\n",
       "      <td>False</td>\n",
       "      <td>False</td>\n",
       "      <td>True</td>\n",
       "      <td>False</td>\n",
       "      <td>True</td>\n",
       "      <td>False</td>\n",
       "      <td>True</td>\n",
       "      <td>False</td>\n",
       "      <td>False</td>\n",
       "      <td>False</td>\n",
       "      <td>False</td>\n",
       "      <td>False</td>\n",
       "      <td>False</td>\n",
       "      <td>False</td>\n",
       "      <td>False</td>\n",
       "      <td>True</td>\n",
       "      <td>False</td>\n",
       "      <td>True</td>\n",
       "      <td>False</td>\n",
       "      <td>False</td>\n",
       "      <td>False</td>\n",
       "      <td>False</td>\n",
       "      <td>False</td>\n",
       "      <td>False</td>\n",
       "      <td>False</td>\n",
       "      <td>False</td>\n",
       "      <td>False</td>\n",
       "      <td>False</td>\n",
       "      <td>False</td>\n",
       "      <td>False</td>\n",
       "      <td>False</td>\n",
       "      <td>False</td>\n",
       "    </tr>\n",
       "    <tr>\n",
       "      <th>2</th>\n",
       "      <td>190871</td>\n",
       "      <td>Neymar</td>\n",
       "      <td>Neymar da Silva Santos Jr.</td>\n",
       "      <td>Paris Saint-Germain</td>\n",
       "      <td>https://cdn.sofifa.org/18/teams/73.png</td>\n",
       "      <td>2100</td>\n",
       "      <td>25</td>\n",
       "      <td>French Ligue 1</td>\n",
       "      <td>1992-02-05</td>\n",
       "      <td>175.0</td>\n",
       "      <td>68.0</td>\n",
       "      <td>Neymar</td>\n",
       "      <td>True</td>\n",
       "      <td>https://cdn.sofifa.org/flags/54@3x.png</td>\n",
       "      <td>Brazil</td>\n",
       "      <td>https://cdn.sofifa.org/18/players/190871.png</td>\n",
       "      <td>123000000.0</td>\n",
       "      <td>280000.0</td>\n",
       "      <td>236800000.0</td>\n",
       "      <td>92</td>\n",
       "      <td>94</td>\n",
       "      <td>92</td>\n",
       "      <td>84</td>\n",
       "      <td>79</td>\n",
       "      <td>95</td>\n",
       "      <td>30</td>\n",
       "      <td>60</td>\n",
       "      <td>5</td>\n",
       "      <td>5</td>\n",
       "      <td>5</td>\n",
       "      <td>High</td>\n",
       "      <td>Medium</td>\n",
       "      <td>Right</td>\n",
       "      <td>75</td>\n",
       "      <td>89</td>\n",
       "      <td>62</td>\n",
       "      <td>81</td>\n",
       "      <td>83</td>\n",
       "      <td>96</td>\n",
       "      <td>81</td>\n",
       "      <td>84</td>\n",
       "      <td>75</td>\n",
       "      <td>95</td>\n",
       "      <td>94</td>\n",
       "      <td>90</td>\n",
       "      <td>96</td>\n",
       "      <td>88</td>\n",
       "      <td>82</td>\n",
       "      <td>80</td>\n",
       "      <td>61</td>\n",
       "      <td>78</td>\n",
       "      <td>53</td>\n",
       "      <td>77</td>\n",
       "      <td>56</td>\n",
       "      <td>36</td>\n",
       "      <td>90</td>\n",
       "      <td>80</td>\n",
       "      <td>81</td>\n",
       "      <td>92</td>\n",
       "      <td>21</td>\n",
       "      <td>24</td>\n",
       "      <td>33</td>\n",
       "      <td>9</td>\n",
       "      <td>9</td>\n",
       "      <td>15</td>\n",
       "      <td>15</td>\n",
       "      <td>11</td>\n",
       "      <td>84.0</td>\n",
       "      <td>89.0</td>\n",
       "      <td>88.0</td>\n",
       "      <td>88.0</td>\n",
       "      <td>79.0</td>\n",
       "      <td>87.0</td>\n",
       "      <td>59.0</td>\n",
       "      <td>46.0</td>\n",
       "      <td>59.0</td>\n",
       "      <td>64.0</td>\n",
       "      <td>84.0</td>\n",
       "      <td>89.0</td>\n",
       "      <td>88.0</td>\n",
       "      <td>88.0</td>\n",
       "      <td>79.0</td>\n",
       "      <td>87.0</td>\n",
       "      <td>59.0</td>\n",
       "      <td>46.0</td>\n",
       "      <td>59.0</td>\n",
       "      <td>64.0</td>\n",
       "      <td>84.0</td>\n",
       "      <td>88.0</td>\n",
       "      <td>88.0</td>\n",
       "      <td>79.0</td>\n",
       "      <td>59.0</td>\n",
       "      <td>46.0</td>\n",
       "      <td>NaN</td>\n",
       "      <td>False</td>\n",
       "      <td>False</td>\n",
       "      <td>False</td>\n",
       "      <td>False</td>\n",
       "      <td>False</td>\n",
       "      <td>False</td>\n",
       "      <td>False</td>\n",
       "      <td>False</td>\n",
       "      <td>False</td>\n",
       "      <td>False</td>\n",
       "      <td>False</td>\n",
       "      <td>True</td>\n",
       "      <td>False</td>\n",
       "      <td>False</td>\n",
       "      <td>False</td>\n",
       "      <td>False</td>\n",
       "      <td>False</td>\n",
       "      <td>False</td>\n",
       "      <td>False</td>\n",
       "      <td>True</td>\n",
       "      <td>False</td>\n",
       "      <td>False</td>\n",
       "      <td>False</td>\n",
       "      <td>False</td>\n",
       "      <td>False</td>\n",
       "      <td>False</td>\n",
       "      <td>False</td>\n",
       "      <td>False</td>\n",
       "      <td>False</td>\n",
       "      <td>False</td>\n",
       "      <td>False</td>\n",
       "      <td>False</td>\n",
       "      <td>False</td>\n",
       "      <td>False</td>\n",
       "      <td>False</td>\n",
       "      <td>False</td>\n",
       "      <td>False</td>\n",
       "      <td>False</td>\n",
       "      <td>False</td>\n",
       "      <td>False</td>\n",
       "      <td>False</td>\n",
       "      <td>False</td>\n",
       "      <td>True</td>\n",
       "      <td>False</td>\n",
       "      <td>False</td>\n",
       "      <td>True</td>\n",
       "      <td>False</td>\n",
       "      <td>False</td>\n",
       "      <td>True</td>\n",
       "      <td>False</td>\n",
       "      <td>False</td>\n",
       "      <td>True</td>\n",
       "      <td>False</td>\n",
       "      <td>True</td>\n",
       "      <td>False</td>\n",
       "      <td>False</td>\n",
       "      <td>False</td>\n",
       "      <td>False</td>\n",
       "      <td>False</td>\n",
       "      <td>False</td>\n",
       "      <td>False</td>\n",
       "      <td>True</td>\n",
       "      <td>False</td>\n",
       "      <td>False</td>\n",
       "      <td>False</td>\n",
       "      <td>False</td>\n",
       "      <td>False</td>\n",
       "      <td>False</td>\n",
       "      <td>False</td>\n",
       "      <td>False</td>\n",
       "      <td>False</td>\n",
       "      <td>False</td>\n",
       "      <td>False</td>\n",
       "      <td>False</td>\n",
       "      <td>False</td>\n",
       "      <td>True</td>\n",
       "      <td>False</td>\n",
       "      <td>False</td>\n",
       "      <td>False</td>\n",
       "      <td>False</td>\n",
       "      <td>False</td>\n",
       "      <td>False</td>\n",
       "      <td>False</td>\n",
       "      <td>False</td>\n",
       "      <td>False</td>\n",
       "      <td>False</td>\n",
       "      <td>False</td>\n",
       "      <td>False</td>\n",
       "      <td>False</td>\n",
       "      <td>False</td>\n",
       "      <td>False</td>\n",
       "    </tr>\n",
       "    <tr>\n",
       "      <th>3</th>\n",
       "      <td>176580</td>\n",
       "      <td>L. Suárez</td>\n",
       "      <td>Luis Suárez</td>\n",
       "      <td>FC Barcelona</td>\n",
       "      <td>https://cdn.sofifa.org/18/teams/241.png</td>\n",
       "      <td>2291</td>\n",
       "      <td>30</td>\n",
       "      <td>Spanish Primera División</td>\n",
       "      <td>1987-01-24</td>\n",
       "      <td>182.0</td>\n",
       "      <td>86.0</td>\n",
       "      <td>Normal</td>\n",
       "      <td>True</td>\n",
       "      <td>https://cdn.sofifa.org/flags/60@3x.png</td>\n",
       "      <td>Uruguay</td>\n",
       "      <td>https://cdn.sofifa.org/18/players/176580.png</td>\n",
       "      <td>97000000.0</td>\n",
       "      <td>510000.0</td>\n",
       "      <td>198900000.0</td>\n",
       "      <td>92</td>\n",
       "      <td>92</td>\n",
       "      <td>82</td>\n",
       "      <td>90</td>\n",
       "      <td>79</td>\n",
       "      <td>87</td>\n",
       "      <td>42</td>\n",
       "      <td>81</td>\n",
       "      <td>5</td>\n",
       "      <td>4</td>\n",
       "      <td>4</td>\n",
       "      <td>High</td>\n",
       "      <td>Medium</td>\n",
       "      <td>Right</td>\n",
       "      <td>77</td>\n",
       "      <td>94</td>\n",
       "      <td>77</td>\n",
       "      <td>83</td>\n",
       "      <td>88</td>\n",
       "      <td>86</td>\n",
       "      <td>86</td>\n",
       "      <td>84</td>\n",
       "      <td>64</td>\n",
       "      <td>91</td>\n",
       "      <td>88</td>\n",
       "      <td>77</td>\n",
       "      <td>86</td>\n",
       "      <td>93</td>\n",
       "      <td>60</td>\n",
       "      <td>87</td>\n",
       "      <td>69</td>\n",
       "      <td>89</td>\n",
       "      <td>80</td>\n",
       "      <td>86</td>\n",
       "      <td>78</td>\n",
       "      <td>41</td>\n",
       "      <td>92</td>\n",
       "      <td>84</td>\n",
       "      <td>85</td>\n",
       "      <td>83</td>\n",
       "      <td>30</td>\n",
       "      <td>45</td>\n",
       "      <td>38</td>\n",
       "      <td>27</td>\n",
       "      <td>25</td>\n",
       "      <td>31</td>\n",
       "      <td>33</td>\n",
       "      <td>37</td>\n",
       "      <td>88.0</td>\n",
       "      <td>87.0</td>\n",
       "      <td>88.0</td>\n",
       "      <td>87.0</td>\n",
       "      <td>80.0</td>\n",
       "      <td>85.0</td>\n",
       "      <td>65.0</td>\n",
       "      <td>58.0</td>\n",
       "      <td>64.0</td>\n",
       "      <td>68.0</td>\n",
       "      <td>88.0</td>\n",
       "      <td>87.0</td>\n",
       "      <td>88.0</td>\n",
       "      <td>87.0</td>\n",
       "      <td>80.0</td>\n",
       "      <td>85.0</td>\n",
       "      <td>65.0</td>\n",
       "      <td>58.0</td>\n",
       "      <td>64.0</td>\n",
       "      <td>68.0</td>\n",
       "      <td>88.0</td>\n",
       "      <td>88.0</td>\n",
       "      <td>87.0</td>\n",
       "      <td>80.0</td>\n",
       "      <td>65.0</td>\n",
       "      <td>58.0</td>\n",
       "      <td>NaN</td>\n",
       "      <td>False</td>\n",
       "      <td>False</td>\n",
       "      <td>False</td>\n",
       "      <td>False</td>\n",
       "      <td>False</td>\n",
       "      <td>False</td>\n",
       "      <td>False</td>\n",
       "      <td>False</td>\n",
       "      <td>False</td>\n",
       "      <td>False</td>\n",
       "      <td>False</td>\n",
       "      <td>True</td>\n",
       "      <td>False</td>\n",
       "      <td>False</td>\n",
       "      <td>False</td>\n",
       "      <td>False</td>\n",
       "      <td>False</td>\n",
       "      <td>False</td>\n",
       "      <td>False</td>\n",
       "      <td>False</td>\n",
       "      <td>False</td>\n",
       "      <td>False</td>\n",
       "      <td>False</td>\n",
       "      <td>False</td>\n",
       "      <td>False</td>\n",
       "      <td>False</td>\n",
       "      <td>False</td>\n",
       "      <td>False</td>\n",
       "      <td>False</td>\n",
       "      <td>False</td>\n",
       "      <td>False</td>\n",
       "      <td>False</td>\n",
       "      <td>False</td>\n",
       "      <td>False</td>\n",
       "      <td>False</td>\n",
       "      <td>False</td>\n",
       "      <td>False</td>\n",
       "      <td>False</td>\n",
       "      <td>False</td>\n",
       "      <td>False</td>\n",
       "      <td>False</td>\n",
       "      <td>False</td>\n",
       "      <td>False</td>\n",
       "      <td>False</td>\n",
       "      <td>False</td>\n",
       "      <td>False</td>\n",
       "      <td>False</td>\n",
       "      <td>False</td>\n",
       "      <td>True</td>\n",
       "      <td>True</td>\n",
       "      <td>False</td>\n",
       "      <td>False</td>\n",
       "      <td>False</td>\n",
       "      <td>False</td>\n",
       "      <td>False</td>\n",
       "      <td>False</td>\n",
       "      <td>False</td>\n",
       "      <td>False</td>\n",
       "      <td>False</td>\n",
       "      <td>False</td>\n",
       "      <td>False</td>\n",
       "      <td>True</td>\n",
       "      <td>False</td>\n",
       "      <td>True</td>\n",
       "      <td>False</td>\n",
       "      <td>False</td>\n",
       "      <td>False</td>\n",
       "      <td>False</td>\n",
       "      <td>False</td>\n",
       "      <td>False</td>\n",
       "      <td>False</td>\n",
       "      <td>False</td>\n",
       "      <td>False</td>\n",
       "      <td>False</td>\n",
       "      <td>True</td>\n",
       "      <td>False</td>\n",
       "      <td>False</td>\n",
       "      <td>False</td>\n",
       "      <td>False</td>\n",
       "      <td>False</td>\n",
       "      <td>False</td>\n",
       "      <td>False</td>\n",
       "      <td>False</td>\n",
       "      <td>False</td>\n",
       "      <td>False</td>\n",
       "      <td>False</td>\n",
       "      <td>False</td>\n",
       "      <td>False</td>\n",
       "      <td>False</td>\n",
       "      <td>False</td>\n",
       "      <td>False</td>\n",
       "    </tr>\n",
       "    <tr>\n",
       "      <th>4</th>\n",
       "      <td>167495</td>\n",
       "      <td>M. Neuer</td>\n",
       "      <td>Manuel Neuer</td>\n",
       "      <td>FC Bayern Munich</td>\n",
       "      <td>https://cdn.sofifa.org/18/teams/21.png</td>\n",
       "      <td>1493</td>\n",
       "      <td>31</td>\n",
       "      <td>German Bundesliga</td>\n",
       "      <td>1986-03-27</td>\n",
       "      <td>193.0</td>\n",
       "      <td>92.0</td>\n",
       "      <td>Normal</td>\n",
       "      <td>True</td>\n",
       "      <td>https://cdn.sofifa.org/flags/21@3x.png</td>\n",
       "      <td>Germany</td>\n",
       "      <td>https://cdn.sofifa.org/18/players/167495.png</td>\n",
       "      <td>61000000.0</td>\n",
       "      <td>230000.0</td>\n",
       "      <td>100700000.0</td>\n",
       "      <td>92</td>\n",
       "      <td>92</td>\n",
       "      <td>91</td>\n",
       "      <td>90</td>\n",
       "      <td>95</td>\n",
       "      <td>89</td>\n",
       "      <td>60</td>\n",
       "      <td>91</td>\n",
       "      <td>5</td>\n",
       "      <td>1</td>\n",
       "      <td>4</td>\n",
       "      <td>Medium</td>\n",
       "      <td>Medium</td>\n",
       "      <td>Right</td>\n",
       "      <td>15</td>\n",
       "      <td>13</td>\n",
       "      <td>25</td>\n",
       "      <td>55</td>\n",
       "      <td>11</td>\n",
       "      <td>30</td>\n",
       "      <td>14</td>\n",
       "      <td>11</td>\n",
       "      <td>59</td>\n",
       "      <td>48</td>\n",
       "      <td>58</td>\n",
       "      <td>61</td>\n",
       "      <td>52</td>\n",
       "      <td>85</td>\n",
       "      <td>35</td>\n",
       "      <td>25</td>\n",
       "      <td>78</td>\n",
       "      <td>44</td>\n",
       "      <td>83</td>\n",
       "      <td>16</td>\n",
       "      <td>29</td>\n",
       "      <td>30</td>\n",
       "      <td>12</td>\n",
       "      <td>70</td>\n",
       "      <td>47</td>\n",
       "      <td>70</td>\n",
       "      <td>10</td>\n",
       "      <td>10</td>\n",
       "      <td>11</td>\n",
       "      <td>91</td>\n",
       "      <td>90</td>\n",
       "      <td>95</td>\n",
       "      <td>91</td>\n",
       "      <td>89</td>\n",
       "      <td>NaN</td>\n",
       "      <td>NaN</td>\n",
       "      <td>NaN</td>\n",
       "      <td>NaN</td>\n",
       "      <td>NaN</td>\n",
       "      <td>NaN</td>\n",
       "      <td>NaN</td>\n",
       "      <td>NaN</td>\n",
       "      <td>NaN</td>\n",
       "      <td>NaN</td>\n",
       "      <td>NaN</td>\n",
       "      <td>NaN</td>\n",
       "      <td>NaN</td>\n",
       "      <td>NaN</td>\n",
       "      <td>NaN</td>\n",
       "      <td>NaN</td>\n",
       "      <td>NaN</td>\n",
       "      <td>NaN</td>\n",
       "      <td>NaN</td>\n",
       "      <td>NaN</td>\n",
       "      <td>NaN</td>\n",
       "      <td>NaN</td>\n",
       "      <td>NaN</td>\n",
       "      <td>NaN</td>\n",
       "      <td>NaN</td>\n",
       "      <td>NaN</td>\n",
       "      <td>92.0</td>\n",
       "      <td>True</td>\n",
       "      <td>False</td>\n",
       "      <td>False</td>\n",
       "      <td>False</td>\n",
       "      <td>False</td>\n",
       "      <td>False</td>\n",
       "      <td>False</td>\n",
       "      <td>False</td>\n",
       "      <td>False</td>\n",
       "      <td>True</td>\n",
       "      <td>False</td>\n",
       "      <td>False</td>\n",
       "      <td>False</td>\n",
       "      <td>False</td>\n",
       "      <td>False</td>\n",
       "      <td>False</td>\n",
       "      <td>False</td>\n",
       "      <td>False</td>\n",
       "      <td>False</td>\n",
       "      <td>False</td>\n",
       "      <td>False</td>\n",
       "      <td>False</td>\n",
       "      <td>True</td>\n",
       "      <td>False</td>\n",
       "      <td>False</td>\n",
       "      <td>False</td>\n",
       "      <td>False</td>\n",
       "      <td>False</td>\n",
       "      <td>False</td>\n",
       "      <td>False</td>\n",
       "      <td>False</td>\n",
       "      <td>False</td>\n",
       "      <td>False</td>\n",
       "      <td>False</td>\n",
       "      <td>False</td>\n",
       "      <td>False</td>\n",
       "      <td>False</td>\n",
       "      <td>False</td>\n",
       "      <td>True</td>\n",
       "      <td>False</td>\n",
       "      <td>False</td>\n",
       "      <td>False</td>\n",
       "      <td>False</td>\n",
       "      <td>False</td>\n",
       "      <td>False</td>\n",
       "      <td>False</td>\n",
       "      <td>False</td>\n",
       "      <td>False</td>\n",
       "      <td>False</td>\n",
       "      <td>False</td>\n",
       "      <td>False</td>\n",
       "      <td>False</td>\n",
       "      <td>False</td>\n",
       "      <td>False</td>\n",
       "      <td>False</td>\n",
       "      <td>False</td>\n",
       "      <td>False</td>\n",
       "      <td>False</td>\n",
       "      <td>False</td>\n",
       "      <td>False</td>\n",
       "      <td>False</td>\n",
       "      <td>False</td>\n",
       "      <td>False</td>\n",
       "      <td>False</td>\n",
       "      <td>False</td>\n",
       "      <td>False</td>\n",
       "      <td>False</td>\n",
       "      <td>False</td>\n",
       "      <td>False</td>\n",
       "      <td>False</td>\n",
       "      <td>False</td>\n",
       "      <td>False</td>\n",
       "      <td>False</td>\n",
       "      <td>False</td>\n",
       "      <td>False</td>\n",
       "      <td>False</td>\n",
       "      <td>False</td>\n",
       "      <td>False</td>\n",
       "      <td>False</td>\n",
       "      <td>False</td>\n",
       "      <td>False</td>\n",
       "      <td>False</td>\n",
       "      <td>False</td>\n",
       "      <td>False</td>\n",
       "      <td>False</td>\n",
       "      <td>False</td>\n",
       "      <td>False</td>\n",
       "      <td>False</td>\n",
       "      <td>False</td>\n",
       "      <td>False</td>\n",
       "      <td>True</td>\n",
       "    </tr>\n",
       "  </tbody>\n",
       "</table>\n",
       "</div>"
      ],
      "text/plain": [
       "       ID               name                     full_name  \\\n",
       "0   20801  Cristiano Ronaldo  C. Ronaldo dos Santos Aveiro   \n",
       "1  158023           L. Messi                  Lionel Messi   \n",
       "2  190871             Neymar    Neymar da Silva Santos Jr.   \n",
       "3  176580          L. Suárez                   Luis Suárez   \n",
       "4  167495           M. Neuer                  Manuel Neuer   \n",
       "\n",
       "                  club                                club_logo  special  age  \\\n",
       "0       Real Madrid CF  https://cdn.sofifa.org/18/teams/243.png     2228   32   \n",
       "1         FC Barcelona  https://cdn.sofifa.org/18/teams/241.png     2158   30   \n",
       "2  Paris Saint-Germain   https://cdn.sofifa.org/18/teams/73.png     2100   25   \n",
       "3         FC Barcelona  https://cdn.sofifa.org/18/teams/241.png     2291   30   \n",
       "4     FC Bayern Munich   https://cdn.sofifa.org/18/teams/21.png     1493   31   \n",
       "\n",
       "                     league  birth_date  height_cm  weight_kg   body_type  \\\n",
       "0  Spanish Primera División  1985-02-05      185.0       80.0  C. Ronaldo   \n",
       "1  Spanish Primera División  1987-06-24      170.0       72.0       Messi   \n",
       "2            French Ligue 1  1992-02-05      175.0       68.0      Neymar   \n",
       "3  Spanish Primera División  1987-01-24      182.0       86.0      Normal   \n",
       "4         German Bundesliga  1986-03-27      193.0       92.0      Normal   \n",
       "\n",
       "   real_face                                    flag nationality  \\\n",
       "0       True  https://cdn.sofifa.org/flags/38@3x.png    Portugal   \n",
       "1       True  https://cdn.sofifa.org/flags/52@3x.png   Argentina   \n",
       "2       True  https://cdn.sofifa.org/flags/54@3x.png      Brazil   \n",
       "3       True  https://cdn.sofifa.org/flags/60@3x.png     Uruguay   \n",
       "4       True  https://cdn.sofifa.org/flags/21@3x.png     Germany   \n",
       "\n",
       "                                          photo    eur_value  eur_wage  \\\n",
       "0   https://cdn.sofifa.org/18/players/20801.png   95500000.0  565000.0   \n",
       "1  https://cdn.sofifa.org/18/players/158023.png  105000000.0  565000.0   \n",
       "2  https://cdn.sofifa.org/18/players/190871.png  123000000.0  280000.0   \n",
       "3  https://cdn.sofifa.org/18/players/176580.png   97000000.0  510000.0   \n",
       "4  https://cdn.sofifa.org/18/players/167495.png   61000000.0  230000.0   \n",
       "\n",
       "   eur_release_clause  overall  potential  pac  sho  pas  dri  def  phy  \\\n",
       "0         195800000.0       94         94   90   93   82   90   33   80   \n",
       "1         215300000.0       93         93   89   90   86   96   26   61   \n",
       "2         236800000.0       92         94   92   84   79   95   30   60   \n",
       "3         198900000.0       92         92   82   90   79   87   42   81   \n",
       "4         100700000.0       92         92   91   90   95   89   60   91   \n",
       "\n",
       "   international_reputation  skill_moves  weak_foot work_rate_att  \\\n",
       "0                         5            5          4          High   \n",
       "1                         5            4          4        Medium   \n",
       "2                         5            5          5          High   \n",
       "3                         5            4          4          High   \n",
       "4                         5            1          4        Medium   \n",
       "\n",
       "  work_rate_def preferred_foot  crossing  finishing  heading_accuracy  \\\n",
       "0           Low          Right        85         94                88   \n",
       "1        Medium           Left        77         95                71   \n",
       "2        Medium          Right        75         89                62   \n",
       "3        Medium          Right        77         94                77   \n",
       "4        Medium          Right        15         13                25   \n",
       "\n",
       "   short_passing  volleys  dribbling  curve  free_kick_accuracy  long_passing  \\\n",
       "0             83       88         91     81                  76            77   \n",
       "1             88       85         97     89                  90            87   \n",
       "2             81       83         96     81                  84            75   \n",
       "3             83       88         86     86                  84            64   \n",
       "4             55       11         30     14                  11            59   \n",
       "\n",
       "   ball_control  acceleration  sprint_speed  agility  reactions  balance  \\\n",
       "0            93            89            91       89         96       63   \n",
       "1            95            92            87       90         95       95   \n",
       "2            95            94            90       96         88       82   \n",
       "3            91            88            77       86         93       60   \n",
       "4            48            58            61       52         85       35   \n",
       "\n",
       "   shot_power  jumping  stamina  strength  long_shots  aggression  \\\n",
       "0          94       95       92        80          92          63   \n",
       "1          85       68       73        59          88          48   \n",
       "2          80       61       78        53          77          56   \n",
       "3          87       69       89        80          86          78   \n",
       "4          25       78       44        83          16          29   \n",
       "\n",
       "   interceptions  positioning  vision  penalties  composure  marking  \\\n",
       "0             29           95      85         85         95       22   \n",
       "1             22           93      90         78         96       13   \n",
       "2             36           90      80         81         92       21   \n",
       "3             41           92      84         85         83       30   \n",
       "4             30           12      70         47         70       10   \n",
       "\n",
       "   standing_tackle  sliding_tackle  gk_diving  gk_handling  gk_kicking  \\\n",
       "0               31              23          7           11          15   \n",
       "1               28              26          6           11          15   \n",
       "2               24              33          9            9          15   \n",
       "3               45              38         27           25          31   \n",
       "4               10              11         91           90          95   \n",
       "\n",
       "   gk_positioning  gk_reflexes    rs    rw    rf   ram   rcm    rm   rdm  \\\n",
       "0              14           11  92.0  91.0  91.0  89.0  82.0  89.0  62.0   \n",
       "1              14            8  88.0  91.0  92.0  92.0  84.0  90.0  59.0   \n",
       "2              15           11  84.0  89.0  88.0  88.0  79.0  87.0  59.0   \n",
       "3              33           37  88.0  87.0  88.0  87.0  80.0  85.0  65.0   \n",
       "4              91           89   NaN   NaN   NaN   NaN   NaN   NaN   NaN   \n",
       "\n",
       "    rcb    rb   rwb    st    lw    cf   cam    cm    lm   cdm    cb    lb  \\\n",
       "0  53.0  61.0  66.0  92.0  91.0  91.0  89.0  82.0  89.0  62.0  53.0  61.0   \n",
       "1  45.0  57.0  62.0  88.0  91.0  92.0  92.0  84.0  90.0  59.0  45.0  57.0   \n",
       "2  46.0  59.0  64.0  84.0  89.0  88.0  88.0  79.0  87.0  59.0  46.0  59.0   \n",
       "3  58.0  64.0  68.0  88.0  87.0  88.0  87.0  80.0  85.0  65.0  58.0  64.0   \n",
       "4   NaN   NaN   NaN   NaN   NaN   NaN   NaN   NaN   NaN   NaN   NaN   NaN   \n",
       "\n",
       "    lwb    ls    lf   lam   lcm   ldm   lcb    gk  1_on_1_rush_trait  \\\n",
       "0  66.0  92.0  91.0  89.0  82.0  62.0  53.0   NaN              False   \n",
       "1  62.0  88.0  92.0  92.0  84.0  59.0  45.0   NaN              False   \n",
       "2  64.0  84.0  88.0  88.0  79.0  59.0  46.0   NaN              False   \n",
       "3  68.0  88.0  88.0  87.0  80.0  65.0  58.0   NaN              False   \n",
       "4   NaN   NaN   NaN   NaN   NaN   NaN   NaN  92.0               True   \n",
       "\n",
       "   acrobatic_clearance_trait  argues_with_officials_trait  \\\n",
       "0                      False                        False   \n",
       "1                      False                        False   \n",
       "2                      False                        False   \n",
       "3                      False                        False   \n",
       "4                      False                        False   \n",
       "\n",
       "   avoids_using_weaker_foot_trait  backs_into_player_trait  \\\n",
       "0                           False                    False   \n",
       "1                           False                    False   \n",
       "2                           False                    False   \n",
       "3                           False                    False   \n",
       "4                           False                    False   \n",
       "\n",
       "   bicycle_kicks_trait  cautious_with_crosses_trait  chip_shot_trait  \\\n",
       "0                False                        False            False   \n",
       "1                False                        False             True   \n",
       "2                False                        False            False   \n",
       "3                False                        False            False   \n",
       "4                False                        False            False   \n",
       "\n",
       "   chipped_penalty_trait  comes_for_crosses_trait  corner_specialist_trait  \\\n",
       "0                  False                    False                    False   \n",
       "1                  False                    False                    False   \n",
       "2                  False                    False                    False   \n",
       "3                  False                    False                    False   \n",
       "4                  False                     True                    False   \n",
       "\n",
       "   diver_trait  dives_into_tackles_trait  diving_header_trait  \\\n",
       "0        False                     False                False   \n",
       "1        False                     False                False   \n",
       "2         True                     False                False   \n",
       "3         True                     False                False   \n",
       "4        False                     False                False   \n",
       "\n",
       "   driven_pass_trait  early_crosser_trait  fan's_favourite_trait  \\\n",
       "0              False                False                  False   \n",
       "1              False                False                  False   \n",
       "2              False                False                  False   \n",
       "3              False                False                  False   \n",
       "4              False                False                  False   \n",
       "\n",
       "   fancy_flicks_trait  finesse_shot_trait  flair_trait  flair_passes_trait  \\\n",
       "0               False               False         True               False   \n",
       "1               False                True        False               False   \n",
       "2               False               False         True               False   \n",
       "3               False               False        False               False   \n",
       "4               False               False        False               False   \n",
       "\n",
       "   gk_flat_kick_trait  gk_long_throw_trait  gk_up_for_corners_trait  \\\n",
       "0               False                False                    False   \n",
       "1               False                False                    False   \n",
       "2               False                False                    False   \n",
       "3               False                False                    False   \n",
       "4               False                 True                    False   \n",
       "\n",
       "   giant_throw_in_trait  inflexible_trait  injury_free_trait  \\\n",
       "0                 False             False              False   \n",
       "1                 False             False              False   \n",
       "2                 False             False              False   \n",
       "3                 False             False              False   \n",
       "4                 False             False              False   \n",
       "\n",
       "   injury_prone_trait  leadership_trait  long_passer_trait  \\\n",
       "0               False             False              False   \n",
       "1               False             False              False   \n",
       "2               False             False              False   \n",
       "3               False             False              False   \n",
       "4               False             False              False   \n",
       "\n",
       "   long_shot_taker_trait  long_throw_in_trait  one_club_player_trait  \\\n",
       "0                   True                False                  False   \n",
       "1                   True                False                   True   \n",
       "2                  False                False                  False   \n",
       "3                  False                False                  False   \n",
       "4                  False                False                  False   \n",
       "\n",
       "   outside_foot_shot_trait  playmaker_trait  power_free_kick_trait  \\\n",
       "0                    False            False                   True   \n",
       "1                    False             True                  False   \n",
       "2                    False            False                  False   \n",
       "3                    False            False                  False   \n",
       "4                    False            False                  False   \n",
       "\n",
       "   power_header_trait  puncher_trait  rushes_out_of_goal_trait  \\\n",
       "0               False          False                     False   \n",
       "1               False          False                     False   \n",
       "2               False          False                     False   \n",
       "3               False          False                     False   \n",
       "4               False          False                      True   \n",
       "\n",
       "   saves_with_feet_trait  second_wind_trait  selfish_trait  \\\n",
       "0                  False              False          False   \n",
       "1                  False              False          False   \n",
       "2                  False              False          False   \n",
       "3                  False              False          False   \n",
       "4                  False              False          False   \n",
       "\n",
       "   skilled_dribbling_trait  stutter_penalty_trait  swerve_pass_trait  \\\n",
       "0                     True                  False              False   \n",
       "1                     True                  False              False   \n",
       "2                     True                  False              False   \n",
       "3                    False                  False              False   \n",
       "4                    False                  False              False   \n",
       "\n",
       "   takes_finesse_free_kicks_trait  target_forward_trait  team_player_trait  \\\n",
       "0                           False                 False              False   \n",
       "1                           False                 False              False   \n",
       "2                            True                 False              False   \n",
       "3                           False                 False              False   \n",
       "4                           False                 False              False   \n",
       "\n",
       "   technical_dribbler_trait  tries_to_beat_defensive_line_trait  \\\n",
       "0                     False                               False   \n",
       "1                     False                               False   \n",
       "2                      True                               False   \n",
       "3                      True                                True   \n",
       "4                     False                               False   \n",
       "\n",
       "   poacher_speciality  speedster_speciality  aerial_threat_speciality  \\\n",
       "0               False                  True                     False   \n",
       "1               False                 False                     False   \n",
       "2               False                  True                     False   \n",
       "3               False                 False                     False   \n",
       "4               False                 False                     False   \n",
       "\n",
       "   dribbler_speciality  playmaker_speciality  engine_speciality  \\\n",
       "0                 True                 False              False   \n",
       "1                 True                 False              False   \n",
       "2                 True                 False              False   \n",
       "3                False                 False              False   \n",
       "4                False                 False              False   \n",
       "\n",
       "   distance_shooter_speciality  crosser_speciality  \\\n",
       "0                         True               False   \n",
       "1                        False               False   \n",
       "2                        False               False   \n",
       "3                        False               False   \n",
       "4                        False               False   \n",
       "\n",
       "   free_kick_specialist_speciality  tackling_speciality  tactician_speciality  \\\n",
       "0                            False                False                 False   \n",
       "1                             True                False                 False   \n",
       "2                            False                False                 False   \n",
       "3                            False                False                 False   \n",
       "4                            False                False                 False   \n",
       "\n",
       "   acrobat_speciality  strength_speciality  clinical_finisher_speciality  \\\n",
       "0                True                False                          True   \n",
       "1                True                False                          True   \n",
       "2                True                False                         False   \n",
       "3                True                False                          True   \n",
       "4               False                False                         False   \n",
       "\n",
       "   prefers_rs  prefers_rw  prefers_rf  prefers_ram  prefers_rcm  prefers_rm  \\\n",
       "0       False       False       False        False        False       False   \n",
       "1       False        True       False        False        False       False   \n",
       "2       False       False       False        False        False       False   \n",
       "3       False       False       False        False        False       False   \n",
       "4       False       False       False        False        False       False   \n",
       "\n",
       "   prefers_rdm  prefers_rcb  prefers_rb  prefers_rwb  prefers_st  prefers_lw  \\\n",
       "0        False        False       False        False        True        True   \n",
       "1        False        False       False        False        True       False   \n",
       "2        False        False       False        False       False        True   \n",
       "3        False        False       False        False        True       False   \n",
       "4        False        False       False        False       False       False   \n",
       "\n",
       "   prefers_cf  prefers_cam  prefers_cm  prefers_lm  prefers_cdm  prefers_cb  \\\n",
       "0       False        False       False       False        False       False   \n",
       "1        True        False       False       False        False       False   \n",
       "2       False        False       False       False        False       False   \n",
       "3       False        False       False       False        False       False   \n",
       "4       False        False       False       False        False       False   \n",
       "\n",
       "   prefers_lb  prefers_lwb  prefers_ls  prefers_lf  prefers_lam  prefers_lcm  \\\n",
       "0       False        False       False       False        False        False   \n",
       "1       False        False       False       False        False        False   \n",
       "2       False        False       False       False        False        False   \n",
       "3       False        False       False       False        False        False   \n",
       "4       False        False       False       False        False        False   \n",
       "\n",
       "   prefers_ldm  prefers_lcb  prefers_gk  \n",
       "0        False        False       False  \n",
       "1        False        False       False  \n",
       "2        False        False       False  \n",
       "3        False        False       False  \n",
       "4        False        False        True  "
      ]
     },
     "execution_count": 4,
     "metadata": {},
     "output_type": "execute_result"
    }
   ],
   "source": [
    "fifa = pd.read_csv('./fifa_18.csv')\n",
    "print(fifa.shape)\n",
    "fifa.head()"
   ]
  },
  {
   "cell_type": "code",
   "execution_count": 5,
   "metadata": {
    "ExecuteTime": {
     "end_time": "2020-08-25T13:32:27.374894Z",
     "start_time": "2020-08-25T13:32:27.351906Z"
    }
   },
   "outputs": [
    {
     "name": "stdout",
     "output_type": "stream",
     "text": [
      "<class 'pandas.core.frame.DataFrame'>\n",
      "RangeIndex: 1000 entries, 0 to 999\n",
      "Columns: 185 entries, ID to prefers_gk\n",
      "dtypes: bool(92), float64(32), int64(48), object(13)\n",
      "memory usage: 1.6 MB\n"
     ]
    }
   ],
   "source": [
    "fifa.info(memory_usage='deep')"
   ]
  },
  {
   "cell_type": "markdown",
   "metadata": {},
   "source": [
    "## Normalizing data using `whiten` from `scipy.cluster.vq`\n",
    "`whiten` divides data with its standard deviation to give it unit variance"
   ]
  },
  {
   "cell_type": "code",
   "execution_count": 6,
   "metadata": {
    "ExecuteTime": {
     "end_time": "2020-08-25T13:32:27.538820Z",
     "start_time": "2020-08-25T13:32:27.377890Z"
    }
   },
   "outputs": [],
   "source": [
    "fifa_ = fifa.copy()"
   ]
  },
  {
   "cell_type": "code",
   "execution_count": 7,
   "metadata": {
    "ExecuteTime": {
     "end_time": "2020-08-25T13:32:27.694711Z",
     "start_time": "2020-08-25T13:32:27.541798Z"
    }
   },
   "outputs": [],
   "source": [
    "# scale wage and value\n",
    "fifa_['scaled_wage'] = whiten(fifa_['eur_wage'])\n",
    "fifa_['scaled_value'] = whiten(fifa_['eur_value'])"
   ]
  },
  {
   "cell_type": "code",
   "execution_count": 8,
   "metadata": {
    "ExecuteTime": {
     "end_time": "2020-08-25T13:32:28.880167Z",
     "start_time": "2020-08-25T13:32:27.697707Z"
    }
   },
   "outputs": [
    {
     "name": "stderr",
     "output_type": "stream",
     "text": [
      "*c* argument looks like a single numeric RGB or RGBA sequence, which should be avoided as value-mapping will have precedence in case its length matches with *x* & *y*.  Please use the *color* keyword-argument or provide a 2-D array with a single row if you intend to specify the same RGB or RGBA value for all points.\n"
     ]
    },
    {
     "data": {
      "image/png": "[encoded data removed]",
      "text/plain": [
       "<Figure size 576x432 with 1 Axes>"
      ]
     },
     "metadata": {},
     "output_type": "display_data"
    }
   ],
   "source": [
    "# scatter plot\n",
    "fig, ax = plt.subplots(figsize=(8, 6))\n",
    "\n",
    "fifa_.plot(x='scaled_wage', \n",
    "           y='scaled_value', \n",
    "           kind='scatter',\n",
    "           ax=ax)\n",
    "\n",
    "plt.show()"
   ]
  },
  {
   "cell_type": "code",
   "execution_count": 9,
   "metadata": {
    "ExecuteTime": {
     "end_time": "2020-08-25T13:32:29.102440Z",
     "start_time": "2020-08-25T13:32:28.883145Z"
    }
   },
   "outputs": [
    {
     "data": {
      "text/html": [
       "<div>\n",
       "<style scoped>\n",
       "    .dataframe tbody tr th:only-of-type {\n",
       "        vertical-align: middle;\n",
       "    }\n",
       "\n",
       "    .dataframe tbody tr th {\n",
       "        vertical-align: top;\n",
       "    }\n",
       "\n",
       "    .dataframe thead th {\n",
       "        text-align: right;\n",
       "    }\n",
       "</style>\n",
       "<table border=\"1\" class=\"dataframe\">\n",
       "  <thead>\n",
       "    <tr style=\"text-align: right;\">\n",
       "      <th></th>\n",
       "      <th>scaled_wage</th>\n",
       "      <th>scaled_value</th>\n",
       "    </tr>\n",
       "  </thead>\n",
       "  <tbody>\n",
       "    <tr>\n",
       "      <th>count</th>\n",
       "      <td>1000.000000</td>\n",
       "      <td>1000.000000</td>\n",
       "    </tr>\n",
       "    <tr>\n",
       "      <th>mean</th>\n",
       "      <td>1.119812</td>\n",
       "      <td>1.306272</td>\n",
       "    </tr>\n",
       "    <tr>\n",
       "      <th>std</th>\n",
       "      <td>1.000500</td>\n",
       "      <td>1.000500</td>\n",
       "    </tr>\n",
       "    <tr>\n",
       "      <th>min</th>\n",
       "      <td>0.000000</td>\n",
       "      <td>0.000000</td>\n",
       "    </tr>\n",
       "    <tr>\n",
       "      <th>25%</th>\n",
       "      <td>0.467717</td>\n",
       "      <td>0.730412</td>\n",
       "    </tr>\n",
       "    <tr>\n",
       "      <th>50%</th>\n",
       "      <td>0.854794</td>\n",
       "      <td>1.022576</td>\n",
       "    </tr>\n",
       "    <tr>\n",
       "      <th>75%</th>\n",
       "      <td>1.407184</td>\n",
       "      <td>1.542995</td>\n",
       "    </tr>\n",
       "    <tr>\n",
       "      <th>max</th>\n",
       "      <td>9.112425</td>\n",
       "      <td>8.984064</td>\n",
       "    </tr>\n",
       "  </tbody>\n",
       "</table>\n",
       "</div>"
      ],
      "text/plain": [
       "       scaled_wage  scaled_value\n",
       "count  1000.000000   1000.000000\n",
       "mean      1.119812      1.306272\n",
       "std       1.000500      1.000500\n",
       "min       0.000000      0.000000\n",
       "25%       0.467717      0.730412\n",
       "50%       0.854794      1.022576\n",
       "75%       1.407184      1.542995\n",
       "max       9.112425      8.984064"
      ]
     },
     "execution_count": 9,
     "metadata": {},
     "output_type": "execute_result"
    }
   ],
   "source": [
    "# check mean and standard deviation of scaled values\n",
    "fifa_[['scaled_wage', 'scaled_value']].describe()"
   ]
  },
  {
   "cell_type": "code",
   "execution_count": 30,
   "metadata": {
    "ExecuteTime": {
     "end_time": "2020-08-25T13:33:22.327278Z",
     "start_time": "2020-08-25T13:33:22.305294Z"
    }
   },
   "outputs": [
    {
     "name": "stdout",
     "output_type": "stream",
     "text": [
      "(5000, 2)\n"
     ]
    },
    {
     "data": {
      "text/html": [
       "<div>\n",
       "<style scoped>\n",
       "    .dataframe tbody tr th:only-of-type {\n",
       "        vertical-align: middle;\n",
       "    }\n",
       "\n",
       "    .dataframe tbody tr th {\n",
       "        vertical-align: top;\n",
       "    }\n",
       "\n",
       "    .dataframe thead th {\n",
       "        text-align: right;\n",
       "    }\n",
       "</style>\n",
       "<table border=\"1\" class=\"dataframe\">\n",
       "  <thead>\n",
       "    <tr style=\"text-align: right;\">\n",
       "      <th></th>\n",
       "      <th>sliding_tackle</th>\n",
       "      <th>aggression</th>\n",
       "    </tr>\n",
       "  </thead>\n",
       "  <tbody>\n",
       "    <tr>\n",
       "      <th>0</th>\n",
       "      <td>23</td>\n",
       "      <td>63</td>\n",
       "    </tr>\n",
       "    <tr>\n",
       "      <th>1</th>\n",
       "      <td>26</td>\n",
       "      <td>48</td>\n",
       "    </tr>\n",
       "    <tr>\n",
       "      <th>2</th>\n",
       "      <td>33</td>\n",
       "      <td>56</td>\n",
       "    </tr>\n",
       "    <tr>\n",
       "      <th>3</th>\n",
       "      <td>38</td>\n",
       "      <td>78</td>\n",
       "    </tr>\n",
       "    <tr>\n",
       "      <th>4</th>\n",
       "      <td>11</td>\n",
       "      <td>29</td>\n",
       "    </tr>\n",
       "  </tbody>\n",
       "</table>\n",
       "</div>"
      ],
      "text/plain": [
       "   sliding_tackle  aggression\n",
       "0              23          63\n",
       "1              26          48\n",
       "2              33          56\n",
       "3              38          78\n",
       "4              11          29"
      ]
     },
     "execution_count": 30,
     "metadata": {},
     "output_type": "execute_result"
    }
   ],
   "source": [
    "fifa5000 = pd.read_csv('./fifa_18_5000.csv')\n",
    "fifa5000 = fifa5000.iloc[:5000, :]\n",
    "print(fifa5000.shape)\n",
    "fifa5000.head()"
   ]
  },
  {
   "cell_type": "code",
   "execution_count": 31,
   "metadata": {
    "ExecuteTime": {
     "end_time": "2020-08-25T13:33:34.861260Z",
     "start_time": "2020-08-25T13:33:34.852265Z"
    }
   },
   "outputs": [],
   "source": [
    "fifa5000['scaled_st'] = whiten(fifa5000['sliding_tackle'])\n",
    "fifa5000['scaled_a'] = whiten(fifa5000['aggression'])"
   ]
  },
  {
   "cell_type": "code",
   "execution_count": 32,
   "metadata": {
    "ExecuteTime": {
     "end_time": "2020-08-25T13:33:36.128676Z",
     "start_time": "2020-08-25T13:33:36.113681Z"
    }
   },
   "outputs": [
    {
     "data": {
      "text/html": [
       "<div>\n",
       "<style scoped>\n",
       "    .dataframe tbody tr th:only-of-type {\n",
       "        vertical-align: middle;\n",
       "    }\n",
       "\n",
       "    .dataframe tbody tr th {\n",
       "        vertical-align: top;\n",
       "    }\n",
       "\n",
       "    .dataframe thead th {\n",
       "        text-align: right;\n",
       "    }\n",
       "</style>\n",
       "<table border=\"1\" class=\"dataframe\">\n",
       "  <thead>\n",
       "    <tr style=\"text-align: right;\">\n",
       "      <th></th>\n",
       "      <th>sliding_tackle</th>\n",
       "      <th>aggression</th>\n",
       "      <th>scaled_st</th>\n",
       "      <th>scaled_a</th>\n",
       "    </tr>\n",
       "  </thead>\n",
       "  <tbody>\n",
       "    <tr>\n",
       "      <th>0</th>\n",
       "      <td>23</td>\n",
       "      <td>63</td>\n",
       "      <td>0.967671</td>\n",
       "      <td>3.723843</td>\n",
       "    </tr>\n",
       "    <tr>\n",
       "      <th>1</th>\n",
       "      <td>26</td>\n",
       "      <td>48</td>\n",
       "      <td>1.093889</td>\n",
       "      <td>2.837214</td>\n",
       "    </tr>\n",
       "    <tr>\n",
       "      <th>2</th>\n",
       "      <td>33</td>\n",
       "      <td>56</td>\n",
       "      <td>1.388398</td>\n",
       "      <td>3.310083</td>\n",
       "    </tr>\n",
       "    <tr>\n",
       "      <th>3</th>\n",
       "      <td>38</td>\n",
       "      <td>78</td>\n",
       "      <td>1.598762</td>\n",
       "      <td>4.610472</td>\n",
       "    </tr>\n",
       "    <tr>\n",
       "      <th>4</th>\n",
       "      <td>11</td>\n",
       "      <td>29</td>\n",
       "      <td>0.462799</td>\n",
       "      <td>1.714150</td>\n",
       "    </tr>\n",
       "  </tbody>\n",
       "</table>\n",
       "</div>"
      ],
      "text/plain": [
       "   sliding_tackle  aggression  scaled_st  scaled_a\n",
       "0              23          63   0.967671  3.723843\n",
       "1              26          48   1.093889  2.837214\n",
       "2              33          56   1.388398  3.310083\n",
       "3              38          78   1.598762  4.610472\n",
       "4              11          29   0.462799  1.714150"
      ]
     },
     "execution_count": 32,
     "metadata": {},
     "output_type": "execute_result"
    }
   ],
   "source": [
    "fifa5000.head()"
   ]
  },
  {
   "cell_type": "code",
   "execution_count": 35,
   "metadata": {
    "ExecuteTime": {
     "end_time": "2020-08-25T13:35:42.257777Z",
     "start_time": "2020-08-25T13:35:41.057605Z"
    }
   },
   "outputs": [],
   "source": [
    "d_matrix = linkage(fifa5000[['scaled_st', 'scaled_a']],\n",
    "                   method='ward')"
   ]
  },
  {
   "cell_type": "code",
   "execution_count": 36,
   "metadata": {
    "ExecuteTime": {
     "end_time": "2020-08-25T13:36:22.054979Z",
     "start_time": "2020-08-25T13:36:22.019002Z"
    }
   },
   "outputs": [],
   "source": [
    "fifa5000['c_labels'] = fcluster(d_matrix, 3, criterion='maxclust')"
   ]
  },
  {
   "cell_type": "code",
   "execution_count": 38,
   "metadata": {
    "ExecuteTime": {
     "end_time": "2020-08-25T13:37:55.555575Z",
     "start_time": "2020-08-25T13:37:55.406662Z"
    }
   },
   "outputs": [
    {
     "data": {
      "text/html": [
       "<div>\n",
       "<style scoped>\n",
       "    .dataframe tbody tr th:only-of-type {\n",
       "        vertical-align: middle;\n",
       "    }\n",
       "\n",
       "    .dataframe tbody tr th {\n",
       "        vertical-align: top;\n",
       "    }\n",
       "\n",
       "    .dataframe thead th {\n",
       "        text-align: right;\n",
       "    }\n",
       "</style>\n",
       "<table border=\"1\" class=\"dataframe\">\n",
       "  <thead>\n",
       "    <tr style=\"text-align: right;\">\n",
       "      <th></th>\n",
       "      <th>sliding_tackle</th>\n",
       "      <th>aggression</th>\n",
       "      <th>scaled_st</th>\n",
       "      <th>scaled_a</th>\n",
       "    </tr>\n",
       "    <tr>\n",
       "      <th>c_labels</th>\n",
       "      <th></th>\n",
       "      <th></th>\n",
       "      <th></th>\n",
       "      <th></th>\n",
       "    </tr>\n",
       "  </thead>\n",
       "  <tbody>\n",
       "    <tr>\n",
       "      <th>1</th>\n",
       "      <td>70.980292</td>\n",
       "      <td>73.663504</td>\n",
       "      <td>2.986331</td>\n",
       "      <td>4.354148</td>\n",
       "    </tr>\n",
       "    <tr>\n",
       "      <th>2</th>\n",
       "      <td>17.592000</td>\n",
       "      <td>32.792000</td>\n",
       "      <td>0.740142</td>\n",
       "      <td>1.938290</td>\n",
       "    </tr>\n",
       "    <tr>\n",
       "      <th>3</th>\n",
       "      <td>31.894702</td>\n",
       "      <td>61.284768</td>\n",
       "      <td>1.341895</td>\n",
       "      <td>3.622458</td>\n",
       "    </tr>\n",
       "  </tbody>\n",
       "</table>\n",
       "</div>"
      ],
      "text/plain": [
       "          sliding_tackle  aggression  scaled_st  scaled_a\n",
       "c_labels                                                 \n",
       "1              70.980292   73.663504   2.986331  4.354148\n",
       "2              17.592000   32.792000   0.740142  1.938290\n",
       "3              31.894702   61.284768   1.341895  3.622458"
      ]
     },
     "execution_count": 38,
     "metadata": {},
     "output_type": "execute_result"
    }
   ],
   "source": [
    "fifa5000.groupby('c_labels').mean()"
   ]
  },
  {
   "cell_type": "code",
   "execution_count": 81,
   "metadata": {
    "ExecuteTime": {
     "end_time": "2020-08-25T14:50:06.018407Z",
     "start_time": "2020-08-25T14:50:05.232895Z"
    }
   },
   "outputs": [
    {
     "data": {
      "image/png": "[encoded data removed]",
      "text/plain": [
       "<Figure size 432x288 with 1 Axes>"
      ]
     },
     "metadata": {},
     "output_type": "display_data"
    }
   ],
   "source": [
    "sns.scatterplot(x='scaled_st',\n",
    "                y='scaled_a',\n",
    "                hue='c_labels',\n",
    "                data=fifa5000,\n",
    "                edgecolor=None,\n",
    "                palette='rainbow',\n",
    "                alpha=0.4)\n",
    "plt.show()"
   ]
  },
  {
   "cell_type": "markdown",
   "metadata": {},
   "source": [
    "## Clustering based on `defending` and `physical` features"
   ]
  },
  {
   "cell_type": "code",
   "execution_count": 93,
   "metadata": {
    "ExecuteTime": {
     "end_time": "2020-08-25T14:51:21.100440Z",
     "start_time": "2020-08-25T14:51:21.097454Z"
    }
   },
   "outputs": [],
   "source": [
    "# set up random seed\n",
    "np.random.seed([1000, 2000])"
   ]
  },
  {
   "cell_type": "code",
   "execution_count": 94,
   "metadata": {
    "ExecuteTime": {
     "end_time": "2020-08-25T14:51:21.560641Z",
     "start_time": "2020-08-25T14:51:21.551644Z"
    }
   },
   "outputs": [],
   "source": [
    "fifa_['scaled_def'] = whiten(fifa_['def'])\n",
    "fifa_['scaled_phy'] = whiten(fifa_['phy'])"
   ]
  },
  {
   "cell_type": "code",
   "execution_count": 95,
   "metadata": {
    "ExecuteTime": {
     "end_time": "2020-08-25T14:51:21.999312Z",
     "start_time": "2020-08-25T14:51:21.971314Z"
    }
   },
   "outputs": [],
   "source": [
    "# fit to kmeans\n",
    "cluster_centers, _ = kmeans(fifa_[['scaled_def', 'scaled_phy']], 3)"
   ]
  },
  {
   "cell_type": "code",
   "execution_count": 96,
   "metadata": {
    "ExecuteTime": {
     "end_time": "2020-08-25T14:51:22.365604Z",
     "start_time": "2020-08-25T14:51:22.357548Z"
    }
   },
   "outputs": [],
   "source": [
    "# assign cluster labels\n",
    "fifa_['c_labels'], _ = vq(fifa_[['scaled_def', 'scaled_phy']], cluster_centers)"
   ]
  },
  {
   "cell_type": "code",
   "execution_count": 97,
   "metadata": {
    "ExecuteTime": {
     "end_time": "2020-08-25T14:51:22.854806Z",
     "start_time": "2020-08-25T14:51:22.833798Z"
    }
   },
   "outputs": [
    {
     "data": {
      "text/html": [
       "<div>\n",
       "<style scoped>\n",
       "    .dataframe tbody tr th:only-of-type {\n",
       "        vertical-align: middle;\n",
       "    }\n",
       "\n",
       "    .dataframe tbody tr th {\n",
       "        vertical-align: top;\n",
       "    }\n",
       "\n",
       "    .dataframe thead th {\n",
       "        text-align: right;\n",
       "    }\n",
       "</style>\n",
       "<table border=\"1\" class=\"dataframe\">\n",
       "  <thead>\n",
       "    <tr style=\"text-align: right;\">\n",
       "      <th></th>\n",
       "      <th>scaled_def</th>\n",
       "      <th>scaled_phy</th>\n",
       "    </tr>\n",
       "    <tr>\n",
       "      <th>c_labels</th>\n",
       "      <th></th>\n",
       "      <th></th>\n",
       "    </tr>\n",
       "  </thead>\n",
       "  <tbody>\n",
       "    <tr>\n",
       "      <th>0</th>\n",
       "      <td>1.948298</td>\n",
       "      <td>7.163234</td>\n",
       "    </tr>\n",
       "    <tr>\n",
       "      <th>1</th>\n",
       "      <td>3.817844</td>\n",
       "      <td>9.020452</td>\n",
       "    </tr>\n",
       "    <tr>\n",
       "      <th>2</th>\n",
       "      <td>2.072803</td>\n",
       "      <td>9.066327</td>\n",
       "    </tr>\n",
       "  </tbody>\n",
       "</table>\n",
       "</div>"
      ],
      "text/plain": [
       "          scaled_def  scaled_phy\n",
       "c_labels                        \n",
       "0           1.948298    7.163234\n",
       "1           3.817844    9.020452\n",
       "2           2.072803    9.066327"
      ]
     },
     "execution_count": 97,
     "metadata": {},
     "output_type": "execute_result"
    }
   ],
   "source": [
    "fifa_[['scaled_def', 'scaled_phy', 'c_labels']].groupby('c_labels').mean()"
   ]
  },
  {
   "cell_type": "code",
   "execution_count": 98,
   "metadata": {
    "ExecuteTime": {
     "end_time": "2020-08-25T14:51:23.891149Z",
     "start_time": "2020-08-25T14:51:23.350502Z"
    }
   },
   "outputs": [
    {
     "data": {
      "image/png": "[encoded data removed]",
      "text/plain": [
       "<Figure size 432x288 with 1 Axes>"
      ]
     },
     "metadata": {},
     "output_type": "display_data"
    }
   ],
   "source": [
    "# plot\n",
    "sns.scatterplot(x='scaled_def', \n",
    "                y='scaled_phy',\n",
    "                hue='c_labels',\n",
    "                data=fifa_,\n",
    "                edgecolor=None,\n",
    "                palette='rainbow',\n",
    "                alpha=0.4)\n",
    "plt.show()"
   ]
  },
  {
   "cell_type": "markdown",
   "metadata": {},
   "source": [
    "# Comic-con Dataset"
   ]
  },
  {
   "cell_type": "markdown",
   "metadata": {},
   "source": [
    "## Hierarchical clustering: `ward` method"
   ]
  },
  {
   "cell_type": "code",
   "execution_count": 13,
   "metadata": {
    "ExecuteTime": {
     "end_time": "2020-08-25T13:32:29.589141Z",
     "start_time": "2020-08-25T13:32:29.370264Z"
    }
   },
   "outputs": [
    {
     "name": "stdout",
     "output_type": "stream",
     "text": [
      "(36, 3)\n"
     ]
    },
    {
     "data": {
      "text/html": [
       "<div>\n",
       "<style scoped>\n",
       "    .dataframe tbody tr th:only-of-type {\n",
       "        vertical-align: middle;\n",
       "    }\n",
       "\n",
       "    .dataframe tbody tr th {\n",
       "        vertical-align: top;\n",
       "    }\n",
       "\n",
       "    .dataframe thead th {\n",
       "        text-align: right;\n",
       "    }\n",
       "</style>\n",
       "<table border=\"1\" class=\"dataframe\">\n",
       "  <thead>\n",
       "    <tr style=\"text-align: right;\">\n",
       "      <th></th>\n",
       "      <th>Unnamed: 0</th>\n",
       "      <th>x_coordinate</th>\n",
       "      <th>y_coordinate</th>\n",
       "    </tr>\n",
       "  </thead>\n",
       "  <tbody>\n",
       "    <tr>\n",
       "      <th>0</th>\n",
       "      <td>0</td>\n",
       "      <td>17</td>\n",
       "      <td>4</td>\n",
       "    </tr>\n",
       "    <tr>\n",
       "      <th>1</th>\n",
       "      <td>1</td>\n",
       "      <td>20</td>\n",
       "      <td>6</td>\n",
       "    </tr>\n",
       "    <tr>\n",
       "      <th>2</th>\n",
       "      <td>2</td>\n",
       "      <td>35</td>\n",
       "      <td>0</td>\n",
       "    </tr>\n",
       "    <tr>\n",
       "      <th>3</th>\n",
       "      <td>3</td>\n",
       "      <td>14</td>\n",
       "      <td>0</td>\n",
       "    </tr>\n",
       "    <tr>\n",
       "      <th>4</th>\n",
       "      <td>4</td>\n",
       "      <td>37</td>\n",
       "      <td>4</td>\n",
       "    </tr>\n",
       "  </tbody>\n",
       "</table>\n",
       "</div>"
      ],
      "text/plain": [
       "   Unnamed: 0  x_coordinate  y_coordinate\n",
       "0           0            17             4\n",
       "1           1            20             6\n",
       "2           2            35             0\n",
       "3           3            14             0\n",
       "4           4            37             4"
      ]
     },
     "execution_count": 13,
     "metadata": {},
     "output_type": "execute_result"
    }
   ],
   "source": [
    "comic = pd.read_csv('./comic_con.csv')\n",
    "print(comic.shape)\n",
    "comic.head()"
   ]
  },
  {
   "cell_type": "code",
   "execution_count": 14,
   "metadata": {
    "ExecuteTime": {
     "end_time": "2020-08-25T13:32:29.695100Z",
     "start_time": "2020-08-25T13:32:29.592137Z"
    }
   },
   "outputs": [],
   "source": [
    "comic.drop('Unnamed: 0', axis=1, inplace=True)"
   ]
  },
  {
   "cell_type": "code",
   "execution_count": 15,
   "metadata": {
    "ExecuteTime": {
     "end_time": "2020-08-25T13:32:29.874980Z",
     "start_time": "2020-08-25T13:32:29.698077Z"
    }
   },
   "outputs": [
    {
     "name": "stdout",
     "output_type": "stream",
     "text": [
      "<class 'pandas.core.frame.DataFrame'>\n",
      "RangeIndex: 36 entries, 0 to 35\n",
      "Data columns (total 2 columns):\n",
      " #   Column        Non-Null Count  Dtype\n",
      "---  ------        --------------  -----\n",
      " 0   x_coordinate  36 non-null     int64\n",
      " 1   y_coordinate  36 non-null     int64\n",
      "dtypes: int64(2)\n",
      "memory usage: 704.0 bytes\n"
     ]
    }
   ],
   "source": [
    "comic.info()"
   ]
  },
  {
   "cell_type": "code",
   "execution_count": 16,
   "metadata": {
    "ExecuteTime": {
     "end_time": "2020-08-25T13:32:29.983447Z",
     "start_time": "2020-08-25T13:32:29.877979Z"
    }
   },
   "outputs": [],
   "source": [
    "comic['x_scaled'] = whiten(comic['x_coordinate'])\n",
    "comic['y_scaled'] = whiten(comic['y_coordinate'])"
   ]
  },
  {
   "cell_type": "code",
   "execution_count": 17,
   "metadata": {
    "ExecuteTime": {
     "end_time": "2020-08-25T13:32:30.087388Z",
     "start_time": "2020-08-25T13:32:29.986425Z"
    }
   },
   "outputs": [],
   "source": [
    "# use linkage to get distances\n",
    "d_matrix = linkage(comic[['x_scaled', 'y_scaled']],\n",
    "                   method='ward',\n",
    "                   metric='euclidean')"
   ]
  },
  {
   "cell_type": "code",
   "execution_count": 18,
   "metadata": {
    "ExecuteTime": {
     "end_time": "2020-08-25T13:32:30.197314Z",
     "start_time": "2020-08-25T13:32:30.092365Z"
    }
   },
   "outputs": [],
   "source": [
    "# assign cluster labels\n",
    "comic['cluster_labels'] = fcluster(d_matrix, 2, criterion='maxclust')"
   ]
  },
  {
   "cell_type": "code",
   "execution_count": 19,
   "metadata": {
    "ExecuteTime": {
     "end_time": "2020-08-25T13:32:30.665031Z",
     "start_time": "2020-08-25T13:32:30.200303Z"
    }
   },
   "outputs": [
    {
     "data": {
      "image/png": "[encoded data removed]",
      "text/plain": [
       "<Figure size 432x288 with 1 Axes>"
      ]
     },
     "metadata": {},
     "output_type": "display_data"
    }
   ],
   "source": [
    "# plot\n",
    "sns.scatterplot(x='x_scaled',\n",
    "                y='y_scaled',\n",
    "                hue='cluster_labels',\n",
    "                data=comic,\n",
    "                edgecolor='k')\n",
    "plt.show()"
   ]
  },
  {
   "cell_type": "markdown",
   "metadata": {},
   "source": [
    "## Hierarchical clustering: `single` method"
   ]
  },
  {
   "cell_type": "code",
   "execution_count": 20,
   "metadata": {
    "ExecuteTime": {
     "end_time": "2020-08-25T13:32:30.675018Z",
     "start_time": "2020-08-25T13:32:30.668023Z"
    }
   },
   "outputs": [],
   "source": [
    "# use linkage to get distances\n",
    "d_matrix = linkage(comic[['x_scaled', 'y_scaled']],\n",
    "                   method='single',\n",
    "                   metric='euclidean')"
   ]
  },
  {
   "cell_type": "code",
   "execution_count": 21,
   "metadata": {
    "ExecuteTime": {
     "end_time": "2020-08-25T13:32:30.804602Z",
     "start_time": "2020-08-25T13:32:30.678018Z"
    }
   },
   "outputs": [],
   "source": [
    "# assign cluster labels\n",
    "comic['cluster_labels'] = fcluster(d_matrix, 2, criterion='maxclust')"
   ]
  },
  {
   "cell_type": "code",
   "execution_count": 22,
   "metadata": {
    "ExecuteTime": {
     "end_time": "2020-08-25T13:32:31.297142Z",
     "start_time": "2020-08-25T13:32:30.809599Z"
    }
   },
   "outputs": [
    {
     "data": {
      "image/png": "[encoded data removed]",
      "text/plain": [
       "<Figure size 432x288 with 1 Axes>"
      ]
     },
     "metadata": {},
     "output_type": "display_data"
    }
   ],
   "source": [
    "# plot\n",
    "sns.scatterplot(x='x_scaled',\n",
    "                y='y_scaled',\n",
    "                hue='cluster_labels',\n",
    "                data=comic,\n",
    "                edgecolor='k')\n",
    "plt.show()"
   ]
  },
  {
   "cell_type": "markdown",
   "metadata": {},
   "source": [
    "## Hierarchical Clustering: `complete` method"
   ]
  },
  {
   "cell_type": "code",
   "execution_count": 23,
   "metadata": {
    "ExecuteTime": {
     "end_time": "2020-08-25T13:32:31.306137Z",
     "start_time": "2020-08-25T13:32:31.300140Z"
    }
   },
   "outputs": [],
   "source": [
    "# use linkage to get distances\n",
    "d_matrix = linkage(comic[['x_scaled', 'y_scaled']],\n",
    "                   method='complete',\n",
    "                   metric='euclidean')"
   ]
  },
  {
   "cell_type": "code",
   "execution_count": 24,
   "metadata": {
    "ExecuteTime": {
     "end_time": "2020-08-25T13:32:31.471446Z",
     "start_time": "2020-08-25T13:32:31.309136Z"
    }
   },
   "outputs": [],
   "source": [
    "# assign cluster labels\n",
    "comic['cluster_labels'] = fcluster(d_matrix, 2, criterion='maxclust')"
   ]
  },
  {
   "cell_type": "code",
   "execution_count": 25,
   "metadata": {
    "ExecuteTime": {
     "end_time": "2020-08-25T13:32:32.088254Z",
     "start_time": "2020-08-25T13:32:31.474390Z"
    }
   },
   "outputs": [
    {
     "data": {
      "image/png": "[encoded data removed]",
      "text/plain": [
       "<Figure size 432x288 with 1 Axes>"
      ]
     },
     "metadata": {},
     "output_type": "display_data"
    }
   ],
   "source": [
    "# plot\n",
    "sns.scatterplot(x='x_scaled',\n",
    "                y='y_scaled',\n",
    "                hue='cluster_labels',\n",
    "                data=comic,\n",
    "                edgecolor='k')\n",
    "plt.show()"
   ]
  },
  {
   "cell_type": "markdown",
   "metadata": {},
   "source": [
    "## Visualize with `matplotlib`"
   ]
  },
  {
   "cell_type": "code",
   "execution_count": 26,
   "metadata": {
    "ExecuteTime": {
     "end_time": "2020-08-25T13:32:32.096249Z",
     "start_time": "2020-08-25T13:32:32.092251Z"
    }
   },
   "outputs": [],
   "source": [
    "# define colors dict for cluster\n",
    "colors = {1: 'red', \n",
    "          2: 'blue'}"
   ]
  },
  {
   "cell_type": "code",
   "execution_count": 27,
   "metadata": {
    "ExecuteTime": {
     "end_time": "2020-08-25T13:32:32.643937Z",
     "start_time": "2020-08-25T13:32:32.100247Z"
    }
   },
   "outputs": [
    {
     "data": {
      "image/png": "[encoded data removed]",
      "text/plain": [
       "<Figure size 432x288 with 1 Axes>"
      ]
     },
     "metadata": {},
     "output_type": "display_data"
    }
   ],
   "source": [
    "# plot\n",
    "comic.plot.scatter(x='x_scaled',\n",
    "                   y='y_scaled',\n",
    "                   c=comic['cluster_labels'].apply(lambda x: colors[x]))\n",
    "plt.show()"
   ]
  },
  {
   "cell_type": "markdown",
   "metadata": {},
   "source": [
    "## Visualize with `seaborn`"
   ]
  },
  {
   "cell_type": "code",
   "execution_count": 28,
   "metadata": {
    "ExecuteTime": {
     "end_time": "2020-08-25T13:32:33.098881Z",
     "start_time": "2020-08-25T13:32:32.647932Z"
    }
   },
   "outputs": [
    {
     "data": {
      "image/png": "[encoded data removed]",
      "text/plain": [
       "<Figure size 432x288 with 1 Axes>"
      ]
     },
     "metadata": {},
     "output_type": "display_data"
    }
   ],
   "source": [
    "sns.scatterplot(x='x_scaled', \n",
    "                y='y_scaled',\n",
    "                hue='cluster_labels',\n",
    "                data=comic)\n",
    "plt.show()"
   ]
  },
  {
   "cell_type": "markdown",
   "metadata": {},
   "source": [
    "## Dendrogram"
   ]
  },
  {
   "cell_type": "code",
   "execution_count": 29,
   "metadata": {
    "ExecuteTime": {
     "end_time": "2020-08-25T13:32:34.045548Z",
     "start_time": "2020-08-25T13:32:33.101857Z"
    }
   },
   "outputs": [
    {
     "data": {
      "image/png": "[encoded data removed]",
      "text/plain": [
       "<Figure size 432x288 with 1 Axes>"
      ]
     },
     "metadata": {},
     "output_type": "display_data"
    }
   ],
   "source": [
    "dn = dendrogram(d_matrix)\n",
    "plt.show()"
   ]
  },
  {
   "cell_type": "markdown",
   "metadata": {},
   "source": [
    "## K-means clustering with `scipy`"
   ]
  },
  {
   "cell_type": "code",
   "execution_count": 49,
   "metadata": {
    "ExecuteTime": {
     "end_time": "2020-08-25T13:49:54.909819Z",
     "start_time": "2020-08-25T13:49:54.878549Z"
    }
   },
   "outputs": [],
   "source": [
    "# generate cluster centers\n",
    "cluster_centers, distortion = kmeans(comic[['x_scaled', 'y_scaled']], 2)"
   ]
  },
  {
   "cell_type": "code",
   "execution_count": 51,
   "metadata": {
    "ExecuteTime": {
     "end_time": "2020-08-25T13:50:15.562468Z",
     "start_time": "2020-08-25T13:50:15.556469Z"
    }
   },
   "outputs": [],
   "source": [
    "# assign cluster labels\n",
    "comic['c_labels'], distortion_list = vq(comic[['x_scaled', 'y_scaled']], cluster_centers)"
   ]
  },
  {
   "cell_type": "code",
   "execution_count": 52,
   "metadata": {
    "ExecuteTime": {
     "end_time": "2020-08-25T13:51:15.702637Z",
     "start_time": "2020-08-25T13:51:15.206299Z"
    }
   },
   "outputs": [
    {
     "data": {
      "image/png": "[encoded data removed]",
      "text/plain": [
       "<Figure size 432x288 with 1 Axes>"
      ]
     },
     "metadata": {},
     "output_type": "display_data"
    }
   ],
   "source": [
    "# plot clusters\n",
    "sns.scatterplot(x='x_scaled',\n",
    "                y='y_scaled',\n",
    "                hue='c_labels',\n",
    "                data=comic)\n",
    "plt.show()"
   ]
  },
  {
   "cell_type": "markdown",
   "metadata": {},
   "source": [
    "## Elbow method on choosing clusters"
   ]
  },
  {
   "cell_type": "code",
   "execution_count": 53,
   "metadata": {
    "ExecuteTime": {
     "end_time": "2020-08-25T14:03:53.996860Z",
     "start_time": "2020-08-25T14:03:53.991865Z"
    }
   },
   "outputs": [],
   "source": [
    "distortions = []\n",
    "num_clusters = range(1, 7)"
   ]
  },
  {
   "cell_type": "code",
   "execution_count": 54,
   "metadata": {
    "ExecuteTime": {
     "end_time": "2020-08-25T14:05:21.774949Z",
     "start_time": "2020-08-25T14:05:21.689325Z"
    }
   },
   "outputs": [],
   "source": [
    "# create list of distortions from the kmeans function\n",
    "for i in num_clusters:\n",
    "    cluster_centers, distortion = kmeans(comic[['x_scaled', 'y_scaled']], i)\n",
    "    distortions.append(distortion)"
   ]
  },
  {
   "cell_type": "code",
   "execution_count": 55,
   "metadata": {
    "ExecuteTime": {
     "end_time": "2020-08-25T14:05:57.196839Z",
     "start_time": "2020-08-25T14:05:57.191823Z"
    }
   },
   "outputs": [],
   "source": [
    "elbow = pd.DataFrame({'num_clusters': num_clusters,\n",
    "                      'distortions': distortions})"
   ]
  },
  {
   "cell_type": "code",
   "execution_count": 56,
   "metadata": {
    "ExecuteTime": {
     "end_time": "2020-08-25T14:06:50.350390Z",
     "start_time": "2020-08-25T14:06:49.861260Z"
    }
   },
   "outputs": [
    {
     "data": {
      "image/png": "[encoded data removed]",
      "text/plain": [
       "<Figure size 432x288 with 1 Axes>"
      ]
     },
     "metadata": {},
     "output_type": "display_data"
    }
   ],
   "source": [
    "# plot\n",
    "sns.lineplot(x='num_clusters',\n",
    "             y='distortions',\n",
    "             data=elbow)\n",
    "plt.xticks(num_clusters)\n",
    "plt.show()"
   ]
  },
  {
   "cell_type": "markdown",
   "metadata": {},
   "source": [
    "Note that for uniformly distributed data, there will be **no** well-defined elbow."
   ]
  },
  {
   "cell_type": "markdown",
   "metadata": {},
   "source": [
    "# Mouse-like Dataset"
   ]
  },
  {
   "cell_type": "code",
   "execution_count": 58,
   "metadata": {
    "ExecuteTime": {
     "end_time": "2020-08-25T14:27:51.558975Z",
     "start_time": "2020-08-25T14:27:51.536990Z"
    }
   },
   "outputs": [
    {
     "name": "stdout",
     "output_type": "stream",
     "text": [
      "(160, 2)\n"
     ]
    },
    {
     "data": {
      "text/html": [
       "<div>\n",
       "<style scoped>\n",
       "    .dataframe tbody tr th:only-of-type {\n",
       "        vertical-align: middle;\n",
       "    }\n",
       "\n",
       "    .dataframe tbody tr th {\n",
       "        vertical-align: top;\n",
       "    }\n",
       "\n",
       "    .dataframe thead th {\n",
       "        text-align: right;\n",
       "    }\n",
       "</style>\n",
       "<table border=\"1\" class=\"dataframe\">\n",
       "  <thead>\n",
       "    <tr style=\"text-align: right;\">\n",
       "      <th></th>\n",
       "      <th>x_coordinate</th>\n",
       "      <th>y_coordinate</th>\n",
       "    </tr>\n",
       "  </thead>\n",
       "  <tbody>\n",
       "    <tr>\n",
       "      <th>0</th>\n",
       "      <td>33.875528</td>\n",
       "      <td>44.893421</td>\n",
       "    </tr>\n",
       "    <tr>\n",
       "      <th>1</th>\n",
       "      <td>38.208748</td>\n",
       "      <td>41.116327</td>\n",
       "    </tr>\n",
       "    <tr>\n",
       "      <th>2</th>\n",
       "      <td>35.740588</td>\n",
       "      <td>57.418006</td>\n",
       "    </tr>\n",
       "    <tr>\n",
       "      <th>3</th>\n",
       "      <td>32.546963</td>\n",
       "      <td>57.218082</td>\n",
       "    </tr>\n",
       "    <tr>\n",
       "      <th>4</th>\n",
       "      <td>62.063146</td>\n",
       "      <td>47.196944</td>\n",
       "    </tr>\n",
       "  </tbody>\n",
       "</table>\n",
       "</div>"
      ],
      "text/plain": [
       "   x_coordinate  y_coordinate\n",
       "0     33.875528     44.893421\n",
       "1     38.208748     41.116327\n",
       "2     35.740588     57.418006\n",
       "3     32.546963     57.218082\n",
       "4     62.063146     47.196944"
      ]
     },
     "execution_count": 58,
     "metadata": {},
     "output_type": "execute_result"
    }
   ],
   "source": [
    "mouse = pd.read_csv('./mouse.csv')\n",
    "mouse.drop('Unnamed: 0', axis=1, inplace=True)\n",
    "print(mouse.shape)\n",
    "mouse.head()"
   ]
  },
  {
   "cell_type": "code",
   "execution_count": 59,
   "metadata": {
    "ExecuteTime": {
     "end_time": "2020-08-25T14:29:30.951309Z",
     "start_time": "2020-08-25T14:29:30.943339Z"
    }
   },
   "outputs": [],
   "source": [
    "mouse['x_scaled'] = whiten(mouse['x_coordinate'])\n",
    "mouse['y_scaled'] = whiten(mouse['y_coordinate'])"
   ]
  },
  {
   "cell_type": "markdown",
   "metadata": {},
   "source": [
    "## Uniform clustering patterns"
   ]
  },
  {
   "cell_type": "code",
   "execution_count": 60,
   "metadata": {
    "ExecuteTime": {
     "end_time": "2020-08-25T14:32:09.670961Z",
     "start_time": "2020-08-25T14:32:09.147262Z"
    }
   },
   "outputs": [
    {
     "name": "stderr",
     "output_type": "stream",
     "text": [
      "*c* argument looks like a single numeric RGB or RGBA sequence, which should be avoided as value-mapping will have precedence in case its length matches with *x* & *y*.  Please use the *color* keyword-argument or provide a 2-D array with a single row if you intend to specify the same RGB or RGBA value for all points.\n"
     ]
    },
    {
     "data": {
      "image/png": "[encoded data removed]",
      "text/plain": [
       "<Figure size 432x288 with 1 Axes>"
      ]
     },
     "metadata": {},
     "output_type": "display_data"
    }
   ],
   "source": [
    "mouse.plot(x='x_scaled',\n",
    "           y='y_scaled',\n",
    "           kind='scatter')\n",
    "plt.show()"
   ]
  },
  {
   "cell_type": "markdown",
   "metadata": {},
   "source": [
    "With this mouse dataset, there are noticeably three visible cluster, but when using `kmeans`..."
   ]
  },
  {
   "cell_type": "code",
   "execution_count": 61,
   "metadata": {
    "ExecuteTime": {
     "end_time": "2020-08-25T14:34:20.325216Z",
     "start_time": "2020-08-25T14:34:20.292232Z"
    }
   },
   "outputs": [],
   "source": [
    "cluster_centers, distortion = kmeans(mouse[['x_scaled', 'y_scaled']], 3)"
   ]
  },
  {
   "cell_type": "code",
   "execution_count": 62,
   "metadata": {
    "ExecuteTime": {
     "end_time": "2020-08-25T14:35:11.942606Z",
     "start_time": "2020-08-25T14:35:11.935609Z"
    }
   },
   "outputs": [],
   "source": [
    "mouse['c_labels'], distortion_list = vq(mouse[['x_scaled', 'y_scaled']], cluster_centers)"
   ]
  },
  {
   "cell_type": "code",
   "execution_count": 63,
   "metadata": {
    "ExecuteTime": {
     "end_time": "2020-08-25T14:35:56.957393Z",
     "start_time": "2020-08-25T14:35:56.391946Z"
    }
   },
   "outputs": [
    {
     "data": {
      "image/png": "[encoded data removed]",
      "text/plain": [
       "<Figure size 432x288 with 1 Axes>"
      ]
     },
     "metadata": {},
     "output_type": "display_data"
    }
   ],
   "source": [
    "sns.scatterplot(x='x_scaled',\n",
    "                y='y_scaled',\n",
    "                hue='c_labels',\n",
    "                data=mouse)\n",
    "plt.show()"
   ]
  },
  {
   "cell_type": "markdown",
   "metadata": {},
   "source": [
    "the two clusters at the top have taken in some points along the boundary. This is due to the underlying assumption in the algorithm to minimize distortions."
   ]
  },
  {
   "cell_type": "code",
   "execution_count": null,
   "metadata": {},
   "outputs": [],
   "source": []
  }
 ],
 "metadata": {
  "kernelspec": {
   "display_name": "tf2-gpu",
   "language": "python",
   "name": "tf2-gpu"
  },
  "language_info": {
   "codemirror_mode": {
    "name": "ipython",
    "version": 3
   },
   "file_extension": ".py",
   "mimetype": "text/x-python",
   "name": "python",
   "nbconvert_exporter": "python",
   "pygments_lexer": "ipython3",
   "version": "3.7.7"
  },
  "toc": {
   "base_numbering": 1,
   "nav_menu": {},
   "number_sections": true,
   "sideBar": true,
   "skip_h1_title": false,
   "title_cell": "Table of Contents",
   "title_sidebar": "Contents",
   "toc_cell": false,
   "toc_position": {},
   "toc_section_display": true,
   "toc_window_display": false
  }
 },
 "nbformat": 4,
 "nbformat_minor": 4
}
