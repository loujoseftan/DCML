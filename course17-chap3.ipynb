{
 "cells": [
  {
   "cell_type": "code",
   "execution_count": 1,
   "metadata": {
    "ExecuteTime": {
     "end_time": "2020-09-09T15:03:02.992356Z",
     "start_time": "2020-09-09T15:02:49.019081Z"
    }
   },
   "outputs": [],
   "source": [
    "import numpy as np\n",
    "import pandas as pd\n",
    "import matplotlib.pyplot as plt\n",
    "import seaborn as sns\n",
    "sns.set()"
   ]
  },
  {
   "cell_type": "code",
   "execution_count": 2,
   "metadata": {
    "ExecuteTime": {
     "end_time": "2020-09-09T15:03:25.196628Z",
     "start_time": "2020-09-09T15:03:02.992356Z"
    }
   },
   "outputs": [
    {
     "data": {
      "text/plain": [
       "'2.1.0'"
      ]
     },
     "execution_count": 2,
     "metadata": {},
     "output_type": "execute_result"
    }
   ],
   "source": [
    "import tensorflow as tf\n",
    "from tensorflow.keras.models import Model\n",
    "from tensorflow.keras.layers import Dense, Input, Flatten, Embedding, Concatenate\n",
    "from tensorflow.keras.utils import plot_model\n",
    "from tensorflow.keras.optimizers import Adam\n",
    "\n",
    "from sklearn.model_selection import train_test_split\n",
    "\n",
    "tf.__version__"
   ]
  },
  {
   "cell_type": "code",
   "execution_count": 3,
   "metadata": {
    "ExecuteTime": {
     "end_time": "2020-09-09T15:03:25.586969Z",
     "start_time": "2020-09-09T15:03:25.199734Z"
    }
   },
   "outputs": [],
   "source": [
    "games_season = pd.read_csv('./games_season.csv')\n",
    "games_tourney = pd.read_csv('./games_tourney.csv')"
   ]
  },
  {
   "cell_type": "markdown",
   "metadata": {},
   "source": [
    "# Three-input models"
   ]
  },
  {
   "cell_type": "markdown",
   "metadata": {},
   "source": [
    "## Make an input layer for home vs. away"
   ]
  },
  {
   "cell_type": "code",
   "execution_count": 4,
   "metadata": {
    "ExecuteTime": {
     "end_time": "2020-09-09T15:03:25.614914Z",
     "start_time": "2020-09-09T15:03:25.588928Z"
    }
   },
   "outputs": [
    {
     "data": {
      "text/html": [
       "<div>\n",
       "<style scoped>\n",
       "    .dataframe tbody tr th:only-of-type {\n",
       "        vertical-align: middle;\n",
       "    }\n",
       "\n",
       "    .dataframe tbody tr th {\n",
       "        vertical-align: top;\n",
       "    }\n",
       "\n",
       "    .dataframe thead th {\n",
       "        text-align: right;\n",
       "    }\n",
       "</style>\n",
       "<table border=\"1\" class=\"dataframe\">\n",
       "  <thead>\n",
       "    <tr style=\"text-align: right;\">\n",
       "      <th></th>\n",
       "      <th>season</th>\n",
       "      <th>team_1</th>\n",
       "      <th>team_2</th>\n",
       "      <th>home</th>\n",
       "      <th>score_diff</th>\n",
       "      <th>score_1</th>\n",
       "      <th>score_2</th>\n",
       "      <th>won</th>\n",
       "    </tr>\n",
       "  </thead>\n",
       "  <tbody>\n",
       "    <tr>\n",
       "      <th>0</th>\n",
       "      <td>1985</td>\n",
       "      <td>3745</td>\n",
       "      <td>6664</td>\n",
       "      <td>0</td>\n",
       "      <td>17</td>\n",
       "      <td>81</td>\n",
       "      <td>64</td>\n",
       "      <td>1</td>\n",
       "    </tr>\n",
       "    <tr>\n",
       "      <th>1</th>\n",
       "      <td>1985</td>\n",
       "      <td>126</td>\n",
       "      <td>7493</td>\n",
       "      <td>1</td>\n",
       "      <td>7</td>\n",
       "      <td>77</td>\n",
       "      <td>70</td>\n",
       "      <td>1</td>\n",
       "    </tr>\n",
       "    <tr>\n",
       "      <th>2</th>\n",
       "      <td>1985</td>\n",
       "      <td>288</td>\n",
       "      <td>3593</td>\n",
       "      <td>1</td>\n",
       "      <td>7</td>\n",
       "      <td>63</td>\n",
       "      <td>56</td>\n",
       "      <td>1</td>\n",
       "    </tr>\n",
       "    <tr>\n",
       "      <th>3</th>\n",
       "      <td>1985</td>\n",
       "      <td>1846</td>\n",
       "      <td>9881</td>\n",
       "      <td>1</td>\n",
       "      <td>16</td>\n",
       "      <td>70</td>\n",
       "      <td>54</td>\n",
       "      <td>1</td>\n",
       "    </tr>\n",
       "    <tr>\n",
       "      <th>4</th>\n",
       "      <td>1985</td>\n",
       "      <td>2675</td>\n",
       "      <td>10298</td>\n",
       "      <td>1</td>\n",
       "      <td>12</td>\n",
       "      <td>86</td>\n",
       "      <td>74</td>\n",
       "      <td>1</td>\n",
       "    </tr>\n",
       "  </tbody>\n",
       "</table>\n",
       "</div>"
      ],
      "text/plain": [
       "   season  team_1  team_2  home  score_diff  score_1  score_2  won\n",
       "0    1985    3745    6664     0          17       81       64    1\n",
       "1    1985     126    7493     1           7       77       70    1\n",
       "2    1985     288    3593     1           7       63       56    1\n",
       "3    1985    1846    9881     1          16       70       54    1\n",
       "4    1985    2675   10298     1          12       86       74    1"
      ]
     },
     "execution_count": 4,
     "metadata": {},
     "output_type": "execute_result"
    }
   ],
   "source": [
    "games_season.head()"
   ]
  },
  {
   "cell_type": "code",
   "execution_count": 5,
   "metadata": {
    "ExecuteTime": {
     "end_time": "2020-09-09T15:03:36.742675Z",
     "start_time": "2020-09-09T15:03:25.618911Z"
    }
   },
   "outputs": [],
   "source": [
    "# define team strength model\n",
    "\n",
    "# count number of unique teams from df\n",
    "n_teams = len(games_season['team_1'].unique())\n",
    "\n",
    "# create an embedding layer\n",
    "team_lookup = Embedding(input_dim=n_teams,\n",
    "                        output_dim=1,\n",
    "                        input_length=1,\n",
    "                        name='Team_Strength')\n",
    "\n",
    "# create input layer for team ID column\n",
    "teamid_in = Input(shape=(1,))\n",
    "\n",
    "# lookup the input in the embedding layer\n",
    "strength_lookup = team_lookup(teamid_in)\n",
    "\n",
    "# flatten the output\n",
    "strength_lookup_flat = Flatten()(strength_lookup)\n",
    "\n",
    "# build model\n",
    "team_strength_model = Model(inputs=teamid_in,\n",
    "                            outputs=strength_lookup_flat,\n",
    "                            name='Team_Strength_Model')"
   ]
  },
  {
   "cell_type": "code",
   "execution_count": 6,
   "metadata": {
    "ExecuteTime": {
     "end_time": "2020-09-09T15:03:37.552541Z",
     "start_time": "2020-09-09T15:03:36.742675Z"
    }
   },
   "outputs": [],
   "source": [
    "# create an Input layer for each team\n",
    "team_in_1 = Input(shape=(1,), name='Team_1_In')\n",
    "team_in_2 = Input(shape=(1,), name='Team_2_In')\n",
    "\n",
    "# create an input for home vs away\n",
    "home_in = Input(shape=(1,), name='Home_In')\n",
    "\n",
    "# lookup the team inputs in the team strength model\n",
    "team_1_strength = team_strength_model(team_in_1)\n",
    "team_2_strength = team_strength_model(team_in_2)\n",
    "\n",
    "# combine the team strengths with the home input then add a Dense layer\n",
    "out = Concatenate()([team_1_strength, team_2_strength, home_in])\n",
    "out = Dense(1)(out)"
   ]
  },
  {
   "cell_type": "markdown",
   "metadata": {},
   "source": [
    "## Make a model and compile it"
   ]
  },
  {
   "cell_type": "code",
   "execution_count": 7,
   "metadata": {
    "ExecuteTime": {
     "end_time": "2020-09-09T15:03:37.954761Z",
     "start_time": "2020-09-09T15:03:37.552541Z"
    }
   },
   "outputs": [],
   "source": [
    "model = Model(inputs=[team_in_1, team_in_2, home_in],\n",
    "              outputs=out)\n",
    "\n",
    "model.compile(optimizer=Adam(0.1),\n",
    "              loss='mae')"
   ]
  },
  {
   "cell_type": "markdown",
   "metadata": {
    "ExecuteTime": {
     "end_time": "2020-09-09T14:07:40.193486Z",
     "start_time": "2020-09-09T14:07:36.379215Z"
    }
   },
   "source": [
    "## Fit the model and evaluate"
   ]
  },
  {
   "cell_type": "code",
   "execution_count": 8,
   "metadata": {
    "ExecuteTime": {
     "end_time": "2020-09-09T15:03:50.458838Z",
     "start_time": "2020-09-09T15:03:37.954761Z"
    }
   },
   "outputs": [
    {
     "name": "stdout",
     "output_type": "stream",
     "text": [
      "Train on 280960 samples, validate on 31218 samples\n",
      "Epoch 1/5\n",
      "280960/280960 - 7s - loss: 10.4798 - val_loss: 11.0634\n",
      "Epoch 2/5\n",
      "280960/280960 - 1s - loss: 8.6447 - val_loss: 10.0128\n",
      "Epoch 3/5\n",
      "280960/280960 - 1s - loss: 8.4111 - val_loss: 9.5117\n",
      "Epoch 4/5\n",
      "280960/280960 - 1s - loss: 8.3341 - val_loss: 9.1887\n",
      "Epoch 5/5\n",
      "280960/280960 - 1s - loss: 8.2857 - val_loss: 9.6812\n"
     ]
    },
    {
     "data": {
      "text/plain": [
       "<tensorflow.python.keras.callbacks.History at 0x2358949cb88>"
      ]
     },
     "execution_count": 8,
     "metadata": {},
     "output_type": "execute_result"
    }
   ],
   "source": [
    "model.fit([games_season['team_1'], games_season['team_2'], games_season['home']],\n",
    "          games_season['score_diff'],\n",
    "          epochs=5,\n",
    "          verbose=2,\n",
    "          validation_split=0.1,\n",
    "          batch_size=2048)"
   ]
  },
  {
   "cell_type": "code",
   "execution_count": 9,
   "metadata": {
    "ExecuteTime": {
     "end_time": "2020-09-09T15:03:50.953358Z",
     "start_time": "2020-09-09T15:03:50.461837Z"
    }
   },
   "outputs": [
    {
     "name": "stdout",
     "output_type": "stream",
     "text": [
      "8.923636589176429\n"
     ]
    }
   ],
   "source": [
    "# evaluate on games_tourney\n",
    "print(model.evaluate([games_tourney['team_1'], games_tourney['team_2'], games_tourney['home']],\n",
    "                     games_tourney['score_diff'], verbose=0))"
   ]
  },
  {
   "cell_type": "markdown",
   "metadata": {},
   "source": [
    "# Summarizing and plotting models"
   ]
  },
  {
   "cell_type": "markdown",
   "metadata": {},
   "source": [
    "## Model summaries"
   ]
  },
  {
   "cell_type": "code",
   "execution_count": 10,
   "metadata": {
    "ExecuteTime": {
     "end_time": "2020-09-09T15:03:50.966351Z",
     "start_time": "2020-09-09T15:03:50.956358Z"
    }
   },
   "outputs": [
    {
     "name": "stdout",
     "output_type": "stream",
     "text": [
      "Model: \"model\"\n",
      "__________________________________________________________________________________________________\n",
      "Layer (type)                    Output Shape         Param #     Connected to                     \n",
      "==================================================================================================\n",
      "Team_1_In (InputLayer)          [(None, 1)]          0                                            \n",
      "__________________________________________________________________________________________________\n",
      "Team_2_In (InputLayer)          [(None, 1)]          0                                            \n",
      "__________________________________________________________________________________________________\n",
      "Team_Strength_Model (Model)     (None, 1)            10888       Team_1_In[0][0]                  \n",
      "                                                                 Team_2_In[0][0]                  \n",
      "__________________________________________________________________________________________________\n",
      "Home_In (InputLayer)            [(None, 1)]          0                                            \n",
      "__________________________________________________________________________________________________\n",
      "concatenate (Concatenate)       (None, 3)            0           Team_Strength_Model[1][0]        \n",
      "                                                                 Team_Strength_Model[2][0]        \n",
      "                                                                 Home_In[0][0]                    \n",
      "__________________________________________________________________________________________________\n",
      "dense (Dense)                   (None, 1)            4           concatenate[0][0]                \n",
      "==================================================================================================\n",
      "Total params: 10,892\n",
      "Trainable params: 10,892\n",
      "Non-trainable params: 0\n",
      "__________________________________________________________________________________________________\n"
     ]
    }
   ],
   "source": [
    "model.summary()"
   ]
  },
  {
   "cell_type": "code",
   "execution_count": 11,
   "metadata": {
    "ExecuteTime": {
     "end_time": "2020-09-09T15:03:55.216813Z",
     "start_time": "2020-09-09T15:03:50.969350Z"
    }
   },
   "outputs": [
    {
     "data": {
      "image/png": "[encoded data removed]",
      "text/plain": [
       "<IPython.core.display.Image object>"
      ]
     },
     "execution_count": 11,
     "metadata": {},
     "output_type": "execute_result"
    }
   ],
   "source": [
    "plot_model(model)"
   ]
  },
  {
   "cell_type": "markdown",
   "metadata": {},
   "source": [
    "# Stacking models"
   ]
  },
  {
   "cell_type": "markdown",
   "metadata": {},
   "source": [
    "## Add the model predictions to the tournament data"
   ]
  },
  {
   "cell_type": "code",
   "execution_count": 12,
   "metadata": {
    "ExecuteTime": {
     "end_time": "2020-09-09T15:03:55.719862Z",
     "start_time": "2020-09-09T15:03:55.219813Z"
    }
   },
   "outputs": [],
   "source": [
    "games_tourney['pred'] = model.predict([games_tourney['team_1'], games_tourney['team_2'], games_tourney['home']])"
   ]
  },
  {
   "cell_type": "code",
   "execution_count": 13,
   "metadata": {
    "ExecuteTime": {
     "end_time": "2020-09-09T15:03:55.774557Z",
     "start_time": "2020-09-09T15:03:55.719862Z"
    }
   },
   "outputs": [
    {
     "data": {
      "text/html": [
       "<div>\n",
       "<style scoped>\n",
       "    .dataframe tbody tr th:only-of-type {\n",
       "        vertical-align: middle;\n",
       "    }\n",
       "\n",
       "    .dataframe tbody tr th {\n",
       "        vertical-align: top;\n",
       "    }\n",
       "\n",
       "    .dataframe thead th {\n",
       "        text-align: right;\n",
       "    }\n",
       "</style>\n",
       "<table border=\"1\" class=\"dataframe\">\n",
       "  <thead>\n",
       "    <tr style=\"text-align: right;\">\n",
       "      <th></th>\n",
       "      <th>season</th>\n",
       "      <th>team_1</th>\n",
       "      <th>team_2</th>\n",
       "      <th>home</th>\n",
       "      <th>seed_diff</th>\n",
       "      <th>score_diff</th>\n",
       "      <th>score_1</th>\n",
       "      <th>score_2</th>\n",
       "      <th>won</th>\n",
       "      <th>pred</th>\n",
       "    </tr>\n",
       "  </thead>\n",
       "  <tbody>\n",
       "    <tr>\n",
       "      <th>0</th>\n",
       "      <td>1985</td>\n",
       "      <td>288</td>\n",
       "      <td>73</td>\n",
       "      <td>0</td>\n",
       "      <td>-3</td>\n",
       "      <td>-9</td>\n",
       "      <td>41</td>\n",
       "      <td>50</td>\n",
       "      <td>0</td>\n",
       "      <td>-3.713293</td>\n",
       "    </tr>\n",
       "    <tr>\n",
       "      <th>1</th>\n",
       "      <td>1985</td>\n",
       "      <td>5929</td>\n",
       "      <td>73</td>\n",
       "      <td>0</td>\n",
       "      <td>4</td>\n",
       "      <td>6</td>\n",
       "      <td>61</td>\n",
       "      <td>55</td>\n",
       "      <td>1</td>\n",
       "      <td>1.711708</td>\n",
       "    </tr>\n",
       "    <tr>\n",
       "      <th>2</th>\n",
       "      <td>1985</td>\n",
       "      <td>9884</td>\n",
       "      <td>73</td>\n",
       "      <td>0</td>\n",
       "      <td>5</td>\n",
       "      <td>-4</td>\n",
       "      <td>59</td>\n",
       "      <td>63</td>\n",
       "      <td>0</td>\n",
       "      <td>-0.422603</td>\n",
       "    </tr>\n",
       "    <tr>\n",
       "      <th>3</th>\n",
       "      <td>1985</td>\n",
       "      <td>73</td>\n",
       "      <td>288</td>\n",
       "      <td>0</td>\n",
       "      <td>3</td>\n",
       "      <td>9</td>\n",
       "      <td>50</td>\n",
       "      <td>41</td>\n",
       "      <td>1</td>\n",
       "      <td>1.416811</td>\n",
       "    </tr>\n",
       "    <tr>\n",
       "      <th>4</th>\n",
       "      <td>1985</td>\n",
       "      <td>3920</td>\n",
       "      <td>410</td>\n",
       "      <td>0</td>\n",
       "      <td>1</td>\n",
       "      <td>-9</td>\n",
       "      <td>54</td>\n",
       "      <td>63</td>\n",
       "      <td>0</td>\n",
       "      <td>3.223604</td>\n",
       "    </tr>\n",
       "  </tbody>\n",
       "</table>\n",
       "</div>"
      ],
      "text/plain": [
       "   season  team_1  team_2  home  seed_diff  score_diff  score_1  score_2  won  \\\n",
       "0    1985     288      73     0         -3          -9       41       50    0   \n",
       "1    1985    5929      73     0          4           6       61       55    1   \n",
       "2    1985    9884      73     0          5          -4       59       63    0   \n",
       "3    1985      73     288     0          3           9       50       41    1   \n",
       "4    1985    3920     410     0          1          -9       54       63    0   \n",
       "\n",
       "       pred  \n",
       "0 -3.713293  \n",
       "1  1.711708  \n",
       "2 -0.422603  \n",
       "3  1.416811  \n",
       "4  3.223604  "
      ]
     },
     "execution_count": 13,
     "metadata": {},
     "output_type": "execute_result"
    }
   ],
   "source": [
    "games_tourney.head()"
   ]
  },
  {
   "cell_type": "markdown",
   "metadata": {},
   "source": [
    "## Create an input layer with multiple columns"
   ]
  },
  {
   "cell_type": "code",
   "execution_count": 14,
   "metadata": {
    "ExecuteTime": {
     "end_time": "2020-09-09T15:03:56.007346Z",
     "start_time": "2020-09-09T15:03:55.777536Z"
    }
   },
   "outputs": [],
   "source": [
    "# Create an input layer with 3 columns\n",
    "input_tensor = Input((3,))\n",
    "\n",
    "# Pass it to a Dense layer with 1 unit\n",
    "output_tensor = Dense(1)(input_tensor)\n",
    "\n",
    "# Create a model\n",
    "model = Model(input_tensor, output_tensor)\n",
    "\n",
    "# Compile the model\n",
    "model.compile(optimizer=Adam(0.1), loss='mean_absolute_error')"
   ]
  },
  {
   "cell_type": "code",
   "execution_count": 15,
   "metadata": {
    "ExecuteTime": {
     "end_time": "2020-09-09T15:03:56.479815Z",
     "start_time": "2020-09-09T15:03:56.007346Z"
    }
   },
   "outputs": [],
   "source": [
    "X_gt = games_tourney[['home', 'seed_diff', 'pred']].to_numpy('float32')\n",
    "y_gt = games_tourney['score_diff'].to_numpy('float32')\n",
    "\n",
    "X_gt_tr, X_gt_tt, y_gt_tr, y_gt_tt = train_test_split(X_gt, y_gt,\n",
    "                                                      train_size=3168,\n",
    "                                                      random_state=42)"
   ]
  },
  {
   "cell_type": "code",
   "execution_count": 16,
   "metadata": {
    "ExecuteTime": {
     "end_time": "2020-09-09T15:03:58.746577Z",
     "start_time": "2020-09-09T15:03:56.482911Z"
    }
   },
   "outputs": [
    {
     "name": "stdout",
     "output_type": "stream",
     "text": [
      "Train on 3168 samples\n",
      "Epoch 1/5\n",
      "3168/3168 [==============================] - 1s 291us/sample - loss: 8.9392\n",
      "Epoch 2/5\n",
      "3168/3168 [==============================] - 0s 99us/sample - loss: 8.9043\n",
      "Epoch 3/5\n",
      "3168/3168 [==============================] - 0s 102us/sample - loss: 8.8931\n",
      "Epoch 4/5\n",
      "3168/3168 [==============================] - 0s 101us/sample - loss: 8.9468\n",
      "Epoch 5/5\n",
      "3168/3168 [==============================] - 0s 102us/sample - loss: 8.8614\n"
     ]
    },
    {
     "data": {
      "text/plain": [
       "<tensorflow.python.keras.callbacks.History at 0x235933b58c8>"
      ]
     },
     "execution_count": 16,
     "metadata": {},
     "output_type": "execute_result"
    }
   ],
   "source": [
    "model.fit(X_gt_tr, y_gt_tr,\n",
    "          epochs=5,\n",
    "          verbose=1)"
   ]
  },
  {
   "cell_type": "markdown",
   "metadata": {},
   "source": [
    "## Evaluate the model"
   ]
  },
  {
   "cell_type": "code",
   "execution_count": 17,
   "metadata": {
    "ExecuteTime": {
     "end_time": "2020-09-09T15:03:58.946462Z",
     "start_time": "2020-09-09T15:03:58.750574Z"
    },
    "scrolled": true
   },
   "outputs": [
    {
     "name": "stdout",
     "output_type": "stream",
     "text": [
      "8.831568281377681\n"
     ]
    }
   ],
   "source": [
    "print(model.evaluate(X_gt_tt, y_gt_tt, verbose=0))"
   ]
  },
  {
   "cell_type": "code",
   "execution_count": 18,
   "metadata": {
    "ExecuteTime": {
     "end_time": "2020-09-09T15:06:33.531995Z",
     "start_time": "2020-09-09T15:06:33.254203Z"
    }
   },
   "outputs": [],
   "source": [
    "games_tourney.to_csv('gt_with_preds.csv')"
   ]
  },
  {
   "cell_type": "code",
   "execution_count": null,
   "metadata": {},
   "outputs": [],
   "source": []
  }
 ],
 "metadata": {
  "kernelspec": {
   "display_name": "tf2-gpu",
   "language": "python",
   "name": "tf2-gpu"
  },
  "language_info": {
   "codemirror_mode": {
    "name": "ipython",
    "version": 3
   },
   "file_extension": ".py",
   "mimetype": "text/x-python",
   "name": "python",
   "nbconvert_exporter": "python",
   "pygments_lexer": "ipython3",
   "version": "3.7.7"
  },
  "toc": {
   "base_numbering": 1,
   "nav_menu": {},
   "number_sections": true,
   "sideBar": true,
   "skip_h1_title": false,
   "title_cell": "Table of Contents",
   "title_sidebar": "Contents",
   "toc_cell": false,
   "toc_position": {},
   "toc_section_display": true,
   "toc_window_display": false
  }
 },
 "nbformat": 4,
 "nbformat_minor": 4
}
