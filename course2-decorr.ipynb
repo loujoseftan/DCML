{
 "cells": [
  {
   "cell_type": "code",
   "execution_count": 1,
   "metadata": {
    "ExecuteTime": {
     "end_time": "2020-08-17T12:32:12.617011Z",
     "start_time": "2020-08-17T12:32:03.944456Z"
    }
   },
   "outputs": [],
   "source": [
    "import numpy as np\n",
    "import pandas as pd\n",
    "import matplotlib.pyplot as plt\n",
    "import seaborn as sns\n",
    "sns.set()"
   ]
  },
  {
   "cell_type": "markdown",
   "metadata": {},
   "source": [
    "# [seeds](https://archive.ics.uci.edu/ml/datasets/seeds) Dataset"
   ]
  },
  {
   "cell_type": "code",
   "execution_count": 2,
   "metadata": {
    "ExecuteTime": {
     "end_time": "2020-08-17T12:54:32.978535Z",
     "start_time": "2020-08-17T12:54:31.585081Z"
    }
   },
   "outputs": [
    {
     "data": {
      "text/html": [
       "<div>\n",
       "<style scoped>\n",
       "    .dataframe tbody tr th:only-of-type {\n",
       "        vertical-align: middle;\n",
       "    }\n",
       "\n",
       "    .dataframe tbody tr th {\n",
       "        vertical-align: top;\n",
       "    }\n",
       "\n",
       "    .dataframe thead th {\n",
       "        text-align: right;\n",
       "    }\n",
       "</style>\n",
       "<table border=\"1\" class=\"dataframe\">\n",
       "  <thead>\n",
       "    <tr style=\"text-align: right;\">\n",
       "      <th></th>\n",
       "      <th>area</th>\n",
       "      <th>perimeter</th>\n",
       "      <th>compactness</th>\n",
       "      <th>length</th>\n",
       "      <th>width</th>\n",
       "      <th>asymmetry_coef</th>\n",
       "      <th>l_groove</th>\n",
       "      <th>type</th>\n",
       "    </tr>\n",
       "  </thead>\n",
       "  <tbody>\n",
       "    <tr>\n",
       "      <th>0</th>\n",
       "      <td>15.26</td>\n",
       "      <td>14.84</td>\n",
       "      <td>0.8710</td>\n",
       "      <td>5.763</td>\n",
       "      <td>3.312</td>\n",
       "      <td>2.221</td>\n",
       "      <td>5.220</td>\n",
       "      <td>1</td>\n",
       "    </tr>\n",
       "    <tr>\n",
       "      <th>1</th>\n",
       "      <td>14.88</td>\n",
       "      <td>14.57</td>\n",
       "      <td>0.8811</td>\n",
       "      <td>5.554</td>\n",
       "      <td>3.333</td>\n",
       "      <td>1.018</td>\n",
       "      <td>4.956</td>\n",
       "      <td>1</td>\n",
       "    </tr>\n",
       "    <tr>\n",
       "      <th>2</th>\n",
       "      <td>14.29</td>\n",
       "      <td>14.09</td>\n",
       "      <td>0.9050</td>\n",
       "      <td>5.291</td>\n",
       "      <td>3.337</td>\n",
       "      <td>2.699</td>\n",
       "      <td>4.825</td>\n",
       "      <td>1</td>\n",
       "    </tr>\n",
       "    <tr>\n",
       "      <th>3</th>\n",
       "      <td>13.84</td>\n",
       "      <td>13.94</td>\n",
       "      <td>0.8955</td>\n",
       "      <td>5.324</td>\n",
       "      <td>3.379</td>\n",
       "      <td>2.259</td>\n",
       "      <td>4.805</td>\n",
       "      <td>1</td>\n",
       "    </tr>\n",
       "    <tr>\n",
       "      <th>4</th>\n",
       "      <td>16.14</td>\n",
       "      <td>14.99</td>\n",
       "      <td>0.9034</td>\n",
       "      <td>5.658</td>\n",
       "      <td>3.562</td>\n",
       "      <td>1.355</td>\n",
       "      <td>5.175</td>\n",
       "      <td>1</td>\n",
       "    </tr>\n",
       "  </tbody>\n",
       "</table>\n",
       "</div>"
      ],
      "text/plain": [
       "    area  perimeter  compactness  length  width  asymmetry_coef  l_groove  \\\n",
       "0  15.26      14.84       0.8710   5.763  3.312           2.221     5.220   \n",
       "1  14.88      14.57       0.8811   5.554  3.333           1.018     4.956   \n",
       "2  14.29      14.09       0.9050   5.291  3.337           2.699     4.825   \n",
       "3  13.84      13.94       0.8955   5.324  3.379           2.259     4.805   \n",
       "4  16.14      14.99       0.9034   5.658  3.562           1.355     5.175   \n",
       "\n",
       "   type  \n",
       "0     1  \n",
       "1     1  \n",
       "2     1  \n",
       "3     1  \n",
       "4     1  "
      ]
     },
     "execution_count": 2,
     "metadata": {},
     "output_type": "execute_result"
    }
   ],
   "source": [
    "cols = ['area', 'perimeter', 'compactness', 'length', 'width', 'asymmetry_coef', 'l_groove', 'type']\n",
    "seeds = pd.read_csv('https://archive.ics.uci.edu/ml/machine-learning-databases/00236/seeds_dataset.txt',\n",
    "                    delim_whitespace=True, names=cols)\n",
    "seeds.head()"
   ]
  },
  {
   "cell_type": "markdown",
   "metadata": {},
   "source": [
    "## Checking correlation between `width` and `length`"
   ]
  },
  {
   "cell_type": "code",
   "execution_count": 7,
   "metadata": {
    "ExecuteTime": {
     "end_time": "2020-08-17T12:59:33.126439Z",
     "start_time": "2020-08-17T12:59:33.122423Z"
    }
   },
   "outputs": [],
   "source": [
    "from scipy.stats import pearsonr"
   ]
  },
  {
   "cell_type": "code",
   "execution_count": 3,
   "metadata": {
    "ExecuteTime": {
     "end_time": "2020-08-17T12:58:02.537402Z",
     "start_time": "2020-08-17T12:58:02.532424Z"
    }
   },
   "outputs": [],
   "source": [
    "width = seeds['width']\n",
    "length = seeds['length']"
   ]
  },
  {
   "cell_type": "code",
   "execution_count": 5,
   "metadata": {
    "ExecuteTime": {
     "end_time": "2020-08-17T12:58:52.868009Z",
     "start_time": "2020-08-17T12:58:52.413172Z"
    }
   },
   "outputs": [
    {
     "data": {
      "image/png": "[encoded data removed]",
      "text/plain": [
       "<Figure size 432x432 with 1 Axes>"
      ]
     },
     "metadata": {},
     "output_type": "display_data"
    }
   ],
   "source": [
    "# scatter plot\n",
    "fig, ax = plt.subplots(figsize=(6, 6))\n",
    "\n",
    "ax.scatter(width, length)\n",
    "\n",
    "plt.axis('equal')\n",
    "plt.show()"
   ]
  },
  {
   "cell_type": "code",
   "execution_count": 11,
   "metadata": {
    "ExecuteTime": {
     "end_time": "2020-08-17T12:59:52.694982Z",
     "start_time": "2020-08-17T12:59:52.687970Z"
    }
   },
   "outputs": [
    {
     "data": {
      "text/plain": [
       "0.8604149377143466"
      ]
     },
     "execution_count": 11,
     "metadata": {},
     "output_type": "execute_result"
    }
   ],
   "source": [
    "# calculate pearson correlation\n",
    "correlation, pvalue = pearsonr(width, length)\n",
    "correlation"
   ]
  },
  {
   "cell_type": "markdown",
   "metadata": {},
   "source": [
    "## Decorrelating with `PCA`"
   ]
  },
  {
   "cell_type": "code",
   "execution_count": 12,
   "metadata": {
    "ExecuteTime": {
     "end_time": "2020-08-17T13:11:56.524646Z",
     "start_time": "2020-08-17T13:11:53.961973Z"
    }
   },
   "outputs": [],
   "source": [
    "from sklearn.decomposition import PCA"
   ]
  },
  {
   "cell_type": "code",
   "execution_count": 13,
   "metadata": {
    "ExecuteTime": {
     "end_time": "2020-08-17T13:12:01.986169Z",
     "start_time": "2020-08-17T13:12:01.981175Z"
    }
   },
   "outputs": [],
   "source": [
    "# create model\n",
    "model1 = PCA()"
   ]
  },
  {
   "cell_type": "code",
   "execution_count": 17,
   "metadata": {
    "ExecuteTime": {
     "end_time": "2020-08-17T13:14:11.841200Z",
     "start_time": "2020-08-17T13:14:11.223021Z"
    }
   },
   "outputs": [],
   "source": [
    "# data\n",
    "seeds_ = seeds[['width', 'length']]\n",
    "\n",
    "# apply fit_transform to data\n",
    "pca_features = model1.fit_transform(seeds_)"
   ]
  },
  {
   "cell_type": "code",
   "execution_count": 18,
   "metadata": {
    "ExecuteTime": {
     "end_time": "2020-08-17T13:14:48.311634Z",
     "start_time": "2020-08-17T13:14:48.306636Z"
    }
   },
   "outputs": [],
   "source": [
    "# get features\n",
    "xs = pca_features[:, 0]\n",
    "ys = pca_features[:, 1]"
   ]
  },
  {
   "cell_type": "code",
   "execution_count": 19,
   "metadata": {
    "ExecuteTime": {
     "end_time": "2020-08-17T13:15:37.573504Z",
     "start_time": "2020-08-17T13:15:37.228801Z"
    }
   },
   "outputs": [
    {
     "data": {
      "image/png": "[encoded data removed]",
      "text/plain": [
       "<Figure size 432x432 with 1 Axes>"
      ]
     },
     "metadata": {},
     "output_type": "display_data"
    }
   ],
   "source": [
    "# scatter plot\n",
    "fig, ax = plt.subplots(figsize=(6, 6))\n",
    "\n",
    "ax.scatter(xs, ys)\n",
    "\n",
    "plt.axis('equal')\n",
    "plt.show()"
   ]
  },
  {
   "cell_type": "code",
   "execution_count": 20,
   "metadata": {
    "ExecuteTime": {
     "end_time": "2020-08-17T13:16:07.708473Z",
     "start_time": "2020-08-17T13:16:07.700476Z"
    }
   },
   "outputs": [
    {
     "data": {
      "text/plain": [
       "1.0408340855860843e-16"
      ]
     },
     "execution_count": 20,
     "metadata": {},
     "output_type": "execute_result"
    }
   ],
   "source": [
    "# calculate pearson correlation of xs and ys\n",
    "correlation, pvalues = pearsonr(xs, ys)\n",
    "correlation"
   ]
  },
  {
   "cell_type": "markdown",
   "metadata": {},
   "source": [
    "## Finding the first principal component"
   ]
  },
  {
   "cell_type": "code",
   "execution_count": 22,
   "metadata": {
    "ExecuteTime": {
     "end_time": "2020-08-17T13:26:01.864105Z",
     "start_time": "2020-08-17T13:26:01.861109Z"
    }
   },
   "outputs": [],
   "source": [
    "# get mean of grain samples\n",
    "mean = model1.mean_"
   ]
  },
  {
   "cell_type": "code",
   "execution_count": 23,
   "metadata": {
    "ExecuteTime": {
     "end_time": "2020-08-17T13:26:26.826204Z",
     "start_time": "2020-08-17T13:26:26.822207Z"
    }
   },
   "outputs": [],
   "source": [
    "# get first principal component\n",
    "first_pc = model1.components_[0, :]"
   ]
  },
  {
   "cell_type": "code",
   "execution_count": 26,
   "metadata": {
    "ExecuteTime": {
     "end_time": "2020-08-17T13:28:45.905273Z",
     "start_time": "2020-08-17T13:28:45.563581Z"
    }
   },
   "outputs": [
    {
     "data": {
      "image/png": "[encoded data removed]",
      "text/plain": [
       "<Figure size 432x432 with 1 Axes>"
      ]
     },
     "metadata": {},
     "output_type": "display_data"
    }
   ],
   "source": [
    "# plot untransformed pts with first_pc as an arrow\n",
    "fig, ax = plt.subplots(figsize=(6, 6))\n",
    "\n",
    "ax.scatter(width, length)\n",
    "ax.arrow(mean[0], mean[1],\n",
    "         first_pc[0], first_pc[1],\n",
    "         color='red', width=0.02)\n",
    "\n",
    "plt.axis('equal')\n",
    "plt.show()"
   ]
  },
  {
   "cell_type": "markdown",
   "metadata": {},
   "source": [
    "# [Fishcatch](http://jse.amstat.org/jse_data_archive.htm) Dataset"
   ]
  },
  {
   "cell_type": "code",
   "execution_count": 27,
   "metadata": {
    "ExecuteTime": {
     "end_time": "2020-08-17T13:31:42.361546Z",
     "start_time": "2020-08-17T13:31:41.768050Z"
    }
   },
   "outputs": [
    {
     "data": {
      "text/html": [
       "<div>\n",
       "<style scoped>\n",
       "    .dataframe tbody tr th:only-of-type {\n",
       "        vertical-align: middle;\n",
       "    }\n",
       "\n",
       "    .dataframe tbody tr th {\n",
       "        vertical-align: top;\n",
       "    }\n",
       "\n",
       "    .dataframe thead th {\n",
       "        text-align: right;\n",
       "    }\n",
       "</style>\n",
       "<table border=\"1\" class=\"dataframe\">\n",
       "  <thead>\n",
       "    <tr style=\"text-align: right;\">\n",
       "      <th></th>\n",
       "      <th>obs</th>\n",
       "      <th>species</th>\n",
       "      <th>weight</th>\n",
       "      <th>length1</th>\n",
       "      <th>length2</th>\n",
       "      <th>length3</th>\n",
       "      <th>height%</th>\n",
       "      <th>width%</th>\n",
       "      <th>sex</th>\n",
       "    </tr>\n",
       "  </thead>\n",
       "  <tbody>\n",
       "    <tr>\n",
       "      <th>0</th>\n",
       "      <td>1</td>\n",
       "      <td>1</td>\n",
       "      <td>242.0</td>\n",
       "      <td>23.2</td>\n",
       "      <td>25.4</td>\n",
       "      <td>30.0</td>\n",
       "      <td>38.4</td>\n",
       "      <td>13.4</td>\n",
       "      <td>NaN</td>\n",
       "    </tr>\n",
       "    <tr>\n",
       "      <th>1</th>\n",
       "      <td>2</td>\n",
       "      <td>1</td>\n",
       "      <td>290.0</td>\n",
       "      <td>24.0</td>\n",
       "      <td>26.3</td>\n",
       "      <td>31.2</td>\n",
       "      <td>40.0</td>\n",
       "      <td>13.8</td>\n",
       "      <td>NaN</td>\n",
       "    </tr>\n",
       "    <tr>\n",
       "      <th>2</th>\n",
       "      <td>3</td>\n",
       "      <td>1</td>\n",
       "      <td>340.0</td>\n",
       "      <td>23.9</td>\n",
       "      <td>26.5</td>\n",
       "      <td>31.1</td>\n",
       "      <td>39.8</td>\n",
       "      <td>15.1</td>\n",
       "      <td>NaN</td>\n",
       "    </tr>\n",
       "    <tr>\n",
       "      <th>3</th>\n",
       "      <td>4</td>\n",
       "      <td>1</td>\n",
       "      <td>363.0</td>\n",
       "      <td>26.3</td>\n",
       "      <td>29.0</td>\n",
       "      <td>33.5</td>\n",
       "      <td>38.0</td>\n",
       "      <td>13.3</td>\n",
       "      <td>NaN</td>\n",
       "    </tr>\n",
       "    <tr>\n",
       "      <th>4</th>\n",
       "      <td>5</td>\n",
       "      <td>1</td>\n",
       "      <td>430.0</td>\n",
       "      <td>26.5</td>\n",
       "      <td>29.0</td>\n",
       "      <td>34.0</td>\n",
       "      <td>36.6</td>\n",
       "      <td>15.1</td>\n",
       "      <td>NaN</td>\n",
       "    </tr>\n",
       "  </tbody>\n",
       "</table>\n",
       "</div>"
      ],
      "text/plain": [
       "   obs  species  weight  length1  length2  length3  height%  width%  sex\n",
       "0    1        1   242.0     23.2     25.4     30.0     38.4    13.4  NaN\n",
       "1    2        1   290.0     24.0     26.3     31.2     40.0    13.8  NaN\n",
       "2    3        1   340.0     23.9     26.5     31.1     39.8    15.1  NaN\n",
       "3    4        1   363.0     26.3     29.0     33.5     38.0    13.3  NaN\n",
       "4    5        1   430.0     26.5     29.0     34.0     36.6    15.1  NaN"
      ]
     },
     "execution_count": 27,
     "metadata": {},
     "output_type": "execute_result"
    }
   ],
   "source": [
    "cols = ['obs', 'species', 'weight', 'length1', 'length2', 'length3', 'height%', 'width%', 'sex']\n",
    "fish = pd.read_csv('http://jse.amstat.org/datasets/fishcatch.dat.txt',\n",
    "                   delim_whitespace=True, names=cols)\n",
    "fish.head()"
   ]
  },
  {
   "cell_type": "code",
   "execution_count": 28,
   "metadata": {
    "ExecuteTime": {
     "end_time": "2020-08-17T13:32:44.810324Z",
     "start_time": "2020-08-17T13:32:44.781339Z"
    }
   },
   "outputs": [
    {
     "data": {
      "text/html": [
       "<div>\n",
       "<style scoped>\n",
       "    .dataframe tbody tr th:only-of-type {\n",
       "        vertical-align: middle;\n",
       "    }\n",
       "\n",
       "    .dataframe tbody tr th {\n",
       "        vertical-align: top;\n",
       "    }\n",
       "\n",
       "    .dataframe thead th {\n",
       "        text-align: right;\n",
       "    }\n",
       "</style>\n",
       "<table border=\"1\" class=\"dataframe\">\n",
       "  <thead>\n",
       "    <tr style=\"text-align: right;\">\n",
       "      <th></th>\n",
       "      <th>weight</th>\n",
       "      <th>length1</th>\n",
       "      <th>length2</th>\n",
       "      <th>length3</th>\n",
       "      <th>height%</th>\n",
       "      <th>width%</th>\n",
       "    </tr>\n",
       "  </thead>\n",
       "  <tbody>\n",
       "    <tr>\n",
       "      <th>0</th>\n",
       "      <td>242.0</td>\n",
       "      <td>23.2</td>\n",
       "      <td>25.4</td>\n",
       "      <td>30.0</td>\n",
       "      <td>38.4</td>\n",
       "      <td>13.4</td>\n",
       "    </tr>\n",
       "    <tr>\n",
       "      <th>1</th>\n",
       "      <td>290.0</td>\n",
       "      <td>24.0</td>\n",
       "      <td>26.3</td>\n",
       "      <td>31.2</td>\n",
       "      <td>40.0</td>\n",
       "      <td>13.8</td>\n",
       "    </tr>\n",
       "    <tr>\n",
       "      <th>2</th>\n",
       "      <td>340.0</td>\n",
       "      <td>23.9</td>\n",
       "      <td>26.5</td>\n",
       "      <td>31.1</td>\n",
       "      <td>39.8</td>\n",
       "      <td>15.1</td>\n",
       "    </tr>\n",
       "    <tr>\n",
       "      <th>3</th>\n",
       "      <td>363.0</td>\n",
       "      <td>26.3</td>\n",
       "      <td>29.0</td>\n",
       "      <td>33.5</td>\n",
       "      <td>38.0</td>\n",
       "      <td>13.3</td>\n",
       "    </tr>\n",
       "    <tr>\n",
       "      <th>4</th>\n",
       "      <td>430.0</td>\n",
       "      <td>26.5</td>\n",
       "      <td>29.0</td>\n",
       "      <td>34.0</td>\n",
       "      <td>36.6</td>\n",
       "      <td>15.1</td>\n",
       "    </tr>\n",
       "  </tbody>\n",
       "</table>\n",
       "</div>"
      ],
      "text/plain": [
       "   weight  length1  length2  length3  height%  width%\n",
       "0   242.0     23.2     25.4     30.0     38.4    13.4\n",
       "1   290.0     24.0     26.3     31.2     40.0    13.8\n",
       "2   340.0     23.9     26.5     31.1     39.8    15.1\n",
       "3   363.0     26.3     29.0     33.5     38.0    13.3\n",
       "4   430.0     26.5     29.0     34.0     36.6    15.1"
      ]
     },
     "execution_count": 28,
     "metadata": {},
     "output_type": "execute_result"
    }
   ],
   "source": [
    "# To match it with DataCamp dataset\n",
    "fish_ = fish.copy()\n",
    "fish_.drop(columns=['obs', 'species', 'sex'], inplace=True)\n",
    "fish_.drop(index=range(103,159), inplace=True)\n",
    "fish_.drop(index=range(61, 72), inplace=True)\n",
    "fish_.drop(index=range(35, 41), inplace=True)\n",
    "fish_.reset_index(inplace=True, drop=True)\n",
    "fish_.dropna(inplace=True)\n",
    "fish_.head()"
   ]
  },
  {
   "cell_type": "code",
   "execution_count": 29,
   "metadata": {
    "ExecuteTime": {
     "end_time": "2020-08-17T13:32:53.541911Z",
     "start_time": "2020-08-17T13:32:53.534915Z"
    }
   },
   "outputs": [
    {
     "data": {
      "text/plain": [
       "(85, 6)"
      ]
     },
     "execution_count": 29,
     "metadata": {},
     "output_type": "execute_result"
    }
   ],
   "source": [
    "fish_.shape"
   ]
  },
  {
   "cell_type": "markdown",
   "metadata": {},
   "source": [
    "## Variance of the PCA features"
   ]
  },
  {
   "cell_type": "code",
   "execution_count": 30,
   "metadata": {
    "ExecuteTime": {
     "end_time": "2020-08-17T13:37:07.899691Z",
     "start_time": "2020-08-17T13:37:07.795916Z"
    }
   },
   "outputs": [],
   "source": [
    "from sklearn.preprocessing import StandardScaler\n",
    "from sklearn.pipeline import Pipeline"
   ]
  },
  {
   "cell_type": "code",
   "execution_count": 31,
   "metadata": {
    "ExecuteTime": {
     "end_time": "2020-08-17T13:37:52.907859Z",
     "start_time": "2020-08-17T13:37:52.903862Z"
    }
   },
   "outputs": [],
   "source": [
    "# Setup steps for pipeline\n",
    "scaler = StandardScaler()\n",
    "pca = PCA()\n",
    "\n",
    "steps = [('scaler', scaler),\n",
    "         ('pca', pca)]"
   ]
  },
  {
   "cell_type": "code",
   "execution_count": 32,
   "metadata": {
    "ExecuteTime": {
     "end_time": "2020-08-17T13:38:26.461882Z",
     "start_time": "2020-08-17T13:38:26.457882Z"
    }
   },
   "outputs": [],
   "source": [
    "# create pipeline model\n",
    "model2 = Pipeline(steps)"
   ]
  },
  {
   "cell_type": "code",
   "execution_count": 33,
   "metadata": {
    "ExecuteTime": {
     "end_time": "2020-08-17T13:38:42.986604Z",
     "start_time": "2020-08-17T13:38:42.795023Z"
    }
   },
   "outputs": [
    {
     "data": {
      "text/plain": [
       "Pipeline(steps=[('scaler', StandardScaler()), ('pca', PCA())])"
      ]
     },
     "execution_count": 33,
     "metadata": {},
     "output_type": "execute_result"
    }
   ],
   "source": [
    "# fit to data\n",
    "model2.fit(fish_)"
   ]
  },
  {
   "cell_type": "code",
   "execution_count": 38,
   "metadata": {
    "ExecuteTime": {
     "end_time": "2020-08-17T13:41:04.924465Z",
     "start_time": "2020-08-17T13:41:04.620811Z"
    }
   },
   "outputs": [
    {
     "data": {
      "image/png": "[encoded data removed]",
      "text/plain": [
       "<Figure size 576x432 with 1 Axes>"
      ]
     },
     "metadata": {},
     "output_type": "display_data"
    }
   ],
   "source": [
    "# plot the explained variances\n",
    "features = range(pca.n_components_)\n",
    "\n",
    "fig, ax = plt.subplots(figsize=(8, 6))\n",
    "\n",
    "ax.bar(features, pca.explained_variance_)\n",
    "ax.set_xlabel('PCA feature')\n",
    "ax.set_ylabel('variance')\n",
    "ax.set_xticks(features)\n",
    "\n",
    "plt.show()"
   ]
  },
  {
   "cell_type": "markdown",
   "metadata": {
    "ExecuteTime": {
     "end_time": "2020-08-17T13:39:41.811615Z",
     "start_time": "2020-08-17T13:39:41.806614Z"
    }
   },
   "source": [
    "## Dimension reduction of the fish measurements"
   ]
  },
  {
   "cell_type": "code",
   "execution_count": 39,
   "metadata": {
    "ExecuteTime": {
     "end_time": "2020-08-17T13:47:28.762369Z",
     "start_time": "2020-08-17T13:47:28.757389Z"
    }
   },
   "outputs": [],
   "source": [
    "from sklearn.preprocessing import scale"
   ]
  },
  {
   "cell_type": "code",
   "execution_count": 40,
   "metadata": {
    "ExecuteTime": {
     "end_time": "2020-08-17T13:48:53.760662Z",
     "start_time": "2020-08-17T13:48:53.751664Z"
    }
   },
   "outputs": [],
   "source": [
    "# fish has scales ( ͡° ͜ʖ ͡°)\n",
    "scaled_fish_ = scale(fish_)"
   ]
  },
  {
   "cell_type": "code",
   "execution_count": 41,
   "metadata": {
    "ExecuteTime": {
     "end_time": "2020-08-17T13:49:40.601659Z",
     "start_time": "2020-08-17T13:49:40.597665Z"
    }
   },
   "outputs": [],
   "source": [
    "# create PCA model with 2 components\n",
    "model2 = PCA(n_components=2)"
   ]
  },
  {
   "cell_type": "code",
   "execution_count": 42,
   "metadata": {
    "ExecuteTime": {
     "end_time": "2020-08-17T13:49:52.203105Z",
     "start_time": "2020-08-17T13:49:52.196110Z"
    }
   },
   "outputs": [
    {
     "data": {
      "text/plain": [
       "PCA(n_components=2)"
      ]
     },
     "execution_count": 42,
     "metadata": {},
     "output_type": "execute_result"
    }
   ],
   "source": [
    "# fit to scaled data\n",
    "model2.fit(scaled_fish_)"
   ]
  },
  {
   "cell_type": "code",
   "execution_count": 44,
   "metadata": {
    "ExecuteTime": {
     "end_time": "2020-08-17T13:50:52.615494Z",
     "start_time": "2020-08-17T13:50:52.607502Z"
    }
   },
   "outputs": [
    {
     "data": {
      "text/plain": [
       "(85, 2)"
      ]
     },
     "execution_count": 44,
     "metadata": {},
     "output_type": "execute_result"
    }
   ],
   "source": [
    "# transform scaled features\n",
    "pca_features = model2.transform(scaled_fish_)\n",
    "pca_features.shape"
   ]
  },
  {
   "cell_type": "markdown",
   "metadata": {},
   "source": [
    "# tf-idf word-frequency array"
   ]
  },
  {
   "cell_type": "code",
   "execution_count": 45,
   "metadata": {
    "ExecuteTime": {
     "end_time": "2020-08-17T14:05:45.244887Z",
     "start_time": "2020-08-17T14:05:44.680830Z"
    }
   },
   "outputs": [],
   "source": [
    "from sklearn.feature_extraction.text import TfidfVectorizer"
   ]
  },
  {
   "cell_type": "code",
   "execution_count": 46,
   "metadata": {
    "ExecuteTime": {
     "end_time": "2020-08-17T14:06:07.320418Z",
     "start_time": "2020-08-17T14:06:07.317422Z"
    }
   },
   "outputs": [],
   "source": [
    "documents = ['cats say meow', 'dogs say woof', 'dogs chase cats']"
   ]
  },
  {
   "cell_type": "code",
   "execution_count": 47,
   "metadata": {
    "ExecuteTime": {
     "end_time": "2020-08-17T14:06:30.005926Z",
     "start_time": "2020-08-17T14:06:30.002930Z"
    }
   },
   "outputs": [],
   "source": [
    "# create tfidf vectorizer\n",
    "tfidf = TfidfVectorizer()"
   ]
  },
  {
   "cell_type": "code",
   "execution_count": 48,
   "metadata": {
    "ExecuteTime": {
     "end_time": "2020-08-17T14:06:55.849963Z",
     "start_time": "2020-08-17T14:06:55.625801Z"
    }
   },
   "outputs": [],
   "source": [
    "# apply fit_transform to document\n",
    "csr_mat = tfidf.fit_transform(documents)"
   ]
  },
  {
   "cell_type": "code",
   "execution_count": 49,
   "metadata": {
    "ExecuteTime": {
     "end_time": "2020-08-17T14:07:15.689795Z",
     "start_time": "2020-08-17T14:07:15.617859Z"
    }
   },
   "outputs": [
    {
     "name": "stdout",
     "output_type": "stream",
     "text": [
      "[[0.51785612 0.         0.         0.68091856 0.51785612 0.        ]\n",
      " [0.         0.         0.51785612 0.         0.51785612 0.68091856]\n",
      " [0.51785612 0.68091856 0.51785612 0.         0.         0.        ]]\n"
     ]
    }
   ],
   "source": [
    "# result of toarray() method\n",
    "print(csr_mat.toarray())"
   ]
  },
  {
   "cell_type": "code",
   "execution_count": 51,
   "metadata": {
    "ExecuteTime": {
     "end_time": "2020-08-17T14:07:36.010166Z",
     "start_time": "2020-08-17T14:07:36.003170Z"
    }
   },
   "outputs": [
    {
     "data": {
      "text/plain": [
       "['cats', 'chase', 'dogs', 'meow', 'say', 'woof']"
      ]
     },
     "execution_count": 51,
     "metadata": {},
     "output_type": "execute_result"
    }
   ],
   "source": [
    "# get words\n",
    "words = tfidf.get_feature_names()\n",
    "words"
   ]
  },
  {
   "cell_type": "markdown",
   "metadata": {},
   "source": [
    "# Clustering [Wikipedia](https://blog.lateral.io/2015/06/the-unknown-perils-of-mining-wikipedia/)"
   ]
  },
  {
   "cell_type": "code",
   "execution_count": 52,
   "metadata": {
    "ExecuteTime": {
     "end_time": "2020-08-17T14:12:36.687279Z",
     "start_time": "2020-08-17T14:12:35.548993Z"
    }
   },
   "outputs": [],
   "source": [
    "from sklearn.decomposition import TruncatedSVD\n",
    "from sklearn.cluster import KMeans"
   ]
  },
  {
   "cell_type": "code",
   "execution_count": 53,
   "metadata": {
    "ExecuteTime": {
     "end_time": "2020-08-17T14:13:27.157188Z",
     "start_time": "2020-08-17T14:13:27.153193Z"
    }
   },
   "outputs": [],
   "source": [
    "# Setup steps for pipeline\n",
    "svd = TruncatedSVD(n_components=50)\n",
    "kmeans = KMeans(6)\n",
    "\n",
    "steps = [('svd', svd),\n",
    "         ('kmeans', kmeans)]"
   ]
  },
  {
   "cell_type": "code",
   "execution_count": 54,
   "metadata": {
    "ExecuteTime": {
     "end_time": "2020-08-17T14:13:47.600979Z",
     "start_time": "2020-08-17T14:13:47.595985Z"
    }
   },
   "outputs": [],
   "source": [
    "# create pipeline\n",
    "model3 = Pipeline(steps)"
   ]
  },
  {
   "cell_type": "code",
   "execution_count": 1,
   "metadata": {
    "ExecuteTime": {
     "end_time": "2020-08-17T15:32:55.264643Z",
     "start_time": "2020-08-17T15:32:55.261623Z"
    }
   },
   "outputs": [],
   "source": [
    "# Too big, can't continue, laptop dies :(((((((((((( need2cloudsoon"
   ]
  }
 ],
 "metadata": {
  "kernelspec": {
   "display_name": "tf2-gpu",
   "language": "python",
   "name": "tf2-gpu"
  },
  "language_info": {
   "codemirror_mode": {
    "name": "ipython",
    "version": 3
   },
   "file_extension": ".py",
   "mimetype": "text/x-python",
   "name": "python",
   "nbconvert_exporter": "python",
   "pygments_lexer": "ipython3",
   "version": "3.7.7"
  },
  "toc": {
   "base_numbering": 1,
   "nav_menu": {},
   "number_sections": true,
   "sideBar": true,
   "skip_h1_title": false,
   "title_cell": "Table of Contents",
   "title_sidebar": "Contents",
   "toc_cell": false,
   "toc_position": {},
   "toc_section_display": true,
   "toc_window_display": false
  }
 },
 "nbformat": 4,
 "nbformat_minor": 4
}
