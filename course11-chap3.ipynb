{
 "cells": [
  {
   "cell_type": "code",
   "execution_count": 1,
   "metadata": {
    "ExecuteTime": {
     "end_time": "2020-09-02T13:29:07.139336Z",
     "start_time": "2020-09-02T13:29:05.740036Z"
    }
   },
   "outputs": [],
   "source": [
    "import numpy as np\n",
    "import pandas as pd\n",
    "import matplotlib.pyplot as plt\n",
    "import seaborn as sns\n",
    "sns.set()"
   ]
  },
  {
   "cell_type": "code",
   "execution_count": 58,
   "metadata": {
    "ExecuteTime": {
     "end_time": "2020-09-02T14:38:18.682565Z",
     "start_time": "2020-09-02T14:38:18.677568Z"
    }
   },
   "outputs": [],
   "source": [
    "from sklearn.model_selection import KFold, cross_val_score\n",
    "from sklearn.ensemble import RandomForestRegressor\n",
    "from sklearn.metrics import mean_squared_error as mse, make_scorer, mean_absolute_error as mae"
   ]
  },
  {
   "cell_type": "code",
   "execution_count": 15,
   "metadata": {
    "ExecuteTime": {
     "end_time": "2020-09-02T13:54:58.886031Z",
     "start_time": "2020-09-02T13:54:58.806056Z"
    }
   },
   "outputs": [],
   "source": [
    "# datasets used\n",
    "ttt = pd.read_csv('./tic-tac-toe.csv')\n",
    "candy = pd.read_csv('./candy-data.csv')"
   ]
  },
  {
   "cell_type": "markdown",
   "metadata": {},
   "source": [
    "# The problems with holdout sets"
   ]
  },
  {
   "cell_type": "markdown",
   "metadata": {},
   "source": [
    "## Two samples"
   ]
  },
  {
   "cell_type": "code",
   "execution_count": 13,
   "metadata": {
    "ExecuteTime": {
     "end_time": "2020-09-02T13:47:33.708134Z",
     "start_time": "2020-09-02T13:47:33.692148Z"
    }
   },
   "outputs": [
    {
     "name": "stdout",
     "output_type": "stream",
     "text": [
      "common observations: 40\n",
      "\n",
      "Class in sample1:\n",
      "positive    134\n",
      "negative     66\n",
      "Name: Class, dtype: int64\n",
      "\n",
      "Class in sample2:\n",
      "positive    123\n",
      "negative     77\n",
      "Name: Class, dtype: int64\n"
     ]
    }
   ],
   "source": [
    "# create two diff samples of 200 observations\n",
    "sample1 = ttt.sample(200, random_state=1111)\n",
    "sample2 = ttt.sample(200, random_state=1171)\n",
    "\n",
    "# print the number of common observations\n",
    "print(f'common observations: {len([index for index in sample1.index if index in sample2.index])}\\n')\n",
    "\n",
    "# print the number of observations in the Class column for both samples\n",
    "print(f\"Class in sample1:\\n{sample1['Class'].value_counts()}\\n\")\n",
    "print(f\"Class in sample2:\\n{sample2['Class'].value_counts()}\")"
   ]
  },
  {
   "cell_type": "markdown",
   "metadata": {},
   "source": [
    "Notice that there are a varying number of postive observations for both sample test sets. Sometimes creating a single test holdout is not enough to achieve high levels of model validation. You need to use something more robust."
   ]
  },
  {
   "cell_type": "markdown",
   "metadata": {},
   "source": [
    "# Cross-validation"
   ]
  },
  {
   "cell_type": "code",
   "execution_count": 16,
   "metadata": {
    "ExecuteTime": {
     "end_time": "2020-09-02T13:55:08.716012Z",
     "start_time": "2020-09-02T13:55:08.587575Z"
    }
   },
   "outputs": [
    {
     "data": {
      "text/html": [
       "<div>\n",
       "<style scoped>\n",
       "    .dataframe tbody tr th:only-of-type {\n",
       "        vertical-align: middle;\n",
       "    }\n",
       "\n",
       "    .dataframe tbody tr th {\n",
       "        vertical-align: top;\n",
       "    }\n",
       "\n",
       "    .dataframe thead th {\n",
       "        text-align: right;\n",
       "    }\n",
       "</style>\n",
       "<table border=\"1\" class=\"dataframe\">\n",
       "  <thead>\n",
       "    <tr style=\"text-align: right;\">\n",
       "      <th></th>\n",
       "      <th>competitorname</th>\n",
       "      <th>chocolate</th>\n",
       "      <th>fruity</th>\n",
       "      <th>caramel</th>\n",
       "      <th>peanutyalmondy</th>\n",
       "      <th>nougat</th>\n",
       "      <th>crispedricewafer</th>\n",
       "      <th>hard</th>\n",
       "      <th>bar</th>\n",
       "      <th>pluribus</th>\n",
       "      <th>sugarpercent</th>\n",
       "      <th>pricepercent</th>\n",
       "      <th>winpercent</th>\n",
       "    </tr>\n",
       "  </thead>\n",
       "  <tbody>\n",
       "    <tr>\n",
       "      <th>0</th>\n",
       "      <td>100 Grand</td>\n",
       "      <td>1</td>\n",
       "      <td>0</td>\n",
       "      <td>1</td>\n",
       "      <td>0</td>\n",
       "      <td>0</td>\n",
       "      <td>1</td>\n",
       "      <td>0</td>\n",
       "      <td>1</td>\n",
       "      <td>0</td>\n",
       "      <td>0.732</td>\n",
       "      <td>0.860</td>\n",
       "      <td>66.971725</td>\n",
       "    </tr>\n",
       "    <tr>\n",
       "      <th>1</th>\n",
       "      <td>3 Musketeers</td>\n",
       "      <td>1</td>\n",
       "      <td>0</td>\n",
       "      <td>0</td>\n",
       "      <td>0</td>\n",
       "      <td>1</td>\n",
       "      <td>0</td>\n",
       "      <td>0</td>\n",
       "      <td>1</td>\n",
       "      <td>0</td>\n",
       "      <td>0.604</td>\n",
       "      <td>0.511</td>\n",
       "      <td>67.602936</td>\n",
       "    </tr>\n",
       "    <tr>\n",
       "      <th>2</th>\n",
       "      <td>One dime</td>\n",
       "      <td>0</td>\n",
       "      <td>0</td>\n",
       "      <td>0</td>\n",
       "      <td>0</td>\n",
       "      <td>0</td>\n",
       "      <td>0</td>\n",
       "      <td>0</td>\n",
       "      <td>0</td>\n",
       "      <td>0</td>\n",
       "      <td>0.011</td>\n",
       "      <td>0.116</td>\n",
       "      <td>32.261086</td>\n",
       "    </tr>\n",
       "    <tr>\n",
       "      <th>3</th>\n",
       "      <td>One quarter</td>\n",
       "      <td>0</td>\n",
       "      <td>0</td>\n",
       "      <td>0</td>\n",
       "      <td>0</td>\n",
       "      <td>0</td>\n",
       "      <td>0</td>\n",
       "      <td>0</td>\n",
       "      <td>0</td>\n",
       "      <td>0</td>\n",
       "      <td>0.011</td>\n",
       "      <td>0.511</td>\n",
       "      <td>46.116505</td>\n",
       "    </tr>\n",
       "    <tr>\n",
       "      <th>4</th>\n",
       "      <td>Air Heads</td>\n",
       "      <td>0</td>\n",
       "      <td>1</td>\n",
       "      <td>0</td>\n",
       "      <td>0</td>\n",
       "      <td>0</td>\n",
       "      <td>0</td>\n",
       "      <td>0</td>\n",
       "      <td>0</td>\n",
       "      <td>0</td>\n",
       "      <td>0.906</td>\n",
       "      <td>0.511</td>\n",
       "      <td>52.341465</td>\n",
       "    </tr>\n",
       "  </tbody>\n",
       "</table>\n",
       "</div>"
      ],
      "text/plain": [
       "  competitorname  chocolate  fruity  caramel  peanutyalmondy  nougat  \\\n",
       "0      100 Grand          1       0        1               0       0   \n",
       "1   3 Musketeers          1       0        0               0       1   \n",
       "2       One dime          0       0        0               0       0   \n",
       "3    One quarter          0       0        0               0       0   \n",
       "4      Air Heads          0       1        0               0       0   \n",
       "\n",
       "   crispedricewafer  hard  bar  pluribus  sugarpercent  pricepercent  \\\n",
       "0                 1     0    1         0         0.732         0.860   \n",
       "1                 0     0    1         0         0.604         0.511   \n",
       "2                 0     0    0         0         0.011         0.116   \n",
       "3                 0     0    0         0         0.011         0.511   \n",
       "4                 0     0    0         0         0.906         0.511   \n",
       "\n",
       "   winpercent  \n",
       "0   66.971725  \n",
       "1   67.602936  \n",
       "2   32.261086  \n",
       "3   46.116505  \n",
       "4   52.341465  "
      ]
     },
     "execution_count": 16,
     "metadata": {},
     "output_type": "execute_result"
    }
   ],
   "source": [
    "candy.head()"
   ]
  },
  {
   "cell_type": "code",
   "execution_count": 45,
   "metadata": {
    "ExecuteTime": {
     "end_time": "2020-09-02T14:22:00.647423Z",
     "start_time": "2020-09-02T14:22:00.640427Z"
    }
   },
   "outputs": [],
   "source": [
    "X = candy.drop(['competitorname', 'winpercent'], axis=1).to_numpy()\n",
    "y = candy['winpercent'].to_numpy()"
   ]
  },
  {
   "cell_type": "markdown",
   "metadata": {},
   "source": [
    "## sklearn's `KFold`"
   ]
  },
  {
   "cell_type": "code",
   "execution_count": 27,
   "metadata": {
    "ExecuteTime": {
     "end_time": "2020-09-02T14:07:48.877290Z",
     "start_time": "2020-09-02T14:07:48.868292Z"
    }
   },
   "outputs": [
    {
     "name": "stdout",
     "output_type": "stream",
     "text": [
      "No. of training indices: 68\n",
      "No. of validation indices: 17\n",
      "No. of training indices: 68\n",
      "No. of validation indices: 17\n",
      "No. of training indices: 68\n",
      "No. of validation indices: 17\n",
      "No. of training indices: 68\n",
      "No. of validation indices: 17\n",
      "No. of training indices: 68\n",
      "No. of validation indices: 17\n"
     ]
    }
   ],
   "source": [
    "# use KFold\n",
    "kf = KFold(n_splits=5,\n",
    "           shuffle=True,\n",
    "           random_state=1111)\n",
    "\n",
    "# create splits\n",
    "splits = kf.split(X)\n",
    "\n",
    "# print the number of indices\n",
    "for train_idx, val_idx in splits:\n",
    "    print(f'No. of training indices: {len(train_idx)}')\n",
    "    print(f'No. of validation indices: {len(val_idx)}')"
   ]
  },
  {
   "cell_type": "markdown",
   "metadata": {},
   "source": [
    "## Using KFold indices"
   ]
  },
  {
   "cell_type": "code",
   "execution_count": 48,
   "metadata": {
    "ExecuteTime": {
     "end_time": "2020-09-02T14:22:24.679898Z",
     "start_time": "2020-09-02T14:22:24.383832Z"
    }
   },
   "outputs": [
    {
     "name": "stdout",
     "output_type": "stream",
     "text": [
      "split accuracy: 151.5028145199104\n",
      "split accuracy: 173.4624060357644\n",
      "split accuracy: 132.7340977072911\n",
      "split accuracy: 81.50364942339418\n",
      "split accuracy: 217.17904656079338\n"
     ]
    }
   ],
   "source": [
    "# instantiate random forest regressor\n",
    "rfc = RandomForestRegressor(n_estimators=25,\n",
    "                            random_state=1111)\n",
    "\n",
    "# access the training and validations idxs of splits\n",
    "for tr, vl in kf.split(X):\n",
    "    # split data\n",
    "    X_train, y_train = X[tr], y[tr]\n",
    "    X_val, y_val = X[vl], y[vl]\n",
    "    \n",
    "    # fit\n",
    "    rfc.fit(X_train, y_train)\n",
    "    \n",
    "    # eval\n",
    "    pred = rfc.predict(X_val)\n",
    "    print(f'split accuracy: {mse(y_val, pred)}')"
   ]
  },
  {
   "cell_type": "markdown",
   "metadata": {},
   "source": [
    "# sklearn's `cross_val_score()`"
   ]
  },
  {
   "cell_type": "markdown",
   "metadata": {},
   "source": [
    "## sklearn's methods"
   ]
  },
  {
   "cell_type": "code",
   "execution_count": 53,
   "metadata": {
    "ExecuteTime": {
     "end_time": "2020-09-02T14:30:27.462310Z",
     "start_time": "2020-09-02T14:30:27.458314Z"
    }
   },
   "outputs": [],
   "source": [
    "# load modules"
   ]
  },
  {
   "cell_type": "markdown",
   "metadata": {},
   "source": [
    "## Implement `cross_val_score()`"
   ]
  },
  {
   "cell_type": "code",
   "execution_count": 57,
   "metadata": {
    "ExecuteTime": {
     "end_time": "2020-09-02T14:33:35.465040Z",
     "start_time": "2020-09-02T14:33:34.876476Z"
    }
   },
   "outputs": [
    {
     "name": "stdout",
     "output_type": "stream",
     "text": [
      "mean MSE:  155.56\n"
     ]
    }
   ],
   "source": [
    "rfr = RandomForestRegressor(n_estimators=25,\n",
    "                            random_state=1111)\n",
    "mse_ = make_scorer(mse)\n",
    "\n",
    "# set up cv\n",
    "cv = cross_val_score(estimator=rfr,\n",
    "                     X=X,\n",
    "                     y=y,\n",
    "                     cv=10,\n",
    "                     scoring=mse_)\n",
    "\n",
    "print(f'mean MSE: {cv.mean(): .2f}')"
   ]
  },
  {
   "cell_type": "markdown",
   "metadata": {},
   "source": [
    "# Leave-one-out-cross-validation (LOOCV)\n",
    "When to use?\n",
    "* The amount of training data is limited\n",
    "* You want the absolute best error estimate for new data\n",
    "\n",
    "Be cautious when...\n",
    "* Computational resources are limited\n",
    "* You have a lot of data\n",
    "* You have a lot of parameters to test"
   ]
  },
  {
   "cell_type": "code",
   "execution_count": 59,
   "metadata": {
    "ExecuteTime": {
     "end_time": "2020-09-02T14:42:28.177590Z",
     "start_time": "2020-09-02T14:42:25.776168Z"
    }
   },
   "outputs": [
    {
     "name": "stdout",
     "output_type": "stream",
     "text": [
      "mean MAE:  9.46\n",
      "std of MAE:  7.27\n"
     ]
    }
   ],
   "source": [
    "# create scorer\n",
    "mae_ = make_scorer(mae)\n",
    "\n",
    "rfr = RandomForestRegressor(n_estimators=15,\n",
    "                            random_state=1111)\n",
    "\n",
    "# implement LOOCV\n",
    "scores = cross_val_score(estimator=rfr,\n",
    "                         X=X,\n",
    "                         y=y,\n",
    "                         cv=X.shape[0],\n",
    "                         scoring=mae_)\n",
    "\n",
    "print(f'mean MAE: {np.mean(scores): .2f}')\n",
    "print(f'std of MAE: {np.std(scores): .2f}')"
   ]
  }
 ],
 "metadata": {
  "kernelspec": {
   "display_name": "tf2-gpu",
   "language": "python",
   "name": "tf2-gpu"
  },
  "language_info": {
   "codemirror_mode": {
    "name": "ipython",
    "version": 3
   },
   "file_extension": ".py",
   "mimetype": "text/x-python",
   "name": "python",
   "nbconvert_exporter": "python",
   "pygments_lexer": "ipython3",
   "version": "3.7.7"
  },
  "toc": {
   "base_numbering": 1,
   "nav_menu": {},
   "number_sections": true,
   "sideBar": true,
   "skip_h1_title": false,
   "title_cell": "Table of Contents",
   "title_sidebar": "Contents",
   "toc_cell": false,
   "toc_position": {},
   "toc_section_display": true,
   "toc_window_display": false
  }
 },
 "nbformat": 4,
 "nbformat_minor": 4
}
