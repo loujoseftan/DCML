{
 "cells": [
  {
   "cell_type": "code",
   "execution_count": 1,
   "metadata": {
    "ExecuteTime": {
     "end_time": "2020-09-11T08:15:59.230835Z",
     "start_time": "2020-09-11T08:15:39.282756Z"
    }
   },
   "outputs": [],
   "source": [
    "import numpy as np\n",
    "import pandas as pd\n",
    "import matplotlib.pyplot as plt\n",
    "import seaborn as sns\n",
    "sns.set()"
   ]
  },
  {
   "cell_type": "code",
   "execution_count": 16,
   "metadata": {
    "ExecuteTime": {
     "end_time": "2020-09-11T08:52:07.089401Z",
     "start_time": "2020-09-11T08:52:07.056419Z"
    }
   },
   "outputs": [
    {
     "data": {
      "text/plain": [
       "'2.1.0'"
      ]
     },
     "execution_count": 16,
     "metadata": {},
     "output_type": "execute_result"
    }
   ],
   "source": [
    "import tensorflow as tf\n",
    "from tensorflow.keras.models import Sequential, Model\n",
    "from tensorflow.keras.layers import Dense, Conv2D, Flatten\n",
    "from tensorflow.keras.optimizers import Adam\n",
    "from tensorflow.keras.callbacks import EarlyStopping\n",
    "from tensorflow.keras.utils import to_categorical\n",
    "\n",
    "from sklearn.model_selection import train_test_split\n",
    "from skimage import data\n",
    "\n",
    "tf.__version__"
   ]
  },
  {
   "cell_type": "code",
   "execution_count": null,
   "metadata": {},
   "outputs": [],
   "source": []
  },
  {
   "cell_type": "markdown",
   "metadata": {},
   "source": [
    "# Convolutions"
   ]
  },
  {
   "cell_type": "markdown",
   "metadata": {},
   "source": [
    "## One-dimensional convolutions"
   ]
  },
  {
   "cell_type": "code",
   "execution_count": 4,
   "metadata": {
    "ExecuteTime": {
     "end_time": "2020-09-11T08:28:24.450618Z",
     "start_time": "2020-09-11T08:28:24.364608Z"
    }
   },
   "outputs": [
    {
     "name": "stdout",
     "output_type": "stream",
     "text": [
      "[ 1 -1  1 -1  1 -1  1 -1  0  0]\n"
     ]
    }
   ],
   "source": [
    "array = np.array([1, 0, 1, 0, 1, 0, 1, 0, 1, 0])\n",
    "kernel = np.array([1, -1, 0])\n",
    "conv = np.array([0, 0, 0, 0, 0, 0, 0, 0, 0, 0])\n",
    "\n",
    "# Output array\n",
    "for ii in range(8):\n",
    "    conv[ii] = (kernel * array[ii:ii+len(kernel)]).sum()\n",
    "\n",
    "# Print conv\n",
    "print(conv)"
   ]
  },
  {
   "cell_type": "markdown",
   "metadata": {},
   "source": [
    "## Defining image convolution kernels"
   ]
  },
  {
   "cell_type": "code",
   "execution_count": 13,
   "metadata": {
    "ExecuteTime": {
     "end_time": "2020-09-11T08:45:47.369650Z",
     "start_time": "2020-09-11T08:45:47.360653Z"
    }
   },
   "outputs": [],
   "source": [
    "# define a kernel that finds horizontal lines in images\n",
    "kernel = np.array([[-1, -1, -1], \n",
    "                   [1, 1, 1],\n",
    "                   [-1, -1, -1]])\n",
    "\n",
    "# define a kernel that finds a light spot surrounded by dark pixels\n",
    "kernel = np.array([[-1, -1, -1], \n",
    "                   [-1, 1, -1],\n",
    "                   [-1, -1, -1]])\n",
    "\n",
    "# define a kernel that finds a dark spot surrounded by light pixels\n",
    "kernel = np.array([[1, 1, 1], \n",
    "                   [1, -1, 1],\n",
    "                   [1, 1, 1]])"
   ]
  },
  {
   "cell_type": "markdown",
   "metadata": {},
   "source": [
    "# Implementing image convolutions in `keras`"
   ]
  },
  {
   "cell_type": "code",
   "execution_count": 15,
   "metadata": {
    "ExecuteTime": {
     "end_time": "2020-09-11T08:51:37.294941Z",
     "start_time": "2020-09-11T08:51:32.247294Z"
    }
   },
   "outputs": [],
   "source": [
    "(_, _), (X, y) = tf.keras.datasets.fashion_mnist.load_data()"
   ]
  },
  {
   "cell_type": "code",
   "execution_count": 17,
   "metadata": {
    "ExecuteTime": {
     "end_time": "2020-09-11T08:52:52.112725Z",
     "start_time": "2020-09-11T08:52:51.664782Z"
    }
   },
   "outputs": [],
   "source": [
    "X = np.expand_dims(X, -1)\n",
    "y = to_categorical(y)\n",
    "\n",
    "X_train, X_test, y_train, y_test = train_test_split(X, y,\n",
    "                                                    test_size=0.1,\n",
    "                                                    stratify=y,\n",
    "                                                    random_state=42)"
   ]
  },
  {
   "cell_type": "markdown",
   "metadata": {},
   "source": [
    "## Convolutional network for image classification"
   ]
  },
  {
   "cell_type": "code",
   "execution_count": 39,
   "metadata": {
    "ExecuteTime": {
     "end_time": "2020-09-11T09:07:44.516524Z",
     "start_time": "2020-09-11T09:07:44.453560Z"
    }
   },
   "outputs": [],
   "source": [
    "# define model arch\n",
    "model = Sequential()\n",
    "\n",
    "model.add(Conv2D(20, kernel_size=3, input_shape=(28, 28, 1), activation='relu'))\n",
    "model.add(Flatten())\n",
    "model.add(Dense(10, activation='softmax'))"
   ]
  },
  {
   "cell_type": "markdown",
   "metadata": {},
   "source": [
    "## Training a CNN to classify clothing types"
   ]
  },
  {
   "cell_type": "code",
   "execution_count": 42,
   "metadata": {
    "ExecuteTime": {
     "end_time": "2020-09-11T09:08:07.551190Z",
     "start_time": "2020-09-11T09:08:07.312870Z"
    }
   },
   "outputs": [],
   "source": [
    "# compile\n",
    "model.compile(optimizer=Adam(0.001),\n",
    "              loss='categorical_crossentropy',\n",
    "              metrics=['accuracy'])"
   ]
  },
  {
   "cell_type": "code",
   "execution_count": 43,
   "metadata": {
    "ExecuteTime": {
     "end_time": "2020-09-11T09:08:14.324451Z",
     "start_time": "2020-09-11T09:08:08.023988Z"
    }
   },
   "outputs": [
    {
     "name": "stdout",
     "output_type": "stream",
     "text": [
      "Train on 7200 samples, validate on 1800 samples\n",
      "Epoch 1/100\n",
      "7200/7200 - 1s - loss: 0.1722 - accuracy: 0.9408 - val_loss: 1.0195 - val_accuracy: 0.8267\n",
      "Epoch 2/100\n",
      "7200/7200 - 1s - loss: 0.0919 - accuracy: 0.9669 - val_loss: 1.0413 - val_accuracy: 0.8433\n",
      "Epoch 3/100\n",
      "7200/7200 - 1s - loss: 0.0532 - accuracy: 0.9811 - val_loss: 1.0124 - val_accuracy: 0.8417\n",
      "Epoch 4/100\n",
      "7200/7200 - 1s - loss: 0.0439 - accuracy: 0.9858 - val_loss: 1.0069 - val_accuracy: 0.8489\n",
      "Epoch 5/100\n",
      "7200/7200 - 1s - loss: 0.0285 - accuracy: 0.9915 - val_loss: 1.0097 - val_accuracy: 0.8522\n",
      "Epoch 6/100\n",
      "7200/7200 - 1s - loss: 0.0601 - accuracy: 0.9806 - val_loss: 1.0494 - val_accuracy: 0.8317\n",
      "Epoch 7/100\n",
      "7200/7200 - 1s - loss: 0.0335 - accuracy: 0.9896 - val_loss: 1.0637 - val_accuracy: 0.8511\n"
     ]
    },
    {
     "data": {
      "text/plain": [
       "<tensorflow.python.keras.callbacks.History at 0x28673cb99c8>"
      ]
     },
     "execution_count": 43,
     "metadata": {},
     "output_type": "execute_result"
    }
   ],
   "source": [
    "# train\n",
    "early_stop = EarlyStopping(monitor='val_loss',\n",
    "                           patience=3)\n",
    "\n",
    "model.fit(X_train, y_train,\n",
    "          validation_split=0.2,\n",
    "          batch_size=256,\n",
    "          epochs=100,\n",
    "          callbacks=[early_stop],\n",
    "          verbose=2)"
   ]
  },
  {
   "cell_type": "code",
   "execution_count": 44,
   "metadata": {
    "ExecuteTime": {
     "end_time": "2020-09-11T09:09:34.217235Z",
     "start_time": "2020-09-11T09:09:33.605249Z"
    }
   },
   "outputs": [
    {
     "name": "stdout",
     "output_type": "stream",
     "text": [
      "1000/1000 [==============================] - 1s 534us/sample - loss: 1.0344 - accuracy: 0.8500\n",
      "test acc:  85.0%\n"
     ]
    }
   ],
   "source": [
    "print(f'test acc: {model.evaluate(X_test, y_test)[1]: .1%}')"
   ]
  },
  {
   "cell_type": "markdown",
   "metadata": {},
   "source": [
    "# Tweaking your convolutions"
   ]
  },
  {
   "cell_type": "markdown",
   "metadata": {},
   "source": [
    "## Add padding to a CNN"
   ]
  },
  {
   "cell_type": "code",
   "execution_count": 45,
   "metadata": {
    "ExecuteTime": {
     "end_time": "2020-09-11T09:28:40.093160Z",
     "start_time": "2020-09-11T09:28:39.730955Z"
    }
   },
   "outputs": [],
   "source": [
    "# define model arch\n",
    "model = Sequential()\n",
    "\n",
    "model.add(Conv2D(20, kernel_size=3, input_shape=(28, 28, 1), padding='same', activation='relu'))\n",
    "model.add(Flatten())\n",
    "model.add(Dense(10, activation='softmax'))"
   ]
  },
  {
   "cell_type": "markdown",
   "metadata": {},
   "source": [
    "## Add strides to a convolutional network"
   ]
  },
  {
   "cell_type": "code",
   "execution_count": 46,
   "metadata": {
    "ExecuteTime": {
     "end_time": "2020-09-11T09:29:23.052139Z",
     "start_time": "2020-09-11T09:29:22.716759Z"
    }
   },
   "outputs": [],
   "source": [
    "# define model arch\n",
    "model = Sequential()\n",
    "\n",
    "model.add(Conv2D(20, kernel_size=3, input_shape=(28, 28, 1), strides=2, activation='relu'))\n",
    "model.add(Flatten())\n",
    "model.add(Dense(10, activation='softmax'))"
   ]
  },
  {
   "cell_type": "markdown",
   "metadata": {},
   "source": [
    "To calculate the output dim of a convolution:\n",
    "$$\n",
    "Output = ((I - K + 2P)/S) + 1\n",
    "$$\n",
    "where\n",
    "\n",
    "$I$: Input shape \n",
    "\n",
    "$K$: Kernel size \n",
    "\n",
    "$P$: Padding \n",
    "\n",
    "$S$: Stride"
   ]
  }
 ],
 "metadata": {
  "kernelspec": {
   "display_name": "tf2-gpu",
   "language": "python",
   "name": "tf2-gpu"
  },
  "language_info": {
   "codemirror_mode": {
    "name": "ipython",
    "version": 3
   },
   "file_extension": ".py",
   "mimetype": "text/x-python",
   "name": "python",
   "nbconvert_exporter": "python",
   "pygments_lexer": "ipython3",
   "version": "3.7.7"
  },
  "toc": {
   "base_numbering": 1,
   "nav_menu": {},
   "number_sections": true,
   "sideBar": true,
   "skip_h1_title": false,
   "title_cell": "Table of Contents",
   "title_sidebar": "Contents",
   "toc_cell": false,
   "toc_position": {},
   "toc_section_display": true,
   "toc_window_display": false
  }
 },
 "nbformat": 4,
 "nbformat_minor": 4
}
