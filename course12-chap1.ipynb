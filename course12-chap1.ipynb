{
 "cells": [
  {
   "cell_type": "code",
   "execution_count": 1,
   "metadata": {
    "ExecuteTime": {
     "end_time": "2020-09-03T07:59:52.537866Z",
     "start_time": "2020-09-03T07:59:27.476618Z"
    }
   },
   "outputs": [],
   "source": [
    "import numpy as np\n",
    "import pandas as pd\n",
    "import matplotlib.pyplot as plt\n",
    "import seaborn as sns\n",
    "sns.set()"
   ]
  },
  {
   "cell_type": "code",
   "execution_count": 29,
   "metadata": {
    "ExecuteTime": {
     "end_time": "2020-09-03T08:59:23.353897Z",
     "start_time": "2020-09-03T08:59:23.349897Z"
    }
   },
   "outputs": [],
   "source": [
    "import re\n",
    "from nltk.tokenize import sent_tokenize, word_tokenize, regexp_tokenize, TweetTokenizer"
   ]
  },
  {
   "cell_type": "code",
   "execution_count": 12,
   "metadata": {
    "ExecuteTime": {
     "end_time": "2020-09-03T08:29:09.255467Z",
     "start_time": "2020-09-03T08:29:09.249489Z"
    }
   },
   "outputs": [],
   "source": [
    "# datasets used\n",
    "with open('./grail.txt', 'r') as f:\n",
    "    holy_grail = f.read()\n",
    "    grail1 = re.split('SCENE 2:', holy_grail)[0]"
   ]
  },
  {
   "cell_type": "markdown",
   "metadata": {},
   "source": [
    "# Introduction to regular expressions"
   ]
  },
  {
   "cell_type": "markdown",
   "metadata": {},
   "source": [
    "## Practicing regular expressions: `re.split()` and `re.findall()`"
   ]
  },
  {
   "cell_type": "code",
   "execution_count": 6,
   "metadata": {
    "ExecuteTime": {
     "end_time": "2020-09-03T08:16:58.332563Z",
     "start_time": "2020-09-03T08:16:58.324588Z"
    }
   },
   "outputs": [
    {
     "data": {
      "text/plain": [
       "\"Let's write RegEx!  Won't that be fun?  I sure think so.  Can you find 4 sentences?  Or perhaps, all 19 words?\""
      ]
     },
     "execution_count": 6,
     "metadata": {},
     "output_type": "execute_result"
    }
   ],
   "source": [
    "my_string = \"Let's write RegEx!  Won't that be fun?  I sure think so.  Can you find 4 sentences?  Or perhaps, all 19 words?\"\n",
    "my_string"
   ]
  },
  {
   "cell_type": "code",
   "execution_count": 9,
   "metadata": {
    "ExecuteTime": {
     "end_time": "2020-09-03T08:20:37.202722Z",
     "start_time": "2020-09-03T08:20:37.193725Z"
    }
   },
   "outputs": [
    {
     "name": "stdout",
     "output_type": "stream",
     "text": [
      "Split on sentence endings:\n",
      "[\"Let's write RegEx\", \"  Won't that be fun\", '  I sure think so', '  Can you find 4 sentences', '  Or perhaps, all 19 words', '']\n",
      "\n",
      "Capitalized words:\n",
      "['Let', 'RegEx', 'Won', 'Can', 'Or']\n",
      "\n",
      "Split on spaces:\n",
      "[\"Let's\", 'write', 'RegEx!', \"Won't\", 'that', 'be', 'fun?', 'I', 'sure', 'think', 'so.', 'Can', 'you', 'find', '4', 'sentences?', 'Or', 'perhaps,', 'all', '19', 'words?']\n",
      "\n",
      "Digits:\n",
      "['4', '19']\n"
     ]
    }
   ],
   "source": [
    "# write a pattern to match sentence endings\n",
    "sentence_endings = r'[.?!]'\n",
    "\n",
    "# split my_string on sentence endings\n",
    "print(f'Split on sentence endings:\\n{re.split(sentence_endings, my_string)}\\n')\n",
    "\n",
    "# find all capitalized words in my_string\n",
    "capitalized = r'[A-Z]\\w+'\n",
    "print(f'Capitalized words:\\n{re.findall(capitalized, my_string)}\\n')\n",
    "\n",
    "# split my_string on spaces\n",
    "spaces = r'\\s+'\n",
    "print(f'Split on spaces:\\n{re.split(spaces, my_string)}\\n')\n",
    "\n",
    "# find all digits in my_string\n",
    "digits = r'\\d+'\n",
    "print(f'Digits:\\n{re.findall(digits, my_string)}')"
   ]
  },
  {
   "cell_type": "markdown",
   "metadata": {},
   "source": [
    "# Introduction to tokenization"
   ]
  },
  {
   "cell_type": "code",
   "execution_count": 15,
   "metadata": {
    "ExecuteTime": {
     "end_time": "2020-09-03T08:30:07.934420Z",
     "start_time": "2020-09-03T08:30:07.927437Z"
    },
    "scrolled": true
   },
   "outputs": [
    {
     "data": {
      "text/plain": [
       "\"SCENE 1: [wind] [clop clop clop] \\nKING ARTHUR: Whoa there!  [clop clop clop] \\nSOLDIER #1: Halt!  Who goes there?\\nARTHUR: It is I, Arthur, son of Uther Pendragon, from the castle of Camelot.  King of the Britons, defeator of the Saxons, sovereign of all England!\\nSOLDIER #1: Pull the other one!\\nARTHUR: I am, ...  and this is my trusty servant Patsy.  We have ridden the length and breadth of the land in search of knights who will join me in my court at Camelot.  I must speak with your lord and master.\\nSOLDIER #1: What?  Ridden on a horse?\\nARTHUR: Yes!\\nSOLDIER #1: You're using coconuts!\\nARTHUR: What?\\nSOLDIER #1: You've got two empty halves of coconut and you're bangin' 'em together.\\nARTHUR: So?  We have ridden since the snows of winter covered this land, through the kingdom of Mercea, through--\\nSOLDIER #1: Where'd you get the coconuts?\\nARTHUR: We found them.\\nSOLDIER #1: Found them?  In Mercea?  The coconut's tropical!\\nARTHUR: What do you mean?\\nSOLDIER #1: Well, this is a temperate zone.\\nARTHUR: The swallow may fly south with the sun or the house martin or the plover may seek warmer climes in winter, yet these are not strangers to our land?\\nSOLDIER #1: Are you suggesting coconuts migrate?\\nARTHUR: Not at all.  They could be carried.\\nSOLDIER #1: What?  A swallow carrying a coconut?\\nARTHUR: It could grip it by the husk!\\nSOLDIER #1: It's not a question of where he grips it!  It's a simple question of weight ratios!  A five ounce bird could not carry a one pound coconut.\\nARTHUR: Well, it doesn't matter.  Will you go and tell your master that Arthur from the Court of Camelot is here.\\nSOLDIER #1: Listen.  In order to maintain air-speed velocity, a swallow needs to beat its wings forty-three times every second, right?\\nARTHUR: Please!\\nSOLDIER #1: Am I right?\\nARTHUR: I'm not interested!\\nSOLDIER #2: It could be carried by an African swallow!\\nSOLDIER #1: Oh, yeah, an African swallow maybe, but not a European swallow.  That's my point.\\nSOLDIER #2: Oh, yeah, I agree with that.\\nARTHUR: Will you ask your master if he wants to join my court at Camelot?!\\nSOLDIER #1: But then of course a-- African swallows are non-migratory.\\nSOLDIER #2: Oh, yeah...\\nSOLDIER #1: So they couldn't bring a coconut back anyway...  [clop clop clop] \\nSOLDIER #2: Wait a minute!  Supposing two swallows carried it together?\\nSOLDIER #1: No, they'd have to have it on a line.\\nSOLDIER #2: Well, simple!  They'd just use a strand of creeper!\\nSOLDIER #1: What, held under the dorsal guiding feathers?\\nSOLDIER #2: Well, why not?\\n\""
      ]
     },
     "execution_count": 15,
     "metadata": {},
     "output_type": "execute_result"
    }
   ],
   "source": [
    "grail1"
   ]
  },
  {
   "cell_type": "markdown",
   "metadata": {},
   "source": [
    "## Word tokenization with `nltk`"
   ]
  },
  {
   "cell_type": "code",
   "execution_count": 16,
   "metadata": {
    "ExecuteTime": {
     "end_time": "2020-09-03T08:34:43.067894Z",
     "start_time": "2020-09-03T08:34:42.827286Z"
    },
    "scrolled": true
   },
   "outputs": [
    {
     "name": "stdout",
     "output_type": "stream",
     "text": [
      "unique tokens:\n",
      "{'two', \"'re\", 'grip', ',', 'coconuts', 'use', 'SCENE', 'It', 'but', 'carry', '--', 'Well', 'strangers', 'velocity', 'are', 'could', 'who', 'where', 'Am', 'Please', 'under', 'Mercea', 'knights', 'Are', 'weight', 'A', 'our', 'and', 'Halt', 'Patsy', 'ratios', 'line', 'may', 'why', 'house', 'simple', \"'d\", 'back', 'horse', 'covered', 'one', 'in', 'suggesting', '.', 'since', 'its', 'on', 'That', 'swallows', 'this', 'all', 'zone', '!', 'Will', 'Who', 'from', 'to', 'Arthur', 'join', 'grips', 'What', 'goes', \"'ve\", 'migrate', 'Not', 'of', 'course', 'snows', 'son', 'Found', 'breadth', 'together', 'creeper', 'tropical', 'You', 'climes', 'defeator', 'right', \"'\", 'court', 'matter', 'there', 'temperate', '1', 'Pendragon', 'forty-three', 'halves', 'lord', 'Uther', 'bangin', 'feathers', 'me', 'Listen', 'do', 'interested', '...', 'search', 'non-migratory', 'tell', 'Whoa', 'servant', 'Camelot', 'here', \"'em\", 'ounce', 'through', 'get', '?', 'will', 'your', 'point', 'times', 'agree', 'dorsal', 'second', 'they', 'sun', '[', 'yet', 'coconut', 'that', 'wants', 'bring', 'Where', 'go', 'African', 'minute', 'empty', 'just', 'held', 'air-speed', 'wind', 'We', 'swallow', 'plover', 'beat', 'if', 'carrying', 'But', 'got', 'pound', 'No', 'at', 'guiding', 'fly', '#', 'these', 'the', 'does', 'Wait', 'yeah', 'SOLDIER', 'Ridden', 'an', 'ridden', 'with', 'kingdom', 'strand', 'a', 'They', 'warmer', 'am', 'land', 'trusty', 'length', 'by', '2', 'using', 'anyway', 'The', \"n't\", 'Court', 'King', 'ARTHUR', 'Saxons', 'European', 'KING', 'ask', 'found', 'Pull', 'husk', 'south', \"'m\", 'master', 'you', 'or', 'five', 'Britons', 'carried', 'be', 'Yes', 'In', 'order', 'winter', 'martin', 'question', 'other', 'he', 'needs', 'maybe', 'mean', ']', 'it', 'maintain', 'So', 'sovereign', 'Supposing', 'must', 'is', 'I', 'have', 'bird', 'them', 'clop', 'every', 'England', 'seek', 'then', 'not', 'wings', 'castle', 'speak', \"'s\", 'Oh', ':', 'my'}\n"
     ]
    }
   ],
   "source": [
    "# split grail1 into sentences\n",
    "sentences = sent_tokenize(grail1)\n",
    "\n",
    "# tokenize the words in the fourth sentence\n",
    "tokenized_sent = word_tokenize(sentences[3])\n",
    "\n",
    "# make a set of unique tokens in the entire scene\n",
    "unique_tokens = set(word_tokenize(grail1))\n",
    "\n",
    "print(f'unique tokens:\\n{unique_tokens}')"
   ]
  },
  {
   "cell_type": "markdown",
   "metadata": {},
   "source": [
    "## More regex with `re.search()`"
   ]
  },
  {
   "cell_type": "code",
   "execution_count": 20,
   "metadata": {
    "ExecuteTime": {
     "end_time": "2020-09-03T08:41:19.982327Z",
     "start_time": "2020-09-03T08:41:19.976314Z"
    }
   },
   "outputs": [
    {
     "name": "stdout",
     "output_type": "stream",
     "text": [
      "start idx: 580 end idx: 588\n"
     ]
    }
   ],
   "source": [
    "# search for the occurences in grail1\n",
    "match = re.search('coconuts', grail1)\n",
    "\n",
    "# print the start and end indices\n",
    "print(f'start idx: {match.start()} end idx: {match.end()}')"
   ]
  },
  {
   "cell_type": "code",
   "execution_count": 26,
   "metadata": {
    "ExecuteTime": {
     "end_time": "2020-09-03T08:47:12.011071Z",
     "start_time": "2020-09-03T08:47:11.995443Z"
    }
   },
   "outputs": [
    {
     "name": "stdout",
     "output_type": "stream",
     "text": [
      "<re.Match object; span=(9, 32), match='[wind] [clop clop clop]'>\n"
     ]
    }
   ],
   "source": [
    "# write a pattern to search for anything in square brackets\n",
    "pattern1 = r'\\[.*]'\n",
    "\n",
    "# find the first text in square brackets\n",
    "print(re.search(pattern1, grail1))"
   ]
  },
  {
   "cell_type": "code",
   "execution_count": 28,
   "metadata": {
    "ExecuteTime": {
     "end_time": "2020-09-03T08:51:56.721590Z",
     "start_time": "2020-09-03T08:51:56.705859Z"
    }
   },
   "outputs": [
    {
     "name": "stdout",
     "output_type": "stream",
     "text": [
      "<re.Match object; span=(0, 7), match='ARTHUR:'>\n"
     ]
    }
   ],
   "source": [
    "# find the script notation at the beginning of the fourth sentence\n",
    "pattern2 = r'[A-Z]+:'\n",
    "print(re.match(pattern2, sentences[3]))"
   ]
  },
  {
   "cell_type": "markdown",
   "metadata": {},
   "source": [
    "# Advanced tokenization with `nltk` and `re`"
   ]
  },
  {
   "cell_type": "markdown",
   "metadata": {},
   "source": [
    "## Regex with `nltk` tokenization"
   ]
  },
  {
   "cell_type": "code",
   "execution_count": 30,
   "metadata": {
    "ExecuteTime": {
     "end_time": "2020-09-03T09:00:01.555099Z",
     "start_time": "2020-09-03T09:00:01.551103Z"
    }
   },
   "outputs": [],
   "source": [
    "tweets = ['This is the best #nlp exercise ive found online! #python',\n",
    "          '#NLP is super fun! <3 #learning',\n",
    "          'Thanks @datacamp :) #nlp #python']"
   ]
  },
  {
   "cell_type": "code",
   "execution_count": 31,
   "metadata": {
    "ExecuteTime": {
     "end_time": "2020-09-03T09:01:43.888156Z",
     "start_time": "2020-09-03T09:01:43.881163Z"
    }
   },
   "outputs": [
    {
     "name": "stdout",
     "output_type": "stream",
     "text": [
      "['#nlp', '#python']\n"
     ]
    }
   ],
   "source": [
    "# define a regex pattern to find hashtags\n",
    "pattern1 = r'#\\w+'\n",
    "# find the hashtags in the first tweet\n",
    "hashtags = regexp_tokenize(tweets[0], pattern1)\n",
    "print(hashtags)"
   ]
  },
  {
   "cell_type": "code",
   "execution_count": 34,
   "metadata": {
    "ExecuteTime": {
     "end_time": "2020-09-03T09:05:19.939495Z",
     "start_time": "2020-09-03T09:05:19.933503Z"
    }
   },
   "outputs": [
    {
     "name": "stdout",
     "output_type": "stream",
     "text": [
      "['@datacamp', '#nlp', '#python']\n"
     ]
    }
   ],
   "source": [
    "# write a pattern that matches both mentions and hashtags\n",
    "pattern2 = r'([#@]\\w+)'\n",
    "mentions_hashtags = regexp_tokenize(tweets[-1], pattern2)\n",
    "print(mentions_hashtags)"
   ]
  },
  {
   "cell_type": "code",
   "execution_count": 35,
   "metadata": {
    "ExecuteTime": {
     "end_time": "2020-09-03T09:07:21.425721Z",
     "start_time": "2020-09-03T09:07:21.417727Z"
    }
   },
   "outputs": [
    {
     "name": "stdout",
     "output_type": "stream",
     "text": [
      "[['This', 'is', 'the', 'best', '#nlp', 'exercise', 'ive', 'found', 'online', '!', '#python'], ['#NLP', 'is', 'super', 'fun', '!', '<3', '#learning'], ['Thanks', '@datacamp', ':)', '#nlp', '#python']]\n"
     ]
    }
   ],
   "source": [
    "# use TweetTokenizer to tokenize all tweets into one list\n",
    "tknzr = TweetTokenizer()\n",
    "all_tokens = [tknzr.tokenize(t) for t in tweets]\n",
    "print(all_tokens)"
   ]
  },
  {
   "cell_type": "markdown",
   "metadata": {},
   "source": [
    "## Non-ascii tokenization"
   ]
  },
  {
   "cell_type": "code",
   "execution_count": 36,
   "metadata": {
    "ExecuteTime": {
     "end_time": "2020-09-03T09:08:20.478161Z",
     "start_time": "2020-09-03T09:08:20.473144Z"
    }
   },
   "outputs": [],
   "source": [
    "german_text = 'Wann gehen wir Pizza essen? 🍕 Und fährst du mit Über? 🚕'"
   ]
  },
  {
   "cell_type": "code",
   "execution_count": 39,
   "metadata": {
    "ExecuteTime": {
     "end_time": "2020-09-03T09:14:12.618268Z",
     "start_time": "2020-09-03T09:14:12.610267Z"
    }
   },
   "outputs": [
    {
     "name": "stdout",
     "output_type": "stream",
     "text": [
      "tokenized words:\n",
      "['Wann', 'gehen', 'wir', 'Pizza', 'essen', '?', '🍕', 'Und', 'fährst', 'du', 'mit', 'Über', '?', '🚕']\n",
      "\n",
      "tokenized capitalized words:\n",
      "['Wann', 'Pizza', 'Und', 'Über']\n",
      "\n",
      "tokenized emoji:\n",
      "['🍕', '🚕']\n"
     ]
    }
   ],
   "source": [
    "# tokenize all words in the german text\n",
    "all_words = word_tokenize(german_text)\n",
    "print(f'tokenized words:\\n{all_words}\\n')\n",
    "\n",
    "# tokenize only capital words\n",
    "capital_words = r'[A-ZÜ]\\w+'\n",
    "print(\n",
    "    f'tokenized capitalized words:\\n{regexp_tokenize(german_text, capital_words)}\\n')\n",
    "\n",
    "# tokenize only emoji\n",
    "emoji = \"['\\U0001F300-\\U0001F5FF'|'\\U0001F600-\\U0001F64F'|'\\U0001F680-\\U0001F6FF'|'\\u2600-\\u26FF\\u2700-\\u27BF']\"\n",
    "print(f'tokenized emoji:\\n{regexp_tokenize(german_text, emoji)}')"
   ]
  },
  {
   "cell_type": "markdown",
   "metadata": {},
   "source": [
    "# Charting word length with `nltk`"
   ]
  },
  {
   "cell_type": "code",
   "execution_count": 49,
   "metadata": {
    "ExecuteTime": {
     "end_time": "2020-09-03T09:31:55.840106Z",
     "start_time": "2020-09-03T09:31:55.305394Z"
    }
   },
   "outputs": [
    {
     "data": {
      "image/png": "[encoded data removed]",
      "text/plain": [
       "<Figure size 432x288 with 1 Axes>"
      ]
     },
     "metadata": {},
     "output_type": "display_data"
    }
   ],
   "source": [
    "# split the script into lines\n",
    "lines = holy_grail.split('\\n')\n",
    "\n",
    "# replace all script lines for speaker\n",
    "pattern = \"[A-Z]{2,}(\\s)?(#\\d)?([A-Z]{2,})?:\"\n",
    "lines = [re.sub(pattern, '', l) for l in lines]\n",
    "\n",
    "# tokenize each line\n",
    "tokenized_lines = [regexp_tokenize(s, r'\\w+') for s in lines]\n",
    "\n",
    "# make a freq list of lengths\n",
    "line_num_words = [len(t_line) for t_line in tokenized_lines]\n",
    "\n",
    "# plot a histogram\n",
    "plt.hist(line_num_words, list(range(80)))\n",
    "\n",
    "# show the plot\n",
    "plt.show()"
   ]
  }
 ],
 "metadata": {
  "kernelspec": {
   "display_name": "tf2-gpu",
   "language": "python",
   "name": "tf2-gpu"
  },
  "language_info": {
   "codemirror_mode": {
    "name": "ipython",
    "version": 3
   },
   "file_extension": ".py",
   "mimetype": "text/x-python",
   "name": "python",
   "nbconvert_exporter": "python",
   "pygments_lexer": "ipython3",
   "version": "3.7.7"
  },
  "toc": {
   "base_numbering": 1,
   "nav_menu": {},
   "number_sections": true,
   "sideBar": true,
   "skip_h1_title": false,
   "title_cell": "Table of Contents",
   "title_sidebar": "Contents",
   "toc_cell": false,
   "toc_position": {},
   "toc_section_display": true,
   "toc_window_display": false
  }
 },
 "nbformat": 4,
 "nbformat_minor": 4
}
