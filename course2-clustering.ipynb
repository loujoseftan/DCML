{
 "cells": [
  {
   "cell_type": "code",
   "execution_count": 36,
   "metadata": {
    "ExecuteTime": {
     "end_time": "2020-08-16T13:37:58.678520Z",
     "start_time": "2020-08-16T13:37:54.280710Z"
    }
   },
   "outputs": [],
   "source": [
    "import numpy as np\n",
    "import pandas as pd\n",
    "import matplotlib.pyplot as plt\n",
    "import seaborn as sns\n",
    "sns.set()\n",
    "\n",
    "from sklearn.cluster import KMeans"
   ]
  },
  {
   "cell_type": "code",
   "execution_count": 69,
   "metadata": {
    "ExecuteTime": {
     "end_time": "2020-08-16T14:18:16.716800Z",
     "start_time": "2020-08-16T14:18:16.711805Z"
    }
   },
   "outputs": [],
   "source": [
    "pd.options.display.max_columns = None\n",
    "pd.options.display.max_rows = None"
   ]
  },
  {
   "cell_type": "markdown",
   "metadata": {},
   "source": [
    "# [seeds](https://archive.ics.uci.edu/ml/datasets/seeds) Dataset: k-Means Clustering"
   ]
  },
  {
   "cell_type": "code",
   "execution_count": 22,
   "metadata": {
    "ExecuteTime": {
     "end_time": "2020-08-16T13:29:42.639569Z",
     "start_time": "2020-08-16T13:29:41.799979Z"
    }
   },
   "outputs": [
    {
     "data": {
      "text/html": [
       "<div>\n",
       "<style scoped>\n",
       "    .dataframe tbody tr th:only-of-type {\n",
       "        vertical-align: middle;\n",
       "    }\n",
       "\n",
       "    .dataframe tbody tr th {\n",
       "        vertical-align: top;\n",
       "    }\n",
       "\n",
       "    .dataframe thead th {\n",
       "        text-align: right;\n",
       "    }\n",
       "</style>\n",
       "<table border=\"1\" class=\"dataframe\">\n",
       "  <thead>\n",
       "    <tr style=\"text-align: right;\">\n",
       "      <th></th>\n",
       "      <th>area</th>\n",
       "      <th>perimeter</th>\n",
       "      <th>compactness</th>\n",
       "      <th>length</th>\n",
       "      <th>width</th>\n",
       "      <th>asymmetry_coef</th>\n",
       "      <th>l_groove</th>\n",
       "      <th>type</th>\n",
       "    </tr>\n",
       "  </thead>\n",
       "  <tbody>\n",
       "    <tr>\n",
       "      <th>0</th>\n",
       "      <td>15.26</td>\n",
       "      <td>14.84</td>\n",
       "      <td>0.8710</td>\n",
       "      <td>5.763</td>\n",
       "      <td>3.312</td>\n",
       "      <td>2.221</td>\n",
       "      <td>5.220</td>\n",
       "      <td>1</td>\n",
       "    </tr>\n",
       "    <tr>\n",
       "      <th>1</th>\n",
       "      <td>14.88</td>\n",
       "      <td>14.57</td>\n",
       "      <td>0.8811</td>\n",
       "      <td>5.554</td>\n",
       "      <td>3.333</td>\n",
       "      <td>1.018</td>\n",
       "      <td>4.956</td>\n",
       "      <td>1</td>\n",
       "    </tr>\n",
       "    <tr>\n",
       "      <th>2</th>\n",
       "      <td>14.29</td>\n",
       "      <td>14.09</td>\n",
       "      <td>0.9050</td>\n",
       "      <td>5.291</td>\n",
       "      <td>3.337</td>\n",
       "      <td>2.699</td>\n",
       "      <td>4.825</td>\n",
       "      <td>1</td>\n",
       "    </tr>\n",
       "    <tr>\n",
       "      <th>3</th>\n",
       "      <td>13.84</td>\n",
       "      <td>13.94</td>\n",
       "      <td>0.8955</td>\n",
       "      <td>5.324</td>\n",
       "      <td>3.379</td>\n",
       "      <td>2.259</td>\n",
       "      <td>4.805</td>\n",
       "      <td>1</td>\n",
       "    </tr>\n",
       "    <tr>\n",
       "      <th>4</th>\n",
       "      <td>16.14</td>\n",
       "      <td>14.99</td>\n",
       "      <td>0.9034</td>\n",
       "      <td>5.658</td>\n",
       "      <td>3.562</td>\n",
       "      <td>1.355</td>\n",
       "      <td>5.175</td>\n",
       "      <td>1</td>\n",
       "    </tr>\n",
       "  </tbody>\n",
       "</table>\n",
       "</div>"
      ],
      "text/plain": [
       "    area  perimeter  compactness  length  width  asymmetry_coef  l_groove  \\\n",
       "0  15.26      14.84       0.8710   5.763  3.312           2.221     5.220   \n",
       "1  14.88      14.57       0.8811   5.554  3.333           1.018     4.956   \n",
       "2  14.29      14.09       0.9050   5.291  3.337           2.699     4.825   \n",
       "3  13.84      13.94       0.8955   5.324  3.379           2.259     4.805   \n",
       "4  16.14      14.99       0.9034   5.658  3.562           1.355     5.175   \n",
       "\n",
       "   type  \n",
       "0     1  \n",
       "1     1  \n",
       "2     1  \n",
       "3     1  \n",
       "4     1  "
      ]
     },
     "execution_count": 22,
     "metadata": {},
     "output_type": "execute_result"
    }
   ],
   "source": [
    "cols = ['area', 'perimeter', 'compactness', 'length', 'width', 'asymmetry_coef', 'l_groove', 'type']\n",
    "seeds = pd.read_csv('https://archive.ics.uci.edu/ml/machine-learning-databases/00236/seeds_dataset.txt',\n",
    "                    delim_whitespace=True, names=cols)\n",
    "seeds.head()"
   ]
  },
  {
   "cell_type": "code",
   "execution_count": 25,
   "metadata": {
    "ExecuteTime": {
     "end_time": "2020-08-16T13:30:23.414819Z",
     "start_time": "2020-08-16T13:30:23.225281Z"
    },
    "cell_style": "split"
   },
   "outputs": [
    {
     "data": {
      "text/html": [
       "<div>\n",
       "<style scoped>\n",
       "    .dataframe tbody tr th:only-of-type {\n",
       "        vertical-align: middle;\n",
       "    }\n",
       "\n",
       "    .dataframe tbody tr th {\n",
       "        vertical-align: top;\n",
       "    }\n",
       "\n",
       "    .dataframe thead th {\n",
       "        text-align: right;\n",
       "    }\n",
       "</style>\n",
       "<table border=\"1\" class=\"dataframe\">\n",
       "  <thead>\n",
       "    <tr style=\"text-align: right;\">\n",
       "      <th></th>\n",
       "      <th>area</th>\n",
       "      <th>perimeter</th>\n",
       "      <th>compactness</th>\n",
       "      <th>length</th>\n",
       "      <th>width</th>\n",
       "      <th>asymmetry_coef</th>\n",
       "      <th>l_groove</th>\n",
       "      <th>type</th>\n",
       "    </tr>\n",
       "  </thead>\n",
       "  <tbody>\n",
       "    <tr>\n",
       "      <th>count</th>\n",
       "      <td>210.000000</td>\n",
       "      <td>210.000000</td>\n",
       "      <td>210.000000</td>\n",
       "      <td>210.000000</td>\n",
       "      <td>210.000000</td>\n",
       "      <td>210.000000</td>\n",
       "      <td>210.000000</td>\n",
       "      <td>210.000000</td>\n",
       "    </tr>\n",
       "    <tr>\n",
       "      <th>mean</th>\n",
       "      <td>14.847524</td>\n",
       "      <td>14.559286</td>\n",
       "      <td>0.870999</td>\n",
       "      <td>5.628533</td>\n",
       "      <td>3.258605</td>\n",
       "      <td>3.700201</td>\n",
       "      <td>5.408071</td>\n",
       "      <td>2.000000</td>\n",
       "    </tr>\n",
       "    <tr>\n",
       "      <th>std</th>\n",
       "      <td>2.909699</td>\n",
       "      <td>1.305959</td>\n",
       "      <td>0.023629</td>\n",
       "      <td>0.443063</td>\n",
       "      <td>0.377714</td>\n",
       "      <td>1.503557</td>\n",
       "      <td>0.491480</td>\n",
       "      <td>0.818448</td>\n",
       "    </tr>\n",
       "    <tr>\n",
       "      <th>min</th>\n",
       "      <td>10.590000</td>\n",
       "      <td>12.410000</td>\n",
       "      <td>0.808100</td>\n",
       "      <td>4.899000</td>\n",
       "      <td>2.630000</td>\n",
       "      <td>0.765100</td>\n",
       "      <td>4.519000</td>\n",
       "      <td>1.000000</td>\n",
       "    </tr>\n",
       "    <tr>\n",
       "      <th>25%</th>\n",
       "      <td>12.270000</td>\n",
       "      <td>13.450000</td>\n",
       "      <td>0.856900</td>\n",
       "      <td>5.262250</td>\n",
       "      <td>2.944000</td>\n",
       "      <td>2.561500</td>\n",
       "      <td>5.045000</td>\n",
       "      <td>1.000000</td>\n",
       "    </tr>\n",
       "    <tr>\n",
       "      <th>50%</th>\n",
       "      <td>14.355000</td>\n",
       "      <td>14.320000</td>\n",
       "      <td>0.873450</td>\n",
       "      <td>5.523500</td>\n",
       "      <td>3.237000</td>\n",
       "      <td>3.599000</td>\n",
       "      <td>5.223000</td>\n",
       "      <td>2.000000</td>\n",
       "    </tr>\n",
       "    <tr>\n",
       "      <th>75%</th>\n",
       "      <td>17.305000</td>\n",
       "      <td>15.715000</td>\n",
       "      <td>0.887775</td>\n",
       "      <td>5.979750</td>\n",
       "      <td>3.561750</td>\n",
       "      <td>4.768750</td>\n",
       "      <td>5.877000</td>\n",
       "      <td>3.000000</td>\n",
       "    </tr>\n",
       "    <tr>\n",
       "      <th>max</th>\n",
       "      <td>21.180000</td>\n",
       "      <td>17.250000</td>\n",
       "      <td>0.918300</td>\n",
       "      <td>6.675000</td>\n",
       "      <td>4.033000</td>\n",
       "      <td>8.456000</td>\n",
       "      <td>6.550000</td>\n",
       "      <td>3.000000</td>\n",
       "    </tr>\n",
       "  </tbody>\n",
       "</table>\n",
       "</div>"
      ],
      "text/plain": [
       "             area   perimeter  compactness      length       width  \\\n",
       "count  210.000000  210.000000   210.000000  210.000000  210.000000   \n",
       "mean    14.847524   14.559286     0.870999    5.628533    3.258605   \n",
       "std      2.909699    1.305959     0.023629    0.443063    0.377714   \n",
       "min     10.590000   12.410000     0.808100    4.899000    2.630000   \n",
       "25%     12.270000   13.450000     0.856900    5.262250    2.944000   \n",
       "50%     14.355000   14.320000     0.873450    5.523500    3.237000   \n",
       "75%     17.305000   15.715000     0.887775    5.979750    3.561750   \n",
       "max     21.180000   17.250000     0.918300    6.675000    4.033000   \n",
       "\n",
       "       asymmetry_coef    l_groove        type  \n",
       "count      210.000000  210.000000  210.000000  \n",
       "mean         3.700201    5.408071    2.000000  \n",
       "std          1.503557    0.491480    0.818448  \n",
       "min          0.765100    4.519000    1.000000  \n",
       "25%          2.561500    5.045000    1.000000  \n",
       "50%          3.599000    5.223000    2.000000  \n",
       "75%          4.768750    5.877000    3.000000  \n",
       "max          8.456000    6.550000    3.000000  "
      ]
     },
     "execution_count": 25,
     "metadata": {},
     "output_type": "execute_result"
    }
   ],
   "source": [
    "seeds.describe(include='all')"
   ]
  },
  {
   "cell_type": "code",
   "execution_count": 26,
   "metadata": {
    "ExecuteTime": {
     "end_time": "2020-08-16T13:30:34.038557Z",
     "start_time": "2020-08-16T13:30:34.026627Z"
    },
    "cell_style": "split"
   },
   "outputs": [
    {
     "name": "stdout",
     "output_type": "stream",
     "text": [
      "<class 'pandas.core.frame.DataFrame'>\n",
      "RangeIndex: 210 entries, 0 to 209\n",
      "Data columns (total 8 columns):\n",
      " #   Column          Non-Null Count  Dtype  \n",
      "---  ------          --------------  -----  \n",
      " 0   area            210 non-null    float64\n",
      " 1   perimeter       210 non-null    float64\n",
      " 2   compactness     210 non-null    float64\n",
      " 3   length          210 non-null    float64\n",
      " 4   width           210 non-null    float64\n",
      " 5   asymmetry_coef  210 non-null    float64\n",
      " 6   l_groove        210 non-null    float64\n",
      " 7   type            210 non-null    int64  \n",
      "dtypes: float64(7), int64(1)\n",
      "memory usage: 13.2 KB\n"
     ]
    }
   ],
   "source": [
    "seeds.info()"
   ]
  },
  {
   "cell_type": "markdown",
   "metadata": {
    "ExecuteTime": {
     "end_time": "2020-08-16T13:32:49.075587Z",
     "start_time": "2020-08-16T13:32:49.055601Z"
    }
   },
   "source": [
    "## Elbow Method: Measuring Inertia"
   ]
  },
  {
   "cell_type": "code",
   "execution_count": 31,
   "metadata": {
    "ExecuteTime": {
     "end_time": "2020-08-16T13:36:02.175392Z",
     "start_time": "2020-08-16T13:36:02.171394Z"
    }
   },
   "outputs": [],
   "source": [
    "seeds_ = seeds.copy()"
   ]
  },
  {
   "cell_type": "code",
   "execution_count": 32,
   "metadata": {
    "ExecuteTime": {
     "end_time": "2020-08-16T13:36:40.204025Z",
     "start_time": "2020-08-16T13:36:40.148670Z"
    }
   },
   "outputs": [],
   "source": [
    "seeds_.drop('type', axis=1, inplace=True)\n",
    "seeds_ = seeds_.to_numpy()"
   ]
  },
  {
   "cell_type": "code",
   "execution_count": 34,
   "metadata": {
    "ExecuteTime": {
     "end_time": "2020-08-16T13:36:53.130951Z",
     "start_time": "2020-08-16T13:36:53.115143Z"
    }
   },
   "outputs": [
    {
     "data": {
      "text/plain": [
       "(210, 7)"
      ]
     },
     "execution_count": 34,
     "metadata": {},
     "output_type": "execute_result"
    }
   ],
   "source": [
    "seeds_.shape"
   ]
  },
  {
   "cell_type": "code",
   "execution_count": 37,
   "metadata": {
    "ExecuteTime": {
     "end_time": "2020-08-16T13:38:04.724443Z",
     "start_time": "2020-08-16T13:38:03.340676Z"
    }
   },
   "outputs": [],
   "source": [
    "ks = range(1,12)\n",
    "inertias = []\n",
    "\n",
    "for k in ks:\n",
    "    # Initiate KMeans with k clusters\n",
    "    model1 = KMeans(k)\n",
    "    # Fit to data\n",
    "    model1.fit(seeds_)\n",
    "    # Append inertia to list\n",
    "    inertias.append(model1.inertia_)"
   ]
  },
  {
   "cell_type": "code",
   "execution_count": 52,
   "metadata": {
    "ExecuteTime": {
     "end_time": "2020-08-16T13:48:18.075988Z",
     "start_time": "2020-08-16T13:48:17.803934Z"
    }
   },
   "outputs": [
    {
     "data": {
      "image/png": "[encoded data removed]",
      "text/plain": [
       "<Figure size 576x432 with 1 Axes>"
      ]
     },
     "metadata": {},
     "output_type": "display_data"
    }
   ],
   "source": [
    "# Plot inertias vs ks\n",
    "fig, ax = plt.subplots(figsize=(8, 6))\n",
    "\n",
    "ax.plot(ks, inertias, '-o')\n",
    "ax.plot(ks[2], inertias[2], 'ro', markersize=10)\n",
    "ax.set_xlabel('no. of cluster, k')\n",
    "ax.set_ylabel('inertia')\n",
    "ax.set_xticks(ks)\n",
    "\n",
    "plt.show()"
   ]
  },
  {
   "cell_type": "markdown",
   "metadata": {},
   "source": [
    "## Compare using cross-tabulation"
   ]
  },
  {
   "cell_type": "code",
   "execution_count": 53,
   "metadata": {
    "ExecuteTime": {
     "end_time": "2020-08-16T13:49:43.741706Z",
     "start_time": "2020-08-16T13:49:43.735706Z"
    }
   },
   "outputs": [],
   "source": [
    "model1 = KMeans(3)"
   ]
  },
  {
   "cell_type": "code",
   "execution_count": 55,
   "metadata": {
    "ExecuteTime": {
     "end_time": "2020-08-16T13:50:19.652371Z",
     "start_time": "2020-08-16T13:50:19.580412Z"
    }
   },
   "outputs": [],
   "source": [
    "labels = model1.fit_predict(seeds_)"
   ]
  },
  {
   "cell_type": "code",
   "execution_count": 59,
   "metadata": {
    "ExecuteTime": {
     "end_time": "2020-08-16T13:54:50.567293Z",
     "start_time": "2020-08-16T13:54:50.559299Z"
    },
    "scrolled": false
   },
   "outputs": [],
   "source": [
    "# Create dataframe with labels and varieties (grains) as columns\n",
    "df = pd.DataFrame({'labels': labels,\n",
    "                   'varieties': seeds.iloc[:, -1].map({1: 'Kama',\n",
    "                                                       2: 'Rosa',\n",
    "                                                       3: 'Canadian'})})"
   ]
  },
  {
   "cell_type": "code",
   "execution_count": 61,
   "metadata": {
    "ExecuteTime": {
     "end_time": "2020-08-16T13:55:24.236853Z",
     "start_time": "2020-08-16T13:55:24.200874Z"
    },
    "scrolled": true
   },
   "outputs": [
    {
     "data": {
      "text/html": [
       "<div>\n",
       "<style scoped>\n",
       "    .dataframe tbody tr th:only-of-type {\n",
       "        vertical-align: middle;\n",
       "    }\n",
       "\n",
       "    .dataframe tbody tr th {\n",
       "        vertical-align: top;\n",
       "    }\n",
       "\n",
       "    .dataframe thead th {\n",
       "        text-align: right;\n",
       "    }\n",
       "</style>\n",
       "<table border=\"1\" class=\"dataframe\">\n",
       "  <thead>\n",
       "    <tr style=\"text-align: right;\">\n",
       "      <th>varieties</th>\n",
       "      <th>Canadian</th>\n",
       "      <th>Kama</th>\n",
       "      <th>Rosa</th>\n",
       "    </tr>\n",
       "    <tr>\n",
       "      <th>labels</th>\n",
       "      <th></th>\n",
       "      <th></th>\n",
       "      <th></th>\n",
       "    </tr>\n",
       "  </thead>\n",
       "  <tbody>\n",
       "    <tr>\n",
       "      <th>0</th>\n",
       "      <td>68</td>\n",
       "      <td>9</td>\n",
       "      <td>0</td>\n",
       "    </tr>\n",
       "    <tr>\n",
       "      <th>1</th>\n",
       "      <td>0</td>\n",
       "      <td>1</td>\n",
       "      <td>60</td>\n",
       "    </tr>\n",
       "    <tr>\n",
       "      <th>2</th>\n",
       "      <td>2</td>\n",
       "      <td>60</td>\n",
       "      <td>10</td>\n",
       "    </tr>\n",
       "  </tbody>\n",
       "</table>\n",
       "</div>"
      ],
      "text/plain": [
       "varieties  Canadian  Kama  Rosa\n",
       "labels                         \n",
       "0                68     9     0\n",
       "1                 0     1    60\n",
       "2                 2    60    10"
      ]
     },
     "execution_count": 61,
     "metadata": {},
     "output_type": "execute_result"
    }
   ],
   "source": [
    "# Create crosstab\n",
    "ct = pd.crosstab(df['labels'], df['varieties'])\n",
    "ct"
   ]
  },
  {
   "cell_type": "markdown",
   "metadata": {},
   "source": [
    "# [Fishcatch](http://jse.amstat.org/jse_data_archive.htm) Dataset"
   ]
  },
  {
   "cell_type": "code",
   "execution_count": 160,
   "metadata": {
    "ExecuteTime": {
     "end_time": "2020-08-16T14:59:46.039948Z",
     "start_time": "2020-08-16T14:59:45.255211Z"
    }
   },
   "outputs": [
    {
     "data": {
      "text/html": [
       "<div>\n",
       "<style scoped>\n",
       "    .dataframe tbody tr th:only-of-type {\n",
       "        vertical-align: middle;\n",
       "    }\n",
       "\n",
       "    .dataframe tbody tr th {\n",
       "        vertical-align: top;\n",
       "    }\n",
       "\n",
       "    .dataframe thead th {\n",
       "        text-align: right;\n",
       "    }\n",
       "</style>\n",
       "<table border=\"1\" class=\"dataframe\">\n",
       "  <thead>\n",
       "    <tr style=\"text-align: right;\">\n",
       "      <th></th>\n",
       "      <th>obs</th>\n",
       "      <th>species</th>\n",
       "      <th>weight</th>\n",
       "      <th>length1</th>\n",
       "      <th>length2</th>\n",
       "      <th>length3</th>\n",
       "      <th>height%</th>\n",
       "      <th>width%</th>\n",
       "      <th>sex</th>\n",
       "    </tr>\n",
       "  </thead>\n",
       "  <tbody>\n",
       "    <tr>\n",
       "      <th>0</th>\n",
       "      <td>1</td>\n",
       "      <td>1</td>\n",
       "      <td>242.0</td>\n",
       "      <td>23.2</td>\n",
       "      <td>25.4</td>\n",
       "      <td>30.0</td>\n",
       "      <td>38.4</td>\n",
       "      <td>13.4</td>\n",
       "      <td>NaN</td>\n",
       "    </tr>\n",
       "    <tr>\n",
       "      <th>1</th>\n",
       "      <td>2</td>\n",
       "      <td>1</td>\n",
       "      <td>290.0</td>\n",
       "      <td>24.0</td>\n",
       "      <td>26.3</td>\n",
       "      <td>31.2</td>\n",
       "      <td>40.0</td>\n",
       "      <td>13.8</td>\n",
       "      <td>NaN</td>\n",
       "    </tr>\n",
       "    <tr>\n",
       "      <th>2</th>\n",
       "      <td>3</td>\n",
       "      <td>1</td>\n",
       "      <td>340.0</td>\n",
       "      <td>23.9</td>\n",
       "      <td>26.5</td>\n",
       "      <td>31.1</td>\n",
       "      <td>39.8</td>\n",
       "      <td>15.1</td>\n",
       "      <td>NaN</td>\n",
       "    </tr>\n",
       "    <tr>\n",
       "      <th>3</th>\n",
       "      <td>4</td>\n",
       "      <td>1</td>\n",
       "      <td>363.0</td>\n",
       "      <td>26.3</td>\n",
       "      <td>29.0</td>\n",
       "      <td>33.5</td>\n",
       "      <td>38.0</td>\n",
       "      <td>13.3</td>\n",
       "      <td>NaN</td>\n",
       "    </tr>\n",
       "    <tr>\n",
       "      <th>4</th>\n",
       "      <td>5</td>\n",
       "      <td>1</td>\n",
       "      <td>430.0</td>\n",
       "      <td>26.5</td>\n",
       "      <td>29.0</td>\n",
       "      <td>34.0</td>\n",
       "      <td>36.6</td>\n",
       "      <td>15.1</td>\n",
       "      <td>NaN</td>\n",
       "    </tr>\n",
       "  </tbody>\n",
       "</table>\n",
       "</div>"
      ],
      "text/plain": [
       "   obs  species  weight  length1  length2  length3  height%  width%  sex\n",
       "0    1        1   242.0     23.2     25.4     30.0     38.4    13.4  NaN\n",
       "1    2        1   290.0     24.0     26.3     31.2     40.0    13.8  NaN\n",
       "2    3        1   340.0     23.9     26.5     31.1     39.8    15.1  NaN\n",
       "3    4        1   363.0     26.3     29.0     33.5     38.0    13.3  NaN\n",
       "4    5        1   430.0     26.5     29.0     34.0     36.6    15.1  NaN"
      ]
     },
     "execution_count": 160,
     "metadata": {},
     "output_type": "execute_result"
    }
   ],
   "source": [
    "cols = ['obs', 'species', 'weight', 'length1', 'length2', 'length3', 'height%', 'width%', 'sex']\n",
    "fish = pd.read_csv('http://jse.amstat.org/datasets/fishcatch.dat.txt',\n",
    "                   delim_whitespace=True, names=cols)\n",
    "fish.head()"
   ]
  },
  {
   "cell_type": "code",
   "execution_count": 85,
   "metadata": {
    "ExecuteTime": {
     "end_time": "2020-08-16T14:26:34.772863Z",
     "start_time": "2020-08-16T14:26:34.765868Z"
    }
   },
   "outputs": [],
   "source": [
    "# To match it with DataCamp dataset\n",
    "fish_ = fish.copy()\n",
    "fish_.drop(columns=['obs', 'species', 'sex'], inplace=True)"
   ]
  },
  {
   "cell_type": "code",
   "execution_count": 86,
   "metadata": {
    "ExecuteTime": {
     "end_time": "2020-08-16T14:29:14.019788Z",
     "start_time": "2020-08-16T14:29:14.011811Z"
    }
   },
   "outputs": [],
   "source": [
    "fish_.drop(index=range(103,159), inplace=True)\n",
    "fish_.drop(index=range(61, 72), inplace=True)\n",
    "fish_.drop(index=range(35, 41), inplace=True)"
   ]
  },
  {
   "cell_type": "code",
   "execution_count": 88,
   "metadata": {
    "ExecuteTime": {
     "end_time": "2020-08-16T14:30:34.158912Z",
     "start_time": "2020-08-16T14:30:34.143265Z"
    }
   },
   "outputs": [],
   "source": [
    "fish_.reset_index(inplace=True)"
   ]
  },
  {
   "cell_type": "code",
   "execution_count": 91,
   "metadata": {
    "ExecuteTime": {
     "end_time": "2020-08-16T14:31:25.821081Z",
     "start_time": "2020-08-16T14:31:25.815087Z"
    }
   },
   "outputs": [],
   "source": [
    "fish_.drop('index', axis=1, inplace=True)"
   ]
  },
  {
   "cell_type": "code",
   "execution_count": 102,
   "metadata": {
    "ExecuteTime": {
     "end_time": "2020-08-16T14:34:26.826702Z",
     "start_time": "2020-08-16T14:34:26.807733Z"
    }
   },
   "outputs": [
    {
     "data": {
      "text/html": [
       "<div>\n",
       "<style scoped>\n",
       "    .dataframe tbody tr th:only-of-type {\n",
       "        vertical-align: middle;\n",
       "    }\n",
       "\n",
       "    .dataframe tbody tr th {\n",
       "        vertical-align: top;\n",
       "    }\n",
       "\n",
       "    .dataframe thead th {\n",
       "        text-align: right;\n",
       "    }\n",
       "</style>\n",
       "<table border=\"1\" class=\"dataframe\">\n",
       "  <thead>\n",
       "    <tr style=\"text-align: right;\">\n",
       "      <th></th>\n",
       "      <th>weight</th>\n",
       "      <th>length1</th>\n",
       "      <th>length2</th>\n",
       "      <th>length3</th>\n",
       "      <th>height%</th>\n",
       "      <th>width%</th>\n",
       "    </tr>\n",
       "  </thead>\n",
       "  <tbody>\n",
       "    <tr>\n",
       "      <th>0</th>\n",
       "      <td>242.0</td>\n",
       "      <td>23.2</td>\n",
       "      <td>25.4</td>\n",
       "      <td>30.0</td>\n",
       "      <td>38.4</td>\n",
       "      <td>13.4</td>\n",
       "    </tr>\n",
       "    <tr>\n",
       "      <th>1</th>\n",
       "      <td>290.0</td>\n",
       "      <td>24.0</td>\n",
       "      <td>26.3</td>\n",
       "      <td>31.2</td>\n",
       "      <td>40.0</td>\n",
       "      <td>13.8</td>\n",
       "    </tr>\n",
       "    <tr>\n",
       "      <th>2</th>\n",
       "      <td>340.0</td>\n",
       "      <td>23.9</td>\n",
       "      <td>26.5</td>\n",
       "      <td>31.1</td>\n",
       "      <td>39.8</td>\n",
       "      <td>15.1</td>\n",
       "    </tr>\n",
       "    <tr>\n",
       "      <th>3</th>\n",
       "      <td>363.0</td>\n",
       "      <td>26.3</td>\n",
       "      <td>29.0</td>\n",
       "      <td>33.5</td>\n",
       "      <td>38.0</td>\n",
       "      <td>13.3</td>\n",
       "    </tr>\n",
       "    <tr>\n",
       "      <th>4</th>\n",
       "      <td>430.0</td>\n",
       "      <td>26.5</td>\n",
       "      <td>29.0</td>\n",
       "      <td>34.0</td>\n",
       "      <td>36.6</td>\n",
       "      <td>15.1</td>\n",
       "    </tr>\n",
       "  </tbody>\n",
       "</table>\n",
       "</div>"
      ],
      "text/plain": [
       "   weight  length1  length2  length3  height%  width%\n",
       "0   242.0     23.2     25.4     30.0     38.4    13.4\n",
       "1   290.0     24.0     26.3     31.2     40.0    13.8\n",
       "2   340.0     23.9     26.5     31.1     39.8    15.1\n",
       "3   363.0     26.3     29.0     33.5     38.0    13.3\n",
       "4   430.0     26.5     29.0     34.0     36.6    15.1"
      ]
     },
     "execution_count": 102,
     "metadata": {},
     "output_type": "execute_result"
    }
   ],
   "source": [
    "fish_.dropna(inplace=True)\n",
    "fish_.head()"
   ]
  },
  {
   "cell_type": "code",
   "execution_count": 103,
   "metadata": {
    "ExecuteTime": {
     "end_time": "2020-08-16T14:34:27.478194Z",
     "start_time": "2020-08-16T14:34:27.435219Z"
    },
    "cell_style": "split"
   },
   "outputs": [
    {
     "data": {
      "text/html": [
       "<div>\n",
       "<style scoped>\n",
       "    .dataframe tbody tr th:only-of-type {\n",
       "        vertical-align: middle;\n",
       "    }\n",
       "\n",
       "    .dataframe tbody tr th {\n",
       "        vertical-align: top;\n",
       "    }\n",
       "\n",
       "    .dataframe thead th {\n",
       "        text-align: right;\n",
       "    }\n",
       "</style>\n",
       "<table border=\"1\" class=\"dataframe\">\n",
       "  <thead>\n",
       "    <tr style=\"text-align: right;\">\n",
       "      <th></th>\n",
       "      <th>weight</th>\n",
       "      <th>length1</th>\n",
       "      <th>length2</th>\n",
       "      <th>length3</th>\n",
       "      <th>height%</th>\n",
       "      <th>width%</th>\n",
       "    </tr>\n",
       "  </thead>\n",
       "  <tbody>\n",
       "    <tr>\n",
       "      <th>count</th>\n",
       "      <td>85.000000</td>\n",
       "      <td>85.000000</td>\n",
       "      <td>85.000000</td>\n",
       "      <td>85.000000</td>\n",
       "      <td>85.000000</td>\n",
       "      <td>85.000000</td>\n",
       "    </tr>\n",
       "    <tr>\n",
       "      <th>mean</th>\n",
       "      <td>431.758824</td>\n",
       "      <td>27.338824</td>\n",
       "      <td>29.557647</td>\n",
       "      <td>33.120000</td>\n",
       "      <td>28.076471</td>\n",
       "      <td>12.865882</td>\n",
       "    </tr>\n",
       "    <tr>\n",
       "      <th>std</th>\n",
       "      <td>380.933962</td>\n",
       "      <td>11.289450</td>\n",
       "      <td>12.185045</td>\n",
       "      <td>13.197292</td>\n",
       "      <td>10.351543</td>\n",
       "      <td>2.117476</td>\n",
       "    </tr>\n",
       "    <tr>\n",
       "      <th>min</th>\n",
       "      <td>0.000000</td>\n",
       "      <td>9.300000</td>\n",
       "      <td>9.800000</td>\n",
       "      <td>10.800000</td>\n",
       "      <td>14.500000</td>\n",
       "      <td>8.700000</td>\n",
       "    </tr>\n",
       "    <tr>\n",
       "      <th>25%</th>\n",
       "      <td>120.000000</td>\n",
       "      <td>19.400000</td>\n",
       "      <td>21.000000</td>\n",
       "      <td>23.700000</td>\n",
       "      <td>16.900000</td>\n",
       "      <td>11.000000</td>\n",
       "    </tr>\n",
       "    <tr>\n",
       "      <th>50%</th>\n",
       "      <td>390.000000</td>\n",
       "      <td>28.400000</td>\n",
       "      <td>30.700000</td>\n",
       "      <td>35.000000</td>\n",
       "      <td>27.100000</td>\n",
       "      <td>13.700000</td>\n",
       "    </tr>\n",
       "    <tr>\n",
       "      <th>75%</th>\n",
       "      <td>650.000000</td>\n",
       "      <td>32.700000</td>\n",
       "      <td>36.000000</td>\n",
       "      <td>40.600000</td>\n",
       "      <td>39.200000</td>\n",
       "      <td>14.700000</td>\n",
       "    </tr>\n",
       "    <tr>\n",
       "      <th>max</th>\n",
       "      <td>1650.000000</td>\n",
       "      <td>59.000000</td>\n",
       "      <td>63.400000</td>\n",
       "      <td>68.000000</td>\n",
       "      <td>44.500000</td>\n",
       "      <td>16.100000</td>\n",
       "    </tr>\n",
       "  </tbody>\n",
       "</table>\n",
       "</div>"
      ],
      "text/plain": [
       "            weight    length1    length2    length3    height%     width%\n",
       "count    85.000000  85.000000  85.000000  85.000000  85.000000  85.000000\n",
       "mean    431.758824  27.338824  29.557647  33.120000  28.076471  12.865882\n",
       "std     380.933962  11.289450  12.185045  13.197292  10.351543   2.117476\n",
       "min       0.000000   9.300000   9.800000  10.800000  14.500000   8.700000\n",
       "25%     120.000000  19.400000  21.000000  23.700000  16.900000  11.000000\n",
       "50%     390.000000  28.400000  30.700000  35.000000  27.100000  13.700000\n",
       "75%     650.000000  32.700000  36.000000  40.600000  39.200000  14.700000\n",
       "max    1650.000000  59.000000  63.400000  68.000000  44.500000  16.100000"
      ]
     },
     "execution_count": 103,
     "metadata": {},
     "output_type": "execute_result"
    }
   ],
   "source": [
    "fish_.describe(include='all')"
   ]
  },
  {
   "cell_type": "code",
   "execution_count": 104,
   "metadata": {
    "ExecuteTime": {
     "end_time": "2020-08-16T14:34:28.029911Z",
     "start_time": "2020-08-16T14:34:28.016918Z"
    },
    "cell_style": "split"
   },
   "outputs": [
    {
     "name": "stdout",
     "output_type": "stream",
     "text": [
      "<class 'pandas.core.frame.DataFrame'>\n",
      "Int64Index: 85 entries, 0 to 85\n",
      "Data columns (total 6 columns):\n",
      " #   Column   Non-Null Count  Dtype  \n",
      "---  ------   --------------  -----  \n",
      " 0   weight   85 non-null     float64\n",
      " 1   length1  85 non-null     float64\n",
      " 2   length2  85 non-null     float64\n",
      " 3   length3  85 non-null     float64\n",
      " 4   height%  85 non-null     float64\n",
      " 5   width%   85 non-null     float64\n",
      "dtypes: float64(6)\n",
      "memory usage: 4.6 KB\n"
     ]
    }
   ],
   "source": [
    "fish_.info()"
   ]
  },
  {
   "cell_type": "code",
   "execution_count": 105,
   "metadata": {
    "ExecuteTime": {
     "end_time": "2020-08-16T14:34:33.888461Z",
     "start_time": "2020-08-16T14:34:33.883466Z"
    }
   },
   "outputs": [
    {
     "data": {
      "text/plain": [
       "(85, 6)"
      ]
     },
     "execution_count": 105,
     "metadata": {},
     "output_type": "execute_result"
    }
   ],
   "source": [
    "fish_.shape"
   ]
  },
  {
   "cell_type": "code",
   "execution_count": 161,
   "metadata": {
    "ExecuteTime": {
     "end_time": "2020-08-16T14:59:51.995821Z",
     "start_time": "2020-08-16T14:59:51.984805Z"
    }
   },
   "outputs": [],
   "source": [
    "# Cluster labels\n",
    "species = fish['species']\n",
    "species.drop(index=range(103,159), inplace=True)\n",
    "species.drop(index=range(61, 72), inplace=True)\n",
    "species.drop(index=range(35, 41), inplace=True)\n",
    "species.drop(index=[13], inplace=True)"
   ]
  },
  {
   "cell_type": "code",
   "execution_count": 162,
   "metadata": {
    "ExecuteTime": {
     "end_time": "2020-08-16T14:59:54.127480Z",
     "start_time": "2020-08-16T14:59:54.122464Z"
    }
   },
   "outputs": [],
   "source": [
    "species.reset_index(drop=True, inplace=True)"
   ]
  },
  {
   "cell_type": "code",
   "execution_count": 163,
   "metadata": {
    "ExecuteTime": {
     "end_time": "2020-08-16T14:59:59.736329Z",
     "start_time": "2020-08-16T14:59:59.730336Z"
    }
   },
   "outputs": [],
   "source": [
    "species = species.map({1: 'Bream',\n",
    "                       3: 'Roach',\n",
    "                       5: 'Smelt',\n",
    "                       6: 'Pike'})"
   ]
  },
  {
   "cell_type": "code",
   "execution_count": 164,
   "metadata": {
    "ExecuteTime": {
     "end_time": "2020-08-16T15:00:01.840301Z",
     "start_time": "2020-08-16T15:00:01.832306Z"
    }
   },
   "outputs": [
    {
     "data": {
      "text/plain": [
       "0     Bream\n",
       "1     Bream\n",
       "2     Bream\n",
       "3     Bream\n",
       "4     Bream\n",
       "5     Bream\n",
       "6     Bream\n",
       "7     Bream\n",
       "8     Bream\n",
       "9     Bream\n",
       "10    Bream\n",
       "11    Bream\n",
       "12    Bream\n",
       "13    Bream\n",
       "14    Bream\n",
       "15    Bream\n",
       "16    Bream\n",
       "17    Bream\n",
       "18    Bream\n",
       "19    Bream\n",
       "20    Bream\n",
       "21    Bream\n",
       "22    Bream\n",
       "23    Bream\n",
       "24    Bream\n",
       "25    Bream\n",
       "26    Bream\n",
       "27    Bream\n",
       "28    Bream\n",
       "29    Bream\n",
       "30    Bream\n",
       "31    Bream\n",
       "32    Bream\n",
       "33    Bream\n",
       "34    Roach\n",
       "35    Roach\n",
       "36    Roach\n",
       "37    Roach\n",
       "38    Roach\n",
       "39    Roach\n",
       "40    Roach\n",
       "41    Roach\n",
       "42    Roach\n",
       "43    Roach\n",
       "44    Roach\n",
       "45    Roach\n",
       "46    Roach\n",
       "47    Roach\n",
       "48    Roach\n",
       "49    Roach\n",
       "50    Roach\n",
       "51    Roach\n",
       "52    Roach\n",
       "53    Roach\n",
       "54    Smelt\n",
       "55    Smelt\n",
       "56    Smelt\n",
       "57    Smelt\n",
       "58    Smelt\n",
       "59    Smelt\n",
       "60    Smelt\n",
       "61    Smelt\n",
       "62    Smelt\n",
       "63    Smelt\n",
       "64    Smelt\n",
       "65    Smelt\n",
       "66    Smelt\n",
       "67    Smelt\n",
       "68     Pike\n",
       "69     Pike\n",
       "70     Pike\n",
       "71     Pike\n",
       "72     Pike\n",
       "73     Pike\n",
       "74     Pike\n",
       "75     Pike\n",
       "76     Pike\n",
       "77     Pike\n",
       "78     Pike\n",
       "79     Pike\n",
       "80     Pike\n",
       "81     Pike\n",
       "82     Pike\n",
       "83     Pike\n",
       "84     Pike\n",
       "Name: species, dtype: object"
      ]
     },
     "execution_count": 164,
     "metadata": {},
     "output_type": "execute_result"
    }
   ],
   "source": [
    "species"
   ]
  },
  {
   "cell_type": "markdown",
   "metadata": {},
   "source": [
    "## Create `Pipeline` with `StandardScaler`"
   ]
  },
  {
   "cell_type": "code",
   "execution_count": 165,
   "metadata": {
    "ExecuteTime": {
     "end_time": "2020-08-16T15:00:08.584655Z",
     "start_time": "2020-08-16T15:00:08.579662Z"
    }
   },
   "outputs": [],
   "source": [
    "from sklearn.pipeline import Pipeline\n",
    "from sklearn.preprocessing import StandardScaler"
   ]
  },
  {
   "cell_type": "code",
   "execution_count": 166,
   "metadata": {
    "ExecuteTime": {
     "end_time": "2020-08-16T15:00:09.110774Z",
     "start_time": "2020-08-16T15:00:09.105779Z"
    }
   },
   "outputs": [],
   "source": [
    "# Setup steps for pipeline\n",
    "scaler = StandardScaler()\n",
    "kmeans = KMeans(4)\n",
    "\n",
    "steps = [('scaler', scaler),\n",
    "         ('kmeans', kmeans)]"
   ]
  },
  {
   "cell_type": "code",
   "execution_count": 167,
   "metadata": {
    "ExecuteTime": {
     "end_time": "2020-08-16T15:00:09.487588Z",
     "start_time": "2020-08-16T15:00:09.482586Z"
    }
   },
   "outputs": [],
   "source": [
    "# Create pipeline\n",
    "model2 = Pipeline(steps)"
   ]
  },
  {
   "cell_type": "code",
   "execution_count": 168,
   "metadata": {
    "ExecuteTime": {
     "end_time": "2020-08-16T15:00:10.084854Z",
     "start_time": "2020-08-16T15:00:10.027885Z"
    }
   },
   "outputs": [
    {
     "data": {
      "text/plain": [
       "Pipeline(steps=[('scaler', StandardScaler()), ('kmeans', KMeans(n_clusters=4))])"
      ]
     },
     "execution_count": 168,
     "metadata": {},
     "output_type": "execute_result"
    }
   ],
   "source": [
    "# Fit to samples\n",
    "model2.fit(fish_)"
   ]
  },
  {
   "cell_type": "code",
   "execution_count": 169,
   "metadata": {
    "ExecuteTime": {
     "end_time": "2020-08-16T15:00:11.819308Z",
     "start_time": "2020-08-16T15:00:11.811316Z"
    }
   },
   "outputs": [],
   "source": [
    "# Calculate cluster labels\n",
    "labels = model2.predict(fish_)"
   ]
  },
  {
   "cell_type": "code",
   "execution_count": 170,
   "metadata": {
    "ExecuteTime": {
     "end_time": "2020-08-16T15:00:45.288571Z",
     "start_time": "2020-08-16T15:00:45.282557Z"
    }
   },
   "outputs": [],
   "source": [
    "# Create a DF with labels and the species\n",
    "df = pd.DataFrame({'labels': labels,\n",
    "                   'species': species})"
   ]
  },
  {
   "cell_type": "code",
   "execution_count": 172,
   "metadata": {
    "ExecuteTime": {
     "end_time": "2020-08-16T15:01:51.091328Z",
     "start_time": "2020-08-16T15:01:51.061326Z"
    }
   },
   "outputs": [
    {
     "data": {
      "text/html": [
       "<div>\n",
       "<style scoped>\n",
       "    .dataframe tbody tr th:only-of-type {\n",
       "        vertical-align: middle;\n",
       "    }\n",
       "\n",
       "    .dataframe tbody tr th {\n",
       "        vertical-align: top;\n",
       "    }\n",
       "\n",
       "    .dataframe thead th {\n",
       "        text-align: right;\n",
       "    }\n",
       "</style>\n",
       "<table border=\"1\" class=\"dataframe\">\n",
       "  <thead>\n",
       "    <tr style=\"text-align: right;\">\n",
       "      <th>species</th>\n",
       "      <th>Bream</th>\n",
       "      <th>Pike</th>\n",
       "      <th>Roach</th>\n",
       "      <th>Smelt</th>\n",
       "    </tr>\n",
       "    <tr>\n",
       "      <th>labels</th>\n",
       "      <th></th>\n",
       "      <th></th>\n",
       "      <th></th>\n",
       "      <th></th>\n",
       "    </tr>\n",
       "  </thead>\n",
       "  <tbody>\n",
       "    <tr>\n",
       "      <th>0</th>\n",
       "      <td>1</td>\n",
       "      <td>0</td>\n",
       "      <td>19</td>\n",
       "      <td>1</td>\n",
       "    </tr>\n",
       "    <tr>\n",
       "      <th>1</th>\n",
       "      <td>0</td>\n",
       "      <td>17</td>\n",
       "      <td>0</td>\n",
       "      <td>0</td>\n",
       "    </tr>\n",
       "    <tr>\n",
       "      <th>2</th>\n",
       "      <td>33</td>\n",
       "      <td>0</td>\n",
       "      <td>1</td>\n",
       "      <td>0</td>\n",
       "    </tr>\n",
       "    <tr>\n",
       "      <th>3</th>\n",
       "      <td>0</td>\n",
       "      <td>0</td>\n",
       "      <td>0</td>\n",
       "      <td>13</td>\n",
       "    </tr>\n",
       "  </tbody>\n",
       "</table>\n",
       "</div>"
      ],
      "text/plain": [
       "species  Bream  Pike  Roach  Smelt\n",
       "labels                            \n",
       "0            1     0     19      1\n",
       "1            0    17      0      0\n",
       "2           33     0      1      0\n",
       "3            0     0      0     13"
      ]
     },
     "execution_count": 172,
     "metadata": {},
     "output_type": "execute_result"
    }
   ],
   "source": [
    "# Create crosstab\n",
    "ct = pd.crosstab(df['labels'], df['species'])\n",
    "ct"
   ]
  },
  {
   "cell_type": "markdown",
   "metadata": {
    "ExecuteTime": {
     "end_time": "2020-08-16T15:23:03.873840Z",
     "start_time": "2020-08-16T15:23:03.510050Z"
    }
   },
   "source": [
    "# Stock Price Movements Dataset"
   ]
  },
  {
   "cell_type": "code",
   "execution_count": 221,
   "metadata": {
    "ExecuteTime": {
     "end_time": "2020-08-16T15:50:41.952678Z",
     "start_time": "2020-08-16T15:50:41.767759Z"
    }
   },
   "outputs": [],
   "source": [
    "movements = np.loadtxt('movements.txt')"
   ]
  },
  {
   "cell_type": "code",
   "execution_count": 222,
   "metadata": {
    "ExecuteTime": {
     "end_time": "2020-08-16T15:50:42.309787Z",
     "start_time": "2020-08-16T15:50:42.302791Z"
    }
   },
   "outputs": [
    {
     "data": {
      "text/plain": [
       "(60, 963)"
      ]
     },
     "execution_count": 222,
     "metadata": {},
     "output_type": "execute_result"
    }
   ],
   "source": [
    "movements.shape"
   ]
  },
  {
   "cell_type": "markdown",
   "metadata": {},
   "source": [
    "## Create `Pipeline` with `Normalizer`"
   ]
  },
  {
   "cell_type": "code",
   "execution_count": 223,
   "metadata": {
    "ExecuteTime": {
     "end_time": "2020-08-16T15:50:43.345342Z",
     "start_time": "2020-08-16T15:50:43.341347Z"
    }
   },
   "outputs": [],
   "source": [
    "from sklearn.preprocessing import Normalizer\n",
    "from sklearn.pipeline import make_pipeline"
   ]
  },
  {
   "cell_type": "code",
   "execution_count": 224,
   "metadata": {
    "ExecuteTime": {
     "end_time": "2020-08-16T15:50:44.107143Z",
     "start_time": "2020-08-16T15:50:44.102144Z"
    }
   },
   "outputs": [],
   "source": [
    "# Setup steps for pipeline\n",
    "normalizer = Normalizer()\n",
    "kmeans = KMeans(10)\n",
    "\n",
    "steps = [('normalizer', normalizer),\n",
    "         ('kmeans', kmeans)]"
   ]
  },
  {
   "cell_type": "code",
   "execution_count": 225,
   "metadata": {
    "ExecuteTime": {
     "end_time": "2020-08-16T15:50:44.992268Z",
     "start_time": "2020-08-16T15:50:44.988249Z"
    }
   },
   "outputs": [],
   "source": [
    "# Create pipeline\n",
    "model3 = Pipeline(steps)"
   ]
  },
  {
   "cell_type": "code",
   "execution_count": 226,
   "metadata": {
    "ExecuteTime": {
     "end_time": "2020-08-16T15:50:45.457692Z",
     "start_time": "2020-08-16T15:50:45.452695Z"
    }
   },
   "outputs": [],
   "source": [
    "# Test\n",
    "model4 = make_pipeline(normalizer, kmeans)"
   ]
  },
  {
   "cell_type": "code",
   "execution_count": 227,
   "metadata": {
    "ExecuteTime": {
     "end_time": "2020-08-16T15:50:46.185534Z",
     "start_time": "2020-08-16T15:50:46.082594Z"
    }
   },
   "outputs": [
    {
     "data": {
      "text/plain": [
       "Pipeline(steps=[('normalizer', Normalizer()),\n",
       "                ('kmeans', KMeans(n_clusters=10))])"
      ]
     },
     "execution_count": 227,
     "metadata": {},
     "output_type": "execute_result"
    }
   ],
   "source": [
    "# Fit to data\n",
    "model3.fit(movements)"
   ]
  },
  {
   "cell_type": "code",
   "execution_count": 228,
   "metadata": {
    "ExecuteTime": {
     "end_time": "2020-08-16T15:50:46.844526Z",
     "start_time": "2020-08-16T15:50:46.833533Z"
    }
   },
   "outputs": [],
   "source": [
    "# List of companies, as provided\n",
    "companies = ['Apple',\n",
    " 'AIG',\n",
    " 'Amazon',\n",
    " 'American express',\n",
    " 'Boeing',\n",
    " 'Bank of America',\n",
    " 'British American Tobacco',\n",
    " 'Canon',\n",
    " 'Caterpillar',\n",
    " 'Colgate-Palmolive',\n",
    " 'ConocoPhillips',\n",
    " 'Cisco',\n",
    " 'Chevron',\n",
    " 'DuPont de Nemours',\n",
    " 'Dell',\n",
    " 'Ford',\n",
    " 'General Electrics',\n",
    " 'Google/Alphabet',\n",
    " 'Goldman Sachs',\n",
    " 'GlaxoSmithKline',\n",
    " 'Home Depot',\n",
    " 'Honda',\n",
    " 'HP',\n",
    " 'IBM',\n",
    " 'Intel',\n",
    " 'Johnson & Johnson',\n",
    " 'JPMorgan Chase',\n",
    " 'Kimberly-Clark',\n",
    " 'Coca Cola',\n",
    " 'Lookheed Martin',\n",
    " 'MasterCard',\n",
    " 'McDonalds',\n",
    " '3M',\n",
    " 'Microsoft',\n",
    " 'Mitsubishi',\n",
    " 'Navistar',\n",
    " 'Northrop Grumman',\n",
    " 'Novartis',\n",
    " 'Pepsi',\n",
    " 'Pfizer',\n",
    " 'Procter Gamble',\n",
    " 'Philip Morris',\n",
    " 'Royal Dutch Shell',\n",
    " 'SAP',\n",
    " 'Schlumberger',\n",
    " 'Sony',\n",
    " 'Sanofi-Aventis',\n",
    " 'Symantec',\n",
    " 'Toyota',\n",
    " 'Total',\n",
    " 'Taiwan Semiconductor Manufacturing',\n",
    " 'Texas instruments',\n",
    " 'Unilever',\n",
    " 'Valero Energy',\n",
    " 'Walgreen',\n",
    " 'Wells Fargo',\n",
    " 'Wal-Mart',\n",
    " 'Exxon',\n",
    " 'Xerox',\n",
    " 'Yahoo']"
   ]
  },
  {
   "cell_type": "code",
   "execution_count": 229,
   "metadata": {
    "ExecuteTime": {
     "end_time": "2020-08-16T15:50:47.752718Z",
     "start_time": "2020-08-16T15:50:47.745726Z"
    }
   },
   "outputs": [],
   "source": [
    "# Predict cluster labels\n",
    "labels = model3.predict(movements)"
   ]
  },
  {
   "cell_type": "code",
   "execution_count": 230,
   "metadata": {
    "ExecuteTime": {
     "end_time": "2020-08-16T15:50:48.152605Z",
     "start_time": "2020-08-16T15:50:48.146610Z"
    }
   },
   "outputs": [],
   "source": [
    "# Create DF aligning labels and companies\n",
    "df = pd.DataFrame({'labels': labels,\n",
    "                   'companies': companies})"
   ]
  },
  {
   "cell_type": "code",
   "execution_count": 231,
   "metadata": {
    "ExecuteTime": {
     "end_time": "2020-08-16T15:50:48.908587Z",
     "start_time": "2020-08-16T15:50:48.890598Z"
    }
   },
   "outputs": [
    {
     "data": {
      "text/html": [
       "<div>\n",
       "<style scoped>\n",
       "    .dataframe tbody tr th:only-of-type {\n",
       "        vertical-align: middle;\n",
       "    }\n",
       "\n",
       "    .dataframe tbody tr th {\n",
       "        vertical-align: top;\n",
       "    }\n",
       "\n",
       "    .dataframe thead th {\n",
       "        text-align: right;\n",
       "    }\n",
       "</style>\n",
       "<table border=\"1\" class=\"dataframe\">\n",
       "  <thead>\n",
       "    <tr style=\"text-align: right;\">\n",
       "      <th></th>\n",
       "      <th>labels</th>\n",
       "      <th>companies</th>\n",
       "    </tr>\n",
       "  </thead>\n",
       "  <tbody>\n",
       "    <tr>\n",
       "      <th>25</th>\n",
       "      <td>0</td>\n",
       "      <td>Johnson &amp; Johnson</td>\n",
       "    </tr>\n",
       "    <tr>\n",
       "      <th>56</th>\n",
       "      <td>0</td>\n",
       "      <td>Wal-Mart</td>\n",
       "    </tr>\n",
       "    <tr>\n",
       "      <th>54</th>\n",
       "      <td>0</td>\n",
       "      <td>Walgreen</td>\n",
       "    </tr>\n",
       "    <tr>\n",
       "      <th>38</th>\n",
       "      <td>0</td>\n",
       "      <td>Pepsi</td>\n",
       "    </tr>\n",
       "    <tr>\n",
       "      <th>39</th>\n",
       "      <td>0</td>\n",
       "      <td>Pfizer</td>\n",
       "    </tr>\n",
       "    <tr>\n",
       "      <th>40</th>\n",
       "      <td>0</td>\n",
       "      <td>Procter Gamble</td>\n",
       "    </tr>\n",
       "    <tr>\n",
       "      <th>28</th>\n",
       "      <td>0</td>\n",
       "      <td>Coca Cola</td>\n",
       "    </tr>\n",
       "    <tr>\n",
       "      <th>9</th>\n",
       "      <td>0</td>\n",
       "      <td>Colgate-Palmolive</td>\n",
       "    </tr>\n",
       "    <tr>\n",
       "      <th>41</th>\n",
       "      <td>0</td>\n",
       "      <td>Philip Morris</td>\n",
       "    </tr>\n",
       "    <tr>\n",
       "      <th>27</th>\n",
       "      <td>0</td>\n",
       "      <td>Kimberly-Clark</td>\n",
       "    </tr>\n",
       "    <tr>\n",
       "      <th>37</th>\n",
       "      <td>1</td>\n",
       "      <td>Novartis</td>\n",
       "    </tr>\n",
       "    <tr>\n",
       "      <th>19</th>\n",
       "      <td>1</td>\n",
       "      <td>GlaxoSmithKline</td>\n",
       "    </tr>\n",
       "    <tr>\n",
       "      <th>42</th>\n",
       "      <td>1</td>\n",
       "      <td>Royal Dutch Shell</td>\n",
       "    </tr>\n",
       "    <tr>\n",
       "      <th>46</th>\n",
       "      <td>1</td>\n",
       "      <td>Sanofi-Aventis</td>\n",
       "    </tr>\n",
       "    <tr>\n",
       "      <th>49</th>\n",
       "      <td>1</td>\n",
       "      <td>Total</td>\n",
       "    </tr>\n",
       "    <tr>\n",
       "      <th>6</th>\n",
       "      <td>1</td>\n",
       "      <td>British American Tobacco</td>\n",
       "    </tr>\n",
       "    <tr>\n",
       "      <th>52</th>\n",
       "      <td>1</td>\n",
       "      <td>Unilever</td>\n",
       "    </tr>\n",
       "    <tr>\n",
       "      <th>44</th>\n",
       "      <td>2</td>\n",
       "      <td>Schlumberger</td>\n",
       "    </tr>\n",
       "    <tr>\n",
       "      <th>10</th>\n",
       "      <td>2</td>\n",
       "      <td>ConocoPhillips</td>\n",
       "    </tr>\n",
       "    <tr>\n",
       "      <th>53</th>\n",
       "      <td>2</td>\n",
       "      <td>Valero Energy</td>\n",
       "    </tr>\n",
       "    <tr>\n",
       "      <th>57</th>\n",
       "      <td>2</td>\n",
       "      <td>Exxon</td>\n",
       "    </tr>\n",
       "    <tr>\n",
       "      <th>35</th>\n",
       "      <td>2</td>\n",
       "      <td>Navistar</td>\n",
       "    </tr>\n",
       "    <tr>\n",
       "      <th>12</th>\n",
       "      <td>2</td>\n",
       "      <td>Chevron</td>\n",
       "    </tr>\n",
       "    <tr>\n",
       "      <th>58</th>\n",
       "      <td>3</td>\n",
       "      <td>Xerox</td>\n",
       "    </tr>\n",
       "    <tr>\n",
       "      <th>16</th>\n",
       "      <td>3</td>\n",
       "      <td>General Electrics</td>\n",
       "    </tr>\n",
       "    <tr>\n",
       "      <th>32</th>\n",
       "      <td>4</td>\n",
       "      <td>3M</td>\n",
       "    </tr>\n",
       "    <tr>\n",
       "      <th>29</th>\n",
       "      <td>4</td>\n",
       "      <td>Lookheed Martin</td>\n",
       "    </tr>\n",
       "    <tr>\n",
       "      <th>43</th>\n",
       "      <td>4</td>\n",
       "      <td>SAP</td>\n",
       "    </tr>\n",
       "    <tr>\n",
       "      <th>47</th>\n",
       "      <td>4</td>\n",
       "      <td>Symantec</td>\n",
       "    </tr>\n",
       "    <tr>\n",
       "      <th>36</th>\n",
       "      <td>4</td>\n",
       "      <td>Northrop Grumman</td>\n",
       "    </tr>\n",
       "    <tr>\n",
       "      <th>31</th>\n",
       "      <td>4</td>\n",
       "      <td>McDonalds</td>\n",
       "    </tr>\n",
       "    <tr>\n",
       "      <th>59</th>\n",
       "      <td>4</td>\n",
       "      <td>Yahoo</td>\n",
       "    </tr>\n",
       "    <tr>\n",
       "      <th>3</th>\n",
       "      <td>4</td>\n",
       "      <td>American express</td>\n",
       "    </tr>\n",
       "    <tr>\n",
       "      <th>8</th>\n",
       "      <td>4</td>\n",
       "      <td>Caterpillar</td>\n",
       "    </tr>\n",
       "    <tr>\n",
       "      <th>30</th>\n",
       "      <td>4</td>\n",
       "      <td>MasterCard</td>\n",
       "    </tr>\n",
       "    <tr>\n",
       "      <th>13</th>\n",
       "      <td>4</td>\n",
       "      <td>DuPont de Nemours</td>\n",
       "    </tr>\n",
       "    <tr>\n",
       "      <th>23</th>\n",
       "      <td>4</td>\n",
       "      <td>IBM</td>\n",
       "    </tr>\n",
       "    <tr>\n",
       "      <th>4</th>\n",
       "      <td>4</td>\n",
       "      <td>Boeing</td>\n",
       "    </tr>\n",
       "    <tr>\n",
       "      <th>20</th>\n",
       "      <td>4</td>\n",
       "      <td>Home Depot</td>\n",
       "    </tr>\n",
       "    <tr>\n",
       "      <th>15</th>\n",
       "      <td>5</td>\n",
       "      <td>Ford</td>\n",
       "    </tr>\n",
       "    <tr>\n",
       "      <th>45</th>\n",
       "      <td>5</td>\n",
       "      <td>Sony</td>\n",
       "    </tr>\n",
       "    <tr>\n",
       "      <th>21</th>\n",
       "      <td>5</td>\n",
       "      <td>Honda</td>\n",
       "    </tr>\n",
       "    <tr>\n",
       "      <th>34</th>\n",
       "      <td>5</td>\n",
       "      <td>Mitsubishi</td>\n",
       "    </tr>\n",
       "    <tr>\n",
       "      <th>48</th>\n",
       "      <td>5</td>\n",
       "      <td>Toyota</td>\n",
       "    </tr>\n",
       "    <tr>\n",
       "      <th>7</th>\n",
       "      <td>5</td>\n",
       "      <td>Canon</td>\n",
       "    </tr>\n",
       "    <tr>\n",
       "      <th>22</th>\n",
       "      <td>6</td>\n",
       "      <td>HP</td>\n",
       "    </tr>\n",
       "    <tr>\n",
       "      <th>14</th>\n",
       "      <td>6</td>\n",
       "      <td>Dell</td>\n",
       "    </tr>\n",
       "    <tr>\n",
       "      <th>11</th>\n",
       "      <td>6</td>\n",
       "      <td>Cisco</td>\n",
       "    </tr>\n",
       "    <tr>\n",
       "      <th>33</th>\n",
       "      <td>6</td>\n",
       "      <td>Microsoft</td>\n",
       "    </tr>\n",
       "    <tr>\n",
       "      <th>2</th>\n",
       "      <td>7</td>\n",
       "      <td>Amazon</td>\n",
       "    </tr>\n",
       "    <tr>\n",
       "      <th>0</th>\n",
       "      <td>7</td>\n",
       "      <td>Apple</td>\n",
       "    </tr>\n",
       "    <tr>\n",
       "      <th>17</th>\n",
       "      <td>7</td>\n",
       "      <td>Google/Alphabet</td>\n",
       "    </tr>\n",
       "    <tr>\n",
       "      <th>5</th>\n",
       "      <td>8</td>\n",
       "      <td>Bank of America</td>\n",
       "    </tr>\n",
       "    <tr>\n",
       "      <th>18</th>\n",
       "      <td>8</td>\n",
       "      <td>Goldman Sachs</td>\n",
       "    </tr>\n",
       "    <tr>\n",
       "      <th>55</th>\n",
       "      <td>8</td>\n",
       "      <td>Wells Fargo</td>\n",
       "    </tr>\n",
       "    <tr>\n",
       "      <th>1</th>\n",
       "      <td>8</td>\n",
       "      <td>AIG</td>\n",
       "    </tr>\n",
       "    <tr>\n",
       "      <th>26</th>\n",
       "      <td>8</td>\n",
       "      <td>JPMorgan Chase</td>\n",
       "    </tr>\n",
       "    <tr>\n",
       "      <th>51</th>\n",
       "      <td>9</td>\n",
       "      <td>Texas instruments</td>\n",
       "    </tr>\n",
       "    <tr>\n",
       "      <th>24</th>\n",
       "      <td>9</td>\n",
       "      <td>Intel</td>\n",
       "    </tr>\n",
       "    <tr>\n",
       "      <th>50</th>\n",
       "      <td>9</td>\n",
       "      <td>Taiwan Semiconductor Manufacturing</td>\n",
       "    </tr>\n",
       "  </tbody>\n",
       "</table>\n",
       "</div>"
      ],
      "text/plain": [
       "    labels                           companies\n",
       "25       0                   Johnson & Johnson\n",
       "56       0                            Wal-Mart\n",
       "54       0                            Walgreen\n",
       "38       0                               Pepsi\n",
       "39       0                              Pfizer\n",
       "40       0                      Procter Gamble\n",
       "28       0                           Coca Cola\n",
       "9        0                   Colgate-Palmolive\n",
       "41       0                       Philip Morris\n",
       "27       0                      Kimberly-Clark\n",
       "37       1                            Novartis\n",
       "19       1                     GlaxoSmithKline\n",
       "42       1                   Royal Dutch Shell\n",
       "46       1                      Sanofi-Aventis\n",
       "49       1                               Total\n",
       "6        1            British American Tobacco\n",
       "52       1                            Unilever\n",
       "44       2                        Schlumberger\n",
       "10       2                      ConocoPhillips\n",
       "53       2                       Valero Energy\n",
       "57       2                               Exxon\n",
       "35       2                            Navistar\n",
       "12       2                             Chevron\n",
       "58       3                               Xerox\n",
       "16       3                   General Electrics\n",
       "32       4                                  3M\n",
       "29       4                     Lookheed Martin\n",
       "43       4                                 SAP\n",
       "47       4                            Symantec\n",
       "36       4                    Northrop Grumman\n",
       "31       4                           McDonalds\n",
       "59       4                               Yahoo\n",
       "3        4                    American express\n",
       "8        4                         Caterpillar\n",
       "30       4                          MasterCard\n",
       "13       4                   DuPont de Nemours\n",
       "23       4                                 IBM\n",
       "4        4                              Boeing\n",
       "20       4                          Home Depot\n",
       "15       5                                Ford\n",
       "45       5                                Sony\n",
       "21       5                               Honda\n",
       "34       5                          Mitsubishi\n",
       "48       5                              Toyota\n",
       "7        5                               Canon\n",
       "22       6                                  HP\n",
       "14       6                                Dell\n",
       "11       6                               Cisco\n",
       "33       6                           Microsoft\n",
       "2        7                              Amazon\n",
       "0        7                               Apple\n",
       "17       7                     Google/Alphabet\n",
       "5        8                     Bank of America\n",
       "18       8                       Goldman Sachs\n",
       "55       8                         Wells Fargo\n",
       "1        8                                 AIG\n",
       "26       8                      JPMorgan Chase\n",
       "51       9                   Texas instruments\n",
       "24       9                               Intel\n",
       "50       9  Taiwan Semiconductor Manufacturing"
      ]
     },
     "execution_count": 231,
     "metadata": {},
     "output_type": "execute_result"
    }
   ],
   "source": [
    "# Which companies have stock prices that tend to change in the same way?\n",
    "df.sort_values('labels')"
   ]
  },
  {
   "cell_type": "code",
   "execution_count": null,
   "metadata": {},
   "outputs": [],
   "source": []
  }
 ],
 "metadata": {
  "kernelspec": {
   "display_name": "tf2-gpu",
   "language": "python",
   "name": "tf2-gpu"
  },
  "language_info": {
   "codemirror_mode": {
    "name": "ipython",
    "version": 3
   },
   "file_extension": ".py",
   "mimetype": "text/x-python",
   "name": "python",
   "nbconvert_exporter": "python",
   "pygments_lexer": "ipython3",
   "version": "3.7.7"
  },
  "toc": {
   "base_numbering": 1,
   "nav_menu": {},
   "number_sections": true,
   "sideBar": true,
   "skip_h1_title": false,
   "title_cell": "Table of Contents",
   "title_sidebar": "Contents",
   "toc_cell": false,
   "toc_position": {},
   "toc_section_display": true,
   "toc_window_display": false
  }
 },
 "nbformat": 4,
 "nbformat_minor": 4
}
