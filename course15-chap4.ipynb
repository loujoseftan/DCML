{
 "cells": [
  {
   "cell_type": "code",
   "execution_count": 1,
   "metadata": {
    "ExecuteTime": {
     "end_time": "2020-09-06T14:15:49.309602Z",
     "start_time": "2020-09-06T14:15:31.986507Z"
    }
   },
   "outputs": [],
   "source": [
    "import numpy as np\n",
    "import pandas as pd\n",
    "import matplotlib.pyplot as plt\n",
    "import seaborn as sns\n",
    "sns.set()"
   ]
  },
  {
   "cell_type": "code",
   "execution_count": 58,
   "metadata": {
    "ExecuteTime": {
     "end_time": "2020-09-06T15:50:45.884765Z",
     "start_time": "2020-09-06T15:50:45.797311Z"
    }
   },
   "outputs": [
    {
     "data": {
      "text/plain": [
       "'2.1.0'"
      ]
     },
     "execution_count": 58,
     "metadata": {},
     "output_type": "execute_result"
    }
   ],
   "source": [
    "import tensorflow as tf\n",
    "from tensorflow.keras.models import Sequential\n",
    "from tensorflow.keras.layers import Dense\n",
    "from tensorflow.keras.optimizers import SGD\n",
    "from tensorflow.keras.utils import to_categorical\n",
    "from tensorflow.keras.callbacks import EarlyStopping\n",
    "\n",
    "from sklearn.preprocessing import MinMaxScaler\n",
    "\n",
    "tf.__version__"
   ]
  },
  {
   "cell_type": "code",
   "execution_count": 47,
   "metadata": {
    "ExecuteTime": {
     "end_time": "2020-09-06T15:46:35.195847Z",
     "start_time": "2020-09-06T15:46:34.037027Z"
    }
   },
   "outputs": [],
   "source": [
    "# datasets\n",
    "titanic = pd.read_csv('./titanic_all_numeric.csv')\n",
    "mnist = pd.read_csv('./mnist_train.csv', header=None, nrows=2500)"
   ]
  },
  {
   "cell_type": "markdown",
   "metadata": {},
   "source": [
    "# Understanding model optimization"
   ]
  },
  {
   "cell_type": "markdown",
   "metadata": {},
   "source": [
    "## Changing optimization parameters"
   ]
  },
  {
   "cell_type": "code",
   "execution_count": 19,
   "metadata": {
    "ExecuteTime": {
     "end_time": "2020-09-06T14:35:24.889763Z",
     "start_time": "2020-09-06T14:35:24.883777Z"
    }
   },
   "outputs": [],
   "source": [
    "def get_new_model(input_shape):\n",
    "    model = Sequential()\n",
    "    \n",
    "    model.add(Dense(100, activation='relu', input_shape=(input_shape,)))\n",
    "    model.add(Dense(100, activation='relu'))\n",
    "    model.add(Dense(2, activation='softmax'))\n",
    "    \n",
    "    return model"
   ]
  },
  {
   "cell_type": "code",
   "execution_count": 23,
   "metadata": {
    "ExecuteTime": {
     "end_time": "2020-09-06T14:38:10.564175Z",
     "start_time": "2020-09-06T14:38:10.538189Z"
    }
   },
   "outputs": [],
   "source": [
    "predictors = titanic.iloc[:, 1:].to_numpy(float)\n",
    "target = to_categorical(titanic['survived'])\n",
    "\n",
    "n_cols = predictors.shape[1]"
   ]
  },
  {
   "cell_type": "code",
   "execution_count": 26,
   "metadata": {
    "ExecuteTime": {
     "end_time": "2020-09-06T14:42:35.312572Z",
     "start_time": "2020-09-06T14:42:29.528476Z"
    }
   },
   "outputs": [
    {
     "name": "stdout",
     "output_type": "stream",
     "text": [
      "testing with lr: 1e-06\n",
      "Train on 891 samples\n",
      "Epoch 1/10\n",
      "891/891 [==============================] - 0s 419us/sample - loss: 1.4978\n",
      "Epoch 2/10\n",
      "891/891 [==============================] - 0s 167us/sample - loss: 1.4821\n",
      "Epoch 3/10\n",
      "891/891 [==============================] - 0s 152us/sample - loss: 1.4665\n",
      "Epoch 4/10\n",
      "891/891 [==============================] - 0s 163us/sample - loss: 1.4511\n",
      "Epoch 5/10\n",
      "891/891 [==============================] - 0s 184us/sample - loss: 1.4357\n",
      "Epoch 6/10\n",
      "891/891 [==============================] - 0s 153us/sample - loss: 1.4205\n",
      "Epoch 7/10\n",
      "891/891 [==============================] - 0s 166us/sample - loss: 1.4057\n",
      "Epoch 8/10\n",
      "891/891 [==============================] - 0s 175us/sample - loss: 1.3907\n",
      "Epoch 9/10\n",
      "891/891 [==============================] - 0s 148us/sample - loss: 1.3762\n",
      "Epoch 10/10\n",
      "891/891 [==============================] - 0s 177us/sample - loss: 1.3617\n",
      "testing with lr: 0.01\n",
      "Train on 891 samples\n",
      "Epoch 1/10\n",
      "891/891 [==============================] - 0s 459us/sample - loss: 1.6811\n",
      "Epoch 2/10\n",
      "891/891 [==============================] - 0s 162us/sample - loss: 0.7197\n",
      "Epoch 3/10\n",
      "891/891 [==============================] - 0s 156us/sample - loss: 0.6398\n",
      "Epoch 4/10\n",
      "891/891 [==============================] - 0s 163us/sample - loss: 0.6043\n",
      "Epoch 5/10\n",
      "891/891 [==============================] - 0s 158us/sample - loss: 0.6025\n",
      "Epoch 6/10\n",
      "891/891 [==============================] - 0s 154us/sample - loss: 0.6268\n",
      "Epoch 7/10\n",
      "891/891 [==============================] - 0s 174us/sample - loss: 0.5954\n",
      "Epoch 8/10\n",
      "891/891 [==============================] - 0s 157us/sample - loss: 0.5985\n",
      "Epoch 9/10\n",
      "891/891 [==============================] - 0s 156us/sample - loss: 0.5961\n",
      "Epoch 10/10\n",
      "891/891 [==============================] - 0s 156us/sample - loss: 0.5898\n",
      "testing with lr: 1\n",
      "Train on 891 samples\n",
      "Epoch 1/10\n",
      "891/891 [==============================] - 0s 448us/sample - loss: 2043216844.3470\n",
      "Epoch 2/10\n",
      "891/891 [==============================] - 0s 172us/sample - loss: 12172.3441\n",
      "Epoch 3/10\n",
      "891/891 [==============================] - 0s 191us/sample - loss: 0.6730\n",
      "Epoch 4/10\n",
      "891/891 [==============================] - 0s 175us/sample - loss: 0.6721\n",
      "Epoch 5/10\n",
      "891/891 [==============================] - 0s 166us/sample - loss: 0.6725\n",
      "Epoch 6/10\n",
      "891/891 [==============================] - 0s 160us/sample - loss: 0.6730\n",
      "Epoch 7/10\n",
      "891/891 [==============================] - 0s 160us/sample - loss: 0.6706\n",
      "Epoch 8/10\n",
      "891/891 [==============================] - 0s 168us/sample - loss: 0.6709\n",
      "Epoch 9/10\n",
      "891/891 [==============================] - 0s 173us/sample - loss: 0.6694\n",
      "Epoch 10/10\n",
      "891/891 [==============================] - 0s 179us/sample - loss: 0.6701\n"
     ]
    }
   ],
   "source": [
    "# create list of learning rates:\n",
    "lr_to_test = [0.000001, 0.01, 1]\n",
    "\n",
    "# loop over lr's\n",
    "for lr in lr_to_test:\n",
    "    print(f'testing with lr: {lr}')\n",
    "    \n",
    "    model = get_new_model(input_shape=n_cols)\n",
    "    \n",
    "    model.compile(optimizer=SGD(lr=lr),\n",
    "                  loss='categorical_crossentropy')\n",
    "    \n",
    "    model.fit(predictors, target,\n",
    "              epochs=10)"
   ]
  },
  {
   "cell_type": "markdown",
   "metadata": {
    "ExecuteTime": {
     "end_time": "2020-09-06T14:38:19.394668Z",
     "start_time": "2020-09-06T14:38:19.388654Z"
    }
   },
   "source": [
    "# Model validation"
   ]
  },
  {
   "cell_type": "markdown",
   "metadata": {},
   "source": [
    "## Evaluating model accuracy on validation dataset"
   ]
  },
  {
   "cell_type": "code",
   "execution_count": 29,
   "metadata": {
    "ExecuteTime": {
     "end_time": "2020-09-06T14:54:13.022670Z",
     "start_time": "2020-09-06T14:54:10.336916Z"
    }
   },
   "outputs": [
    {
     "name": "stdout",
     "output_type": "stream",
     "text": [
      "Train on 623 samples, validate on 268 samples\n",
      "Epoch 1/10\n",
      "623/623 [==============================] - 1s 1ms/sample - loss: 1.1452 - accuracy: 0.6292 - val_loss: 0.6981 - val_accuracy: 0.6455\n",
      "Epoch 2/10\n",
      "623/623 [==============================] - 0s 290us/sample - loss: 0.6874 - accuracy: 0.6003 - val_loss: 0.5442 - val_accuracy: 0.7351\n",
      "Epoch 3/10\n",
      "623/623 [==============================] - 0s 284us/sample - loss: 0.6536 - accuracy: 0.6437 - val_loss: 0.6112 - val_accuracy: 0.7388\n",
      "Epoch 4/10\n",
      "623/623 [==============================] - 0s 278us/sample - loss: 0.6963 - accuracy: 0.6565 - val_loss: 0.6033 - val_accuracy: 0.7015\n",
      "Epoch 5/10\n",
      "623/623 [==============================] - 0s 266us/sample - loss: 0.5877 - accuracy: 0.6902 - val_loss: 0.4892 - val_accuracy: 0.7537\n",
      "Epoch 6/10\n",
      "623/623 [==============================] - 0s 266us/sample - loss: 0.5699 - accuracy: 0.6934 - val_loss: 0.5088 - val_accuracy: 0.7463\n",
      "Epoch 7/10\n",
      "623/623 [==============================] - 0s 211us/sample - loss: 0.6520 - accuracy: 0.7014 - val_loss: 0.6005 - val_accuracy: 0.7313\n",
      "Epoch 8/10\n",
      "623/623 [==============================] - 0s 292us/sample - loss: 0.6109 - accuracy: 0.7159 - val_loss: 0.7012 - val_accuracy: 0.6530\n",
      "Epoch 9/10\n",
      "623/623 [==============================] - 0s 257us/sample - loss: 0.5855 - accuracy: 0.7239 - val_loss: 0.4783 - val_accuracy: 0.7612\n",
      "Epoch 10/10\n",
      "623/623 [==============================] - 0s 218us/sample - loss: 0.5553 - accuracy: 0.7127 - val_loss: 0.5343 - val_accuracy: 0.7724\n"
     ]
    }
   ],
   "source": [
    "# define model arch, compile, and fit\n",
    "model = get_new_model(input_shape=n_cols)\n",
    "\n",
    "model.compile(optimizer='adam',\n",
    "              loss='categorical_crossentropy',\n",
    "              metrics=['accuracy'])\n",
    "\n",
    "hist = model.fit(predictors, target,\n",
    "                 epochs=10,\n",
    "                 validation_split=0.3)"
   ]
  },
  {
   "cell_type": "markdown",
   "metadata": {},
   "source": [
    "## Early stopping: Optimizing the optimization"
   ]
  },
  {
   "cell_type": "code",
   "execution_count": 30,
   "metadata": {
    "ExecuteTime": {
     "end_time": "2020-09-06T15:00:42.263918Z",
     "start_time": "2020-09-06T15:00:40.085534Z"
    }
   },
   "outputs": [
    {
     "name": "stdout",
     "output_type": "stream",
     "text": [
      "Train on 623 samples, validate on 268 samples\n",
      "Epoch 1/30\n",
      "623/623 [==============================] - 1s 1ms/sample - loss: 1.2771 - accuracy: 0.5907 - val_loss: 0.6072 - val_accuracy: 0.6754\n",
      "Epoch 2/30\n",
      "623/623 [==============================] - 0s 306us/sample - loss: 0.6470 - accuracy: 0.6421 - val_loss: 0.5606 - val_accuracy: 0.7612\n",
      "Epoch 3/30\n",
      "623/623 [==============================] - 0s 303us/sample - loss: 0.6209 - accuracy: 0.6709 - val_loss: 0.5898 - val_accuracy: 0.7164\n",
      "Epoch 4/30\n",
      "623/623 [==============================] - 0s 309us/sample - loss: 0.6031 - accuracy: 0.6774 - val_loss: 0.5573 - val_accuracy: 0.7612\n",
      "Epoch 5/30\n",
      "623/623 [==============================] - 0s 297us/sample - loss: 0.5948 - accuracy: 0.6934 - val_loss: 0.4989 - val_accuracy: 0.7463\n",
      "Epoch 6/30\n",
      "623/623 [==============================] - 0s 296us/sample - loss: 0.6069 - accuracy: 0.6822 - val_loss: 0.5948 - val_accuracy: 0.7164\n",
      "Epoch 7/30\n",
      "623/623 [==============================] - 0s 321us/sample - loss: 0.5848 - accuracy: 0.7111 - val_loss: 0.5112 - val_accuracy: 0.7351\n"
     ]
    },
    {
     "data": {
      "text/plain": [
       "<tensorflow.python.keras.callbacks.History at 0x1dc167bf0c8>"
      ]
     },
     "execution_count": 30,
     "metadata": {},
     "output_type": "execute_result"
    }
   ],
   "source": [
    "# define model arch, compile, and fit\n",
    "model = get_new_model(input_shape=n_cols)\n",
    "\n",
    "model.compile(optimizer='adam',\n",
    "              loss='categorical_crossentropy',\n",
    "              metrics=['accuracy'])\n",
    "\n",
    "# define early stopping callback\n",
    "early_stopping_monitor = EarlyStopping(patience=2)\n",
    "\n",
    "model.fit(predictors, target,\n",
    "          epochs=30,\n",
    "          validation_split=0.3,\n",
    "          callbacks=[early_stopping_monitor])"
   ]
  },
  {
   "cell_type": "markdown",
   "metadata": {},
   "source": [
    "## Experimenting with wider networks"
   ]
  },
  {
   "cell_type": "code",
   "execution_count": 31,
   "metadata": {
    "ExecuteTime": {
     "end_time": "2020-09-06T15:04:42.399326Z",
     "start_time": "2020-09-06T15:04:42.033035Z"
    }
   },
   "outputs": [
    {
     "name": "stdout",
     "output_type": "stream",
     "text": [
      "Model: \"sequential_11\"\n",
      "_________________________________________________________________\n",
      "Layer (type)                 Output Shape              Param #   \n",
      "=================================================================\n",
      "dense_29 (Dense)             (None, 10)                110       \n",
      "_________________________________________________________________\n",
      "dense_30 (Dense)             (None, 10)                110       \n",
      "_________________________________________________________________\n",
      "dense_31 (Dense)             (None, 2)                 22        \n",
      "=================================================================\n",
      "Total params: 242\n",
      "Trainable params: 242\n",
      "Non-trainable params: 0\n",
      "_________________________________________________________________\n",
      "None\n"
     ]
    }
   ],
   "source": [
    "model_1 = Sequential()\n",
    "\n",
    "model_1.add(Dense(10, activation='relu', input_shape=(n_cols,)))\n",
    "model_1.add(Dense(10, activation='relu'))\n",
    "model_1.add(Dense(2, activation='softmax'))\n",
    "\n",
    "model_1.compile(optimizer='adam',\n",
    "                loss='categorical_crossentropy',\n",
    "                metrics=['accuracy'])\n",
    "print(model_1.summary())"
   ]
  },
  {
   "cell_type": "code",
   "execution_count": 33,
   "metadata": {
    "ExecuteTime": {
     "end_time": "2020-09-06T15:16:34.169316Z",
     "start_time": "2020-09-06T15:16:33.808907Z"
    }
   },
   "outputs": [],
   "source": [
    "model_2 = get_new_model(n_cols)\n",
    "\n",
    "model_2.compile(optimizer='adam',\n",
    "                loss='categorical_crossentropy',\n",
    "                metrics=['accuracy'])"
   ]
  },
  {
   "cell_type": "code",
   "execution_count": 34,
   "metadata": {
    "ExecuteTime": {
     "end_time": "2020-09-06T15:16:39.893033Z",
     "start_time": "2020-09-06T15:16:39.877407Z"
    }
   },
   "outputs": [
    {
     "name": "stdout",
     "output_type": "stream",
     "text": [
      "Model: \"sequential_12\"\n",
      "_________________________________________________________________\n",
      "Layer (type)                 Output Shape              Param #   \n",
      "=================================================================\n",
      "dense_32 (Dense)             (None, 100)               1100      \n",
      "_________________________________________________________________\n",
      "dense_33 (Dense)             (None, 100)               10100     \n",
      "_________________________________________________________________\n",
      "dense_34 (Dense)             (None, 2)                 202       \n",
      "=================================================================\n",
      "Total params: 11,402\n",
      "Trainable params: 11,402\n",
      "Non-trainable params: 0\n",
      "_________________________________________________________________\n",
      "None\n"
     ]
    }
   ],
   "source": [
    "print(model_2.summary())"
   ]
  },
  {
   "cell_type": "code",
   "execution_count": 35,
   "metadata": {
    "ExecuteTime": {
     "end_time": "2020-09-06T15:20:33.887821Z",
     "start_time": "2020-09-06T15:20:29.595733Z"
    }
   },
   "outputs": [],
   "source": [
    "model_1_training = model_1.fit(predictors, target,\n",
    "                               epochs=15,\n",
    "                               validation_split=0.2,\n",
    "                               callbacks=[early_stopping_monitor],\n",
    "                               verbose=False)\n",
    "model_2_training = model_2.fit(predictors, target,\n",
    "                               epochs=15,\n",
    "                               validation_split=0.2,\n",
    "                               callbacks=[early_stopping_monitor],\n",
    "                               verbose=False)"
   ]
  },
  {
   "cell_type": "code",
   "execution_count": 37,
   "metadata": {
    "ExecuteTime": {
     "end_time": "2020-09-06T15:22:44.456663Z",
     "start_time": "2020-09-06T15:22:43.963940Z"
    }
   },
   "outputs": [
    {
     "data": {
      "image/png": "[encoded data removed]",
      "text/plain": [
       "<Figure size 576x432 with 1 Axes>"
      ]
     },
     "metadata": {},
     "output_type": "display_data"
    }
   ],
   "source": [
    "# plot training results\n",
    "fig, ax = plt.subplots(figsize=(8, 6))\n",
    "\n",
    "ax.plot(model_1_training.history['val_loss'], 'r', label='model_1')\n",
    "ax.plot(model_2_training.history['val_loss'], 'b', label='model_2')\n",
    "ax.set(xlabel='Epochs',\n",
    "       ylabel='Validation score')\n",
    "\n",
    "plt.legend()\n",
    "plt.show()"
   ]
  },
  {
   "cell_type": "markdown",
   "metadata": {},
   "source": [
    "## Adding layers to a network"
   ]
  },
  {
   "cell_type": "code",
   "execution_count": 38,
   "metadata": {
    "ExecuteTime": {
     "end_time": "2020-09-06T15:26:32.153326Z",
     "start_time": "2020-09-06T15:26:31.805769Z"
    }
   },
   "outputs": [
    {
     "name": "stdout",
     "output_type": "stream",
     "text": [
      "Model: \"sequential_13\"\n",
      "_________________________________________________________________\n",
      "Layer (type)                 Output Shape              Param #   \n",
      "=================================================================\n",
      "dense_35 (Dense)             (None, 50)                550       \n",
      "_________________________________________________________________\n",
      "dense_36 (Dense)             (None, 2)                 102       \n",
      "=================================================================\n",
      "Total params: 652\n",
      "Trainable params: 652\n",
      "Non-trainable params: 0\n",
      "_________________________________________________________________\n",
      "None\n"
     ]
    }
   ],
   "source": [
    "model_1 = Sequential()\n",
    "\n",
    "model_1.add(Dense(50, activation='relu', input_shape=(n_cols,)))\n",
    "model_1.add(Dense(2, activation='softmax'))\n",
    "\n",
    "model_1.compile(optimizer='adam',\n",
    "                loss='categorical_crossentropy',\n",
    "                metrics=['accuracy'])\n",
    "\n",
    "print(model_1.summary())"
   ]
  },
  {
   "cell_type": "code",
   "execution_count": 39,
   "metadata": {
    "ExecuteTime": {
     "end_time": "2020-09-06T15:30:35.634825Z",
     "start_time": "2020-09-06T15:30:35.275514Z"
    }
   },
   "outputs": [],
   "source": [
    "model_2 = Sequential()\n",
    "\n",
    "model_2.add(Dense(50, activation='relu', input_shape=(n_cols,)))\n",
    "model_2.add(Dense(50, activation='relu'))\n",
    "model_2.add(Dense(50, activation='relu'))\n",
    "model_2.add(Dense(2, activation='softmax'))\n",
    "\n",
    "model_2.compile(optimizer='adam',\n",
    "                loss='categorical_crossentropy',\n",
    "                metrics=['accuracy'])"
   ]
  },
  {
   "cell_type": "code",
   "execution_count": 40,
   "metadata": {
    "ExecuteTime": {
     "end_time": "2020-09-06T15:31:04.906988Z",
     "start_time": "2020-09-06T15:31:01.132555Z"
    }
   },
   "outputs": [],
   "source": [
    "model_1_training = model_1.fit(predictors, target,\n",
    "                               epochs=20,\n",
    "                               validation_split=0.4,\n",
    "                               callbacks=[early_stopping_monitor],\n",
    "                               verbose=False)\n",
    "model_2_training = model_2.fit(predictors, target,\n",
    "                               epochs=20,\n",
    "                               validation_split=0.4,\n",
    "                               callbacks=[early_stopping_monitor],\n",
    "                               verbose=False)"
   ]
  },
  {
   "cell_type": "code",
   "execution_count": 41,
   "metadata": {
    "ExecuteTime": {
     "end_time": "2020-09-06T15:31:13.258446Z",
     "start_time": "2020-09-06T15:31:12.868370Z"
    }
   },
   "outputs": [
    {
     "data": {
      "image/png": "[encoded data removed]",
      "text/plain": [
       "<Figure size 576x432 with 1 Axes>"
      ]
     },
     "metadata": {},
     "output_type": "display_data"
    }
   ],
   "source": [
    "# plot training results\n",
    "fig, ax = plt.subplots(figsize=(8, 6))\n",
    "\n",
    "ax.plot(model_1_training.history['val_loss'], 'r', label='model_1')\n",
    "ax.plot(model_2_training.history['val_loss'], 'b', label='model_2')\n",
    "ax.set(xlabel='Epochs',\n",
    "       ylabel='Validation score')\n",
    "\n",
    "plt.legend()\n",
    "plt.show()"
   ]
  },
  {
   "cell_type": "markdown",
   "metadata": {},
   "source": [
    "# Thinking about model capacity"
   ]
  },
  {
   "cell_type": "markdown",
   "metadata": {},
   "source": [
    "# Stepping up to images"
   ]
  },
  {
   "cell_type": "code",
   "execution_count": 49,
   "metadata": {
    "ExecuteTime": {
     "end_time": "2020-09-06T15:46:48.578434Z",
     "start_time": "2020-09-06T15:46:48.546942Z"
    }
   },
   "outputs": [
    {
     "data": {
      "text/html": [
       "<div>\n",
       "<style scoped>\n",
       "    .dataframe tbody tr th:only-of-type {\n",
       "        vertical-align: middle;\n",
       "    }\n",
       "\n",
       "    .dataframe tbody tr th {\n",
       "        vertical-align: top;\n",
       "    }\n",
       "\n",
       "    .dataframe thead th {\n",
       "        text-align: right;\n",
       "    }\n",
       "</style>\n",
       "<table border=\"1\" class=\"dataframe\">\n",
       "  <thead>\n",
       "    <tr style=\"text-align: right;\">\n",
       "      <th></th>\n",
       "      <th>0</th>\n",
       "      <th>1</th>\n",
       "      <th>2</th>\n",
       "      <th>3</th>\n",
       "      <th>4</th>\n",
       "      <th>5</th>\n",
       "      <th>6</th>\n",
       "      <th>7</th>\n",
       "      <th>8</th>\n",
       "      <th>9</th>\n",
       "      <th>...</th>\n",
       "      <th>775</th>\n",
       "      <th>776</th>\n",
       "      <th>777</th>\n",
       "      <th>778</th>\n",
       "      <th>779</th>\n",
       "      <th>780</th>\n",
       "      <th>781</th>\n",
       "      <th>782</th>\n",
       "      <th>783</th>\n",
       "      <th>784</th>\n",
       "    </tr>\n",
       "  </thead>\n",
       "  <tbody>\n",
       "    <tr>\n",
       "      <th>0</th>\n",
       "      <td>5</td>\n",
       "      <td>0</td>\n",
       "      <td>0</td>\n",
       "      <td>0</td>\n",
       "      <td>0</td>\n",
       "      <td>0</td>\n",
       "      <td>0</td>\n",
       "      <td>0</td>\n",
       "      <td>0</td>\n",
       "      <td>0</td>\n",
       "      <td>...</td>\n",
       "      <td>0</td>\n",
       "      <td>0</td>\n",
       "      <td>0</td>\n",
       "      <td>0</td>\n",
       "      <td>0</td>\n",
       "      <td>0</td>\n",
       "      <td>0</td>\n",
       "      <td>0</td>\n",
       "      <td>0</td>\n",
       "      <td>0</td>\n",
       "    </tr>\n",
       "    <tr>\n",
       "      <th>1</th>\n",
       "      <td>0</td>\n",
       "      <td>0</td>\n",
       "      <td>0</td>\n",
       "      <td>0</td>\n",
       "      <td>0</td>\n",
       "      <td>0</td>\n",
       "      <td>0</td>\n",
       "      <td>0</td>\n",
       "      <td>0</td>\n",
       "      <td>0</td>\n",
       "      <td>...</td>\n",
       "      <td>0</td>\n",
       "      <td>0</td>\n",
       "      <td>0</td>\n",
       "      <td>0</td>\n",
       "      <td>0</td>\n",
       "      <td>0</td>\n",
       "      <td>0</td>\n",
       "      <td>0</td>\n",
       "      <td>0</td>\n",
       "      <td>0</td>\n",
       "    </tr>\n",
       "    <tr>\n",
       "      <th>2</th>\n",
       "      <td>4</td>\n",
       "      <td>0</td>\n",
       "      <td>0</td>\n",
       "      <td>0</td>\n",
       "      <td>0</td>\n",
       "      <td>0</td>\n",
       "      <td>0</td>\n",
       "      <td>0</td>\n",
       "      <td>0</td>\n",
       "      <td>0</td>\n",
       "      <td>...</td>\n",
       "      <td>0</td>\n",
       "      <td>0</td>\n",
       "      <td>0</td>\n",
       "      <td>0</td>\n",
       "      <td>0</td>\n",
       "      <td>0</td>\n",
       "      <td>0</td>\n",
       "      <td>0</td>\n",
       "      <td>0</td>\n",
       "      <td>0</td>\n",
       "    </tr>\n",
       "    <tr>\n",
       "      <th>3</th>\n",
       "      <td>1</td>\n",
       "      <td>0</td>\n",
       "      <td>0</td>\n",
       "      <td>0</td>\n",
       "      <td>0</td>\n",
       "      <td>0</td>\n",
       "      <td>0</td>\n",
       "      <td>0</td>\n",
       "      <td>0</td>\n",
       "      <td>0</td>\n",
       "      <td>...</td>\n",
       "      <td>0</td>\n",
       "      <td>0</td>\n",
       "      <td>0</td>\n",
       "      <td>0</td>\n",
       "      <td>0</td>\n",
       "      <td>0</td>\n",
       "      <td>0</td>\n",
       "      <td>0</td>\n",
       "      <td>0</td>\n",
       "      <td>0</td>\n",
       "    </tr>\n",
       "    <tr>\n",
       "      <th>4</th>\n",
       "      <td>9</td>\n",
       "      <td>0</td>\n",
       "      <td>0</td>\n",
       "      <td>0</td>\n",
       "      <td>0</td>\n",
       "      <td>0</td>\n",
       "      <td>0</td>\n",
       "      <td>0</td>\n",
       "      <td>0</td>\n",
       "      <td>0</td>\n",
       "      <td>...</td>\n",
       "      <td>0</td>\n",
       "      <td>0</td>\n",
       "      <td>0</td>\n",
       "      <td>0</td>\n",
       "      <td>0</td>\n",
       "      <td>0</td>\n",
       "      <td>0</td>\n",
       "      <td>0</td>\n",
       "      <td>0</td>\n",
       "      <td>0</td>\n",
       "    </tr>\n",
       "  </tbody>\n",
       "</table>\n",
       "<p>5 rows × 785 columns</p>\n",
       "</div>"
      ],
      "text/plain": [
       "   0    1    2    3    4    5    6    7    8    9    ...  775  776  777  778  \\\n",
       "0    5    0    0    0    0    0    0    0    0    0  ...    0    0    0    0   \n",
       "1    0    0    0    0    0    0    0    0    0    0  ...    0    0    0    0   \n",
       "2    4    0    0    0    0    0    0    0    0    0  ...    0    0    0    0   \n",
       "3    1    0    0    0    0    0    0    0    0    0  ...    0    0    0    0   \n",
       "4    9    0    0    0    0    0    0    0    0    0  ...    0    0    0    0   \n",
       "\n",
       "   779  780  781  782  783  784  \n",
       "0    0    0    0    0    0    0  \n",
       "1    0    0    0    0    0    0  \n",
       "2    0    0    0    0    0    0  \n",
       "3    0    0    0    0    0    0  \n",
       "4    0    0    0    0    0    0  \n",
       "\n",
       "[5 rows x 785 columns]"
      ]
     },
     "execution_count": 49,
     "metadata": {},
     "output_type": "execute_result"
    }
   ],
   "source": [
    "mnist.head()"
   ]
  },
  {
   "cell_type": "code",
   "execution_count": 64,
   "metadata": {
    "ExecuteTime": {
     "end_time": "2020-09-06T15:55:20.658374Z",
     "start_time": "2020-09-06T15:55:20.603428Z"
    }
   },
   "outputs": [],
   "source": [
    "X = mnist.iloc[:, 1:].to_numpy(float)\n",
    "y = to_categorical(mnist.iloc[:, 0].to_numpy(float))\n",
    "\n",
    "mm = MinMaxScaler()\n",
    "X = mm.fit_transform(X)"
   ]
  },
  {
   "cell_type": "code",
   "execution_count": 65,
   "metadata": {
    "ExecuteTime": {
     "end_time": "2020-09-06T15:55:32.868515Z",
     "start_time": "2020-09-06T15:55:21.722591Z"
    }
   },
   "outputs": [
    {
     "name": "stdout",
     "output_type": "stream",
     "text": [
      "Train on 1750 samples, validate on 750 samples\n",
      "Epoch 1/30\n",
      "1750/1750 [==============================] - 5s 3ms/sample - loss: 1.5964 - accuracy: 0.5349 - val_loss: 0.8637 - val_accuracy: 0.7787\n",
      "Epoch 2/30\n",
      "1750/1750 [==============================] - 1s 412us/sample - loss: 0.6342 - accuracy: 0.8337 - val_loss: 0.4908 - val_accuracy: 0.8653\n",
      "Epoch 3/30\n",
      "1750/1750 [==============================] - 0s 232us/sample - loss: 0.4161 - accuracy: 0.8891 - val_loss: 0.3961 - val_accuracy: 0.8800\n",
      "Epoch 4/30\n",
      "1750/1750 [==============================] - 0s 246us/sample - loss: 0.3155 - accuracy: 0.9149 - val_loss: 0.3257 - val_accuracy: 0.9053\n",
      "Epoch 5/30\n",
      "1750/1750 [==============================] - 0s 248us/sample - loss: 0.2538 - accuracy: 0.9320 - val_loss: 0.3188 - val_accuracy: 0.9053\n",
      "Epoch 6/30\n",
      "1750/1750 [==============================] - 0s 247us/sample - loss: 0.2081 - accuracy: 0.9480 - val_loss: 0.3131 - val_accuracy: 0.9080\n",
      "Epoch 7/30\n",
      "1750/1750 [==============================] - 0s 235us/sample - loss: 0.1713 - accuracy: 0.9583 - val_loss: 0.3115 - val_accuracy: 0.9120\n",
      "Epoch 8/30\n",
      "1750/1750 [==============================] - 0s 258us/sample - loss: 0.1500 - accuracy: 0.9646 - val_loss: 0.2915 - val_accuracy: 0.9147\n",
      "Epoch 9/30\n",
      "1750/1750 [==============================] - 0s 240us/sample - loss: 0.1195 - accuracy: 0.9737 - val_loss: 0.2827 - val_accuracy: 0.9200\n",
      "Epoch 10/30\n",
      "1750/1750 [==============================] - 0s 235us/sample - loss: 0.0983 - accuracy: 0.9783 - val_loss: 0.2818 - val_accuracy: 0.9213\n",
      "Epoch 11/30\n",
      "1750/1750 [==============================] - 0s 235us/sample - loss: 0.0815 - accuracy: 0.9863 - val_loss: 0.2902 - val_accuracy: 0.9213\n",
      "Epoch 12/30\n",
      "1750/1750 [==============================] - 0s 240us/sample - loss: 0.0662 - accuracy: 0.9891 - val_loss: 0.2978 - val_accuracy: 0.9213\n"
     ]
    },
    {
     "data": {
      "text/plain": [
       "<tensorflow.python.keras.callbacks.History at 0x1dd01aa1148>"
      ]
     },
     "execution_count": 65,
     "metadata": {},
     "output_type": "execute_result"
    }
   ],
   "source": [
    "model = Sequential()\n",
    "\n",
    "model.add(Dense(50, activation='relu', input_shape=(784,)))\n",
    "model.add(Dense(50, activation='relu'))\n",
    "model.add(Dense(10, activation='softmax'))\n",
    "\n",
    "model.compile(optimizer='adam',\n",
    "              loss='categorical_crossentropy',\n",
    "              metrics=['accuracy'])\n",
    "\n",
    "model.fit(X, y,\n",
    "          epochs=30,\n",
    "          validation_split=0.3,\n",
    "          callbacks=[early_stopping_monitor])"
   ]
  },
  {
   "cell_type": "code",
   "execution_count": null,
   "metadata": {},
   "outputs": [],
   "source": []
  }
 ],
 "metadata": {
  "kernelspec": {
   "display_name": "tf2-gpu",
   "language": "python",
   "name": "tf2-gpu"
  },
  "language_info": {
   "codemirror_mode": {
    "name": "ipython",
    "version": 3
   },
   "file_extension": ".py",
   "mimetype": "text/x-python",
   "name": "python",
   "nbconvert_exporter": "python",
   "pygments_lexer": "ipython3",
   "version": "3.7.7"
  },
  "toc": {
   "base_numbering": 1,
   "nav_menu": {},
   "number_sections": true,
   "sideBar": true,
   "skip_h1_title": false,
   "title_cell": "Table of Contents",
   "title_sidebar": "Contents",
   "toc_cell": false,
   "toc_position": {},
   "toc_section_display": true,
   "toc_window_display": false
  }
 },
 "nbformat": 4,
 "nbformat_minor": 4
}
